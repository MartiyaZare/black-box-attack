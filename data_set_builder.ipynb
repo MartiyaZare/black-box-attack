{
 "cells": [
  {
   "cell_type": "code",
   "execution_count": 1,
   "metadata": {},
   "outputs": [],
   "source": [
    "import scipy.io\n",
    "import matplotlib.pyplot as plt\n",
    "import numpy as np\n",
    "import os\n",
    "import tqdm\n",
    "import pickle\n",
    "import random"
   ]
  },
  {
   "cell_type": "code",
   "execution_count": 2,
   "metadata": {},
   "outputs": [],
   "source": [
    "rawDataDir = \"Raw_Data\"\n",
    "windowLen = 200"
   ]
  },
  {
   "cell_type": "markdown",
   "metadata": {},
   "source": [
    "### Utility functions"
   ]
  },
  {
   "cell_type": "code",
   "execution_count": 3,
   "metadata": {},
   "outputs": [],
   "source": [
    "# finds the max and min of each feature\n",
    "# returns two lists\n",
    "def rawDataMinMaxFinder(featureTitleList):\n",
    "    maxList = [0] * len(featureTitleList);\n",
    "    minList = [99999999] * len(featureTitleList)\n",
    "    maxDict = dict(zip(featureTitleList, maxList))\n",
    "    minDict = dict(zip(featureTitleList, minList))        \n",
    "    for faultType in os.listdir(rawDataDir):\n",
    "        faultTypeDir = '/'.join([rawDataDir,faultType])\n",
    "        if(os.path.isdir(faultTypeDir)):\n",
    "            for generationLevel in os.listdir(faultTypeDir):\n",
    "                generationLevelDir = '/'.join([faultTypeDir,generationLevel]) \n",
    "                if(os.path.isdir(generationLevelDir)):   \n",
    "                    with tqdm.tqdm(total=100) as p_bar:\n",
    "                        total = len(os.listdir(generationLevelDir))     \n",
    "                        processed = 0;\n",
    "                        for dirName in os.listdir(generationLevelDir):\n",
    "                            dataDir = '/'.join([generationLevelDir,dirName])                                                    \n",
    "                            for fileName in os.listdir(dataDir):\n",
    "                                filePath = '/'.join([dataDir,fileName]) \n",
    "                                mat = scipy.io.loadmat(filePath)\n",
    "                                for feature in featureTitleList:\n",
    "                                    maxInFile = max(mat[feature])[0]\n",
    "                                    minInFile = min(mat[feature])[0]\n",
    "                                    if(maxDict[feature] < maxInFile):\n",
    "                                        maxDict[feature] = maxInFile\n",
    "                                    if(minDict[feature] > minInFile):\n",
    "                                        minDict[feature] = minInFile\n",
    "                            processed += 1\n",
    "                            p_bar.update(processed/total)                                \n",
    "    return maxDict,minDict"
   ]
  },
  {
   "cell_type": "code",
   "execution_count": 4,
   "metadata": {},
   "outputs": [
    {
     "name": "stderr",
     "output_type": "stream",
     "text": [
      "108.50000000000001it [17:44,  9.81s/it]                                                                                \n",
      "108.50000000000001it [17:43,  9.80s/it]                                                                                \n",
      "108.50000000000001it [17:46,  9.83s/it]                                                                                \n",
      "108.50000000000001it [17:52,  9.89s/it]                                                                                \n"
     ]
    }
   ],
   "source": [
    "maxDict, minDict = rawDataMinMaxFinder([\"Iprobe1_a\",\"Iprobe1_b\",\"Iprobe1_c\",\"Iprobe2_a\",\"Iprobe2_b\",\"Iprobe2_c\",\"PhaseAngle_a\",\"PhaseAngle_b\",\"PhaseAngle_c\"])"
   ]
  },
  {
   "cell_type": "code",
   "execution_count": 5,
   "metadata": {},
   "outputs": [],
   "source": [
    "# If fault index not in the data row this function adds Fault_Index field to .mat file\n",
    "# basedOn: The field that this function find fault point based on that\n",
    "def addFaultTriggerData(basedOn):    \n",
    "    for faultType in os.listdir(rawDataDir):\n",
    "        faultTypeDir = '/'.join([rawDataDir,faultType])\n",
    "        if(os.path.isdir(faultTypeDir)):\n",
    "            for generationLevel in os.listdir(faultTypeDir):\n",
    "                generationLevelDir = '/'.join([faultTypeDir,generationLevel]) \n",
    "                if(os.path.isdir(generationLevelDir)):   \n",
    "                    with tqdm.tqdm(total=100) as p_bar:\n",
    "                        total = len(os.listdir(generationLevelDir))     \n",
    "                        processed = 0;\n",
    "                        for dirName in os.listdir(generationLevelDir):\n",
    "                            dataDir = '/'.join([generationLevelDir,dirName])                                                    \n",
    "                            for fileName in os.listdir(dataDir):\n",
    "                                filePath = '/'.join([dataDir,fileName]) \n",
    "                                mat = scipy.io.loadmat(filePath)\n",
    "                                #operation here\n",
    "                                initVal = mat[basedOn][20000]\n",
    "                                if(\"Fault_Index\" not in mat.keys()):                                    \n",
    "                                    for i in range(20000,20405):\n",
    "                                        diff = abs(mat[basedOn][i] - initVal)\n",
    "                                        if(diff > 0.01):\n",
    "                                            mat[u'Fault_Index'] = i\n",
    "                                            scipy.io.savemat(filePath, mat)                                            \n",
    "                                            break    \n",
    "                                    print(i)\n",
    "                                else:\n",
    "                                    print(mat[\"Fault_Index\"])\n",
    "                            processed += 1\n",
    "                            p_bar.update(processed/total)      "
   ]
  },
  {
   "cell_type": "code",
   "execution_count": 6,
   "metadata": {},
   "outputs": [
    {
     "name": "stderr",
     "output_type": "stream",
     "text": [
      "\r",
      "  0%|                                                                                          | 0/100 [00:00<?, ?it/s]"
     ]
    },
    {
     "name": "stdout",
     "output_type": "stream",
     "text": [
      "20002\n",
      "20226\n",
      "20078\n",
      "20324\n",
      "20235\n",
      "20193\n",
      "20150\n",
      "20359\n",
      "20330\n",
      "20315\n",
      "20071\n",
      "20345\n",
      "20285\n",
      "20206\n",
      "20123\n"
     ]
    },
    {
     "name": "stderr",
     "output_type": "stream",
     "text": [
      "\r",
      "  0%|                                                            | 0.004629629629629629/100 [00:01<8:52:14, 319.36s/it]"
     ]
    },
    {
     "name": "stdout",
     "output_type": "stream",
     "text": [
      "20007\n",
      "20183\n",
      "20110\n",
      "20394\n",
      "20120\n",
      "20314\n",
      "20228\n",
      "20079\n",
      "20317\n",
      "20337\n",
      "20160\n",
      "20201\n",
      "20357\n",
      "20012\n",
      "20399\n"
     ]
    },
    {
     "name": "stderr",
     "output_type": "stream",
     "text": [
      "\r",
      "  0%|                                                            | 0.013888888888888888/100 [00:02<5:11:38, 187.01s/it]"
     ]
    },
    {
     "name": "stdout",
     "output_type": "stream",
     "text": [
      "20230\n",
      "20021\n",
      "20345\n",
      "20208\n",
      "20284\n",
      "20103\n",
      "20369\n",
      "20198\n",
      "20038\n",
      "20331\n",
      "20032\n",
      "20114\n",
      "20155\n",
      "20258\n",
      "20207\n",
      "20174\n",
      "20057\n"
     ]
    },
    {
     "name": "stderr",
     "output_type": "stream",
     "text": [
      "\r",
      "  0%|                                                            | 0.027777777777777776/100 [00:04<4:06:02, 147.67s/it]"
     ]
    },
    {
     "name": "stdout",
     "output_type": "stream",
     "text": [
      "20391\n",
      "20031\n",
      "20003\n",
      "20367\n",
      "20166\n",
      "20317\n",
      "20076\n",
      "20042\n",
      "20170\n",
      "20272\n",
      "20212\n",
      "20331\n",
      "20336\n",
      "20110\n",
      "20201\n"
     ]
    },
    {
     "name": "stderr",
     "output_type": "stream",
     "text": [
      "\r",
      "  0%|                                                            | 0.046296296296296294/100 [00:05<3:05:23, 111.29s/it]"
     ]
    },
    {
     "name": "stdout",
     "output_type": "stream",
     "text": [
      "20349\n",
      "20061\n",
      "20389\n",
      "20216\n",
      "20089\n",
      "20028\n",
      "20083\n",
      "20080\n",
      "20078\n",
      "20081\n",
      "20384\n",
      "20238\n",
      "20314\n",
      "20119\n",
      "20273\n",
      "20316\n"
     ]
    },
    {
     "name": "stderr",
     "output_type": "stream",
     "text": [
      "\r",
      "  0%|                                                              | 0.06944444444444445/100 [00:07<2:45:00, 99.07s/it]"
     ]
    },
    {
     "name": "stdout",
     "output_type": "stream",
     "text": [
      "20370\n",
      "20372\n",
      "20339\n",
      "20105\n",
      "20043\n",
      "20026\n",
      "20363\n",
      "20060\n",
      "20358\n",
      "20149\n",
      "20384\n",
      "20154\n",
      "20149\n",
      "20275\n"
     ]
    },
    {
     "name": "stderr",
     "output_type": "stream",
     "text": [
      "\r",
      "  0%|                                                              | 0.09722222222222222/100 [00:09<2:15:44, 81.53s/it]"
     ]
    },
    {
     "name": "stdout",
     "output_type": "stream",
     "text": [
      "20356\n",
      "20153\n",
      "20174\n",
      "20271\n",
      "20108\n",
      "20194\n",
      "20212\n",
      "20322\n",
      "20319\n",
      "20315\n",
      "20196\n",
      "20332\n",
      "20225\n",
      "20113\n",
      "20150\n",
      "20023\n",
      "20366\n",
      "20316\n",
      "20149\n"
     ]
    },
    {
     "name": "stderr",
     "output_type": "stream",
     "text": [
      "\r",
      "  0%|                                                              | 0.12962962962962962/100 [00:11<1:54:56, 69.05s/it]"
     ]
    },
    {
     "name": "stdout",
     "output_type": "stream",
     "text": [
      "20114\n",
      "20085\n",
      "20148\n",
      "20021\n",
      "20354\n",
      "20101\n",
      "20163\n",
      "20059\n",
      "20351\n",
      "20244\n",
      "20315\n",
      "20080\n"
     ]
    },
    {
     "name": "stderr",
     "output_type": "stream",
     "text": [
      "\r",
      "  0%|                                                              | 0.16666666666666666/100 [00:13<1:51:02, 66.74s/it]"
     ]
    },
    {
     "name": "stdout",
     "output_type": "stream",
     "text": [
      "20182\n",
      "20316\n",
      "20174\n",
      "20256\n",
      "20323\n",
      "20071\n",
      "20147\n",
      "20386\n",
      "20285\n",
      "20080\n",
      "20346\n",
      "20020\n",
      "20315\n",
      "20015\n",
      "20053\n",
      "20034\n",
      "20222\n",
      "20229\n",
      "20214\n",
      "20089\n"
     ]
    },
    {
     "name": "stderr",
     "output_type": "stream",
     "text": [
      "\r",
      "  0%|▏                                                             | 0.20833333333333331/100 [00:16<1:46:03, 63.77s/it]"
     ]
    },
    {
     "name": "stdout",
     "output_type": "stream",
     "text": [
      "20032\n",
      "20123\n",
      "20027\n",
      "20166\n",
      "20054\n",
      "20102\n",
      "20329\n",
      "20205\n",
      "20108\n",
      "20396\n",
      "20368\n",
      "20050\n",
      "20115\n",
      "20284\n",
      "20189\n",
      "20119\n"
     ]
    },
    {
     "name": "stderr",
     "output_type": "stream",
     "text": [
      "\r",
      "  0%|▏                                                              | 0.2546296296296296/100 [00:17<1:29:40, 53.95s/it]"
     ]
    },
    {
     "name": "stdout",
     "output_type": "stream",
     "text": [
      "20150\n",
      "20211\n",
      "20325\n",
      "20208\n",
      "20028\n",
      "20333\n",
      "20223\n",
      "20042\n",
      "20205\n",
      "20380\n",
      "20290\n",
      "20191\n",
      "20182\n",
      "20369\n",
      "20221\n",
      "20149\n"
     ]
    },
    {
     "name": "stderr",
     "output_type": "stream",
     "text": [
      "\r",
      "  0%|▏                                                              | 0.3055555555555555/100 [00:20<1:22:20, 49.55s/it]"
     ]
    },
    {
     "name": "stdout",
     "output_type": "stream",
     "text": [
      "20355\n",
      "20265\n",
      "20050\n",
      "20204\n",
      "20046\n",
      "20113\n",
      "20220\n",
      "20318\n",
      "20149\n",
      "20344\n",
      "20315\n",
      "20187\n"
     ]
    },
    {
     "name": "stderr",
     "output_type": "stream",
     "text": [
      "\r",
      "  0%|▏                                                             | 0.36111111111111105/100 [00:21<1:10:53, 42.69s/it]"
     ]
    },
    {
     "name": "stdout",
     "output_type": "stream",
     "text": [
      "20149\n",
      "20178\n",
      "20235\n",
      "20153\n",
      "20254\n",
      "20214\n",
      "20079\n",
      "20338\n",
      "20252\n",
      "20264\n",
      "20080\n",
      "20338\n",
      "20050\n",
      "20045\n",
      "20314\n",
      "20145\n",
      "20377\n",
      "20115\n",
      "20149\n",
      "20057\n"
     ]
    },
    {
     "name": "stderr",
     "output_type": "stream",
     "text": [
      "\r",
      "  0%|▎                                                              | 0.4212962962962962/100 [00:23<1:02:47, 37.83s/it]"
     ]
    },
    {
     "name": "stdout",
     "output_type": "stream",
     "text": [
      "20311\n",
      "20224\n",
      "20194\n",
      "20336\n",
      "20075\n",
      "20005\n",
      "20045\n",
      "20017\n",
      "20090\n",
      "20103\n",
      "20165\n",
      "20284\n",
      "20178\n",
      "20054\n",
      "20219\n"
     ]
    },
    {
     "name": "stderr",
     "output_type": "stream",
     "text": [
      "\r",
      "  0%|▎                                                               | 0.48611111111111105/100 [00:25<59:49, 36.07s/it]"
     ]
    },
    {
     "name": "stdout",
     "output_type": "stream",
     "text": [
      "20344\n",
      "20324\n",
      "20088\n",
      "20371\n",
      "20144\n",
      "20058\n",
      "20244\n",
      "20005\n",
      "20383\n",
      "20216\n",
      "20156\n",
      "20006\n",
      "20096\n",
      "20355\n",
      "20238\n",
      "20062\n"
     ]
    },
    {
     "name": "stderr",
     "output_type": "stream",
     "text": [
      "\r",
      "  1%|▎                                                                | 0.5555555555555555/100 [00:27<51:56, 31.34s/it]"
     ]
    },
    {
     "name": "stdout",
     "output_type": "stream",
     "text": [
      "20008\n",
      "20215\n",
      "20368\n",
      "20262\n",
      "20091\n",
      "20163\n",
      "20387\n",
      "20040\n",
      "20161\n",
      "20203\n",
      "20149\n",
      "20148\n",
      "20251\n",
      "20101\n",
      "20117\n",
      "20214\n",
      "20360\n",
      "20192"
     ]
    },
    {
     "name": "stderr",
     "output_type": "stream",
     "text": [
      "\r",
      "  1%|▍                                                                | 0.6296296296296295/100 [00:28<45:36, 27.54s/it]"
     ]
    },
    {
     "name": "stdout",
     "output_type": "stream",
     "text": [
      "\n",
      "20148\n",
      "20271\n",
      "20185\n",
      "20234\n",
      "20166\n",
      "20370\n",
      "20049\n",
      "20267\n",
      "20060\n",
      "20100\n",
      "20046\n",
      "20042\n",
      "20277\n"
     ]
    },
    {
     "name": "stderr",
     "output_type": "stream",
     "text": [
      "\r",
      "  1%|▍                                                                | 0.7083333333333333/100 [00:30<42:09, 25.48s/it]"
     ]
    },
    {
     "name": "stdout",
     "output_type": "stream",
     "text": [
      "20332\n",
      "20197\n",
      "20182\n",
      "20262\n",
      "20168\n",
      "20257\n",
      "20041\n",
      "20333\n",
      "20149\n",
      "20352\n",
      "20209\n",
      "20386\n",
      "20159\n",
      "20309\n",
      "20253\n",
      "20151\n",
      "20326"
     ]
    },
    {
     "name": "stderr",
     "output_type": "stream",
     "text": [
      "\r",
      "  1%|▌                                                                | 0.7916666666666666/100 [00:31<36:43, 22.21s/it]"
     ]
    },
    {
     "name": "stdout",
     "output_type": "stream",
     "text": [
      "\n",
      "20342\n",
      "20027\n",
      "20314\n",
      "20149\n",
      "20095\n",
      "20329\n",
      "20316\n",
      "20111\n",
      "20226\n",
      "20071\n",
      "20051\n",
      "20317\n",
      "20167\n",
      "20113\n"
     ]
    },
    {
     "name": "stderr",
     "output_type": "stream",
     "text": [
      "\r",
      "  1%|▌                                                                | 0.8796296296296295/100 [00:35<46:38, 28.23s/it]"
     ]
    },
    {
     "name": "stdout",
     "output_type": "stream",
     "text": [
      "20069\n",
      "20219\n",
      "20097\n",
      "20145\n",
      "20091\n",
      "20264\n",
      "20280\n",
      "20269\n",
      "20258\n",
      "20023\n",
      "20148\n",
      "20382\n",
      "20146\n",
      "20124\n",
      "20066\n",
      "20149\n",
      "20112\n",
      "20385\n",
      "20095\n"
     ]
    },
    {
     "name": "stderr",
     "output_type": "stream",
     "text": [
      "\r",
      "  1%|▋                                                                | 0.9722222222222221/100 [00:36<39:32, 23.96s/it]"
     ]
    },
    {
     "name": "stdout",
     "output_type": "stream",
     "text": [
      "20105\n",
      "20251\n",
      "20316\n",
      "20234\n",
      "20109\n",
      "20286\n",
      "20150\n",
      "20287\n",
      "20010\n",
      "20281\n",
      "20253\n",
      "20052\n",
      "20289\n",
      "20153\n"
     ]
    },
    {
     "name": "stderr",
     "output_type": "stream",
     "text": [
      "\r",
      "  1%|▋                                                                | 1.0694444444444444/100 [00:38<35:24, 21.47s/it]"
     ]
    },
    {
     "name": "stdout",
     "output_type": "stream",
     "text": [
      "20211\n",
      "20347\n",
      "20238\n",
      "20199\n",
      "20013\n",
      "20270\n",
      "20222\n",
      "20149\n",
      "20230\n",
      "20316\n",
      "20010\n",
      "20001\n",
      "20220\n",
      "20315\n",
      "20114\n",
      "20319\n",
      "20335\n",
      "20309"
     ]
    },
    {
     "name": "stderr",
     "output_type": "stream",
     "text": [
      "\r",
      "  1%|▊                                                                | 1.1712962962962963/100 [00:40<36:10, 21.96s/it]"
     ]
    },
    {
     "name": "stdout",
     "output_type": "stream",
     "text": [
      "\n",
      "20120\n",
      "20216\n",
      "20163\n",
      "20042\n",
      "20157\n",
      "20040\n",
      "20268\n",
      "20066\n",
      "20277\n",
      "20269\n",
      "20313\n",
      "20356\n",
      "20317\n"
     ]
    },
    {
     "name": "stderr",
     "output_type": "stream",
     "text": [
      "\r",
      "  1%|▊                                                                | 1.2777777777777777/100 [00:41<30:18, 18.42s/it]"
     ]
    },
    {
     "name": "stdout",
     "output_type": "stream",
     "text": [
      "20229\n",
      "20107\n",
      "20046\n",
      "20108\n",
      "20335\n",
      "20284\n",
      "20241\n",
      "20315\n",
      "20102\n",
      "20059\n",
      "20002\n",
      "20025\n",
      "20323\n",
      "20342\n",
      "20085\n",
      "20047\n"
     ]
    },
    {
     "name": "stderr",
     "output_type": "stream",
     "text": [
      "\r",
      "  1%|▉                                                                | 1.3888888888888888/100 [00:42<23:46, 14.46s/it]"
     ]
    },
    {
     "name": "stdout",
     "output_type": "stream",
     "text": [
      "20222\n",
      "20007\n",
      "20047\n",
      "20183\n",
      "20312\n",
      "20392\n",
      "20196\n",
      "20087\n",
      "20321\n",
      "20246\n",
      "20149\n",
      "20194\n",
      "20400\n",
      "20150\n",
      "20380\n",
      "20089\n",
      "20253\n",
      "20231\n",
      "20059\n",
      "20373"
     ]
    },
    {
     "name": "stderr",
     "output_type": "stream",
     "text": [
      "\r",
      "  2%|▉                                                                | 1.5046296296296295/100 [00:44<22:36, 13.78s/it]"
     ]
    },
    {
     "name": "stdout",
     "output_type": "stream",
     "text": [
      "\n",
      "20184\n",
      "20258\n",
      "20020\n",
      "20263\n",
      "20314\n",
      "20041\n",
      "20261\n",
      "20081\n",
      "20095\n",
      "20312\n",
      "20399\n",
      "20316\n"
     ]
    },
    {
     "name": "stderr",
     "output_type": "stream",
     "text": [
      "\r",
      "  2%|█▎                                                                            | 1.625/100 [00:46<25:50, 15.76s/it]"
     ]
    },
    {
     "name": "stdout",
     "output_type": "stream",
     "text": [
      "20358\n",
      "20220\n",
      "20358\n",
      "20349\n",
      "20247\n",
      "20289\n",
      "20311\n",
      "20062\n",
      "20316\n",
      "20062\n",
      "20163\n",
      "20247\n",
      "20288\n",
      "20333\n",
      "20355\n",
      "20026\n",
      "20159\n"
     ]
    },
    {
     "name": "stderr",
     "output_type": "stream",
     "text": [
      "\r",
      "  2%|█▍                                                                             | 1.75/100 [00:47<23:32, 14.37s/it]"
     ]
    },
    {
     "name": "stdout",
     "output_type": "stream",
     "text": [
      "20242\n",
      "20196\n",
      "20182\n",
      "20317\n",
      "20233\n",
      "20149\n",
      "20234\n",
      "20149\n",
      "20316\n",
      "20034\n",
      "20039\n",
      "20400\n",
      "20019\n",
      "20160\n"
     ]
    },
    {
     "name": "stderr",
     "output_type": "stream",
     "text": [
      "\r",
      "  2%|█▏                                                               | 1.8796296296296295/100 [00:49<22:18, 13.65s/it]"
     ]
    },
    {
     "name": "stdout",
     "output_type": "stream",
     "text": [
      "20044\n",
      "20167\n",
      "20175\n",
      "20109\n",
      "20182\n",
      "20091\n",
      "20106\n",
      "20258\n",
      "20358\n",
      "20353\n",
      "20181\n",
      "20166\n",
      "20094\n",
      "20387\n",
      "20314\n",
      "20150\n",
      "20290\n",
      "20242\n"
     ]
    },
    {
     "name": "stderr",
     "output_type": "stream",
     "text": [
      "\r",
      "  2%|█▎                                                                | 2.013888888888889/100 [00:51<24:14, 14.85s/it]"
     ]
    },
    {
     "name": "stdout",
     "output_type": "stream",
     "text": [
      "20250\n",
      "20359\n",
      "20274\n",
      "20095\n",
      "20045\n",
      "20214\n",
      "20287\n",
      "20228\n",
      "20007\n",
      "20205\n",
      "20184\n",
      "20389\n",
      "20357\n",
      "20282\n",
      "20099\n",
      "20042\n"
     ]
    },
    {
     "name": "stderr",
     "output_type": "stream",
     "text": [
      "\r",
      "  2%|█▍                                                               | 2.1527777777777777/100 [00:53<21:28, 13.17s/it]"
     ]
    },
    {
     "name": "stdout",
     "output_type": "stream",
     "text": [
      "20108\n",
      "20188\n",
      "20244\n",
      "20021\n",
      "20155\n",
      "20048\n",
      "20400\n",
      "20314\n",
      "20017\n",
      "20003\n",
      "20273\n",
      "20384\n",
      "20284\n",
      "20316\n",
      "20057\n",
      "20272\n",
      "20246\n",
      "20266\n",
      "20391\n"
     ]
    },
    {
     "name": "stderr",
     "output_type": "stream",
     "text": [
      "\r",
      "  2%|█▍                                                               | 2.2962962962962963/100 [00:54<19:53, 12.21s/it]"
     ]
    },
    {
     "name": "stdout",
     "output_type": "stream",
     "text": [
      "20029\n",
      "20364\n",
      "20346\n",
      "20252\n",
      "20357\n",
      "20231\n",
      "20062\n",
      "20360\n",
      "20231\n",
      "20106\n",
      "20071\n",
      "20251\n",
      "20335\n",
      "20269\n"
     ]
    },
    {
     "name": "stderr",
     "output_type": "stream",
     "text": [
      "\r",
      "  2%|█▌                                                               | 2.4444444444444446/100 [00:57<22:06, 13.60s/it]"
     ]
    },
    {
     "name": "stdout",
     "output_type": "stream",
     "text": [
      "20344\n",
      "20180\n",
      "20394\n",
      "20265\n",
      "20285\n",
      "20024\n",
      "20327\n",
      "20316\n",
      "20391\n",
      "20335\n",
      "20145\n",
      "20048\n",
      "20083\n",
      "20118\n",
      "20380\n",
      "20338\n",
      "20101\n"
     ]
    },
    {
     "name": "stderr",
     "output_type": "stream",
     "text": [
      "\r",
      "  3%|█▋                                                               | 2.5972222222222223/100 [00:58<20:54, 12.88s/it]"
     ]
    },
    {
     "name": "stdout",
     "output_type": "stream",
     "text": [
      "20087\n",
      "20347\n",
      "20173\n",
      "20083\n",
      "20372\n",
      "20316\n",
      "20157\n",
      "20151\n",
      "20224\n",
      "20253\n",
      "20377\n"
     ]
    },
    {
     "name": "stderr",
     "output_type": "stream",
     "text": [
      "\r",
      "  3%|█▊                                                               | 2.7546296296296298/100 [01:00<18:42, 11.54s/it]"
     ]
    },
    {
     "name": "stdout",
     "output_type": "stream",
     "text": [
      "20313\n",
      "20312\n",
      "20156\n",
      "20221\n",
      "20393\n",
      "20252\n",
      "20316\n",
      "20275\n",
      "20218\n",
      "20031\n",
      "20176\n",
      "20082\n",
      "20279\n",
      "20117\n",
      "20176\n",
      "20094\n",
      "20232\n",
      "20214\n",
      "20252\n",
      "20065\n"
     ]
    },
    {
     "name": "stderr",
     "output_type": "stream",
     "text": [
      "\r",
      "  3%|█▉                                                                | 2.916666666666667/100 [01:01<17:21, 10.73s/it]"
     ]
    },
    {
     "name": "stdout",
     "output_type": "stream",
     "text": [
      "20203\n",
      "20386\n",
      "20148\n",
      "20173\n",
      "20252\n",
      "20279\n",
      "20197\n",
      "20268\n",
      "20108\n",
      "20043\n",
      "20027\n",
      "20057\n",
      "20183\n",
      "20073\n",
      "20260\n",
      "20344\n"
     ]
    },
    {
     "name": "stderr",
     "output_type": "stream",
     "text": [
      "\r",
      "  3%|██                                                               | 3.0833333333333335/100 [01:03<18:43, 11.59s/it]"
     ]
    },
    {
     "name": "stdout",
     "output_type": "stream",
     "text": [
      "20107\n",
      "20328\n",
      "20251\n",
      "20368\n",
      "20042\n",
      "20103\n",
      "20200\n",
      "20281\n",
      "20283\n",
      "20045\n",
      "20150\n",
      "20194\n",
      "20385\n",
      "20041\n",
      "20183\n"
     ]
    },
    {
     "name": "stderr",
     "output_type": "stream",
     "text": [
      "\r",
      "  3%|██                                                               | 3.2546296296296298/100 [01:05<17:27, 10.83s/it]"
     ]
    },
    {
     "name": "stdout",
     "output_type": "stream",
     "text": [
      "20038\n",
      "20209\n",
      "20148\n",
      "20317\n",
      "20331\n",
      "20313\n",
      "20227\n",
      "20022\n",
      "20076\n",
      "20397\n",
      "20172\n",
      "20258\n",
      "20290\n",
      "20361\n",
      "20338\n",
      "20367\n",
      "20194\n",
      "20193\n"
     ]
    },
    {
     "name": "stderr",
     "output_type": "stream",
     "text": [
      "\r",
      "  3%|██▎                                                               | 3.430555555555556/100 [01:07<17:00, 10.57s/it]"
     ]
    },
    {
     "name": "stdout",
     "output_type": "stream",
     "text": [
      "20310\n",
      "20316\n",
      "20155\n",
      "20315\n",
      "20111\n",
      "20149\n",
      "20013\n",
      "20330\n",
      "20316\n",
      "20175\n",
      "20091\n",
      "20034\n",
      "20107\n",
      "20251\n",
      "20316\n",
      "20148\n"
     ]
    },
    {
     "name": "stderr",
     "output_type": "stream",
     "text": [
      "\r",
      "  4%|██▍                                                               | 3.611111111111111/100 [01:09<17:55, 11.15s/it]"
     ]
    },
    {
     "name": "stdout",
     "output_type": "stream",
     "text": [
      "20103\n",
      "20195\n",
      "20316\n",
      "20226\n",
      "20150\n",
      "20280\n",
      "20388\n",
      "20162\n",
      "20110\n",
      "20357\n",
      "20238\n",
      "20244\n",
      "20149\n",
      "20322\n",
      "20333\n"
     ]
    },
    {
     "name": "stderr",
     "output_type": "stream",
     "text": [
      "\r",
      "  4%|██▍                                                              | 3.7962962962962963/100 [01:11<16:55, 10.56s/it]"
     ]
    },
    {
     "name": "stdout",
     "output_type": "stream",
     "text": [
      "20327\n",
      "20170\n",
      "20034\n",
      "20254\n",
      "20394\n",
      "20276\n",
      "20201\n",
      "20075\n",
      "20228\n",
      "20096\n",
      "20346\n",
      "20117\n",
      "20397\n",
      "20329\n",
      "20162\n",
      "20147\n",
      "20160\n"
     ]
    },
    {
     "name": "stderr",
     "output_type": "stream",
     "text": [
      "\r",
      "  4%|██▋                                                               | 3.986111111111111/100 [01:13<17:52, 11.17s/it]"
     ]
    },
    {
     "name": "stdout",
     "output_type": "stream",
     "text": [
      "20264\n",
      "20373\n",
      "20363\n",
      "20112\n",
      "20317\n",
      "20211\n",
      "20382\n",
      "20368\n",
      "20258\n",
      "20020\n",
      "20106\n",
      "20116\n",
      "20318\n"
     ]
    },
    {
     "name": "stderr",
     "output_type": "stream",
     "text": [
      "\r",
      "  4%|██▊                                                               | 4.180555555555555/100 [01:15<15:59, 10.02s/it]"
     ]
    },
    {
     "name": "stdout",
     "output_type": "stream",
     "text": [
      "20104\n",
      "20116\n",
      "20150\n",
      "20367\n",
      "20328\n",
      "20098\n",
      "20147\n",
      "20093\n",
      "20385\n",
      "20099\n",
      "20374\n",
      "20328\n",
      "20042\n",
      "20232\n",
      "20092\n",
      "20151\n",
      "20078\n",
      "20316\n",
      "20360"
     ]
    },
    {
     "name": "stderr",
     "output_type": "stream",
     "text": [
      "\r",
      "  4%|██▉                                                                | 4.37962962962963/100 [01:16<14:21,  9.01s/it]"
     ]
    },
    {
     "name": "stdout",
     "output_type": "stream",
     "text": [
      "\n",
      "20143\n",
      "20023\n",
      "20316\n",
      "20289\n",
      "20224\n",
      "20220\n",
      "20149\n",
      "20045\n",
      "20029\n",
      "20316\n",
      "20012\n",
      "20146\n",
      "20124\n",
      "20059"
     ]
    },
    {
     "name": "stderr",
     "output_type": "stream",
     "text": [
      "\r",
      "  5%|███                                                               | 4.583333333333333/100 [01:18<13:53,  8.74s/it]"
     ]
    },
    {
     "name": "stdout",
     "output_type": "stream",
     "text": [
      "\n",
      "20211\n",
      "20148\n",
      "20314\n",
      "20240\n",
      "20233\n",
      "20371\n",
      "20265\n",
      "20285\n",
      "20234\n",
      "20030\n",
      "20119\n",
      "20007\n"
     ]
    },
    {
     "name": "stderr",
     "output_type": "stream",
     "text": [
      "\r",
      "  5%|███▏                                                              | 4.791666666666666/100 [01:19<12:07,  7.64s/it]"
     ]
    },
    {
     "name": "stdout",
     "output_type": "stream",
     "text": [
      "20316\n",
      "20400\n",
      "20233\n",
      "20123\n",
      "20191\n",
      "20055\n",
      "20207\n",
      "20279\n",
      "20371\n",
      "20077\n",
      "20149\n",
      "20072\n",
      "20399\n",
      "20184\n",
      "20400\n",
      "20040\n",
      "20251\n"
     ]
    },
    {
     "name": "stderr",
     "output_type": "stream",
     "text": [
      "\r",
      "  5%|███▎                                                              | 5.004629629629629/100 [01:20<11:39,  7.37s/it]"
     ]
    },
    {
     "name": "stdout",
     "output_type": "stream",
     "text": [
      "20039\n",
      "20176\n",
      "20374\n",
      "20020\n",
      "20359\n",
      "20117\n",
      "20076\n",
      "20221\n",
      "20152\n",
      "20205\n",
      "20272\n",
      "20290\n",
      "20284\n",
      "20247\n",
      "20050\n",
      "20384\n",
      "20311\n",
      "20024\n",
      "20092\n",
      "20201\n"
     ]
    },
    {
     "name": "stderr",
     "output_type": "stream",
     "text": [
      "\r",
      "  5%|███▍                                                              | 5.222222222222221/100 [01:22<11:32,  7.31s/it]"
     ]
    },
    {
     "name": "stdout",
     "output_type": "stream",
     "text": [
      "20054\n",
      "20391\n",
      "20184\n",
      "20316\n",
      "20246\n",
      "20316\n",
      "20246\n",
      "20337\n",
      "20117\n",
      "20400\n",
      "20344\n",
      "20150\n",
      "20064\n",
      "20044\n",
      "20386\n",
      "20393\n"
     ]
    },
    {
     "name": "stderr",
     "output_type": "stream",
     "text": [
      "\r",
      "  5%|███▌                                                              | 5.444444444444444/100 [01:24<12:58,  8.23s/it]"
     ]
    },
    {
     "name": "stdout",
     "output_type": "stream",
     "text": [
      "20235\n",
      "20047\n",
      "20028\n",
      "20149\n",
      "20160\n",
      "20173\n",
      "20313\n",
      "20323\n",
      "20240\n",
      "20352\n",
      "20226\n",
      "20364\n",
      "20083\n",
      "20093\n",
      "20073\n"
     ]
    },
    {
     "name": "stderr",
     "output_type": "stream",
     "text": [
      "\r",
      "  6%|███▋                                                              | 5.671296296296296/100 [01:26<12:16,  7.81s/it]"
     ]
    },
    {
     "name": "stdout",
     "output_type": "stream",
     "text": [
      "20177\n",
      "20146\n",
      "20088\n",
      "20335\n",
      "20315\n",
      "20343\n",
      "20160\n",
      "20178\n",
      "20381\n",
      "20020\n",
      "20316\n",
      "20121\n",
      "20209\n",
      "20089\n",
      "20268\n",
      "20117\n",
      "20070\n"
     ]
    },
    {
     "name": "stderr",
     "output_type": "stream",
     "text": [
      "\r",
      "  6%|███▉                                                              | 5.902777777777778/100 [01:27<11:29,  7.32s/it]"
     ]
    },
    {
     "name": "stdout",
     "output_type": "stream",
     "text": [
      "20350\n",
      "20190\n",
      "20338\n",
      "20366\n",
      "20235\n",
      "20065\n",
      "20179\n",
      "20274\n",
      "20328\n",
      "20394\n",
      "20387\n",
      "20207\n",
      "20036\n",
      "20021\n",
      "20232\n",
      "20346\n"
     ]
    },
    {
     "name": "stderr",
     "output_type": "stream",
     "text": [
      "\r",
      "  6%|████                                                              | 6.138888888888888/100 [01:29<12:57,  8.29s/it]"
     ]
    },
    {
     "name": "stdout",
     "output_type": "stream",
     "text": [
      "20238\n",
      "20242\n",
      "20233\n",
      "20114\n",
      "20316\n",
      "20156\n",
      "20354\n",
      "20049\n",
      "20388\n",
      "20024\n",
      "20168\n",
      "20149\n",
      "20149\n",
      "20002\n"
     ]
    },
    {
     "name": "stderr",
     "output_type": "stream",
     "text": [
      "\r",
      "  6%|████▏                                                             | 6.379629629629629/100 [01:31<11:34,  7.42s/it]"
     ]
    },
    {
     "name": "stdout",
     "output_type": "stream",
     "text": [
      "20145\n",
      "20086\n",
      "20315\n",
      "20197\n",
      "20025\n",
      "20357\n",
      "20160\n",
      "20228\n",
      "20179\n",
      "20284\n",
      "20228\n",
      "20235\n",
      "20243\n",
      "20079\n",
      "20151\n",
      "20315\n",
      "20363\n"
     ]
    },
    {
     "name": "stderr",
     "output_type": "stream",
     "text": [
      "\r",
      "  7%|████▎                                                             | 6.624999999999999/100 [01:32<11:00,  7.07s/it]"
     ]
    },
    {
     "name": "stdout",
     "output_type": "stream",
     "text": [
      "20227\n",
      "20326\n",
      "20321\n",
      "20380\n",
      "20316\n",
      "20080\n",
      "20253\n",
      "20207\n",
      "20338\n",
      "20331\n",
      "20311\n",
      "20277\n",
      "20248\n",
      "20160\n",
      "20352\n",
      "20394\n",
      "20214\n",
      "20102\n",
      "20241"
     ]
    },
    {
     "name": "stderr",
     "output_type": "stream",
     "text": [
      "\r",
      "  7%|████▌                                                             | 6.874999999999999/100 [01:34<10:35,  6.82s/it]"
     ]
    },
    {
     "name": "stdout",
     "output_type": "stream",
     "text": [
      "\n",
      "20273\n",
      "20257\n",
      "20381\n",
      "20226\n",
      "20110\n",
      "20205\n",
      "20082\n",
      "20351\n",
      "20069\n",
      "20061\n",
      "20290\n",
      "20278\n",
      "20224\n",
      "20250\n",
      "20400\n"
     ]
    },
    {
     "name": "stderr",
     "output_type": "stream",
     "text": [
      "\r",
      "  7%|████▋                                                             | 7.129629629629629/100 [01:36<12:09,  7.86s/it]"
     ]
    },
    {
     "name": "stdout",
     "output_type": "stream",
     "text": [
      "20401\n",
      "20240\n",
      "20207\n",
      "20211\n",
      "20019\n",
      "20334\n",
      "20358\n",
      "20221\n",
      "20104\n",
      "20003\n",
      "20374\n",
      "20328\n",
      "20041\n",
      "20053\n",
      "20343"
     ]
    },
    {
     "name": "stderr",
     "output_type": "stream",
     "text": [
      "\r",
      "  7%|████▉                                                             | 7.388888888888888/100 [01:38<10:17,  6.67s/it]"
     ]
    },
    {
     "name": "stdout",
     "output_type": "stream",
     "text": [
      "\n",
      "20154\n",
      "20317\n",
      "20092\n",
      "20315\n",
      "20165\n",
      "20082\n",
      "20252\n",
      "20243\n",
      "20182\n",
      "20188\n",
      "20240\n",
      "20255\n",
      "20343\n",
      "20333\n",
      "20251\n",
      "20289\n"
     ]
    },
    {
     "name": "stderr",
     "output_type": "stream",
     "text": [
      "\r",
      "  8%|█████                                                             | 7.652777777777778/100 [01:39<10:30,  6.83s/it]"
     ]
    },
    {
     "name": "stdout",
     "output_type": "stream",
     "text": [
      "20227\n",
      "20151\n",
      "20027\n",
      "20148\n",
      "20007\n",
      "20031\n",
      "20149\n",
      "20004\n",
      "20093\n",
      "20231\n",
      "20316\n",
      "20149\n",
      "20177\n",
      "20047\n",
      "20332\n"
     ]
    },
    {
     "name": "stderr",
     "output_type": "stream",
     "text": [
      "\r",
      "  8%|█████▏                                                            | 7.921296296296296/100 [01:42<11:21,  7.40s/it]"
     ]
    },
    {
     "name": "stdout",
     "output_type": "stream",
     "text": [
      "20159\n",
      "20146\n",
      "20375\n",
      "20240\n",
      "20227\n",
      "20350\n",
      "20235\n",
      "20096\n",
      "20147\n",
      "20095\n",
      "20252\n",
      "20263\n",
      "20264\n",
      "20316\n",
      "20201\n",
      "20206\n",
      "20071\n"
     ]
    },
    {
     "name": "stderr",
     "output_type": "stream",
     "text": [
      "\r",
      "  8%|█████▍                                                            | 8.194444444444445/100 [01:43<10:47,  7.05s/it]"
     ]
    },
    {
     "name": "stdout",
     "output_type": "stream",
     "text": [
      "20169\n",
      "20189\n",
      "20395\n",
      "20356\n",
      "20010\n",
      "20030\n",
      "20038\n",
      "20157\n",
      "20145\n",
      "20374\n",
      "20334\n",
      "20230\n",
      "20199\n",
      "20159\n",
      "20369\n",
      "20210"
     ]
    },
    {
     "name": "stderr",
     "output_type": "stream",
     "text": [
      "\r",
      "  8%|█████▌                                                            | 8.472222222222223/100 [01:45<09:49,  6.44s/it]"
     ]
    },
    {
     "name": "stdout",
     "output_type": "stream",
     "text": [
      "\n",
      "20046\n",
      "20345\n",
      "20168\n",
      "20316\n",
      "20399\n",
      "20093\n",
      "20013\n",
      "20187\n",
      "20048\n",
      "20149\n",
      "20150\n",
      "20379\n",
      "20009\n",
      "20378\n",
      "20315\n",
      "20315\n"
     ]
    },
    {
     "name": "stderr",
     "output_type": "stream",
     "text": [
      "\r",
      "  9%|█████▊                                                             | 8.75462962962963/100 [01:47<10:50,  7.13s/it]"
     ]
    },
    {
     "name": "stdout",
     "output_type": "stream",
     "text": [
      "20316\n",
      "20316\n",
      "20247\n",
      "20019\n",
      "20022\n",
      "20223\n",
      "20280\n",
      "20055\n",
      "20116\n",
      "20312\n",
      "20149\n",
      "20149\n",
      "20205\n",
      "20366\n",
      "20379\n"
     ]
    },
    {
     "name": "stderr",
     "output_type": "stream",
     "text": [
      "\r",
      "  9%|█████▉                                                            | 9.041666666666666/100 [01:49<09:47,  6.46s/it]"
     ]
    },
    {
     "name": "stdout",
     "output_type": "stream",
     "text": [
      "20371\n",
      "20346\n",
      "20229\n",
      "20377\n",
      "20278\n",
      "20124\n",
      "20397\n",
      "20171\n",
      "20377\n",
      "20243\n",
      "20197\n",
      "20067\n",
      "20291\n",
      "20021\n",
      "20147\n",
      "20202\n",
      "20089\n",
      "20007\n"
     ]
    },
    {
     "name": "stderr",
     "output_type": "stream",
     "text": [
      "\r",
      "  9%|██████▏                                                           | 9.333333333333332/100 [01:51<10:32,  6.98s/it]"
     ]
    },
    {
     "name": "stdout",
     "output_type": "stream",
     "text": [
      "20064\n",
      "20216\n",
      "20121\n",
      "20340\n",
      "20219\n",
      "20150\n",
      "20001\n",
      "20048\n",
      "20115\n",
      "20220\n",
      "20001\n"
     ]
    },
    {
     "name": "stderr",
     "output_type": "stream",
     "text": [
      "\r",
      " 10%|██████▎                                                           | 9.629629629629628/100 [01:52<08:13,  5.46s/it]"
     ]
    },
    {
     "name": "stdout",
     "output_type": "stream",
     "text": [
      "20316\n",
      "20032\n",
      "20368\n",
      "20323\n",
      "20084\n",
      "20154\n",
      "20180\n",
      "20315\n",
      "20351\n",
      "20367\n",
      "20216\n",
      "20259\n",
      "20101\n",
      "20246\n",
      "20258\n",
      "20287\n",
      "20382\n",
      "20229\n",
      "20059"
     ]
    },
    {
     "name": "stderr",
     "output_type": "stream",
     "text": [
      "\r",
      " 10%|██████▌                                                           | 9.930555555555554/100 [01:53<07:46,  5.18s/it]"
     ]
    },
    {
     "name": "stdout",
     "output_type": "stream",
     "text": [
      "\n",
      "20150\n",
      "20344\n",
      "20316\n",
      "20314\n",
      "20378\n",
      "20324\n",
      "20045\n",
      "20048\n",
      "20011\n",
      "20378\n",
      "20177\n",
      "20082\n",
      "20256\n",
      "20080\n",
      "20149\n",
      "20316\n",
      "20261\n",
      "20383\n"
     ]
    },
    {
     "name": "stderr",
     "output_type": "stream",
     "text": [
      "\r",
      " 10%|██████▋                                                          | 10.236111111111109/100 [01:55<08:14,  5.50s/it]"
     ]
    },
    {
     "name": "stdout",
     "output_type": "stream",
     "text": [
      "20063\n",
      "20255\n",
      "20072\n",
      "20170\n",
      "20032\n",
      "20159\n",
      "20316\n",
      "20316\n",
      "20334\n",
      "20278\n",
      "20164\n",
      "20200\n"
     ]
    },
    {
     "name": "stderr",
     "output_type": "stream",
     "text": [
      "\r",
      " 11%|██████▊                                                          | 10.546296296296294/100 [01:57<08:16,  5.55s/it]"
     ]
    },
    {
     "name": "stdout",
     "output_type": "stream",
     "text": [
      "20257\n",
      "20034\n",
      "20115\n",
      "20074\n",
      "20094\n",
      "20075\n",
      "20313\n",
      "20223\n",
      "20363\n",
      "20098\n",
      "20077\n",
      "20243\n",
      "20280\n",
      "20235\n",
      "20149\n",
      "20199\n",
      "20033\n"
     ]
    },
    {
     "name": "stderr",
     "output_type": "stream",
     "text": [
      "\r",
      " 11%|███████                                                          | 10.861111111111109/100 [01:58<08:02,  5.42s/it]"
     ]
    },
    {
     "name": "stdout",
     "output_type": "stream",
     "text": [
      "20314\n",
      "20246\n",
      "20249\n",
      "20277\n",
      "20249\n",
      "20014\n",
      "20393\n",
      "20149\n",
      "20393\n",
      "20212\n",
      "20023\n",
      "20229\n",
      "20167\n",
      "20059\n",
      "20160\n",
      "20062"
     ]
    },
    {
     "name": "stderr",
     "output_type": "stream",
     "text": [
      "\r",
      " 11%|███████▎                                                         | 11.180555555555554/100 [02:00<07:38,  5.16s/it]"
     ]
    },
    {
     "name": "stdout",
     "output_type": "stream",
     "text": [
      "\n",
      "20122\n",
      "20088\n",
      "20022\n",
      "20107\n",
      "20240\n",
      "20343\n",
      "20150\n",
      "20234\n",
      "20370\n",
      "20312\n",
      "20011\n",
      "20317\n",
      "20255\n",
      "20033\n",
      "20042\n",
      "20211\n",
      "20241\n"
     ]
    },
    {
     "name": "stderr",
     "output_type": "stream",
     "text": [
      "\r",
      " 12%|███████▍                                                         | 11.504629629629628/100 [02:02<08:21,  5.66s/it]"
     ]
    },
    {
     "name": "stdout",
     "output_type": "stream",
     "text": [
      "20175\n",
      "20009\n",
      "20268\n",
      "20393\n",
      "20169\n",
      "20031\n",
      "20150\n",
      "20329\n",
      "20044\n",
      "20362\n",
      "20235\n",
      "20285\n",
      "20076\n",
      "20247\n",
      "20018\n",
      "20112\n"
     ]
    },
    {
     "name": "stderr",
     "output_type": "stream",
     "text": [
      "\r",
      " 12%|███████▋                                                         | 11.833333333333332/100 [02:03<07:38,  5.20s/it]"
     ]
    },
    {
     "name": "stdout",
     "output_type": "stream",
     "text": [
      "20225\n",
      "20247\n",
      "20254\n",
      "20336\n",
      "20220\n",
      "20259\n",
      "20230\n",
      "20385\n",
      "20148\n",
      "20021\n",
      "20264\n",
      "20083\n",
      "20318\n",
      "20339\n",
      "20098\n",
      "20353\n",
      "20196\n",
      "20226\n"
     ]
    },
    {
     "name": "stderr",
     "output_type": "stream",
     "text": [
      "\r",
      " 12%|███████▉                                                         | 12.166666666666666/100 [02:05<07:02,  4.81s/it]"
     ]
    },
    {
     "name": "stdout",
     "output_type": "stream",
     "text": [
      "20317\n",
      "20009\n",
      "20312\n",
      "20186\n",
      "20117\n",
      "20172\n",
      "20261\n",
      "20037\n",
      "20370\n",
      "20011\n",
      "20087\n",
      "20316\n",
      "20217\n",
      "20148\n",
      "20002\n",
      "20365\n"
     ]
    },
    {
     "name": "stderr",
     "output_type": "stream",
     "text": [
      "\r",
      " 13%|████████▎                                                         | 12.50462962962963/100 [02:06<06:54,  4.74s/it]"
     ]
    },
    {
     "name": "stdout",
     "output_type": "stream",
     "text": [
      "20282\n",
      "20110\n",
      "20316\n",
      "20021\n",
      "20085\n",
      "20100\n",
      "20220\n",
      "20011\n",
      "20059\n",
      "20216\n",
      "20154\n",
      "20184\n",
      "20340\n"
     ]
    },
    {
     "name": "stderr",
     "output_type": "stream",
     "text": [
      "\r",
      " 13%|████████▎                                                        | 12.847222222222223/100 [02:08<07:03,  4.86s/it]"
     ]
    },
    {
     "name": "stdout",
     "output_type": "stream",
     "text": [
      "20010\n",
      "20165\n",
      "20063\n",
      "20314\n",
      "20149\n",
      "20153\n",
      "20065\n",
      "20149\n",
      "20199\n",
      "20145\n",
      "20151\n",
      "20222\n",
      "20280\n",
      "20185\n",
      "20150\n",
      "20085\n",
      "20399\n"
     ]
    },
    {
     "name": "stderr",
     "output_type": "stream",
     "text": [
      "\r",
      " 13%|████████▌                                                        | 13.194444444444445/100 [02:10<07:45,  5.37s/it]"
     ]
    },
    {
     "name": "stdout",
     "output_type": "stream",
     "text": [
      "20063\n",
      "20149\n",
      "20183\n",
      "20086\n",
      "20332\n",
      "20360\n",
      "20282\n",
      "20174\n",
      "20283\n",
      "20116\n",
      "20193\n",
      "20071\n",
      "20189\n",
      "20148\n",
      "20169\n",
      "20010\n",
      "20182\n"
     ]
    },
    {
     "name": "stderr",
     "output_type": "stream",
     "text": [
      "\r",
      " 14%|████████▊                                                        | 13.546296296296296/100 [02:12<06:58,  4.85s/it]"
     ]
    },
    {
     "name": "stdout",
     "output_type": "stream",
     "text": [
      "20121\n",
      "20149\n",
      "20009\n",
      "20222\n",
      "20340\n",
      "20316\n",
      "20252\n",
      "20221\n",
      "20271\n",
      "20392\n",
      "20192\n",
      "20372\n"
     ]
    },
    {
     "name": "stderr",
     "output_type": "stream",
     "text": [
      "\r",
      " 14%|█████████                                                        | 13.902777777777777/100 [02:13<06:35,  4.60s/it]"
     ]
    },
    {
     "name": "stdout",
     "output_type": "stream",
     "text": [
      "20277\n",
      "20262\n",
      "20314\n",
      "20363\n",
      "20222\n",
      "20159\n",
      "20154\n",
      "20319\n",
      "20079\n",
      "20112\n",
      "20031\n",
      "20155\n",
      "20149\n",
      "20176\n",
      "20029\n",
      "20184\n",
      "20200\n",
      "20032\n",
      "20316\n",
      "20058\n"
     ]
    },
    {
     "name": "stderr",
     "output_type": "stream",
     "text": [
      "\r",
      " 14%|█████████▎                                                       | 14.263888888888888/100 [02:14<06:15,  4.38s/it]"
     ]
    },
    {
     "name": "stdout",
     "output_type": "stream",
     "text": [
      "20263\n",
      "20328\n",
      "20323\n",
      "20061\n",
      "20231\n",
      "20348\n",
      "20366\n",
      "20247\n",
      "20310\n",
      "20018\n",
      "20268\n",
      "20392\n",
      "20145\n",
      "20229\n",
      "20123\n",
      "20071\n",
      "20044\n"
     ]
    },
    {
     "name": "stderr",
     "output_type": "stream",
     "text": [
      "\r",
      " 15%|█████████▌                                                       | 14.629629629629628/100 [02:16<06:09,  4.32s/it]"
     ]
    },
    {
     "name": "stdout",
     "output_type": "stream",
     "text": [
      "20349\n",
      "20169\n",
      "20089\n",
      "20344\n",
      "20316\n",
      "20148\n",
      "20032\n",
      "20025\n",
      "20092\n",
      "20206\n",
      "20168\n",
      "20233\n",
      "20200"
     ]
    },
    {
     "name": "stderr",
     "output_type": "stream",
     "text": [
      "\r",
      " 15%|█████████▊                                                       | 14.999999999999998/100 [02:17<06:00,  4.24s/it]"
     ]
    },
    {
     "name": "stdout",
     "output_type": "stream",
     "text": [
      "\n",
      "20368\n",
      "20171\n",
      "20087\n",
      "20227\n",
      "20365\n",
      "20217\n",
      "20242\n",
      "20081\n",
      "20254\n",
      "20182\n",
      "20323\n",
      "20143\n",
      "20231\n",
      "20212\n",
      "20272\n",
      "20387"
     ]
    },
    {
     "name": "stderr",
     "output_type": "stream",
     "text": [
      "\r",
      " 15%|█████████▉                                                       | 15.374999999999998/100 [02:19<05:46,  4.10s/it]"
     ]
    },
    {
     "name": "stdout",
     "output_type": "stream",
     "text": [
      "\n",
      "20054\n",
      "20118\n",
      "20015\n",
      "20002\n",
      "20160\n",
      "20057\n",
      "20073\n",
      "20250\n",
      "20009\n",
      "20364\n",
      "20316\n",
      "20348\n",
      "20149\n",
      "20199\n",
      "20230\n",
      "20164\n",
      "20320\n",
      "20068\n"
     ]
    },
    {
     "name": "stderr",
     "output_type": "stream",
     "text": [
      "\r",
      " 16%|██████████▏                                                      | 15.754629629629628/100 [02:21<06:46,  4.83s/it]"
     ]
    },
    {
     "name": "stdout",
     "output_type": "stream",
     "text": [
      "20099\n",
      "20216\n",
      "20150\n",
      "20283\n",
      "20178\n",
      "20317\n",
      "20189\n",
      "20023\n",
      "20209\n",
      "20372\n",
      "20182\n",
      "20258\n",
      "20088\n"
     ]
    },
    {
     "name": "stderr",
     "output_type": "stream",
     "text": [
      "\r",
      " 16%|██████████▍                                                      | 16.138888888888886/100 [02:23<06:25,  4.59s/it]"
     ]
    },
    {
     "name": "stdout",
     "output_type": "stream",
     "text": [
      "20104\n",
      "20316\n",
      "20400\n",
      "20166\n",
      "20091\n",
      "20077\n",
      "20339\n",
      "20187\n",
      "20264\n",
      "20007\n",
      "20148\n",
      "20068\n",
      "20398\n",
      "20401\n",
      "20210\n",
      "20341\n",
      "20031"
     ]
    },
    {
     "name": "stderr",
     "output_type": "stream",
     "text": [
      "\r",
      " 17%|██████████▋                                                      | 16.527777777777775/100 [02:25<06:11,  4.45s/it]"
     ]
    },
    {
     "name": "stdout",
     "output_type": "stream",
     "text": [
      "\n",
      "20220\n",
      "20348\n",
      "20277\n",
      "20166\n",
      "20239\n",
      "20287\n",
      "20276\n",
      "20117\n",
      "20348\n",
      "20250\n",
      "20175\n",
      "20262\n",
      "20350\n",
      "20221\n",
      "20054\n"
     ]
    },
    {
     "name": "stderr",
     "output_type": "stream",
     "text": [
      "\r",
      " 17%|██████████▉                                                      | 16.921296296296294/100 [02:26<05:38,  4.07s/it]"
     ]
    },
    {
     "name": "stdout",
     "output_type": "stream",
     "text": [
      "20068\n",
      "20150\n",
      "20253\n",
      "20367\n",
      "20149\n",
      "20178\n",
      "20260\n",
      "20007\n",
      "20084\n",
      "20219\n",
      "20364\n",
      "20326\n",
      "20092\n",
      "20315\n",
      "20253\n",
      "20105\n",
      "20090\n",
      "20101\n",
      "20215\n"
     ]
    },
    {
     "name": "stderr",
     "output_type": "stream",
     "text": [
      "\r",
      " 17%|███████████▎                                                     | 17.319444444444443/100 [02:28<06:19,  4.59s/it]"
     ]
    },
    {
     "name": "stdout",
     "output_type": "stream",
     "text": [
      "20317\n",
      "20332\n",
      "20016\n",
      "20315\n",
      "20388\n",
      "20058\n",
      "20002\n",
      "20347\n",
      "20270\n",
      "20152\n",
      "20164\n",
      "20316\n",
      "20040\n",
      "20373\n",
      "20149\n"
     ]
    },
    {
     "name": "stderr",
     "output_type": "stream",
     "text": [
      "\r",
      " 18%|███████████▋                                                      | 17.72222222222222/100 [02:30<05:59,  4.37s/it]"
     ]
    },
    {
     "name": "stdout",
     "output_type": "stream",
     "text": [
      "20340\n",
      "20330\n",
      "20315\n",
      "20083\n",
      "20261\n",
      "20316\n",
      "20259\n",
      "20315\n",
      "20200\n",
      "20160\n",
      "20312\n",
      "20202\n",
      "20314\n",
      "20120\n",
      "20243\n",
      "20355\n",
      "20190\n",
      "20322"
     ]
    },
    {
     "name": "stderr",
     "output_type": "stream",
     "text": [
      "\r",
      " 18%|███████████▉                                                      | 18.12962962962963/100 [02:31<05:44,  4.21s/it]"
     ]
    },
    {
     "name": "stdout",
     "output_type": "stream",
     "text": [
      "\n",
      "20379\n",
      "20169\n",
      "20350\n",
      "20229\n",
      "20282\n",
      "20384\n",
      "20315\n",
      "20204\n",
      "20210\n",
      "20017\n",
      "20253\n",
      "20174\n",
      "20328\n",
      "20110\n"
     ]
    },
    {
     "name": "stderr",
     "output_type": "stream",
     "text": [
      "\r",
      " 19%|████████████                                                     | 18.541666666666668/100 [02:32<05:16,  3.89s/it]"
     ]
    },
    {
     "name": "stdout",
     "output_type": "stream",
     "text": [
      "20235\n",
      "20231\n",
      "20180\n",
      "20341\n",
      "20315\n",
      "20063\n",
      "20148\n",
      "20033\n",
      "20032\n",
      "20257\n",
      "20329\n",
      "20219\n",
      "20180\n",
      "20165\n",
      "20120\n",
      "20187\n",
      "20201\n",
      "20062\n"
     ]
    },
    {
     "name": "stderr",
     "output_type": "stream",
     "text": [
      "\r",
      " 19%|████████████▎                                                    | 18.958333333333336/100 [02:35<05:58,  4.42s/it]"
     ]
    },
    {
     "name": "stdout",
     "output_type": "stream",
     "text": [
      "20147\n",
      "20375\n",
      "20291\n",
      "20160\n",
      "20150\n",
      "20259\n",
      "20093\n",
      "20316\n",
      "20079\n",
      "20150\n",
      "20219\n",
      "20047\n",
      "20005\n"
     ]
    },
    {
     "name": "stderr",
     "output_type": "stream",
     "text": [
      "\r",
      " 19%|████████████▌                                                    | 19.379629629629633/100 [02:36<05:33,  4.13s/it]"
     ]
    },
    {
     "name": "stdout",
     "output_type": "stream",
     "text": [
      "20150\n",
      "20102\n",
      "20150\n",
      "20186\n",
      "20362\n",
      "20316\n",
      "20178\n",
      "20159\n",
      "20311\n",
      "20249\n",
      "20149\n",
      "20018\n",
      "20064\n",
      "20080\n",
      "20051\n",
      "20054\n",
      "20170\n",
      "20025"
     ]
    },
    {
     "name": "stderr",
     "output_type": "stream",
     "text": [
      "\r",
      " 20%|█████████████                                                     | 19.80555555555556/100 [02:38<05:13,  3.91s/it]"
     ]
    },
    {
     "name": "stdout",
     "output_type": "stream",
     "text": [
      "\n",
      "20316\n",
      "20326\n",
      "20200\n",
      "20216\n",
      "20048\n",
      "20332\n",
      "20080\n",
      "20208\n",
      "20385\n",
      "20335\n",
      "20349\n",
      "20213\n",
      "20212\n",
      "20104\n",
      "20174\n",
      "20312\n",
      "20029\n",
      "20244"
     ]
    },
    {
     "name": "stderr",
     "output_type": "stream",
     "text": [
      "\r",
      " 20%|█████████████▏                                                   | 20.236111111111118/100 [02:40<05:16,  3.96s/it]"
     ]
    },
    {
     "name": "stdout",
     "output_type": "stream",
     "text": [
      "\n",
      "20020\n",
      "20019\n",
      "20073\n",
      "20268\n",
      "20087\n",
      "20385\n",
      "20342\n",
      "20172\n",
      "20221\n",
      "20149\n",
      "20325\n",
      "20084\n",
      "20024\n",
      "20316\n",
      "20067\n"
     ]
    },
    {
     "name": "stderr",
     "output_type": "stream",
     "text": [
      "\r",
      " 21%|█████████████▍                                                   | 20.671296296296305/100 [02:42<05:44,  4.34s/it]"
     ]
    },
    {
     "name": "stdout",
     "output_type": "stream",
     "text": [
      "20348\n",
      "20065\n",
      "20210\n",
      "20351\n",
      "20191\n",
      "20102\n",
      "20024\n",
      "20046\n",
      "20162\n",
      "20043\n",
      "20382\n",
      "20401\n"
     ]
    },
    {
     "name": "stderr",
     "output_type": "stream",
     "text": [
      "\r",
      " 21%|█████████████▋                                                   | 21.111111111111118/100 [02:43<05:14,  3.99s/it]"
     ]
    },
    {
     "name": "stdout",
     "output_type": "stream",
     "text": [
      "20077\n",
      "20339\n",
      "20026\n",
      "20320\n",
      "20057\n",
      "20334\n",
      "20400\n",
      "20018\n",
      "20002\n",
      "20089\n",
      "20252\n",
      "20279\n",
      "20276\n",
      "20168\n",
      "20315\n",
      "20316\n",
      "20164\n",
      "20150\n"
     ]
    },
    {
     "name": "stderr",
     "output_type": "stream",
     "text": [
      "\r",
      " 22%|██████████████▏                                                   | 21.55555555555556/100 [02:45<04:59,  3.82s/it]"
     ]
    },
    {
     "name": "stdout",
     "output_type": "stream",
     "text": [
      "20203\n",
      "20265\n",
      "20056\n",
      "20241\n",
      "20364\n",
      "20103\n",
      "20326\n",
      "20229\n",
      "20330\n",
      "20224\n",
      "20073\n",
      "20179\n",
      "20344\n",
      "20263\n",
      "20278\n",
      "20078\n",
      "20262\n",
      "20207\n"
     ]
    },
    {
     "name": "stderr",
     "output_type": "stream",
     "text": [
      "\r",
      " 22%|██████████████▎                                                  | 22.004629629629633/100 [02:46<04:48,  3.70s/it]"
     ]
    },
    {
     "name": "stdout",
     "output_type": "stream",
     "text": [
      "20149\n",
      "20255\n",
      "20316\n",
      "20377\n",
      "20365\n",
      "20182\n",
      "20314\n",
      "20320\n",
      "20151\n",
      "20149\n",
      "20322\n",
      "20003\n",
      "20053\n"
     ]
    },
    {
     "name": "stderr",
     "output_type": "stream",
     "text": [
      "\r",
      " 22%|██████████████▌                                                  | 22.458333333333336/100 [02:49<05:21,  4.14s/it]"
     ]
    },
    {
     "name": "stdout",
     "output_type": "stream",
     "text": [
      "20146\n",
      "20145\n",
      "20147\n",
      "20273\n",
      "20360\n",
      "20278\n",
      "20201\n",
      "20149\n",
      "20327\n",
      "20029\n",
      "20316\n",
      "20395\n",
      "20280\n",
      "20028\n",
      "20111\n",
      "20272\n",
      "20398\n"
     ]
    },
    {
     "name": "stderr",
     "output_type": "stream",
     "text": [
      "\r",
      " 23%|██████████████▉                                                  | 22.916666666666668/100 [02:50<05:03,  3.94s/it]"
     ]
    },
    {
     "name": "stdout",
     "output_type": "stream",
     "text": [
      "20085\n",
      "20149\n",
      "20024\n",
      "20097\n",
      "20081\n",
      "20178\n",
      "20377\n",
      "20215\n",
      "20279\n",
      "20090\n",
      "20228\n",
      "20166\n",
      "20316\n"
     ]
    },
    {
     "name": "stderr",
     "output_type": "stream",
     "text": [
      "\r",
      " 23%|███████████████▍                                                  | 23.37962962962963/100 [02:52<04:37,  3.62s/it]"
     ]
    },
    {
     "name": "stdout",
     "output_type": "stream",
     "text": [
      "20029\n",
      "20320\n",
      "20392\n",
      "20222\n",
      "20151\n",
      "20033\n",
      "20313\n",
      "20145\n",
      "20332\n",
      "20385\n",
      "20350\n",
      "20309\n",
      "20121\n",
      "20379\n",
      "20052\n",
      "20027\n",
      "20316\n",
      "20211\n",
      "20245\n"
     ]
    },
    {
     "name": "stderr",
     "output_type": "stream",
     "text": [
      "\r",
      " 24%|███████████████▋                                                  | 23.84722222222222/100 [02:53<04:27,  3.51s/it]"
     ]
    },
    {
     "name": "stdout",
     "output_type": "stream",
     "text": [
      "20383\n",
      "20030\n",
      "20351\n",
      "20219\n",
      "20266\n",
      "20202\n",
      "20281\n",
      "20222\n",
      "20150\n",
      "20159\n",
      "20064\n",
      "20032\n",
      "20075\n",
      "20118\n",
      "20034\n",
      "20267\n",
      "20288\n",
      "20261\n"
     ]
    },
    {
     "name": "stderr",
     "output_type": "stream",
     "text": [
      "\r",
      " 24%|███████████████▊                                                 | 24.319444444444443/100 [02:54<04:08,  3.28s/it]"
     ]
    },
    {
     "name": "stdout",
     "output_type": "stream",
     "text": [
      "20248\n",
      "20337\n",
      "20008\n",
      "20316\n",
      "20266\n",
      "20396\n",
      "20070\n",
      "20072\n",
      "20352\n",
      "20389\n",
      "20231\n",
      "20101\n",
      "20350\n"
     ]
    },
    {
     "name": "stderr",
     "output_type": "stream",
     "text": [
      "\r",
      " 25%|████████████████                                                 | 24.796296296296294/100 [02:57<04:44,  3.79s/it]"
     ]
    },
    {
     "name": "stdout",
     "output_type": "stream",
     "text": [
      "20076\n",
      "20335\n",
      "20078\n",
      "20184\n",
      "20175\n",
      "20154\n",
      "20328\n",
      "20162\n",
      "20107\n",
      "20181\n",
      "20087\n",
      "20232\n",
      "20083\n",
      "20241\n",
      "20321\n",
      "20355\n",
      "20218\n",
      "20177\n",
      "20330\n"
     ]
    },
    {
     "name": "stderr",
     "output_type": "stream",
     "text": [
      "\r",
      " 25%|████████████████▍                                                | 25.277777777777775/100 [02:58<04:19,  3.47s/it]"
     ]
    },
    {
     "name": "stdout",
     "output_type": "stream",
     "text": [
      "20366\n",
      "20014\n",
      "20267\n",
      "20326\n",
      "20276\n",
      "20098\n",
      "20053\n",
      "20015\n",
      "20180\n",
      "20346\n",
      "20024\n",
      "20186\n",
      "20338\n"
     ]
    },
    {
     "name": "stderr",
     "output_type": "stream",
     "text": [
      "\r",
      " 26%|████████████████▋                                                | 25.763888888888886/100 [02:59<04:02,  3.27s/it]"
     ]
    },
    {
     "name": "stdout",
     "output_type": "stream",
     "text": [
      "20310\n",
      "20030\n",
      "20143\n",
      "20185\n",
      "20348\n",
      "20081\n",
      "20263\n",
      "20040\n",
      "20149\n",
      "20202\n",
      "20072\n",
      "20261\n",
      "20044\n",
      "20192\n",
      "20220\n",
      "20037\n",
      "20343\n"
     ]
    },
    {
     "name": "stderr",
     "output_type": "stream",
     "text": [
      "\r",
      " 26%|█████████████████                                                | 26.254629629629626/100 [03:01<03:53,  3.16s/it]"
     ]
    },
    {
     "name": "stdout",
     "output_type": "stream",
     "text": [
      "20370\n",
      "20199\n",
      "20149\n",
      "20329\n",
      "20151\n",
      "20041\n",
      "20261\n",
      "20255\n",
      "20325\n",
      "20145\n",
      "20379\n",
      "20147\n",
      "20316\n",
      "20114\n"
     ]
    },
    {
     "name": "stderr",
     "output_type": "stream",
     "text": [
      "\r",
      " 27%|█████████████████▍                                               | 26.749999999999996/100 [03:03<04:00,  3.28s/it]"
     ]
    },
    {
     "name": "stdout",
     "output_type": "stream",
     "text": [
      "20092\n",
      "20115\n",
      "20180\n",
      "20168\n",
      "20110\n",
      "20221\n",
      "20098\n",
      "20353\n",
      "20175\n",
      "20020\n",
      "20352\n",
      "20157\n",
      "20145\n",
      "20090\n",
      "20317\n",
      "20376\n",
      "20312\n",
      "20315\n",
      "20398"
     ]
    },
    {
     "name": "stderr",
     "output_type": "stream",
     "text": [
      "\r",
      " 27%|█████████████████▋                                               | 27.249999999999996/100 [03:04<03:45,  3.09s/it]"
     ]
    },
    {
     "name": "stdout",
     "output_type": "stream",
     "text": [
      "\n",
      "20175\n",
      "20362\n",
      "20247\n",
      "20068\n",
      "20333\n",
      "20090\n",
      "20163\n",
      "20312\n",
      "20286\n",
      "20233\n",
      "20396\n",
      "20002\n",
      "20379\n",
      "20234\n",
      "20184\n"
     ]
    },
    {
     "name": "stderr",
     "output_type": "stream",
     "text": [
      "\r",
      " 28%|██████████████████                                               | 27.754629629629626/100 [03:05<03:39,  3.04s/it]"
     ]
    },
    {
     "name": "stdout",
     "output_type": "stream",
     "text": [
      "20173\n",
      "20149\n",
      "20243\n",
      "20241\n",
      "20170\n",
      "20006\n",
      "20042\n",
      "20241\n",
      "20098\n",
      "20046\n",
      "20018\n",
      "20155\n",
      "20078\n",
      "20014\n",
      "20353\n",
      "20106\n",
      "20316\n"
     ]
    },
    {
     "name": "stderr",
     "output_type": "stream",
     "text": [
      "\r",
      " 28%|██████████████████▎                                              | 28.263888888888886/100 [03:08<04:22,  3.66s/it]"
     ]
    },
    {
     "name": "stdout",
     "output_type": "stream",
     "text": [
      "20228\n",
      "20009\n",
      "20095\n",
      "20338\n",
      "20341\n",
      "20043\n",
      "20283\n",
      "20285\n",
      "20022\n",
      "20036\n",
      "20360\n",
      "20371\n",
      "20150\n",
      "20196\n",
      "20315\n"
     ]
    },
    {
     "name": "stderr",
     "output_type": "stream",
     "text": [
      "\r",
      " 29%|██████████████████▋                                              | 28.777777777777775/100 [03:10<04:37,  3.90s/it]"
     ]
    },
    {
     "name": "stdout",
     "output_type": "stream",
     "text": [
      "20316\n",
      "20056\n",
      "20281\n",
      "20038\n",
      "20149\n",
      "20060\n",
      "20067\n",
      "20396\n",
      "20179\n",
      "20049\n",
      "20003\n",
      "20005\n",
      "20152\n",
      "20214\n"
     ]
    },
    {
     "name": "stderr",
     "output_type": "stream",
     "text": [
      "\r",
      " 29%|███████████████████                                              | 29.296296296296294/100 [03:12<04:21,  3.69s/it]"
     ]
    },
    {
     "name": "stdout",
     "output_type": "stream",
     "text": [
      "20229\n",
      "20242\n",
      "20244\n",
      "20067\n",
      "20266\n",
      "20263\n",
      "20147\n",
      "20043\n",
      "20203\n",
      "20092\n",
      "20117\n",
      "20369\n",
      "20221\n",
      "20266\n",
      "20047\n",
      "20198\n",
      "20153\n",
      "20200\n",
      "20318\n",
      "20205\n"
     ]
    },
    {
     "name": "stderr",
     "output_type": "stream",
     "text": [
      "\r",
      " 30%|███████████████████▍                                             | 29.819444444444443/100 [03:13<03:49,  3.27s/it]"
     ]
    },
    {
     "name": "stdout",
     "output_type": "stream",
     "text": [
      "20154\n",
      "20214\n",
      "20172\n",
      "20095\n",
      "20328\n",
      "20040\n",
      "20216\n",
      "20316\n",
      "20334\n",
      "20339\n",
      "20110\n",
      "20221\n"
     ]
    },
    {
     "name": "stderr",
     "output_type": "stream",
     "text": [
      "\r",
      " 30%|████████████████████                                              | 30.34722222222222/100 [03:15<03:43,  3.20s/it]"
     ]
    },
    {
     "name": "stdout",
     "output_type": "stream",
     "text": [
      "20255\n",
      "20149\n",
      "20248\n",
      "20389\n",
      "20290\n",
      "20361\n",
      "20393\n",
      "20268\n",
      "20011\n",
      "20236\n",
      "20329\n",
      "20149\n",
      "20312\n",
      "20204\n",
      "20170\n",
      "20005\n",
      "20224\n",
      "20221\n",
      "20199\n",
      "20366\n"
     ]
    },
    {
     "name": "stderr",
     "output_type": "stream",
     "text": [
      "\r",
      " 31%|████████████████████▍                                             | 30.87962962962963/100 [03:17<04:07,  3.58s/it]"
     ]
    },
    {
     "name": "stdout",
     "output_type": "stream",
     "text": [
      "20149\n",
      "20111\n",
      "20311\n",
      "20151\n",
      "20147\n",
      "20219\n",
      "20397\n",
      "20361\n",
      "20088\n",
      "20103\n",
      "20120\n",
      "20346\n",
      "20050\n",
      "20357\n"
     ]
    },
    {
     "name": "stderr",
     "output_type": "stream",
     "text": [
      "\r",
      " 31%|████████████████████▍                                            | 31.416666666666668/100 [03:19<03:44,  3.28s/it]"
     ]
    },
    {
     "name": "stdout",
     "output_type": "stream",
     "text": [
      "20094\n",
      "20354\n",
      "20221\n",
      "20097\n",
      "20380\n",
      "20178\n",
      "20316\n",
      "20007\n",
      "20174\n",
      "20285\n",
      "20144\n",
      "20269\n",
      "20073\n",
      "20064\n",
      "20177\n"
     ]
    },
    {
     "name": "stderr",
     "output_type": "stream",
     "text": [
      "\r",
      " 32%|████████████████████▊                                            | 31.958333333333336/100 [03:20<03:31,  3.11s/it]"
     ]
    },
    {
     "name": "stdout",
     "output_type": "stream",
     "text": [
      "20077\n",
      "20370\n",
      "20400\n",
      "20324\n",
      "20065\n",
      "20234\n",
      "20373\n",
      "20162\n",
      "20344\n",
      "20045\n",
      "20109\n",
      "20106\n",
      "20270\n",
      "20150\n",
      "20400\n",
      "20204\n",
      "20252\n"
     ]
    },
    {
     "name": "stderr",
     "output_type": "stream",
     "text": [
      "\r",
      " 33%|█████████████████████▍                                            | 32.50462962962963/100 [03:21<03:18,  2.94s/it]"
     ]
    },
    {
     "name": "stdout",
     "output_type": "stream",
     "text": [
      "20224\n",
      "20280\n",
      "20230\n",
      "20118\n",
      "20354\n",
      "20400\n",
      "20030\n",
      "20343\n",
      "20078\n",
      "20194\n",
      "20065\n",
      "20259\n",
      "20265\n",
      "20258\n"
     ]
    },
    {
     "name": "stderr",
     "output_type": "stream",
     "text": [
      "\r",
      " 33%|█████████████████████▊                                            | 33.05555555555556/100 [03:23<03:19,  2.98s/it]"
     ]
    },
    {
     "name": "stdout",
     "output_type": "stream",
     "text": [
      "20326\n",
      "20353\n",
      "20257\n",
      "20347\n",
      "20387\n",
      "20371\n",
      "20010\n",
      "20017\n",
      "20347\n",
      "20343\n",
      "20273\n",
      "20316\n",
      "20226\n",
      "20226\n",
      "20103\n",
      "20258\n",
      "20393\n",
      "20097\n"
     ]
    },
    {
     "name": "stderr",
     "output_type": "stream",
     "text": [
      "\r",
      " 34%|█████████████████████▊                                           | 33.611111111111114/100 [03:25<03:32,  3.20s/it]"
     ]
    },
    {
     "name": "stdout",
     "output_type": "stream",
     "text": [
      "20331\n",
      "20386\n",
      "20159\n",
      "20200\n",
      "20287\n",
      "20323\n",
      "20329\n",
      "20353\n",
      "20013\n",
      "20048\n",
      "20054\n",
      "20043\n",
      "20043\n",
      "20390\n",
      "20153\n",
      "20315\n"
     ]
    },
    {
     "name": "stderr",
     "output_type": "stream",
     "text": [
      "\r",
      " 34%|██████████████████████▉                                            | 34.1712962962963/100 [03:26<03:15,  2.97s/it]"
     ]
    },
    {
     "name": "stdout",
     "output_type": "stream",
     "text": [
      "20211\n",
      "20058\n",
      "20070\n",
      "20288\n",
      "20345\n",
      "20206\n",
      "20220\n",
      "20107\n",
      "20316\n",
      "20155\n",
      "20099\n",
      "20319\n",
      "20272\n",
      "20058\n",
      "20316\n"
     ]
    },
    {
     "name": "stderr",
     "output_type": "stream",
     "text": [
      "\r",
      " 35%|██████████████████████▌                                          | 34.736111111111114/100 [03:27<02:39,  2.44s/it]"
     ]
    },
    {
     "name": "stdout",
     "output_type": "stream",
     "text": [
      "20124\n",
      "20222\n",
      "20154\n",
      "20060\n",
      "20282\n",
      "20061\n",
      "20399\n",
      "20339\n",
      "20316\n",
      "20063\n",
      "20095\n",
      "20250\n",
      "20049\n",
      "20219\n",
      "20148\n",
      "20355\n",
      "20330\n",
      "20312"
     ]
    },
    {
     "name": "stderr",
     "output_type": "stream",
     "text": [
      "\r",
      " 35%|███████████████████████▎                                          | 35.30555555555556/100 [03:30<03:12,  2.98s/it]"
     ]
    },
    {
     "name": "stdout",
     "output_type": "stream",
     "text": [
      "\n",
      "20245\n",
      "20148\n",
      "20276\n",
      "20214\n",
      "20244\n",
      "20159\n",
      "20003\n",
      "20284\n",
      "20041\n",
      "20250\n",
      "20346\n",
      "20198\n",
      "20315\n",
      "20200\n",
      "20153\n",
      "20316\n"
     ]
    },
    {
     "name": "stderr",
     "output_type": "stream",
     "text": [
      "\r",
      " 36%|███████████████████████▋                                          | 35.87962962962963/100 [03:31<02:59,  2.80s/it]"
     ]
    },
    {
     "name": "stdout",
     "output_type": "stream",
     "text": [
      "20222\n",
      "20149\n",
      "20036\n",
      "20280\n",
      "20324\n",
      "20148\n",
      "20289\n",
      "20315\n",
      "20149\n",
      "20386\n",
      "20262\n",
      "20011\n",
      "20197\n",
      "20049\n",
      "20144\n",
      "20215\n",
      "20329\n"
     ]
    },
    {
     "name": "stderr",
     "output_type": "stream",
     "text": [
      "\r",
      " 36%|███████████████████████▋                                         | 36.458333333333336/100 [03:32<02:53,  2.74s/it]"
     ]
    },
    {
     "name": "stdout",
     "output_type": "stream",
     "text": [
      "20201\n",
      "20066\n",
      "20270\n",
      "20149\n",
      "20016\n",
      "20047\n",
      "20026\n",
      "20245\n",
      "20223\n",
      "20071\n",
      "20317\n",
      "20210\n",
      "20040\n"
     ]
    },
    {
     "name": "stderr",
     "output_type": "stream",
     "text": [
      "\r",
      " 37%|████████████████████████▍                                         | 37.04166666666667/100 [03:35<03:31,  3.35s/it]"
     ]
    },
    {
     "name": "stdout",
     "output_type": "stream",
     "text": [
      "20018\n",
      "20281\n",
      "20085\n",
      "20346\n",
      "20397\n",
      "20366\n",
      "20016\n",
      "20042\n",
      "20316\n",
      "20088\n",
      "20023\n",
      "20364\n",
      "20326\n",
      "20200\n",
      "20149\n",
      "20148\n",
      "20260\n",
      "20342\n",
      "20118\n"
     ]
    },
    {
     "name": "stderr",
     "output_type": "stream",
     "text": [
      "\r",
      " 38%|████████████████████████▊                                         | 37.62962962962963/100 [03:38<03:39,  3.52s/it]"
     ]
    },
    {
     "name": "stdout",
     "output_type": "stream",
     "text": [
      "20260\n",
      "20216\n",
      "20223\n",
      "20149\n",
      "20146\n",
      "20162\n",
      "20209\n",
      "20071\n",
      "20154\n",
      "20062\n",
      "20170\n",
      "20020\n",
      "20328\n",
      "20103\n"
     ]
    },
    {
     "name": "stderr",
     "output_type": "stream",
     "text": [
      "\r",
      " 38%|█████████████████████████▏                                        | 38.22222222222223/100 [03:39<03:16,  3.19s/it]"
     ]
    },
    {
     "name": "stdout",
     "output_type": "stream",
     "text": [
      "20058\n",
      "20016\n",
      "20315\n",
      "20317\n",
      "20266\n",
      "20391\n",
      "20326\n",
      "20334\n",
      "20045\n",
      "20383\n",
      "20321\n",
      "20149\n",
      "20030\n",
      "20006\n",
      "20284\n",
      "20245\n",
      "20345\n",
      "20392\n",
      "20145"
     ]
    },
    {
     "name": "stderr",
     "output_type": "stream",
     "text": [
      "\r",
      " 39%|█████████████████████████▌                                        | 38.81944444444445/100 [03:40<03:00,  2.96s/it]"
     ]
    },
    {
     "name": "stdout",
     "output_type": "stream",
     "text": [
      "\n",
      "20358\n",
      "20339\n",
      "20012\n",
      "20256\n",
      "20013\n",
      "20234\n",
      "20007\n",
      "20037\n",
      "20149\n",
      "20328\n",
      "20017\n",
      "20354\n"
     ]
    },
    {
     "name": "stderr",
     "output_type": "stream",
     "text": [
      "\r",
      " 39%|█████████████████████████▌                                       | 39.421296296296305/100 [03:42<02:48,  2.77s/it]"
     ]
    },
    {
     "name": "stdout",
     "output_type": "stream",
     "text": [
      "20084\n",
      "20025\n",
      "20150\n",
      "20183\n",
      "20105\n",
      "20356\n",
      "20020\n",
      "20169\n",
      "20115\n",
      "20247\n",
      "20313\n",
      "20358\n",
      "20329\n",
      "20206\n",
      "20187\n"
     ]
    },
    {
     "name": "stderr",
     "output_type": "stream",
     "text": [
      "\r",
      " 40%|██████████████████████████                                       | 40.027777777777786/100 [03:43<02:37,  2.63s/it]"
     ]
    },
    {
     "name": "stdout",
     "output_type": "stream",
     "text": [
      "20244\n",
      "20163\n",
      "20080\n",
      "20080\n",
      "20316\n",
      "20383\n",
      "20253\n",
      "20072\n",
      "20151\n",
      "20054\n",
      "20314\n",
      "20382\n",
      "20246\n",
      "20012\n",
      "20148\n",
      "20023\n",
      "20257\n"
     ]
    },
    {
     "name": "stderr",
     "output_type": "stream",
     "text": [
      "\r",
      " 41%|███████████████████████████▏                                       | 40.6388888888889/100 [03:46<03:07,  3.15s/it]"
     ]
    },
    {
     "name": "stdout",
     "output_type": "stream",
     "text": [
      "20054\n",
      "20340\n",
      "20347\n",
      "20240\n",
      "20290\n",
      "20343\n",
      "20007\n",
      "20052\n",
      "20284\n",
      "20248\n",
      "20088\n",
      "20027\n",
      "20069\n",
      "20251\n",
      "20150\n",
      "20146\n",
      "20149\n",
      "20265\n"
     ]
    },
    {
     "name": "stderr",
     "output_type": "stream",
     "text": [
      "\r",
      " 41%|███████████████████████████▏                                      | 41.25462962962964/100 [03:48<03:24,  3.48s/it]"
     ]
    },
    {
     "name": "stdout",
     "output_type": "stream",
     "text": [
      "20322\n",
      "20324\n",
      "20212\n",
      "20245\n",
      "20320\n",
      "20361\n",
      "20059\n",
      "20253\n",
      "20162\n",
      "20102\n",
      "20056\n",
      "20343\n",
      "20027\n",
      "20172\n"
     ]
    },
    {
     "name": "stderr",
     "output_type": "stream",
     "text": [
      "\r",
      " 42%|███████████████████████████▏                                     | 41.875000000000014/100 [03:50<03:11,  3.29s/it]"
     ]
    },
    {
     "name": "stdout",
     "output_type": "stream",
     "text": [
      "20230\n",
      "20122\n",
      "20220\n",
      "20091\n",
      "20144\n",
      "20045\n",
      "20324\n",
      "20055\n",
      "20115\n",
      "20316\n",
      "20359\n",
      "20317\n",
      "20315\n",
      "20247\n",
      "20149\n",
      "20344\n",
      "20092\n",
      "20346\n",
      "20093\n"
     ]
    },
    {
     "name": "stderr",
     "output_type": "stream",
     "text": [
      "\r",
      " 43%|███████████████████████████▋                                     | 42.500000000000014/100 [03:53<03:22,  3.53s/it]"
     ]
    },
    {
     "name": "stdout",
     "output_type": "stream",
     "text": [
      "20101\n",
      "20218\n",
      "20395\n",
      "20023\n",
      "20034\n",
      "20211\n",
      "20172\n",
      "20039\n",
      "20105\n",
      "20358\n",
      "20094\n",
      "20060\n",
      "20051\n"
     ]
    },
    {
     "name": "stderr",
     "output_type": "stream",
     "text": [
      "\r",
      " 43%|████████████████████████████▍                                     | 43.12962962962964/100 [03:54<02:55,  3.09s/it]"
     ]
    },
    {
     "name": "stdout",
     "output_type": "stream",
     "text": [
      "20374\n",
      "20033\n",
      "20020\n",
      "20024\n",
      "20150\n",
      "20367\n",
      "20160\n",
      "20174\n",
      "20379\n",
      "20336\n",
      "20215\n",
      "20338\n",
      "20278\n",
      "20160\n",
      "20105\n",
      "20003\n",
      "20211\n"
     ]
    },
    {
     "name": "stderr",
     "output_type": "stream",
     "text": [
      "\r",
      " 44%|█████████████████████████████▎                                     | 43.7638888888889/100 [03:55<02:36,  2.79s/it]"
     ]
    },
    {
     "name": "stdout",
     "output_type": "stream",
     "text": [
      "20383\n",
      "20160\n",
      "20097\n",
      "20235\n",
      "20103\n",
      "20275\n",
      "20379\n",
      "20175\n",
      "20357\n",
      "20004\n",
      "20377\n",
      "20242\n",
      "20316\n",
      "20232\n",
      "20058\n"
     ]
    },
    {
     "name": "stderr",
     "output_type": "stream",
     "text": [
      "\r",
      " 44%|████████████████████████████▊                                    | 44.402777777777786/100 [03:57<02:29,  2.70s/it]"
     ]
    },
    {
     "name": "stdout",
     "output_type": "stream",
     "text": [
      "20090\n",
      "20154\n",
      "20003\n",
      "20168\n",
      "20034\n",
      "20265\n",
      "20343\n",
      "20027\n",
      "20325\n",
      "20266\n",
      "20278\n",
      "20322\n",
      "20213\n",
      "20275\n",
      "20058\n",
      "20277\n",
      "20310\n",
      "20315"
     ]
    },
    {
     "name": "stderr",
     "output_type": "stream",
     "text": [
      "\r",
      " 45%|█████████████████████████████▎                                   | 45.046296296296305/100 [03:58<02:16,  2.48s/it]"
     ]
    },
    {
     "name": "stdout",
     "output_type": "stream",
     "text": [
      "\n",
      "20013\n",
      "20348\n",
      "20181\n",
      "20149\n",
      "20024\n",
      "20244\n",
      "20315\n",
      "20322\n",
      "20209\n",
      "20122\n",
      "20351\n",
      "20310\n",
      "20383\n",
      "20371\n",
      "20217\n",
      "20058\n",
      "20186\n"
     ]
    },
    {
     "name": "stderr",
     "output_type": "stream",
     "text": [
      "\r",
      " 46%|██████████████████████████████▏                                   | 45.69444444444445/100 [04:00<02:05,  2.32s/it]"
     ]
    },
    {
     "name": "stdout",
     "output_type": "stream",
     "text": [
      "20095\n",
      "20259\n",
      "20284\n",
      "20035\n",
      "20222\n",
      "20380\n",
      "20025\n",
      "20111\n",
      "20059\n",
      "20394\n",
      "20249\n",
      "20118\n",
      "20370\n",
      "20149\n",
      "20279\n",
      "20088\n"
     ]
    },
    {
     "name": "stderr",
     "output_type": "stream",
     "text": [
      "\r",
      " 46%|██████████████████████████████▌                                   | 46.34722222222223/100 [04:03<02:39,  2.98s/it]"
     ]
    },
    {
     "name": "stdout",
     "output_type": "stream",
     "text": [
      "20063\n",
      "20097\n",
      "20210\n",
      "20362\n",
      "20044\n",
      "20362\n",
      "20178\n",
      "20033\n",
      "20316\n",
      "20070\n",
      "20391\n",
      "20316\n",
      "20349\n",
      "20085\n",
      "20184\n",
      "20003\n",
      "20316"
     ]
    },
    {
     "name": "stderr",
     "output_type": "stream",
     "text": [
      "\r",
      " 47%|███████████████████████████████                                   | 47.00462962962963/100 [04:04<02:23,  2.71s/it]"
     ]
    },
    {
     "name": "stdout",
     "output_type": "stream",
     "text": [
      "\n",
      "20047\n",
      "20163\n",
      "20143\n",
      "20398\n",
      "20016\n",
      "20102\n",
      "20077\n",
      "20100\n",
      "20062\n",
      "20249\n",
      "20355\n",
      "20377\n",
      "20079"
     ]
    },
    {
     "name": "stderr",
     "output_type": "stream",
     "text": [
      "\r",
      " 48%|███████████████████████████████▍                                  | 47.66666666666667/100 [04:05<02:13,  2.55s/it]"
     ]
    },
    {
     "name": "stdout",
     "output_type": "stream",
     "text": [
      "\n",
      "20315\n",
      "20259\n",
      "20264\n",
      "20365\n",
      "20183\n",
      "20370\n",
      "20267\n",
      "20061\n",
      "20256\n",
      "20229\n",
      "20170\n",
      "20378\n",
      "20217\n",
      "20232\n",
      "20216\n",
      "20103\n",
      "20160\n",
      "20149\n"
     ]
    },
    {
     "name": "stderr",
     "output_type": "stream",
     "text": [
      "\r",
      " 48%|███████████████████████████████▍                                 | 48.333333333333336/100 [04:08<02:30,  2.91s/it]"
     ]
    },
    {
     "name": "stdout",
     "output_type": "stream",
     "text": [
      "20016\n",
      "20319\n",
      "20080\n",
      "20029\n",
      "20157\n",
      "20237\n",
      "20029\n",
      "20080\n",
      "20063\n",
      "20259\n",
      "20183\n",
      "20243\n",
      "20280\n",
      "20178\n",
      "20275\n",
      "20160\n"
     ]
    },
    {
     "name": "stderr",
     "output_type": "stream",
     "text": [
      "\r",
      " 49%|████████████████████████████████▎                                 | 49.00462962962963/100 [04:09<02:11,  2.57s/it]"
     ]
    },
    {
     "name": "stdout",
     "output_type": "stream",
     "text": [
      "20335\n",
      "20238\n",
      "20081\n",
      "20381\n",
      "20351\n",
      "20158\n",
      "20396\n",
      "20075\n",
      "20359\n",
      "20231\n",
      "20178\n",
      "20252\n",
      "20284\n"
     ]
    },
    {
     "name": "stderr",
     "output_type": "stream",
     "text": [
      "\r",
      " 50%|████████████████████████████████▊                                 | 49.68055555555556/100 [04:11<02:04,  2.47s/it]"
     ]
    },
    {
     "name": "stdout",
     "output_type": "stream",
     "text": [
      "20021\n",
      "20115\n",
      "20105\n",
      "20164\n",
      "20359\n",
      "20285\n",
      "20310\n",
      "20359\n",
      "20158\n",
      "20160\n",
      "20363\n",
      "20124\n",
      "20156\n",
      "20229\n",
      "20149\n",
      "20312\n",
      "20315\n",
      "20313\n",
      "20314\n"
     ]
    },
    {
     "name": "stderr",
     "output_type": "stream",
     "text": [
      "\r",
      " 50%|████████████████████████████████▋                                | 50.361111111111114/100 [04:13<02:20,  2.83s/it]"
     ]
    },
    {
     "name": "stdout",
     "output_type": "stream",
     "text": [
      "20057\n",
      "20081\n",
      "20110\n",
      "20273\n",
      "20365\n",
      "20149\n",
      "20208\n",
      "20045\n",
      "20364\n",
      "20082\n",
      "20208\n",
      "20263\n",
      "20176\n",
      "20276\n",
      "20037\n"
     ]
    },
    {
     "name": "stderr",
     "output_type": "stream",
     "text": [
      "\r",
      " 51%|██████████████████████████████████▏                                | 51.0462962962963/100 [04:15<02:11,  2.68s/it]"
     ]
    },
    {
     "name": "stdout",
     "output_type": "stream",
     "text": [
      "20033\n",
      "20031\n",
      "20012\n",
      "20149\n",
      "20124\n",
      "20280\n",
      "20058\n",
      "20159\n",
      "20028\n",
      "20271\n",
      "20309\n",
      "20080\n",
      "20279\n",
      "20247\n",
      "20263\n"
     ]
    },
    {
     "name": "stderr",
     "output_type": "stream",
     "text": [
      "\r",
      " 52%|█████████████████████████████████▋                               | 51.736111111111114/100 [04:16<02:03,  2.57s/it]"
     ]
    },
    {
     "name": "stdout",
     "output_type": "stream",
     "text": [
      "20219\n",
      "20040\n",
      "20219\n",
      "20021\n",
      "20391\n",
      "20187\n",
      "20389\n",
      "20310\n",
      "20213\n",
      "20273\n",
      "20278\n",
      "20150\n",
      "20156\n",
      "20021\n",
      "20325\n"
     ]
    },
    {
     "name": "stderr",
     "output_type": "stream",
     "text": [
      "\r",
      " 52%|██████████████████████████████████▌                               | 52.43055555555556/100 [04:19<02:13,  2.80s/it]"
     ]
    },
    {
     "name": "stdout",
     "output_type": "stream",
     "text": [
      "20069\n",
      "20025\n",
      "20143\n",
      "20316\n",
      "20346\n",
      "20085\n",
      "20316\n",
      "20338\n",
      "20400\n",
      "20401\n",
      "20246\n",
      "20158\n",
      "20107\n",
      "20120\n",
      "20337\n",
      "20010\n",
      "20151\n"
     ]
    },
    {
     "name": "stderr",
     "output_type": "stream",
     "text": [
      "\r",
      " 53%|███████████████████████████████████                               | 53.12962962962963/100 [04:20<02:02,  2.61s/it]"
     ]
    },
    {
     "name": "stdout",
     "output_type": "stream",
     "text": [
      "20038\n",
      "20272\n",
      "20023\n",
      "20086\n",
      "20147\n",
      "20195\n",
      "20005\n",
      "20177\n",
      "20204\n",
      "20243\n",
      "20317\n",
      "20161\n",
      "20149\n",
      "20338\n",
      "20378\n",
      "20250\n",
      "20400\n",
      "20022"
     ]
    },
    {
     "name": "stderr",
     "output_type": "stream",
     "text": [
      "\r",
      " 54%|██████████████████████████████████▉                              | 53.833333333333336/100 [04:22<01:54,  2.47s/it]"
     ]
    },
    {
     "name": "stdout",
     "output_type": "stream",
     "text": [
      "\n",
      "20226\n",
      "20346\n",
      "20156\n",
      "20124\n",
      "20115\n",
      "20012\n",
      "20246\n",
      "20157\n",
      "20008\n",
      "20013\n",
      "20183\n",
      "20344\n",
      "20376\n",
      "20162\n"
     ]
    },
    {
     "name": "stderr",
     "output_type": "stream",
     "text": [
      "\r",
      " 55%|███████████████████████████████████▉                              | 54.54166666666667/100 [04:23<01:46,  2.35s/it]"
     ]
    },
    {
     "name": "stdout",
     "output_type": "stream",
     "text": [
      "20310\n",
      "20246\n",
      "20324\n",
      "20351\n",
      "20234\n",
      "20239\n",
      "20033\n",
      "20318\n",
      "20186\n",
      "20237\n",
      "20237\n",
      "20229\n",
      "20327\n",
      "20270\n",
      "20149\n",
      "20005\n"
     ]
    },
    {
     "name": "stderr",
     "output_type": "stream",
     "text": [
      "\r",
      " 55%|████████████████████████████████████▍                             | 55.25462962962963/100 [04:25<01:58,  2.66s/it]"
     ]
    },
    {
     "name": "stdout",
     "output_type": "stream",
     "text": [
      "20108\n",
      "20150\n",
      "20094\n",
      "20316\n",
      "20150\n",
      "20349\n",
      "20048\n",
      "20291\n",
      "20253\n",
      "20359\n",
      "20074\n",
      "20215\n",
      "20362\n",
      "20316\n",
      "20387\n"
     ]
    },
    {
     "name": "stderr",
     "output_type": "stream",
     "text": [
      "\r",
      " 56%|████████████████████████████████████▉                             | 55.97222222222223/100 [04:27<01:53,  2.58s/it]"
     ]
    },
    {
     "name": "stdout",
     "output_type": "stream",
     "text": [
      "20080\n",
      "20362\n",
      "20320\n",
      "20382\n",
      "20341\n",
      "20357\n",
      "20252\n",
      "20075\n",
      "20248\n",
      "20107\n",
      "20101\n",
      "20311\n",
      "20316\n",
      "20069\n",
      "20287\n",
      "20193\n",
      "20034\n",
      "20324\n"
     ]
    },
    {
     "name": "stderr",
     "output_type": "stream",
     "text": [
      "\r",
      " 57%|█████████████████████████████████████▍                            | 56.69444444444445/100 [04:30<02:04,  2.87s/it]"
     ]
    },
    {
     "name": "stdout",
     "output_type": "stream",
     "text": [
      "20343\n",
      "20051\n",
      "20124\n",
      "20230\n",
      "20190\n",
      "20316\n",
      "20078\n",
      "20310\n",
      "20399\n",
      "20007\n",
      "20260\n",
      "20278\n",
      "20071\n",
      "20030\n",
      "20111\n"
     ]
    },
    {
     "name": "stderr",
     "output_type": "stream",
     "text": [
      "\r",
      " 57%|█████████████████████████████████████▎                           | 57.421296296296305/100 [04:32<02:06,  2.97s/it]"
     ]
    },
    {
     "name": "stdout",
     "output_type": "stream",
     "text": [
      "20272\n",
      "20337\n",
      "20224\n",
      "20149\n",
      "20316\n",
      "20094\n",
      "20256\n",
      "20094\n",
      "20083\n",
      "20389\n",
      "20114\n",
      "20010\n",
      "20316\n",
      "20062\n",
      "20020\n",
      "20005\n",
      "20149\n",
      "20259\n"
     ]
    },
    {
     "name": "stderr",
     "output_type": "stream",
     "text": [
      "\r",
      " 58%|█████████████████████████████████████▊                           | 58.152777777777786/100 [04:33<01:51,  2.66s/it]"
     ]
    },
    {
     "name": "stdout",
     "output_type": "stream",
     "text": [
      "20149\n",
      "20167\n",
      "20168\n",
      "20037\n",
      "20219\n",
      "20281\n",
      "20149\n",
      "20264\n",
      "20351\n",
      "20215\n",
      "20229\n",
      "20023\n",
      "20187\n",
      "20105"
     ]
    },
    {
     "name": "stderr",
     "output_type": "stream",
     "text": [
      "\r",
      " 59%|███████████████████████████████████████▍                           | 58.8888888888889/100 [04:35<01:40,  2.45s/it]"
     ]
    },
    {
     "name": "stdout",
     "output_type": "stream",
     "text": [
      "\n",
      "20172\n",
      "20346\n",
      "20196\n",
      "20036\n",
      "20227\n",
      "20285\n",
      "20316\n",
      "20347\n",
      "20341\n",
      "20118\n",
      "20347\n",
      "20259\n",
      "20315\n",
      "20332\n",
      "20316\n",
      "20350\n",
      "20364\n"
     ]
    },
    {
     "name": "stderr",
     "output_type": "stream",
     "text": [
      "\r",
      " 60%|███████████████████████████████████████▎                          | 59.62962962962964/100 [04:36<01:31,  2.26s/it]"
     ]
    },
    {
     "name": "stdout",
     "output_type": "stream",
     "text": [
      "20366\n",
      "20210\n",
      "20177\n",
      "20044\n",
      "20149\n",
      "20330\n",
      "20172\n",
      "20069\n",
      "20001\n",
      "20264\n",
      "20316\n",
      "20026\n"
     ]
    },
    {
     "name": "stderr",
     "output_type": "stream",
     "text": [
      "\r",
      " 60%|███████████████████████████████████████▏                         | 60.375000000000014/100 [04:38<01:26,  2.18s/it]"
     ]
    },
    {
     "name": "stdout",
     "output_type": "stream",
     "text": [
      "20037\n",
      "20155\n",
      "20275\n",
      "20324\n",
      "20063\n",
      "20058\n",
      "20005\n",
      "20369\n",
      "20111\n",
      "20110\n",
      "20236\n",
      "20277\n",
      "20336\n",
      "20310\n",
      "20195\n",
      "20083\n",
      "20314\n",
      "20188\n",
      "20184\n"
     ]
    },
    {
     "name": "stderr",
     "output_type": "stream",
     "text": [
      "\r",
      " 61%|███████████████████████████████████████▋                         | 61.125000000000014/100 [04:39<01:24,  2.18s/it]"
     ]
    },
    {
     "name": "stdout",
     "output_type": "stream",
     "text": [
      "20381\n",
      "20315\n",
      "20044\n",
      "20020\n",
      "20149\n",
      "20008\n",
      "20392\n",
      "20260\n",
      "20022\n",
      "20367\n",
      "20256\n",
      "20174\n",
      "20009\n",
      "20098\n",
      "20158\n",
      "20263\n",
      "20316\n",
      "20010\n"
     ]
    },
    {
     "name": "stderr",
     "output_type": "stream",
     "text": [
      "\r",
      " 62%|████████████████████████████████████████▊                         | 61.87962962962964/100 [04:42<01:36,  2.54s/it]"
     ]
    },
    {
     "name": "stdout",
     "output_type": "stream",
     "text": [
      "20331\n",
      "20056\n",
      "20255\n",
      "20221\n",
      "20394\n",
      "20186\n",
      "20087\n",
      "20121\n",
      "20316\n",
      "20150\n",
      "20193\n",
      "20244\n",
      "20042\n",
      "20395\n",
      "20316\n",
      "20061\n"
     ]
    },
    {
     "name": "stderr",
     "output_type": "stream",
     "text": [
      "\r",
      " 63%|█████████████████████████████████████████▉                         | 62.6388888888889/100 [04:43<01:28,  2.38s/it]"
     ]
    },
    {
     "name": "stdout",
     "output_type": "stream",
     "text": [
      "20184\n",
      "20286\n",
      "20400\n",
      "20316\n",
      "20258\n",
      "20249\n",
      "20379\n",
      "20276\n",
      "20117\n",
      "20228\n",
      "20117\n",
      "20220\n",
      "20286\n",
      "20100\n"
     ]
    },
    {
     "name": "stderr",
     "output_type": "stream",
     "text": [
      "\r",
      " 63%|█████████████████████████████████████████▏                       | 63.402777777777786/100 [04:46<01:38,  2.68s/it]"
     ]
    },
    {
     "name": "stdout",
     "output_type": "stream",
     "text": [
      "20220\n",
      "20198\n",
      "20382\n",
      "20269\n",
      "20316\n",
      "20250\n",
      "20179\n",
      "20321\n",
      "20315\n",
      "20397\n",
      "20083\n",
      "20253\n",
      "20365\n",
      "20238\n",
      "20368\n",
      "20203\n",
      "20197"
     ]
    },
    {
     "name": "stderr",
     "output_type": "stream",
     "text": [
      "\r",
      " 64%|██████████████████████████████████████████▉                        | 64.1712962962963/100 [04:47<01:27,  2.43s/it]"
     ]
    },
    {
     "name": "stdout",
     "output_type": "stream",
     "text": [
      "\n",
      "20181\n",
      "20357\n",
      "20377\n",
      "20074\n",
      "20102\n",
      "20082\n",
      "20311\n",
      "20377\n",
      "20251\n",
      "20018\n",
      "20258\n",
      "20015\n",
      "20224\n",
      "20219\n",
      "20180\n"
     ]
    },
    {
     "name": "stderr",
     "output_type": "stream",
     "text": [
      "\r",
      " 65%|██████████████████████████████████████████▊                       | 64.94444444444446/100 [04:49<01:20,  2.29s/it]"
     ]
    },
    {
     "name": "stdout",
     "output_type": "stream",
     "text": [
      "20026\n",
      "20399\n",
      "20052\n",
      "20241\n",
      "20021\n",
      "20070\n",
      "20265\n",
      "20149\n",
      "20145\n",
      "20262\n",
      "20165\n",
      "20172\n",
      "20090\n",
      "20272\n",
      "20068\n",
      "20200\n",
      "20204\n"
     ]
    },
    {
     "name": "stderr",
     "output_type": "stream",
     "text": [
      "\r",
      " 66%|███████████████████████████████████████████▍                      | 65.72222222222223/100 [04:51<01:24,  2.46s/it]"
     ]
    },
    {
     "name": "stdout",
     "output_type": "stream",
     "text": [
      "20322\n",
      "20175\n",
      "20003\n",
      "20150\n",
      "20151\n",
      "20052\n",
      "20332\n",
      "20311\n",
      "20357\n",
      "20258\n",
      "20261\n",
      "20207\n",
      "20312\n"
     ]
    },
    {
     "name": "stderr",
     "output_type": "stream",
     "text": [
      "\r",
      " 67%|███████████████████████████████████████████▉                      | 66.50462962962963/100 [04:52<01:04,  1.91s/it]"
     ]
    },
    {
     "name": "stdout",
     "output_type": "stream",
     "text": [
      "20313\n",
      "20384\n",
      "20187\n",
      "20149\n",
      "20046\n",
      "20363\n",
      "20329\n",
      "20183\n",
      "20044\n",
      "20349\n",
      "20317\n",
      "20017\n",
      "20168\n",
      "20375\n",
      "20028\n",
      "20067\n",
      "20086\n",
      "20048\n",
      "20237\n"
     ]
    },
    {
     "name": "stderr",
     "output_type": "stream",
     "text": [
      "\r",
      " 67%|████████████████████████████████████████████▍                     | 67.29166666666667/100 [04:54<01:13,  2.26s/it]"
     ]
    },
    {
     "name": "stdout",
     "output_type": "stream",
     "text": [
      "20048\n",
      "20248\n",
      "20233\n",
      "20277\n",
      "20312\n",
      "20367\n",
      "20269\n",
      "20120\n",
      "20325\n",
      "20152\n",
      "20400\n",
      "20316\n",
      "20083\n",
      "20069\n"
     ]
    },
    {
     "name": "stderr",
     "output_type": "stream",
     "text": [
      "\r",
      " 68%|████████████████████████████████████████████▉                     | 68.08333333333334/100 [04:56<01:09,  2.18s/it]"
     ]
    },
    {
     "name": "stdout",
     "output_type": "stream",
     "text": [
      "20156\n",
      "20073\n",
      "20233\n",
      "20079\n",
      "20385\n",
      "20077\n",
      "20154\n",
      "20123\n",
      "20049\n",
      "20080\n",
      "20019\n",
      "20316\n",
      "20317\n",
      "20353\n",
      "20002\n",
      "20180\n",
      "20172\n",
      "20322\n",
      "20186"
     ]
    },
    {
     "name": "stderr",
     "output_type": "stream",
     "text": [
      "\r",
      " 69%|█████████████████████████████████████████████▍                    | 68.87962962962963/100 [04:57<01:03,  2.05s/it]"
     ]
    },
    {
     "name": "stdout",
     "output_type": "stream",
     "text": [
      "\n",
      "20199\n",
      "20241\n",
      "20155\n",
      "20312\n",
      "20245\n",
      "20230\n",
      "20149\n",
      "20062\n",
      "20091\n",
      "20171\n",
      "20322\n"
     ]
    },
    {
     "name": "stderr",
     "output_type": "stream",
     "text": [
      "\r",
      " 70%|█████████████████████████████████████████████▉                    | 69.68055555555556/100 [04:58<00:59,  1.95s/it]"
     ]
    },
    {
     "name": "stdout",
     "output_type": "stream",
     "text": [
      "20208\n",
      "20397\n",
      "20316\n",
      "20149\n",
      "20069\n",
      "20264\n",
      "20316\n",
      "20096\n",
      "20225\n",
      "20038\n",
      "20370\n",
      "20359\n",
      "20344\n",
      "20025\n",
      "20197\n",
      "20254\n",
      "20315\n",
      "20317\n",
      "20103\n",
      "20365\n",
      "20318\n"
     ]
    },
    {
     "name": "stderr",
     "output_type": "stream",
     "text": [
      "\r",
      " 70%|██████████████████████████████████████████████▌                   | 70.48611111111111/100 [05:01<01:08,  2.32s/it]"
     ]
    },
    {
     "name": "stdout",
     "output_type": "stream",
     "text": [
      "20081\n",
      "20222\n",
      "20021\n",
      "20210\n",
      "20317\n",
      "20283\n",
      "20011\n",
      "20311\n",
      "20222\n",
      "20367\n",
      "20351\n",
      "20320\n",
      "20123\n",
      "20159"
     ]
    },
    {
     "name": "stderr",
     "output_type": "stream",
     "text": [
      "\r",
      " 71%|███████████████████████████████████████████████▊                   | 71.2962962962963/100 [05:02<01:00,  2.12s/it]"
     ]
    },
    {
     "name": "stdout",
     "output_type": "stream",
     "text": [
      "\n",
      "20194\n",
      "20022\n",
      "20262\n",
      "20001\n",
      "20316\n",
      "20316\n",
      "20089\n",
      "20063\n",
      "20024\n",
      "20269\n",
      "20014\n",
      "20150\n",
      "20280\n",
      "20320\n",
      "20176\n"
     ]
    },
    {
     "name": "stderr",
     "output_type": "stream",
     "text": [
      "\r",
      " 72%|███████████████████████████████████████████████▌                  | 72.11111111111111/100 [05:04<00:55,  2.00s/it]"
     ]
    },
    {
     "name": "stdout",
     "output_type": "stream",
     "text": [
      "20394\n",
      "20255\n",
      "20119\n",
      "20192\n",
      "20351\n",
      "20033\n",
      "20041\n",
      "20058\n",
      "20058\n",
      "20368\n",
      "20124\n",
      "20151\n",
      "20327\n",
      "20020\n",
      "20327\n",
      "20097\n",
      "20360\n",
      "20104\n",
      "20109\n"
     ]
    },
    {
     "name": "stderr",
     "output_type": "stream",
     "text": [
      "\r",
      " 73%|████████████████████████████████████████████████▏                 | 72.93055555555556/100 [05:05<00:52,  1.94s/it]"
     ]
    },
    {
     "name": "stdout",
     "output_type": "stream",
     "text": [
      "20084\n",
      "20093\n",
      "20339\n",
      "20351\n",
      "20356\n",
      "20339\n",
      "20245\n",
      "20017\n",
      "20070\n",
      "20075\n",
      "20149\n",
      "20181\n",
      "20075\n",
      "20359\n"
     ]
    },
    {
     "name": "stderr",
     "output_type": "stream",
     "text": [
      "\r",
      " 74%|████████████████████████████████████████████████▋                 | 73.75462962962963/100 [05:08<01:00,  2.29s/it]"
     ]
    },
    {
     "name": "stdout",
     "output_type": "stream",
     "text": [
      "20250\n",
      "20220\n",
      "20366\n",
      "20210\n",
      "20311\n",
      "20401\n",
      "20389\n",
      "20348\n",
      "20337\n",
      "20060\n",
      "20151\n",
      "20115\n",
      "20069\n",
      "20391\n",
      "20314\n",
      "20288\n",
      "20013\n"
     ]
    },
    {
     "name": "stderr",
     "output_type": "stream",
     "text": [
      "\r",
      " 75%|█████████████████████████████████████████████████▏                | 74.58333333333334/100 [05:09<00:53,  2.11s/it]"
     ]
    },
    {
     "name": "stdout",
     "output_type": "stream",
     "text": [
      "20259\n",
      "20326\n",
      "20312\n",
      "20328\n",
      "20051\n",
      "20289\n",
      "20151\n",
      "20261\n",
      "20367\n",
      "20357\n",
      "20014\n",
      "20316\n",
      "20181\n",
      "20004\n",
      "20092\n",
      "20168\n",
      "20064\n"
     ]
    },
    {
     "name": "stderr",
     "output_type": "stream",
     "text": [
      "\r",
      " 75%|█████████████████████████████████████████████████▊                | 75.41666666666667/100 [05:10<00:47,  1.94s/it]"
     ]
    },
    {
     "name": "stdout",
     "output_type": "stream",
     "text": [
      "20369\n",
      "20202\n",
      "20098\n",
      "20316\n",
      "20364\n",
      "20086\n",
      "20014\n",
      "20315\n",
      "20092\n",
      "20224\n",
      "20324\n",
      "20342\n",
      "20149\n"
     ]
    },
    {
     "name": "stderr",
     "output_type": "stream",
     "text": [
      "\r",
      " 76%|██████████████████████████████████████████████████▎               | 76.25462962962963/100 [05:12<00:45,  1.90s/it]"
     ]
    },
    {
     "name": "stdout",
     "output_type": "stream",
     "text": [
      "20217\n",
      "20398\n",
      "20349\n",
      "20260\n",
      "20092\n",
      "20326\n",
      "20149\n",
      "20149\n",
      "20015\n",
      "20226\n",
      "20160\n"
     ]
    },
    {
     "name": "stderr",
     "output_type": "stream",
     "text": [
      "\r",
      " 77%|██████████████████████████████████████████████████▉               | 77.09722222222223/100 [05:13<00:39,  1.71s/it]"
     ]
    },
    {
     "name": "stdout",
     "output_type": "stream",
     "text": [
      "20049\n",
      "20147\n",
      "20361\n",
      "20082\n",
      "20377\n",
      "20051\n",
      "20341\n",
      "20359\n",
      "20179\n",
      "20090\n",
      "20255\n",
      "20225\n",
      "20251\n",
      "20170\n",
      "20008\n",
      "20347\n",
      "20057\n",
      "20108\n",
      "20118\n",
      "20274\n",
      "20226\n",
      "20385\n",
      "20244\n",
      "20316"
     ]
    },
    {
     "name": "stderr",
     "output_type": "stream",
     "text": [
      "\r",
      " 78%|███████████████████████████████████████████████████▍              | 77.94444444444446/100 [05:14<00:29,  1.35s/it]"
     ]
    },
    {
     "name": "stdout",
     "output_type": "stream",
     "text": [
      "\n",
      "20170\n",
      "20198\n",
      "20026\n",
      "20281\n",
      "20203\n",
      "20060\n",
      "20381\n",
      "20058\n",
      "20363\n",
      "20278\n",
      "20122\n",
      "20172\n",
      "20029\n",
      "20388\n",
      "20274\n",
      "20062"
     ]
    },
    {
     "name": "stderr",
     "output_type": "stream",
     "text": [
      "\r",
      " 79%|████████████████████████████████████████████████████▊              | 78.7962962962963/100 [05:16<00:38,  1.82s/it]"
     ]
    },
    {
     "name": "stdout",
     "output_type": "stream",
     "text": [
      "\n",
      "20352\n",
      "20328\n",
      "20314\n",
      "20055\n",
      "20208\n",
      "20009\n",
      "20004\n",
      "20316\n",
      "20149\n",
      "20362\n",
      "20186\n",
      "20316\n",
      "20021\n",
      "20253\n",
      "20011\n",
      "20274\n"
     ]
    },
    {
     "name": "stderr",
     "output_type": "stream",
     "text": [
      "\r",
      " 80%|████████████████████████████████████████████████████▌             | 79.65277777777779/100 [05:17<00:35,  1.77s/it]"
     ]
    },
    {
     "name": "stdout",
     "output_type": "stream",
     "text": [
      "20389\n",
      "20201\n",
      "20284\n",
      "20107\n",
      "20330\n",
      "20260\n",
      "20240\n",
      "20106\n",
      "20339\n",
      "20185\n",
      "20315\n",
      "20149\n",
      "20007\n",
      "20192\n",
      "20252\n",
      "20163\n"
     ]
    },
    {
     "name": "stderr",
     "output_type": "stream",
     "text": [
      "\r",
      " 81%|█████████████████████████████████████████████████████▉             | 80.5138888888889/100 [05:19<00:33,  1.71s/it]"
     ]
    },
    {
     "name": "stdout",
     "output_type": "stream",
     "text": [
      "20154\n",
      "20012\n",
      "20117\n",
      "20240\n",
      "20355\n",
      "20174\n",
      "20374\n",
      "20154\n",
      "20214\n",
      "20005\n",
      "20391\n",
      "20347\n",
      "20176\n",
      "20281\n",
      "20149\n"
     ]
    },
    {
     "name": "stderr",
     "output_type": "stream",
     "text": [
      "\r",
      " 81%|█████████████████████████████████████████████████████▋            | 81.37962962962965/100 [05:20<00:31,  1.71s/it]"
     ]
    },
    {
     "name": "stdout",
     "output_type": "stream",
     "text": [
      "20242\n",
      "20200\n",
      "20225\n",
      "20017\n",
      "20152\n",
      "20094\n",
      "20376\n",
      "20345\n",
      "20387\n",
      "20245\n",
      "20235\n",
      "20032\n"
     ]
    },
    {
     "name": "stderr",
     "output_type": "stream",
     "text": [
      "\r",
      " 82%|██████████████████████████████████████████████████████▎           | 82.25000000000001/100 [05:22<00:29,  1.64s/it]"
     ]
    },
    {
     "name": "stdout",
     "output_type": "stream",
     "text": [
      "20164\n",
      "20123\n",
      "20200\n",
      "20033\n",
      "20351\n",
      "20123\n",
      "20316\n",
      "20374\n",
      "20236\n",
      "20087\n",
      "20113\n",
      "20225\n",
      "20351\n",
      "20101\n",
      "20122\n",
      "20310\n"
     ]
    },
    {
     "name": "stderr",
     "output_type": "stream",
     "text": [
      "\r",
      " 83%|██████████████████████████████████████████████████████▊           | 83.12500000000001/100 [05:24<00:34,  2.02s/it]"
     ]
    },
    {
     "name": "stdout",
     "output_type": "stream",
     "text": [
      "20348\n",
      "20093\n",
      "20077\n",
      "20180\n",
      "20357\n",
      "20231\n",
      "20013\n",
      "20399\n",
      "20025\n",
      "20249\n",
      "20104\n",
      "20069\n",
      "20047\n",
      "20094\n",
      "20199\n",
      "20385\n",
      "20021\n",
      "20033\n"
     ]
    },
    {
     "name": "stderr",
     "output_type": "stream",
     "text": [
      "\r",
      " 84%|███████████████████████████████████████████████████████▍          | 84.00462962962965/100 [05:26<00:30,  1.91s/it]"
     ]
    },
    {
     "name": "stdout",
     "output_type": "stream",
     "text": [
      "20149\n",
      "20113\n",
      "20207\n",
      "20197\n",
      "20166\n",
      "20371\n",
      "20241\n",
      "20118\n",
      "20191\n",
      "20162\n",
      "20382\n",
      "20220\n",
      "20335\n"
     ]
    },
    {
     "name": "stderr",
     "output_type": "stream",
     "text": [
      "\r",
      " 85%|████████████████████████████████████████████████████████▉          | 84.8888888888889/100 [05:27<00:27,  1.80s/it]"
     ]
    },
    {
     "name": "stdout",
     "output_type": "stream",
     "text": [
      "20319\n",
      "20322\n",
      "20238\n",
      "20349\n",
      "20145\n",
      "20377\n",
      "20108\n",
      "20378\n",
      "20289\n",
      "20052\n",
      "20315\n",
      "20190\n",
      "20071\n",
      "20012\n",
      "20018\n",
      "20183\n",
      "20346\n",
      "20055\n",
      "20007\n",
      "20086\n",
      "20328\n",
      "20320\n",
      "20315"
     ]
    },
    {
     "name": "stderr",
     "output_type": "stream",
     "text": [
      "\r",
      " 86%|████████████████████████████████████████████████████████▌         | 85.77777777777779/100 [05:28<00:24,  1.76s/it]"
     ]
    },
    {
     "name": "stdout",
     "output_type": "stream",
     "text": [
      "\n",
      "20264\n",
      "20120\n",
      "20316\n",
      "20370\n",
      "20338\n",
      "20098\n",
      "20201\n",
      "20010\n",
      "20031\n",
      "20013\n",
      "20149\n",
      "20287\n",
      "20165\n",
      "20073\n"
     ]
    },
    {
     "name": "stderr",
     "output_type": "stream",
     "text": [
      "\r",
      " 87%|██████████████████████████████████████████████████████████         | 86.6712962962963/100 [05:30<00:22,  1.70s/it]"
     ]
    },
    {
     "name": "stdout",
     "output_type": "stream",
     "text": [
      "20120\n",
      "20074\n",
      "20315\n",
      "20055\n",
      "20024\n",
      "20211\n",
      "20149\n",
      "20324\n",
      "20065\n",
      "20361\n",
      "20054\n",
      "20013\n",
      "20074\n",
      "20328\n",
      "20101\n",
      "20229\n"
     ]
    },
    {
     "name": "stderr",
     "output_type": "stream",
     "text": [
      "\r",
      " 88%|█████████████████████████████████████████████████████████▊        | 87.56944444444446/100 [05:31<00:20,  1.68s/it]"
     ]
    },
    {
     "name": "stdout",
     "output_type": "stream",
     "text": [
      "20149\n",
      "20217\n",
      "20330\n",
      "20234\n",
      "20078\n",
      "20072\n",
      "20328\n",
      "20191\n",
      "20063\n",
      "20203\n",
      "20311\n",
      "20163\n",
      "20113\n",
      "20228\n",
      "20274\n",
      "20316\n",
      "20290\n"
     ]
    },
    {
     "name": "stderr",
     "output_type": "stream",
     "text": [
      "\r",
      " 88%|██████████████████████████████████████████████████████████▍       | 88.47222222222223/100 [05:34<00:22,  1.96s/it]"
     ]
    },
    {
     "name": "stdout",
     "output_type": "stream",
     "text": [
      "20191\n",
      "20267\n",
      "20349\n",
      "20374\n",
      "20379\n",
      "20043\n",
      "20062\n",
      "20224\n",
      "20321\n",
      "20359"
     ]
    },
    {
     "name": "stderr",
     "output_type": "stream",
     "text": [
      "\r",
      " 89%|██████████████████████████████████████████████████████████▉       | 89.37962962962963/100 [05:35<00:19,  1.85s/it]"
     ]
    },
    {
     "name": "stdout",
     "output_type": "stream",
     "text": [
      "\n",
      "20030\n",
      "20350\n",
      "20330\n",
      "20156\n",
      "20221\n",
      "20270\n",
      "20181\n",
      "20114\n",
      "20381\n",
      "20394\n",
      "20310\n",
      "20239\n",
      "20110\n",
      "20054\n",
      "20080\n",
      "20241\n",
      "20196\n",
      "20149\n",
      "20093\n"
     ]
    },
    {
     "name": "stderr",
     "output_type": "stream",
     "text": [
      "\r",
      " 90%|███████████████████████████████████████████████████████████▌      | 90.29166666666667/100 [05:36<00:16,  1.69s/it]"
     ]
    },
    {
     "name": "stdout",
     "output_type": "stream",
     "text": [
      "20192\n",
      "20278\n",
      "20380\n",
      "20269\n",
      "20394\n",
      "20096\n",
      "20206\n",
      "20095\n",
      "20360\n",
      "20195\n",
      "20148\n",
      "20216\n",
      "20229\n",
      "20150\n",
      "20150\n",
      "20069\n"
     ]
    },
    {
     "name": "stderr",
     "output_type": "stream",
     "text": [
      "\r",
      " 91%|████████████████████████████████████████████████████████████▏     | 91.20833333333334/100 [05:37<00:11,  1.32s/it]"
     ]
    },
    {
     "name": "stdout",
     "output_type": "stream",
     "text": [
      "20117\n",
      "20089\n",
      "20370\n",
      "20314\n",
      "20324\n",
      "20261\n",
      "20276\n",
      "20109\n",
      "20316\n",
      "20027\n",
      "20290\n",
      "20345\n",
      "20150\n",
      "20019\n",
      "20195\n",
      "20009\n",
      "20336\n",
      "20248\n",
      "20217\n",
      "20243"
     ]
    },
    {
     "name": "stderr",
     "output_type": "stream",
     "text": [
      "\r",
      " 92%|████████████████████████████████████████████████████████████▊     | 92.12962962962963/100 [05:38<00:10,  1.35s/it]"
     ]
    },
    {
     "name": "stdout",
     "output_type": "stream",
     "text": [
      "\n",
      "20228\n",
      "20316\n",
      "20257\n",
      "20280\n",
      "20316\n",
      "20348\n",
      "20064\n",
      "20170\n",
      "20316\n",
      "20010\n",
      "20176\n",
      "20018\n",
      "20204\n",
      "20109\n",
      "20028\n"
     ]
    },
    {
     "name": "stderr",
     "output_type": "stream",
     "text": [
      "\r",
      " 93%|█████████████████████████████████████████████████████████████▍    | 93.05555555555556/100 [05:40<00:12,  1.75s/it]"
     ]
    },
    {
     "name": "stdout",
     "output_type": "stream",
     "text": [
      "20099\n",
      "20394\n",
      "20204\n",
      "20247\n",
      "20029\n",
      "20149\n",
      "20383\n",
      "20345\n",
      "20149\n",
      "20098\n",
      "20117\n"
     ]
    },
    {
     "name": "stderr",
     "output_type": "stream",
     "text": [
      "\r",
      " 94%|██████████████████████████████████████████████████████████████    | 93.98611111111111/100 [05:42<00:10,  1.70s/it]"
     ]
    },
    {
     "name": "stdout",
     "output_type": "stream",
     "text": [
      "20021\n",
      "20398\n",
      "20070\n",
      "20029\n",
      "20089\n",
      "20121\n",
      "20316\n",
      "20261\n",
      "20034\n",
      "20106\n",
      "20056\n",
      "20088\n",
      "20226\n",
      "20072\n",
      "20254\n"
     ]
    },
    {
     "name": "stderr",
     "output_type": "stream",
     "text": [
      "\r",
      " 95%|███████████████████████████████████████████████████████████████▌   | 94.9212962962963/100 [05:43<00:08,  1.66s/it]"
     ]
    },
    {
     "name": "stdout",
     "output_type": "stream",
     "text": [
      "20044\n",
      "20182\n",
      "20316\n",
      "20149\n",
      "20024\n",
      "20114\n",
      "20279\n",
      "20350\n",
      "20228\n",
      "20348\n",
      "20033\n",
      "20319\n",
      "20401\n",
      "20255\n",
      "20249\n",
      "20239\n",
      "20238\n",
      "20079\n",
      "20393\n"
     ]
    },
    {
     "name": "stderr",
     "output_type": "stream",
     "text": [
      "\r",
      " 96%|███████████████████████████████████████████████████████████████▎  | 95.86111111111111/100 [05:46<00:07,  1.89s/it]"
     ]
    },
    {
     "name": "stdout",
     "output_type": "stream",
     "text": [
      "20094\n",
      "20018\n",
      "20097\n",
      "20103\n",
      "20164\n",
      "20319\n",
      "20110\n",
      "20361\n",
      "20153\n",
      "20310\n",
      "20084\n",
      "20022\n",
      "20243\n",
      "20149\n"
     ]
    },
    {
     "name": "stderr",
     "output_type": "stream",
     "text": [
      "\r",
      " 97%|███████████████████████████████████████████████████████████████▉  | 96.80555555555556/100 [05:46<00:04,  1.47s/it]"
     ]
    },
    {
     "name": "stdout",
     "output_type": "stream",
     "text": [
      "20149\n",
      "20268\n",
      "20391\n",
      "20090\n",
      "20359\n",
      "20149\n",
      "20382\n",
      "20267\n",
      "20082\n",
      "20114\n",
      "20149\n",
      "20214\n",
      "20117\n",
      "20089\n",
      "20041\n",
      "20044\n",
      "20285\n",
      "20339\n"
     ]
    },
    {
     "name": "stderr",
     "output_type": "stream",
     "text": [
      "\r",
      " 98%|████████████████████████████████████████████████████████████████▌ | 97.75462962962963/100 [05:47<00:03,  1.45s/it]"
     ]
    },
    {
     "name": "stdout",
     "output_type": "stream",
     "text": [
      "20270\n",
      "20329\n",
      "20003\n",
      "20198\n",
      "20050\n",
      "20149\n",
      "20335\n",
      "20015\n",
      "20208\n",
      "20266\n",
      "20171\n",
      "20043\n",
      "20381\n",
      "20370\n",
      "20221\n",
      "20150\n",
      "20190"
     ]
    },
    {
     "name": "stderr",
     "output_type": "stream",
     "text": [
      "\r",
      " 99%|█████████████████████████████████████████████████████████████████▏| 98.70833333333334/100 [05:49<00:01,  1.36s/it]"
     ]
    },
    {
     "name": "stdout",
     "output_type": "stream",
     "text": [
      "\n",
      "20151\n",
      "20340\n",
      "20145\n",
      "20243\n",
      "20375\n",
      "20117\n",
      "20243\n",
      "20315\n",
      "20351\n",
      "20366\n",
      "20333\n",
      "20243\n",
      "20123\n",
      "20316\n",
      "20061\n"
     ]
    },
    {
     "name": "stderr",
     "output_type": "stream",
     "text": [
      "\r",
      "100%|█████████████████████████████████████████████████████████████████▊| 99.66666666666667/100 [05:50<00:00,  1.44s/it]"
     ]
    },
    {
     "name": "stdout",
     "output_type": "stream",
     "text": [
      "20218\n",
      "20277\n",
      "20159\n",
      "20398\n",
      "20042\n",
      "20166\n",
      "20012\n",
      "20276\n",
      "20105\n",
      "20069\n",
      "20092\n",
      "20077\n",
      "20346\n",
      "20317\n",
      "20020\n",
      "20194\n",
      "20023\n"
     ]
    },
    {
     "name": "stderr",
     "output_type": "stream",
     "text": [
      "\r",
      "100.62962962962963it [05:53,  1.82s/it]                                                                                "
     ]
    },
    {
     "name": "stdout",
     "output_type": "stream",
     "text": [
      "20385\n",
      "20035\n",
      "20227\n",
      "20386\n",
      "20231\n",
      "20352\n",
      "20164\n",
      "20162\n",
      "20166\n",
      "20264\n",
      "20330\n",
      "20379\n",
      "20114\n",
      "20002\n",
      "20248\n",
      "20021\n"
     ]
    },
    {
     "name": "stderr",
     "output_type": "stream",
     "text": [
      "\r",
      "101.59722222222223it [05:54,  1.57s/it]"
     ]
    },
    {
     "name": "stdout",
     "output_type": "stream",
     "text": [
      "20263\n",
      "20170\n",
      "20383\n",
      "20243\n",
      "20081\n",
      "20167\n",
      "20149\n",
      "20250\n",
      "20324\n",
      "20003\n",
      "20043\n",
      "20159\n",
      "20112\n",
      "20145\n",
      "20331\n",
      "20342\n"
     ]
    },
    {
     "name": "stderr",
     "output_type": "stream",
     "text": [
      "\r",
      "102.56944444444446it [05:54,  1.23s/it]"
     ]
    },
    {
     "name": "stdout",
     "output_type": "stream",
     "text": [
      "20144\n",
      "20080\n",
      "20227\n",
      "20189\n",
      "20399\n",
      "20174\n",
      "20149\n",
      "20169\n",
      "20155\n",
      "20233\n",
      "20352\n",
      "20150\n",
      "20158\n",
      "20381\n"
     ]
    },
    {
     "name": "stderr",
     "output_type": "stream",
     "text": [
      "\r",
      "103.5462962962963it [05:56,  1.35s/it] "
     ]
    },
    {
     "name": "stdout",
     "output_type": "stream",
     "text": [
      "20205\n",
      "20168\n",
      "20244\n",
      "20316\n",
      "20034\n",
      "20061\n",
      "20084\n",
      "20036\n",
      "20145\n",
      "20190\n",
      "20253\n",
      "20149\n",
      "20033\n",
      "20247\n",
      "20058\n",
      "20113\n",
      "20331"
     ]
    },
    {
     "name": "stderr",
     "output_type": "stream",
     "text": [
      "\r",
      "104.52777777777779it [05:57,  1.39s/it]"
     ]
    },
    {
     "name": "stdout",
     "output_type": "stream",
     "text": [
      "\n",
      "20177\n",
      "20399\n",
      "20089\n",
      "20044\n",
      "20209\n",
      "20107\n",
      "20004\n",
      "20232\n",
      "20316\n",
      "20044\n",
      "20389\n",
      "20149\n",
      "20363\n",
      "20210\n",
      "20090"
     ]
    },
    {
     "name": "stderr",
     "output_type": "stream",
     "text": [
      "\r",
      "105.5138888888889it [05:59,  1.39s/it] "
     ]
    },
    {
     "name": "stdout",
     "output_type": "stream",
     "text": [
      "\n",
      "20122\n",
      "20192\n",
      "20143\n",
      "20167\n",
      "20317\n",
      "20338\n",
      "20157\n",
      "20172\n",
      "20291\n",
      "20312\n",
      "20038\n",
      "20034\n",
      "20316\n",
      "20340\n",
      "20256\n",
      "20149\n",
      "20191\n",
      "20039\n",
      "20167\n",
      "20076\n"
     ]
    },
    {
     "name": "stderr",
     "output_type": "stream",
     "text": [
      "\r",
      "106.50462962962965it [06:00,  1.38s/it]"
     ]
    },
    {
     "name": "stdout",
     "output_type": "stream",
     "text": [
      "20150\n",
      "20366\n",
      "20093\n",
      "20143\n",
      "20063\n",
      "20149\n",
      "20074\n",
      "20110\n",
      "20083\n",
      "20070\n"
     ]
    },
    {
     "name": "stderr",
     "output_type": "stream",
     "text": [
      "\r",
      "107.50000000000001it [06:01,  1.34s/it]"
     ]
    },
    {
     "name": "stdout",
     "output_type": "stream",
     "text": [
      "20012\n",
      "20027\n",
      "20202\n",
      "20386\n",
      "20325\n",
      "20180\n",
      "20366\n",
      "20073\n",
      "20194\n",
      "20190\n",
      "20281\n",
      "20100\n",
      "20376\n",
      "20112\n",
      "20121\n",
      "20330\n",
      "20329\n",
      "20253\n",
      "20319\n",
      "20004\n",
      "20105\n"
     ]
    },
    {
     "name": "stderr",
     "output_type": "stream",
     "text": [
      "108.50000000000001it [06:03,  3.35s/it]\n",
      "  0%|                                                                                          | 0/100 [00:00<?, ?it/s]"
     ]
    },
    {
     "name": "stdout",
     "output_type": "stream",
     "text": [
      "20117\n",
      "20382\n",
      "20002\n",
      "20226\n",
      "20078\n",
      "20324\n",
      "20235\n",
      "20193\n",
      "20148\n",
      "20359\n",
      "20330\n",
      "20314\n",
      "20071\n",
      "20345\n",
      "20285\n"
     ]
    },
    {
     "name": "stderr",
     "output_type": "stream",
     "text": [
      "\r",
      "  0%|                                                            | 0.004629629629629629/100 [00:01<8:48:22, 317.04s/it]"
     ]
    },
    {
     "name": "stdout",
     "output_type": "stream",
     "text": [
      "20206\n",
      "20123\n",
      "20007\n",
      "20183\n",
      "20110\n",
      "20394\n",
      "20120\n",
      "20312\n",
      "20228\n",
      "20079\n",
      "20314\n",
      "20337\n",
      "20160\n"
     ]
    },
    {
     "name": "stderr",
     "output_type": "stream",
     "text": [
      "\r",
      "  0%|                                                            | 0.013888888888888888/100 [00:03<5:50:08, 210.11s/it]"
     ]
    },
    {
     "name": "stdout",
     "output_type": "stream",
     "text": [
      "20201\n",
      "20357\n",
      "20012\n",
      "20399\n",
      "20230\n",
      "20021\n",
      "20345\n",
      "20208\n",
      "20284\n",
      "20103\n",
      "20369\n",
      "20198\n",
      "20038\n",
      "20331\n",
      "20032\n",
      "20114\n",
      "20155\n",
      "20258\n"
     ]
    },
    {
     "name": "stderr",
     "output_type": "stream",
     "text": [
      "\r",
      "  0%|                                                            | 0.027777777777777776/100 [00:04<3:53:56, 140.40s/it]"
     ]
    },
    {
     "name": "stdout",
     "output_type": "stream",
     "text": [
      "20207\n",
      "20174\n",
      "20057\n",
      "20391\n",
      "20031\n",
      "20003\n",
      "20367\n",
      "20166\n",
      "20315\n",
      "20076\n",
      "20042\n",
      "20170\n",
      "20272\n",
      "20212\n",
      "20331\n",
      "20336\n",
      "20110\n",
      "20201"
     ]
    },
    {
     "name": "stderr",
     "output_type": "stream",
     "text": [
      "\r",
      "  0%|                                                            | 0.046296296296296294/100 [00:05<2:58:38, 107.23s/it]"
     ]
    },
    {
     "name": "stdout",
     "output_type": "stream",
     "text": [
      "\n",
      "20349\n",
      "20061\n",
      "20389\n",
      "20216\n",
      "20089\n",
      "20028\n",
      "20083\n",
      "20080\n",
      "20078\n",
      "20081\n",
      "20384\n",
      "20238\n",
      "20313\n",
      "20119\n",
      "20273\n",
      "20315\n"
     ]
    },
    {
     "name": "stderr",
     "output_type": "stream",
     "text": [
      "\r",
      "  0%|                                                              | 0.06944444444444445/100 [00:07<2:21:18, 84.84s/it]"
     ]
    },
    {
     "name": "stdout",
     "output_type": "stream",
     "text": [
      "20370\n",
      "20372\n",
      "20339\n",
      "20105\n",
      "20043\n",
      "20026\n",
      "20363\n",
      "20060\n",
      "20358\n",
      "20148\n",
      "20384\n",
      "20154\n",
      "20147\n"
     ]
    },
    {
     "name": "stderr",
     "output_type": "stream",
     "text": [
      "\r",
      "  0%|                                                              | 0.09722222222222222/100 [00:08<1:51:28, 66.95s/it]"
     ]
    },
    {
     "name": "stdout",
     "output_type": "stream",
     "text": [
      "20275\n",
      "20356\n",
      "20153\n",
      "20174\n",
      "20271\n",
      "20108\n",
      "20194\n",
      "20212\n",
      "20322\n",
      "20319\n",
      "20314\n",
      "20196\n",
      "20332\n",
      "20225\n",
      "20113\n",
      "20148\n",
      "20023\n",
      "20366\n",
      "20314\n",
      "20148\n"
     ]
    },
    {
     "name": "stderr",
     "output_type": "stream",
     "text": [
      "\r",
      "  0%|                                                              | 0.12962962962962962/100 [00:09<1:35:07, 57.15s/it]"
     ]
    },
    {
     "name": "stdout",
     "output_type": "stream",
     "text": [
      "20114\n",
      "20085\n",
      "20146\n",
      "20021\n",
      "20354\n",
      "20101\n",
      "20163\n",
      "20059\n",
      "20351\n",
      "20244\n",
      "20315\n",
      "20080\n",
      "20182\n"
     ]
    },
    {
     "name": "stderr",
     "output_type": "stream",
     "text": [
      "\r",
      "  0%|                                                              | 0.16666666666666666/100 [00:11<1:22:21, 49.50s/it]"
     ]
    },
    {
     "name": "stdout",
     "output_type": "stream",
     "text": [
      "20314\n",
      "20174\n",
      "20256\n",
      "20323\n",
      "20071\n",
      "20146\n",
      "20386\n",
      "20285\n",
      "20080\n",
      "20346\n",
      "20020\n",
      "20313\n",
      "20015\n",
      "20053\n",
      "20034\n"
     ]
    },
    {
     "name": "stderr",
     "output_type": "stream",
     "text": [
      "\r",
      "  0%|▏                                                             | 0.20833333333333331/100 [00:15<1:47:30, 64.64s/it]"
     ]
    },
    {
     "name": "stdout",
     "output_type": "stream",
     "text": [
      "20222\n",
      "20229\n",
      "20214\n",
      "20089\n",
      "20032\n",
      "20123\n",
      "20027\n",
      "20166\n",
      "20054\n",
      "20102\n",
      "20329\n",
      "20205\n",
      "20108\n",
      "20396\n",
      "20368\n",
      "20050\n",
      "20115\n",
      "20284\n",
      "20189\n",
      "20119\n"
     ]
    },
    {
     "name": "stderr",
     "output_type": "stream",
     "text": [
      "\r",
      "  0%|▏                                                              | 0.2546296296296296/100 [00:16<1:23:45, 50.39s/it]"
     ]
    },
    {
     "name": "stdout",
     "output_type": "stream",
     "text": [
      "20148\n",
      "20211\n",
      "20325\n",
      "20208\n",
      "20028\n",
      "20333\n",
      "20223\n",
      "20042\n",
      "20205\n",
      "20380\n",
      "20290\n",
      "20191\n",
      "20182\n",
      "20369\n",
      "20221\n",
      "20148\n"
     ]
    },
    {
     "name": "stderr",
     "output_type": "stream",
     "text": [
      "\r",
      "  0%|▏                                                              | 0.3055555555555555/100 [00:17<1:08:59, 41.52s/it]"
     ]
    },
    {
     "name": "stdout",
     "output_type": "stream",
     "text": [
      "20355\n",
      "20265\n",
      "20050\n",
      "20204\n",
      "20046\n",
      "20113\n",
      "20220\n",
      "20318\n",
      "20149\n",
      "20344\n",
      "20314\n",
      "20187\n",
      "20148\n",
      "20178\n",
      "20235\n"
     ]
    },
    {
     "name": "stderr",
     "output_type": "stream",
     "text": [
      "\r",
      "  0%|▏                                                               | 0.36111111111111105/100 [00:19<58:05, 34.98s/it]"
     ]
    },
    {
     "name": "stdout",
     "output_type": "stream",
     "text": [
      "20153\n",
      "20254\n",
      "20214\n",
      "20079\n",
      "20338\n",
      "20252\n",
      "20264\n",
      "20080\n",
      "20338\n",
      "20050\n",
      "20045\n",
      "20313\n",
      "20144\n",
      "20377\n",
      "20115\n",
      "20148\n"
     ]
    },
    {
     "name": "stderr",
     "output_type": "stream",
     "text": [
      "\r",
      "  0%|▎                                                                | 0.4212962962962962/100 [00:19<42:46, 25.77s/it]"
     ]
    },
    {
     "name": "stdout",
     "output_type": "stream",
     "text": [
      "20057\n",
      "20311\n",
      "20224\n",
      "20194\n",
      "20336\n",
      "20075\n",
      "20005\n",
      "20045\n",
      "20017\n",
      "20090\n",
      "20103\n",
      "20165\n",
      "20284\n"
     ]
    },
    {
     "name": "stderr",
     "output_type": "stream",
     "text": [
      "\r",
      "  0%|▎                                                               | 0.48611111111111105/100 [00:22<50:28, 30.43s/it]"
     ]
    },
    {
     "name": "stdout",
     "output_type": "stream",
     "text": [
      "20178\n",
      "20054\n",
      "20219\n",
      "20344\n",
      "20324\n",
      "20088\n",
      "20371\n",
      "20143\n",
      "20058\n",
      "20244\n",
      "20005\n",
      "20383\n",
      "20216\n",
      "20156\n",
      "20006\n",
      "20096\n"
     ]
    },
    {
     "name": "stderr",
     "output_type": "stream",
     "text": [
      "\r",
      "  1%|▎                                                                | 0.5555555555555555/100 [00:23<43:41, 26.37s/it]"
     ]
    },
    {
     "name": "stdout",
     "output_type": "stream",
     "text": [
      "20355\n",
      "20238\n",
      "20062\n",
      "20008\n",
      "20215\n",
      "20368\n",
      "20262\n",
      "20091\n",
      "20163\n",
      "20387\n",
      "20040\n",
      "20161\n",
      "20203\n",
      "20148\n",
      "20147\n",
      "20251\n",
      "20101\n",
      "20117\n"
     ]
    },
    {
     "name": "stderr",
     "output_type": "stream",
     "text": [
      "\r",
      "  1%|▍                                                                | 0.6296296296296295/100 [00:25<40:50, 24.66s/it]"
     ]
    },
    {
     "name": "stdout",
     "output_type": "stream",
     "text": [
      "20214\n",
      "20360\n",
      "20192\n",
      "20147\n",
      "20271\n",
      "20185\n",
      "20234\n",
      "20166\n",
      "20370\n",
      "20049\n",
      "20267\n",
      "20060\n",
      "20100\n",
      "20046\n",
      "20042\n",
      "20277\n",
      "20332\n"
     ]
    },
    {
     "name": "stderr",
     "output_type": "stream",
     "text": [
      "\r",
      "  1%|▍                                                                | 0.7083333333333333/100 [00:27<42:49, 25.88s/it]"
     ]
    },
    {
     "name": "stdout",
     "output_type": "stream",
     "text": [
      "20197\n",
      "20182\n",
      "20262\n",
      "20168\n",
      "20257\n",
      "20041\n",
      "20333\n",
      "20148\n",
      "20352\n",
      "20209\n",
      "20386\n",
      "20159\n",
      "20308\n",
      "20253\n",
      "20151\n",
      "20326\n"
     ]
    },
    {
     "name": "stderr",
     "output_type": "stream",
     "text": [
      "\r",
      "  1%|▌                                                                | 0.7916666666666666/100 [00:28<37:31, 22.69s/it]"
     ]
    },
    {
     "name": "stdout",
     "output_type": "stream",
     "text": [
      "20342\n",
      "20027\n",
      "20313\n",
      "20148\n",
      "20095\n",
      "20329\n",
      "20315\n",
      "20111\n",
      "20226\n",
      "20071\n",
      "20051\n",
      "20315\n",
      "20167\n",
      "20113\n",
      "20069\n",
      "20219\n"
     ]
    },
    {
     "name": "stderr",
     "output_type": "stream",
     "text": [
      "\r",
      "  1%|▌                                                                | 0.8796296296296295/100 [00:30<34:56, 21.15s/it]"
     ]
    },
    {
     "name": "stdout",
     "output_type": "stream",
     "text": [
      "20097\n",
      "20145\n",
      "20091\n",
      "20264\n",
      "20280\n",
      "20269\n",
      "20258\n",
      "20023\n",
      "20147\n",
      "20382\n",
      "20145\n",
      "20141\n",
      "20066\n",
      "20148\n",
      "20112\n",
      "20385\n"
     ]
    },
    {
     "name": "stderr",
     "output_type": "stream",
     "text": [
      "\r",
      "  1%|▋                                                                | 0.9722222222222221/100 [00:31<32:09, 19.48s/it]"
     ]
    },
    {
     "name": "stdout",
     "output_type": "stream",
     "text": [
      "20095\n",
      "20105\n",
      "20251\n",
      "20314\n",
      "20234\n",
      "20109\n",
      "20286\n",
      "20148\n",
      "20287\n",
      "20010\n",
      "20281\n",
      "20253\n",
      "20052\n",
      "20289\n",
      "20153\n",
      "20211\n",
      "20347"
     ]
    },
    {
     "name": "stderr",
     "output_type": "stream",
     "text": [
      "\r",
      "  1%|▋                                                                | 1.0694444444444444/100 [00:33<29:40, 18.00s/it]"
     ]
    },
    {
     "name": "stdout",
     "output_type": "stream",
     "text": [
      "\n",
      "20238\n",
      "20199\n",
      "20013\n",
      "20270\n",
      "20222\n",
      "20148\n",
      "20230\n",
      "20314\n",
      "20010\n",
      "20001\n",
      "20220\n",
      "20314\n",
      "20114\n",
      "20319\n"
     ]
    },
    {
     "name": "stderr",
     "output_type": "stream",
     "text": [
      "\r",
      "  1%|▊                                                                | 1.1712962962962963/100 [00:34<26:43, 16.22s/it]"
     ]
    },
    {
     "name": "stdout",
     "output_type": "stream",
     "text": [
      "20335\n",
      "20308\n",
      "20120\n",
      "20216\n",
      "20163\n",
      "20042\n",
      "20157\n",
      "20040\n",
      "20268\n",
      "20066\n",
      "20277\n",
      "20269\n",
      "20312\n",
      "20356\n",
      "20315\n"
     ]
    },
    {
     "name": "stderr",
     "output_type": "stream",
     "text": [
      "\r",
      "  1%|▊                                                                | 1.2777777777777777/100 [00:36<30:10, 18.34s/it]"
     ]
    },
    {
     "name": "stdout",
     "output_type": "stream",
     "text": [
      "20229\n",
      "20107\n",
      "20046\n",
      "20108\n",
      "20335\n",
      "20284\n",
      "20241\n",
      "20314\n",
      "20102\n",
      "20059\n",
      "20002\n",
      "20025\n",
      "20323\n",
      "20342\n"
     ]
    },
    {
     "name": "stderr",
     "output_type": "stream",
     "text": [
      "\r",
      "  1%|▉                                                                | 1.3888888888888888/100 [00:38<27:09, 16.52s/it]"
     ]
    },
    {
     "name": "stdout",
     "output_type": "stream",
     "text": [
      "20085\n",
      "20047\n",
      "20222\n",
      "20007\n",
      "20047\n",
      "20183\n",
      "20311\n",
      "20392\n",
      "20196\n",
      "20087\n",
      "20321\n",
      "20246\n",
      "20148\n",
      "20194\n",
      "20400\n",
      "20150\n",
      "20380\n"
     ]
    },
    {
     "name": "stderr",
     "output_type": "stream",
     "text": [
      "\r",
      "  2%|▉                                                                | 1.5046296296296295/100 [00:39<24:35, 14.98s/it]"
     ]
    },
    {
     "name": "stdout",
     "output_type": "stream",
     "text": [
      "20089\n",
      "20253\n",
      "20231\n",
      "20059\n",
      "20373\n",
      "20184\n",
      "20258\n",
      "20020\n",
      "20263\n",
      "20313\n",
      "20041\n",
      "20261\n",
      "20081\n",
      "20095\n",
      "20311\n",
      "20399\n",
      "20315\n",
      "20358\n"
     ]
    },
    {
     "name": "stderr",
     "output_type": "stream",
     "text": [
      "\r",
      "  2%|█▎                                                                            | 1.625/100 [00:41<22:44, 13.87s/it]"
     ]
    },
    {
     "name": "stdout",
     "output_type": "stream",
     "text": [
      "20220\n",
      "20358\n",
      "20349\n",
      "20247\n",
      "20289\n",
      "20310\n",
      "20062\n",
      "20315\n",
      "20062\n",
      "20163\n",
      "20247\n",
      "20288\n",
      "20333\n",
      "20355\n",
      "20026\n"
     ]
    },
    {
     "name": "stderr",
     "output_type": "stream",
     "text": [
      "\r",
      "  2%|█▍                                                                             | 1.75/100 [00:42<21:53, 13.36s/it]"
     ]
    },
    {
     "name": "stdout",
     "output_type": "stream",
     "text": [
      "20159\n",
      "20242\n",
      "20196\n",
      "20182\n",
      "20315\n",
      "20233\n",
      "20147\n",
      "20234\n",
      "20148\n",
      "20314\n",
      "20034\n",
      "20039\n",
      "20400\n",
      "20019\n",
      "20160\n",
      "20044\n",
      "20167"
     ]
    },
    {
     "name": "stderr",
     "output_type": "stream",
     "text": [
      "\r",
      "  2%|█▏                                                               | 1.8796296296296295/100 [00:44<20:31, 12.55s/it]"
     ]
    },
    {
     "name": "stdout",
     "output_type": "stream",
     "text": [
      "\n",
      "20175\n",
      "20109\n",
      "20182\n",
      "20091\n",
      "20106\n",
      "20258\n",
      "20358\n",
      "20353\n",
      "20181\n",
      "20166\n",
      "20094\n",
      "20387\n",
      "20313\n",
      "20148\n",
      "20290\n"
     ]
    },
    {
     "name": "stderr",
     "output_type": "stream",
     "text": [
      "\r",
      "  2%|█▎                                                                | 2.013888888888889/100 [00:45<19:16, 11.80s/it]"
     ]
    },
    {
     "name": "stdout",
     "output_type": "stream",
     "text": [
      "20242\n",
      "20250\n",
      "20359\n",
      "20274\n",
      "20095\n",
      "20045\n",
      "20214\n",
      "20287\n",
      "20228\n",
      "20007\n",
      "20205\n",
      "20184\n",
      "20389\n",
      "20357\n",
      "20282\n",
      "20099\n",
      "20042"
     ]
    },
    {
     "name": "stderr",
     "output_type": "stream",
     "text": [
      "\r",
      "  2%|█▍                                                               | 2.1527777777777777/100 [00:47<22:10, 13.59s/it]"
     ]
    },
    {
     "name": "stdout",
     "output_type": "stream",
     "text": [
      "\n",
      "20108\n",
      "20188\n",
      "20244\n",
      "20021\n",
      "20155\n",
      "20048\n",
      "20400\n",
      "20313\n",
      "20017\n",
      "20003\n",
      "20273\n",
      "20384\n",
      "20284\n",
      "20315\n",
      "20057\n",
      "20272\n",
      "20246\n",
      "20266\n"
     ]
    },
    {
     "name": "stderr",
     "output_type": "stream",
     "text": [
      "\r",
      "  2%|█▍                                                               | 2.2962962962962963/100 [00:49<20:30, 12.60s/it]"
     ]
    },
    {
     "name": "stdout",
     "output_type": "stream",
     "text": [
      "20391\n",
      "20029\n",
      "20364\n",
      "20346\n",
      "20252\n",
      "20357\n",
      "20231\n",
      "20062\n",
      "20360\n",
      "20231\n",
      "20106\n",
      "20071\n",
      "20251\n"
     ]
    },
    {
     "name": "stderr",
     "output_type": "stream",
     "text": [
      "\r",
      "  2%|█▌                                                               | 2.4444444444444446/100 [00:50<18:58, 11.67s/it]"
     ]
    },
    {
     "name": "stdout",
     "output_type": "stream",
     "text": [
      "20335\n",
      "20269\n",
      "20344\n",
      "20180\n",
      "20394\n",
      "20265\n",
      "20285\n",
      "20024\n",
      "20327\n",
      "20314\n",
      "20391\n",
      "20335\n",
      "20144\n",
      "20048\n",
      "20083\n",
      "20118\n",
      "20380\n",
      "20338\n"
     ]
    },
    {
     "name": "stderr",
     "output_type": "stream",
     "text": [
      "\r",
      "  3%|█▋                                                               | 2.5972222222222223/100 [00:53<21:24, 13.19s/it]"
     ]
    },
    {
     "name": "stdout",
     "output_type": "stream",
     "text": [
      "20101\n",
      "20087\n",
      "20347\n",
      "20173\n",
      "20083\n",
      "20372\n",
      "20314\n",
      "20157\n",
      "20151\n",
      "20224\n",
      "20253\n",
      "20377\n",
      "20312\n",
      "20312\n",
      "20156\n"
     ]
    },
    {
     "name": "stderr",
     "output_type": "stream",
     "text": [
      "\r",
      "  3%|█▊                                                               | 2.7546296296296298/100 [00:54<19:11, 11.85s/it]"
     ]
    },
    {
     "name": "stdout",
     "output_type": "stream",
     "text": [
      "20221\n",
      "20393\n",
      "20252\n",
      "20314\n",
      "20275\n",
      "20218\n",
      "20031\n",
      "20176\n",
      "20082\n",
      "20279\n",
      "20117\n",
      "20176\n",
      "20094\n",
      "20232\n"
     ]
    },
    {
     "name": "stderr",
     "output_type": "stream",
     "text": [
      "\r",
      "  3%|█▉                                                                | 2.916666666666667/100 [00:56<17:17, 10.69s/it]"
     ]
    },
    {
     "name": "stdout",
     "output_type": "stream",
     "text": [
      "20214\n",
      "20252\n",
      "20065\n",
      "20203\n",
      "20386\n",
      "20147\n",
      "20173\n",
      "20252\n",
      "20279\n",
      "20197\n",
      "20268\n",
      "20108\n",
      "20043\n",
      "20027\n",
      "20057\n",
      "20183\n",
      "20073\n",
      "20260\n",
      "20344\n",
      "20107\n"
     ]
    },
    {
     "name": "stderr",
     "output_type": "stream",
     "text": [
      "\r",
      "  3%|██                                                               | 3.0833333333333335/100 [00:57<17:18, 10.72s/it]"
     ]
    },
    {
     "name": "stdout",
     "output_type": "stream",
     "text": [
      "20328\n",
      "20251\n",
      "20368\n",
      "20042\n",
      "20103\n",
      "20200\n",
      "20281\n",
      "20283\n",
      "20045\n",
      "20150\n",
      "20194\n",
      "20385\n",
      "20041\n",
      "20183\n",
      "20038"
     ]
    },
    {
     "name": "stderr",
     "output_type": "stream",
     "text": [
      "\r",
      "  3%|██                                                               | 3.2546296296296298/100 [00:58<14:58,  9.29s/it]"
     ]
    },
    {
     "name": "stdout",
     "output_type": "stream",
     "text": [
      "\n",
      "20209\n",
      "20146\n",
      "20317\n",
      "20331\n",
      "20312\n",
      "20227\n",
      "20022\n",
      "20076\n",
      "20397\n",
      "20172\n",
      "20258\n",
      "20290\n",
      "20361\n",
      "20338\n",
      "20367\n",
      "20194\n"
     ]
    },
    {
     "name": "stderr",
     "output_type": "stream",
     "text": [
      "\r",
      "  3%|██▎                                                               | 3.430555555555556/100 [01:00<14:24,  8.95s/it]"
     ]
    },
    {
     "name": "stdout",
     "output_type": "stream",
     "text": [
      "20193\n",
      "20309\n",
      "20315\n",
      "20155\n",
      "20314\n",
      "20111\n",
      "20148\n",
      "20013\n",
      "20330\n",
      "20314\n",
      "20175\n",
      "20091\n",
      "20034\n",
      "20107\n",
      "20251\n"
     ]
    },
    {
     "name": "stderr",
     "output_type": "stream",
     "text": [
      "\r",
      "  4%|██▍                                                               | 3.611111111111111/100 [01:01<13:44,  8.55s/it]"
     ]
    },
    {
     "name": "stdout",
     "output_type": "stream",
     "text": [
      "20314\n",
      "20146\n",
      "20103\n",
      "20195\n",
      "20314\n",
      "20226\n",
      "20148\n",
      "20280\n",
      "20388\n",
      "20162\n",
      "20110\n",
      "20357\n",
      "20238\n",
      "20244\n",
      "20148"
     ]
    },
    {
     "name": "stderr",
     "output_type": "stream",
     "text": [
      "\r",
      "  4%|██▍                                                              | 3.7962962962962963/100 [01:03<12:53,  8.04s/it]"
     ]
    },
    {
     "name": "stdout",
     "output_type": "stream",
     "text": [
      "\n",
      "20322\n",
      "20333\n",
      "20327\n",
      "20170\n",
      "20034\n",
      "20254\n",
      "20394\n",
      "20276\n",
      "20201\n",
      "20075\n",
      "20228\n",
      "20096\n",
      "20346\n",
      "20117\n",
      "20397\n",
      "20329\n",
      "20162\n",
      "20146\n",
      "20160\n"
     ]
    },
    {
     "name": "stderr",
     "output_type": "stream",
     "text": [
      "\r",
      "  4%|██▋                                                               | 3.986111111111111/100 [01:05<14:50,  9.27s/it]"
     ]
    },
    {
     "name": "stdout",
     "output_type": "stream",
     "text": [
      "20264\n",
      "20373\n",
      "20363\n",
      "20112\n",
      "20314\n",
      "20211\n",
      "20382\n",
      "20368\n",
      "20258\n",
      "20020\n",
      "20106\n",
      "20116\n",
      "20318\n",
      "20104\n",
      "20116\n",
      "20148"
     ]
    },
    {
     "name": "stderr",
     "output_type": "stream",
     "text": [
      "\r",
      "  4%|██▊                                                               | 4.180555555555555/100 [01:05<11:16,  7.06s/it]"
     ]
    },
    {
     "name": "stdout",
     "output_type": "stream",
     "text": [
      "\n",
      "20367\n",
      "20328\n",
      "20098\n",
      "20146\n",
      "20093\n",
      "20385\n",
      "20099\n",
      "20374\n",
      "20328\n"
     ]
    },
    {
     "name": "stderr",
     "output_type": "stream",
     "text": [
      "\r",
      "  4%|██▉                                                                | 4.37962962962963/100 [01:06<10:35,  6.65s/it]"
     ]
    },
    {
     "name": "stdout",
     "output_type": "stream",
     "text": [
      "20042\n",
      "20232\n",
      "20092\n",
      "20151\n",
      "20078\n",
      "20316\n",
      "20360\n",
      "20142\n",
      "20023\n",
      "20314\n",
      "20289\n",
      "20224\n",
      "20220\n",
      "20148\n",
      "20045\n",
      "20029\n",
      "20314\n",
      "20012\n",
      "20145\n",
      "20141\n",
      "20059\n",
      "20211\n",
      "20147\n"
     ]
    },
    {
     "name": "stderr",
     "output_type": "stream",
     "text": [
      "\r",
      "  5%|███                                                               | 4.583333333333333/100 [01:07<08:53,  5.60s/it]"
     ]
    },
    {
     "name": "stdout",
     "output_type": "stream",
     "text": [
      "20313\n",
      "20240\n",
      "20233\n",
      "20371\n",
      "20265\n",
      "20285\n",
      "20234\n",
      "20030\n",
      "20119\n",
      "20007\n",
      "20315\n",
      "20400\n",
      "20233\n",
      "20123\n",
      "20191"
     ]
    },
    {
     "name": "stderr",
     "output_type": "stream",
     "text": [
      "\r",
      "  5%|███▏                                                              | 4.791666666666666/100 [01:10<11:51,  7.47s/it]"
     ]
    },
    {
     "name": "stdout",
     "output_type": "stream",
     "text": [
      "\n",
      "20055\n",
      "20207\n",
      "20279\n",
      "20371\n",
      "20077\n",
      "20148\n",
      "20072\n",
      "20399\n",
      "20184\n",
      "20400\n",
      "20040\n",
      "20251\n",
      "20039\n",
      "20176\n",
      "20374\n",
      "20020\n",
      "20359\n"
     ]
    },
    {
     "name": "stderr",
     "output_type": "stream",
     "text": [
      "\r",
      "  5%|███▎                                                              | 5.004629629629629/100 [01:11<12:04,  7.63s/it]"
     ]
    },
    {
     "name": "stdout",
     "output_type": "stream",
     "text": [
      "20117\n",
      "20076\n",
      "20221\n",
      "20152\n",
      "20205\n",
      "20272\n",
      "20290\n",
      "20284\n",
      "20247\n",
      "20050\n",
      "20384\n",
      "20310\n",
      "20024\n",
      "20092\n",
      "20201\n",
      "20054\n"
     ]
    },
    {
     "name": "stderr",
     "output_type": "stream",
     "text": [
      "\r",
      "  5%|███▍                                                              | 5.222222222222221/100 [01:13<12:12,  7.73s/it]"
     ]
    },
    {
     "name": "stdout",
     "output_type": "stream",
     "text": [
      "20391\n",
      "20184\n",
      "20315\n",
      "20246\n",
      "20315\n",
      "20246\n",
      "20337\n",
      "20117\n",
      "20400\n",
      "20344\n",
      "20148\n",
      "20064\n"
     ]
    },
    {
     "name": "stderr",
     "output_type": "stream",
     "text": [
      "\r",
      "  5%|███▌                                                              | 5.444444444444444/100 [01:15<12:04,  7.66s/it]"
     ]
    },
    {
     "name": "stdout",
     "output_type": "stream",
     "text": [
      "20044\n",
      "20386\n",
      "20393\n",
      "20235\n",
      "20047\n",
      "20028\n",
      "20147\n",
      "20160\n",
      "20173\n",
      "20311\n",
      "20323\n",
      "20240\n",
      "20352\n",
      "20226\n",
      "20364\n",
      "20083\n",
      "20093\n",
      "20073\n"
     ]
    },
    {
     "name": "stderr",
     "output_type": "stream",
     "text": [
      "\r",
      "  6%|███▋                                                              | 5.671296296296296/100 [01:16<11:12,  7.13s/it]"
     ]
    },
    {
     "name": "stdout",
     "output_type": "stream",
     "text": [
      "20177\n",
      "20145\n",
      "20088\n",
      "20335\n",
      "20315\n",
      "20343\n",
      "20160\n",
      "20178\n",
      "20381\n",
      "20020\n",
      "20316\n",
      "20121\n",
      "20209\n",
      "20089\n",
      "20268\n",
      "20117\n"
     ]
    },
    {
     "name": "stderr",
     "output_type": "stream",
     "text": [
      "\r",
      "  6%|███▉                                                              | 5.902777777777778/100 [01:17<10:30,  6.70s/it]"
     ]
    },
    {
     "name": "stdout",
     "output_type": "stream",
     "text": [
      "20070\n",
      "20350\n",
      "20190\n",
      "20338\n",
      "20366\n",
      "20235\n",
      "20065\n",
      "20179\n",
      "20274\n",
      "20328\n",
      "20394\n",
      "20387\n",
      "20207\n",
      "20036\n",
      "20021\n",
      "20232\n",
      "20346\n",
      "20238\n"
     ]
    },
    {
     "name": "stderr",
     "output_type": "stream",
     "text": [
      "\r",
      "  6%|████                                                              | 6.138888888888888/100 [01:19<10:39,  6.81s/it]"
     ]
    },
    {
     "name": "stdout",
     "output_type": "stream",
     "text": [
      "20242\n",
      "20233\n",
      "20114\n",
      "20316\n",
      "20156\n",
      "20354\n",
      "20049\n",
      "20388\n",
      "20024\n",
      "20168\n",
      "20148\n",
      "20148\n",
      "20002\n"
     ]
    },
    {
     "name": "stderr",
     "output_type": "stream",
     "text": [
      "\r",
      "  6%|████▏                                                             | 6.379629629629629/100 [01:20<09:48,  6.29s/it]"
     ]
    },
    {
     "name": "stdout",
     "output_type": "stream",
     "text": [
      "20145\n",
      "20086\n",
      "20315\n",
      "20197\n",
      "20025\n",
      "20357\n",
      "20160\n",
      "20228\n",
      "20179\n",
      "20284\n",
      "20228\n",
      "20235\n",
      "20243\n",
      "20079\n",
      "20151\n",
      "20315\n"
     ]
    },
    {
     "name": "stderr",
     "output_type": "stream",
     "text": [
      "\r",
      "  7%|████▎                                                             | 6.624999999999999/100 [01:22<09:34,  6.15s/it]"
     ]
    },
    {
     "name": "stdout",
     "output_type": "stream",
     "text": [
      "20363\n",
      "20227\n",
      "20326\n",
      "20321\n",
      "20380\n",
      "20314\n",
      "20080\n",
      "20253\n",
      "20207\n",
      "20338\n",
      "20331\n",
      "20310\n",
      "20277\n",
      "20248\n",
      "20160\n",
      "20352\n",
      "20394\n"
     ]
    },
    {
     "name": "stderr",
     "output_type": "stream",
     "text": [
      "\r",
      "  7%|████▌                                                             | 6.874999999999999/100 [01:23<09:17,  5.99s/it]"
     ]
    },
    {
     "name": "stdout",
     "output_type": "stream",
     "text": [
      "20214\n",
      "20102\n",
      "20241\n",
      "20273\n",
      "20257\n",
      "20381\n",
      "20226\n",
      "20110\n",
      "20205\n",
      "20082\n",
      "20351\n",
      "20069\n",
      "20061\n",
      "20307\n",
      "20278\n"
     ]
    },
    {
     "name": "stderr",
     "output_type": "stream",
     "text": [
      "\r",
      "  7%|████▋                                                             | 7.129629629629629/100 [01:24<08:54,  5.75s/it]"
     ]
    },
    {
     "name": "stdout",
     "output_type": "stream",
     "text": [
      "20224\n",
      "20250\n",
      "20400\n",
      "20401\n",
      "20240\n",
      "20207\n",
      "20211\n",
      "20019\n",
      "20334\n",
      "20358\n",
      "20221\n",
      "20104\n",
      "20003\n",
      "20374\n",
      "20328\n",
      "20041\n",
      "20053\n"
     ]
    },
    {
     "name": "stderr",
     "output_type": "stream",
     "text": [
      "\r",
      "  7%|████▉                                                             | 7.388888888888888/100 [01:26<08:37,  5.59s/it]"
     ]
    },
    {
     "name": "stdout",
     "output_type": "stream",
     "text": [
      "20343\n",
      "20154\n",
      "20315\n",
      "20092\n",
      "20315\n",
      "20165\n",
      "20082\n",
      "20252\n",
      "20243\n",
      "20182\n",
      "20188\n",
      "20240\n",
      "20255\n",
      "20343\n",
      "20333\n",
      "20251\n"
     ]
    },
    {
     "name": "stderr",
     "output_type": "stream",
     "text": [
      "\r",
      "  8%|█████                                                             | 7.652777777777778/100 [01:28<10:44,  6.98s/it]"
     ]
    },
    {
     "name": "stdout",
     "output_type": "stream",
     "text": [
      "20289\n",
      "20227\n",
      "20151\n",
      "20027\n",
      "20147\n",
      "20007\n",
      "20031\n",
      "20149\n",
      "20004\n",
      "20093\n",
      "20231\n",
      "20314\n",
      "20148\n",
      "20177\n",
      "20047\n",
      "20332\n",
      "20159\n",
      "20145\n",
      "20375"
     ]
    },
    {
     "name": "stderr",
     "output_type": "stream",
     "text": [
      "\r",
      "  8%|█████▏                                                            | 7.921296296296296/100 [01:30<09:53,  6.44s/it]"
     ]
    },
    {
     "name": "stdout",
     "output_type": "stream",
     "text": [
      "\n",
      "20240\n",
      "20227\n",
      "20350\n",
      "20235\n",
      "20096\n",
      "20146\n",
      "20095\n",
      "20252\n",
      "20263\n",
      "20264\n",
      "20314\n",
      "20201\n",
      "20206\n",
      "20071\n"
     ]
    },
    {
     "name": "stderr",
     "output_type": "stream",
     "text": [
      "\r",
      "  8%|█████▍                                                            | 8.194444444444445/100 [01:31<09:10,  6.00s/it]"
     ]
    },
    {
     "name": "stdout",
     "output_type": "stream",
     "text": [
      "20169\n",
      "20189\n",
      "20395\n",
      "20356\n",
      "20010\n",
      "20030\n",
      "20038\n",
      "20157\n",
      "20145\n",
      "20374\n",
      "20334\n",
      "20230\n",
      "20199\n",
      "20159\n",
      "20369\n",
      "20210"
     ]
    },
    {
     "name": "stderr",
     "output_type": "stream",
     "text": [
      "\r",
      "  8%|█████▌                                                            | 8.472222222222223/100 [01:32<08:31,  5.59s/it]"
     ]
    },
    {
     "name": "stdout",
     "output_type": "stream",
     "text": [
      "\n",
      "20046\n",
      "20345\n",
      "20168\n",
      "20315\n",
      "20399\n",
      "20093\n",
      "20013\n",
      "20187\n",
      "20048\n",
      "20147\n",
      "20148\n"
     ]
    },
    {
     "name": "stderr",
     "output_type": "stream",
     "text": [
      "\r",
      "  9%|█████▊                                                             | 8.75462962962963/100 [01:34<07:49,  5.14s/it]"
     ]
    },
    {
     "name": "stdout",
     "output_type": "stream",
     "text": [
      "20379\n",
      "20009\n",
      "20378\n",
      "20314\n",
      "20314\n",
      "20315\n",
      "20314\n",
      "20247\n",
      "20019\n",
      "20022\n",
      "20223\n",
      "20280\n",
      "20055\n",
      "20116\n",
      "20311\n",
      "20147\n",
      "20148\n",
      "20205\n",
      "20366\n",
      "20379\n"
     ]
    },
    {
     "name": "stderr",
     "output_type": "stream",
     "text": [
      "\r",
      "  9%|█████▉                                                            | 9.041666666666666/100 [01:35<07:50,  5.17s/it]"
     ]
    },
    {
     "name": "stdout",
     "output_type": "stream",
     "text": [
      "20371\n",
      "20346\n",
      "20229\n",
      "20377\n",
      "20278\n",
      "20141\n",
      "20397\n",
      "20171\n",
      "20377\n",
      "20243\n",
      "20197\n",
      "20067\n",
      "20308\n"
     ]
    },
    {
     "name": "stderr",
     "output_type": "stream",
     "text": [
      "\r",
      "  9%|██████▏                                                           | 9.333333333333332/100 [01:37<07:45,  5.14s/it]"
     ]
    },
    {
     "name": "stdout",
     "output_type": "stream",
     "text": [
      "20021\n",
      "20146\n",
      "20202\n",
      "20089\n",
      "20007\n",
      "20064\n",
      "20216\n",
      "20121\n",
      "20340\n",
      "20219\n",
      "20148\n",
      "20001\n",
      "20048\n",
      "20115\n",
      "20220\n",
      "20001\n",
      "20315\n",
      "20032\n",
      "20368\n",
      "20323\n",
      "20084"
     ]
    },
    {
     "name": "stderr",
     "output_type": "stream",
     "text": [
      "\r",
      " 10%|██████▎                                                           | 9.629629629629628/100 [01:38<07:30,  4.98s/it]"
     ]
    },
    {
     "name": "stdout",
     "output_type": "stream",
     "text": [
      "\n",
      "20154\n",
      "20180\n",
      "20314\n",
      "20351\n",
      "20367\n",
      "20216\n",
      "20259\n",
      "20101\n",
      "20246\n",
      "20258\n",
      "20287\n",
      "20382\n",
      "20229\n",
      "20059\n"
     ]
    },
    {
     "name": "stderr",
     "output_type": "stream",
     "text": [
      "\r",
      " 10%|██████▌                                                           | 9.930555555555554/100 [01:39<07:10,  4.78s/it]"
     ]
    },
    {
     "name": "stdout",
     "output_type": "stream",
     "text": [
      "20148\n",
      "20344\n",
      "20314\n",
      "20313\n",
      "20378\n",
      "20324\n",
      "20045\n",
      "20048\n",
      "20011\n",
      "20378\n",
      "20177\n",
      "20082\n",
      "20256\n",
      "20080\n"
     ]
    },
    {
     "name": "stderr",
     "output_type": "stream",
     "text": [
      "\r",
      " 10%|██████▋                                                          | 10.236111111111109/100 [01:42<08:51,  5.92s/it]"
     ]
    },
    {
     "name": "stdout",
     "output_type": "stream",
     "text": [
      "20147\n",
      "20315\n",
      "20261\n",
      "20383\n",
      "20063\n",
      "20255\n",
      "20072\n",
      "20170\n",
      "20032\n",
      "20159\n",
      "20315\n",
      "20315\n",
      "20334\n",
      "20278\n",
      "20164\n",
      "20200\n",
      "20257\n",
      "20034\n",
      "20115\n",
      "20074\n"
     ]
    },
    {
     "name": "stderr",
     "output_type": "stream",
     "text": [
      "\r",
      " 11%|██████▊                                                          | 10.546296296296294/100 [01:44<08:36,  5.77s/it]"
     ]
    },
    {
     "name": "stdout",
     "output_type": "stream",
     "text": [
      "20094\n",
      "20075\n",
      "20312\n",
      "20223\n",
      "20363\n",
      "20098\n",
      "20077\n",
      "20243\n",
      "20280\n",
      "20235\n",
      "20148\n",
      "20199\n",
      "20033\n",
      "20313\n"
     ]
    },
    {
     "name": "stderr",
     "output_type": "stream",
     "text": [
      "\r",
      " 11%|███████                                                          | 10.861111111111109/100 [01:45<07:49,  5.27s/it]"
     ]
    },
    {
     "name": "stdout",
     "output_type": "stream",
     "text": [
      "20246\n",
      "20249\n",
      "20277\n",
      "20249\n",
      "20014\n",
      "20393\n",
      "20148\n",
      "20393\n",
      "20212\n",
      "20023\n",
      "20229\n",
      "20167\n",
      "20059\n",
      "20160\n",
      "20062\n",
      "20122\n",
      "20088\n",
      "20022\n"
     ]
    },
    {
     "name": "stderr",
     "output_type": "stream",
     "text": [
      "\r",
      " 11%|███████▎                                                         | 11.180555555555554/100 [01:47<09:00,  6.08s/it]"
     ]
    },
    {
     "name": "stdout",
     "output_type": "stream",
     "text": [
      "20107\n",
      "20240\n",
      "20343\n",
      "20148\n",
      "20234\n",
      "20370\n",
      "20312\n",
      "20011\n",
      "20317\n",
      "20255\n",
      "20033\n",
      "20042\n",
      "20211\n",
      "20241\n",
      "20175\n"
     ]
    },
    {
     "name": "stderr",
     "output_type": "stream",
     "text": [
      "\r",
      " 12%|███████▍                                                         | 11.504629629629628/100 [01:49<08:36,  5.83s/it]"
     ]
    },
    {
     "name": "stdout",
     "output_type": "stream",
     "text": [
      "20009\n",
      "20268\n",
      "20393\n",
      "20169\n",
      "20031\n",
      "20148\n",
      "20329\n",
      "20044\n",
      "20362\n",
      "20235\n",
      "20285\n",
      "20076\n",
      "20247\n"
     ]
    },
    {
     "name": "stderr",
     "output_type": "stream",
     "text": [
      "\r",
      " 12%|███████▋                                                         | 11.833333333333332/100 [01:52<09:20,  6.36s/it]"
     ]
    },
    {
     "name": "stdout",
     "output_type": "stream",
     "text": [
      "20018\n",
      "20112\n",
      "20225\n",
      "20247\n",
      "20254\n",
      "20336\n",
      "20220\n",
      "20259\n",
      "20230\n",
      "20385\n",
      "20146\n",
      "20021\n",
      "20264\n",
      "20083\n",
      "20318\n",
      "20339\n",
      "20098\n",
      "20353\n",
      "20196\n",
      "20226\n"
     ]
    },
    {
     "name": "stderr",
     "output_type": "stream",
     "text": [
      "\r",
      " 12%|███████▉                                                         | 12.166666666666666/100 [01:53<08:24,  5.75s/it]"
     ]
    },
    {
     "name": "stdout",
     "output_type": "stream",
     "text": [
      "20315\n",
      "20009\n",
      "20311\n",
      "20186\n",
      "20117\n",
      "20172\n",
      "20261\n",
      "20037\n",
      "20370\n",
      "20011\n",
      "20087\n",
      "20314\n",
      "20217\n"
     ]
    },
    {
     "name": "stderr",
     "output_type": "stream",
     "text": [
      "\r",
      " 13%|████████▎                                                         | 12.50462962962963/100 [01:54<07:41,  5.27s/it]"
     ]
    },
    {
     "name": "stdout",
     "output_type": "stream",
     "text": [
      "20147\n",
      "20002\n",
      "20365\n",
      "20282\n",
      "20110\n",
      "20315\n",
      "20021\n",
      "20085\n",
      "20100\n",
      "20220\n",
      "20011\n",
      "20059\n",
      "20216\n",
      "20154\n",
      "20184\n",
      "20340\n",
      "20010\n",
      "20165\n"
     ]
    },
    {
     "name": "stderr",
     "output_type": "stream",
     "text": [
      "\r",
      " 13%|████████▎                                                        | 12.847222222222223/100 [01:57<08:24,  5.79s/it]"
     ]
    },
    {
     "name": "stdout",
     "output_type": "stream",
     "text": [
      "20063\n",
      "20313\n",
      "20148\n",
      "20153\n",
      "20065\n",
      "20148\n",
      "20199\n",
      "20144\n",
      "20151\n",
      "20222\n",
      "20280\n",
      "20185\n",
      "20150\n",
      "20085\n",
      "20399\n",
      "20063\n",
      "20148\n"
     ]
    },
    {
     "name": "stderr",
     "output_type": "stream",
     "text": [
      "\r",
      " 13%|████████▌                                                        | 13.194444444444445/100 [01:59<08:53,  6.14s/it]"
     ]
    },
    {
     "name": "stdout",
     "output_type": "stream",
     "text": [
      "20183\n",
      "20086\n",
      "20332\n",
      "20360\n",
      "20282\n",
      "20174\n",
      "20283\n",
      "20116\n",
      "20193\n",
      "20071\n",
      "20189\n",
      "20146\n",
      "20169\n",
      "20010\n",
      "20182\n",
      "20121\n"
     ]
    },
    {
     "name": "stderr",
     "output_type": "stream",
     "text": [
      "\r",
      " 14%|████████▊                                                        | 13.546296296296296/100 [02:01<07:51,  5.45s/it]"
     ]
    },
    {
     "name": "stdout",
     "output_type": "stream",
     "text": [
      "20148\n",
      "20009\n",
      "20222\n",
      "20340\n",
      "20314\n",
      "20252\n",
      "20221\n",
      "20271\n",
      "20392\n",
      "20192\n",
      "20372\n",
      "20277\n"
     ]
    },
    {
     "name": "stderr",
     "output_type": "stream",
     "text": [
      "\r",
      " 14%|█████████                                                        | 13.902777777777777/100 [02:01<06:08,  4.29s/it]"
     ]
    },
    {
     "name": "stdout",
     "output_type": "stream",
     "text": [
      "20262\n",
      "20313\n",
      "20363\n",
      "20222\n",
      "20159\n",
      "20154\n",
      "20319\n",
      "20079\n",
      "20112\n",
      "20031\n",
      "20155\n",
      "20147\n",
      "20176\n",
      "20029\n",
      "20184\n",
      "20200\n",
      "20032\n",
      "20316\n",
      "20058\n"
     ]
    },
    {
     "name": "stderr",
     "output_type": "stream",
     "text": [
      "\r",
      " 14%|█████████▎                                                       | 14.263888888888888/100 [02:03<06:59,  4.89s/it]"
     ]
    },
    {
     "name": "stdout",
     "output_type": "stream",
     "text": [
      "20263\n",
      "20328\n",
      "20323\n",
      "20061\n",
      "20231\n",
      "20348\n",
      "20366\n",
      "20247\n",
      "20309\n",
      "20018\n",
      "20268\n",
      "20392\n",
      "20144\n",
      "20229\n",
      "20123\n"
     ]
    },
    {
     "name": "stderr",
     "output_type": "stream",
     "text": [
      "\r",
      " 15%|█████████▌                                                       | 14.629629629629628/100 [02:05<06:51,  4.82s/it]"
     ]
    },
    {
     "name": "stdout",
     "output_type": "stream",
     "text": [
      "20071\n",
      "20044\n",
      "20349\n",
      "20169\n",
      "20089\n",
      "20344\n",
      "20314\n",
      "20147\n",
      "20032\n",
      "20025\n",
      "20092\n",
      "20206\n",
      "20168\n",
      "20233\n",
      "20200\n",
      "20368\n",
      "20171"
     ]
    },
    {
     "name": "stderr",
     "output_type": "stream",
     "text": [
      "\r",
      " 15%|█████████▊                                                       | 14.999999999999998/100 [02:07<06:23,  4.51s/it]"
     ]
    },
    {
     "name": "stdout",
     "output_type": "stream",
     "text": [
      "\n",
      "20087\n",
      "20227\n",
      "20365\n",
      "20217\n",
      "20242\n",
      "20081\n",
      "20254\n",
      "20182\n",
      "20323\n",
      "20142\n",
      "20231\n",
      "20212\n",
      "20272\n",
      "20387\n",
      "20054\n",
      "20118\n"
     ]
    },
    {
     "name": "stderr",
     "output_type": "stream",
     "text": [
      "\r",
      " 15%|█████████▉                                                       | 15.374999999999998/100 [02:08<06:09,  4.37s/it]"
     ]
    },
    {
     "name": "stdout",
     "output_type": "stream",
     "text": [
      "20015\n",
      "20002\n",
      "20160\n",
      "20057\n",
      "20073\n",
      "20250\n",
      "20009\n",
      "20364\n",
      "20315\n",
      "20348\n",
      "20148\n",
      "20199\n",
      "20230\n",
      "20164\n",
      "20320\n",
      "20068\n",
      "20099"
     ]
    },
    {
     "name": "stderr",
     "output_type": "stream",
     "text": [
      "\r",
      " 16%|██████████▏                                                      | 15.754629629629628/100 [02:11<07:05,  5.05s/it]"
     ]
    },
    {
     "name": "stdout",
     "output_type": "stream",
     "text": [
      "\n",
      "20216\n",
      "20147\n",
      "20283\n",
      "20178\n",
      "20315\n",
      "20189\n",
      "20023\n",
      "20209\n",
      "20372\n",
      "20182\n",
      "20258\n",
      "20088\n",
      "20104\n",
      "20314\n",
      "20400\n",
      "20166"
     ]
    },
    {
     "name": "stderr",
     "output_type": "stream",
     "text": [
      "\r",
      " 16%|██████████▍                                                      | 16.138888888888886/100 [02:12<06:15,  4.48s/it]"
     ]
    },
    {
     "name": "stdout",
     "output_type": "stream",
     "text": [
      "\n",
      "20091\n",
      "20077\n",
      "20339\n",
      "20187\n",
      "20264\n",
      "20007\n",
      "20147\n",
      "20068\n",
      "20398\n",
      "20401\n",
      "20210\n",
      "20341\n",
      "20031\n",
      "20220\n",
      "20348\n",
      "20277\n"
     ]
    },
    {
     "name": "stderr",
     "output_type": "stream",
     "text": [
      "\r",
      " 17%|██████████▋                                                      | 16.527777777777775/100 [02:13<06:00,  4.31s/it]"
     ]
    },
    {
     "name": "stdout",
     "output_type": "stream",
     "text": [
      "20166\n",
      "20239\n",
      "20287\n",
      "20276\n",
      "20117\n",
      "20348\n",
      "20250\n",
      "20175\n",
      "20262\n",
      "20350\n",
      "20221\n",
      "20054\n",
      "20068\n",
      "20148\n",
      "20253\n"
     ]
    },
    {
     "name": "stderr",
     "output_type": "stream",
     "text": [
      "\r",
      " 17%|██████████▉                                                      | 16.921296296296294/100 [02:15<05:39,  4.08s/it]"
     ]
    },
    {
     "name": "stdout",
     "output_type": "stream",
     "text": [
      "20367\n",
      "20147\n",
      "20178\n",
      "20260\n",
      "20007\n",
      "20084\n",
      "20219\n",
      "20364\n",
      "20326\n",
      "20092\n",
      "20315\n",
      "20253\n",
      "20105\n",
      "20090\n",
      "20101\n",
      "20215\n",
      "20315\n"
     ]
    },
    {
     "name": "stderr",
     "output_type": "stream",
     "text": [
      "\r",
      " 17%|███████████▎                                                     | 17.319444444444443/100 [02:17<06:35,  4.79s/it]"
     ]
    },
    {
     "name": "stdout",
     "output_type": "stream",
     "text": [
      "20332\n",
      "20016\n",
      "20314\n",
      "20388\n",
      "20058\n",
      "20002\n",
      "20347\n",
      "20270\n",
      "20152\n",
      "20164\n",
      "20315\n",
      "20040\n",
      "20373\n",
      "20148\n",
      "20340\n",
      "20330\n"
     ]
    },
    {
     "name": "stderr",
     "output_type": "stream",
     "text": [
      "\r",
      " 18%|███████████▋                                                      | 17.72222222222222/100 [02:19<06:14,  4.55s/it]"
     ]
    },
    {
     "name": "stdout",
     "output_type": "stream",
     "text": [
      "20315\n",
      "20083\n",
      "20261\n",
      "20316\n",
      "20259\n",
      "20313\n",
      "20200\n",
      "20160\n",
      "20311\n",
      "20202\n",
      "20313\n",
      "20120\n",
      "20243\n",
      "20355\n",
      "20190\n"
     ]
    },
    {
     "name": "stderr",
     "output_type": "stream",
     "text": [
      "\r",
      " 18%|███████████▉                                                      | 18.12962962962963/100 [02:21<06:46,  4.97s/it]"
     ]
    },
    {
     "name": "stdout",
     "output_type": "stream",
     "text": [
      "20322\n",
      "20379\n",
      "20169\n",
      "20350\n",
      "20229\n",
      "20282\n",
      "20384\n",
      "20314\n",
      "20204\n",
      "20210\n",
      "20017\n",
      "20253\n",
      "20174\n",
      "20328\n",
      "20110\n",
      "20235\n",
      "20231\n"
     ]
    },
    {
     "name": "stderr",
     "output_type": "stream",
     "text": [
      "\r",
      " 19%|████████████                                                     | 18.541666666666668/100 [02:23<06:29,  4.79s/it]"
     ]
    },
    {
     "name": "stdout",
     "output_type": "stream",
     "text": [
      "20180\n",
      "20341\n",
      "20314\n",
      "20063\n",
      "20147\n",
      "20033\n",
      "20032\n",
      "20257\n",
      "20329\n",
      "20219\n",
      "20180\n",
      "20165"
     ]
    },
    {
     "name": "stderr",
     "output_type": "stream",
     "text": [
      "\r",
      " 19%|████████████▎                                                    | 18.958333333333336/100 [02:25<06:48,  5.05s/it]"
     ]
    },
    {
     "name": "stdout",
     "output_type": "stream",
     "text": [
      "\n",
      "20120\n",
      "20187\n",
      "20201\n",
      "20062\n",
      "20146\n",
      "20375\n",
      "20308\n",
      "20160\n",
      "20150\n",
      "20259\n",
      "20093\n",
      "20314\n",
      "20079\n",
      "20148\n",
      "20219\n",
      "20047\n",
      "20005\n"
     ]
    },
    {
     "name": "stderr",
     "output_type": "stream",
     "text": [
      "\r",
      " 19%|████████████▌                                                    | 19.379629629629633/100 [02:27<06:14,  4.65s/it]"
     ]
    },
    {
     "name": "stdout",
     "output_type": "stream",
     "text": [
      "20148\n",
      "20102\n",
      "20148\n",
      "20186\n",
      "20362\n",
      "20315\n",
      "20178\n",
      "20159\n",
      "20310\n",
      "20249\n",
      "20149\n",
      "20018\n",
      "20064\n",
      "20080\n",
      "20051\n",
      "20054\n",
      "20170\n",
      "20025\n"
     ]
    },
    {
     "name": "stderr",
     "output_type": "stream",
     "text": [
      "\r",
      " 20%|█████████████                                                     | 19.80555555555556/100 [02:29<06:35,  4.94s/it]"
     ]
    },
    {
     "name": "stdout",
     "output_type": "stream",
     "text": [
      "20314\n",
      "20326\n",
      "20200\n",
      "20216\n",
      "20048\n",
      "20332\n",
      "20080\n",
      "20208\n",
      "20385\n",
      "20335\n",
      "20349\n",
      "20213\n",
      "20212\n",
      "20104\n",
      "20174\n",
      "20311\n",
      "20029\n"
     ]
    },
    {
     "name": "stderr",
     "output_type": "stream",
     "text": [
      "\r",
      " 20%|█████████████▏                                                   | 20.236111111111118/100 [02:31<06:07,  4.60s/it]"
     ]
    },
    {
     "name": "stdout",
     "output_type": "stream",
     "text": [
      "20244\n",
      "20020\n",
      "20019\n",
      "20073\n",
      "20268\n",
      "20087\n",
      "20385\n",
      "20342\n",
      "20172\n",
      "20221\n",
      "20148\n",
      "20325\n",
      "20084\n",
      "20024\n",
      "20314\n"
     ]
    },
    {
     "name": "stderr",
     "output_type": "stream",
     "text": [
      "\r",
      " 21%|█████████████▍                                                   | 20.671296296296305/100 [02:33<05:43,  4.33s/it]"
     ]
    },
    {
     "name": "stdout",
     "output_type": "stream",
     "text": [
      "20067\n",
      "20348\n",
      "20065\n",
      "20210\n",
      "20351\n",
      "20191\n",
      "20102\n",
      "20024\n",
      "20046\n",
      "20162\n",
      "20043\n",
      "20382\n",
      "20401\n",
      "20077\n",
      "20339\n",
      "20026\n",
      "20320\n",
      "20057"
     ]
    },
    {
     "name": "stderr",
     "output_type": "stream",
     "text": [
      "\r",
      " 21%|█████████████▋                                                   | 21.111111111111118/100 [02:35<06:27,  4.92s/it]"
     ]
    },
    {
     "name": "stdout",
     "output_type": "stream",
     "text": [
      "\n",
      "20334\n",
      "20400\n",
      "20018\n",
      "20002\n",
      "20089\n",
      "20252\n",
      "20279\n",
      "20276\n",
      "20168\n",
      "20313\n",
      "20316\n",
      "20164\n",
      "20148\n",
      "20203\n",
      "20265\n"
     ]
    },
    {
     "name": "stderr",
     "output_type": "stream",
     "text": [
      "\r",
      " 22%|██████████████▏                                                   | 21.55555555555556/100 [02:38<06:20,  4.85s/it]"
     ]
    },
    {
     "name": "stdout",
     "output_type": "stream",
     "text": [
      "20056\n",
      "20241\n",
      "20364\n",
      "20103\n",
      "20326\n",
      "20229\n",
      "20330\n",
      "20224\n",
      "20073\n",
      "20179\n",
      "20344\n",
      "20263\n"
     ]
    },
    {
     "name": "stderr",
     "output_type": "stream",
     "text": [
      "\r",
      " 22%|██████████████▎                                                  | 22.004629629629633/100 [02:38<04:52,  3.75s/it]"
     ]
    },
    {
     "name": "stdout",
     "output_type": "stream",
     "text": [
      "20278\n",
      "20078\n",
      "20262\n",
      "20207\n",
      "20147\n",
      "20255\n",
      "20314\n",
      "20377\n",
      "20365\n",
      "20182\n",
      "20313\n",
      "20320\n",
      "20151\n",
      "20148\n",
      "20322\n"
     ]
    },
    {
     "name": "stderr",
     "output_type": "stream",
     "text": [
      "\r",
      " 22%|██████████████▌                                                  | 22.458333333333336/100 [02:39<04:21,  3.37s/it]"
     ]
    },
    {
     "name": "stdout",
     "output_type": "stream",
     "text": [
      "20003\n",
      "20053\n",
      "20145\n",
      "20145\n",
      "20146\n",
      "20273\n",
      "20360\n",
      "20278\n",
      "20201\n",
      "20148\n",
      "20327\n",
      "20029\n",
      "20314\n",
      "20395\n",
      "20280\n",
      "20028\n",
      "20111\n"
     ]
    },
    {
     "name": "stderr",
     "output_type": "stream",
     "text": [
      "\r",
      " 23%|██████████████▉                                                  | 22.916666666666668/100 [02:41<04:05,  3.19s/it]"
     ]
    },
    {
     "name": "stdout",
     "output_type": "stream",
     "text": [
      "20272\n",
      "20398\n",
      "20085\n",
      "20147\n",
      "20024\n",
      "20097\n",
      "20081\n",
      "20178\n",
      "20377\n",
      "20215\n",
      "20279\n",
      "20090\n",
      "20228\n",
      "20166\n",
      "20314\n",
      "20029\n",
      "20320\n",
      "20392\n",
      "20222\n"
     ]
    },
    {
     "name": "stderr",
     "output_type": "stream",
     "text": [
      "\r",
      " 23%|███████████████▍                                                  | 23.37962962962963/100 [02:42<04:06,  3.22s/it]"
     ]
    },
    {
     "name": "stdout",
     "output_type": "stream",
     "text": [
      "20151\n",
      "20033\n",
      "20312\n",
      "20144\n",
      "20332\n",
      "20385\n",
      "20350\n",
      "20308\n",
      "20121\n",
      "20379\n",
      "20052\n",
      "20027\n",
      "20315\n",
      "20211\n"
     ]
    },
    {
     "name": "stderr",
     "output_type": "stream",
     "text": [
      "\r",
      " 24%|███████████████▋                                                  | 23.84722222222222/100 [02:45<05:05,  4.02s/it]"
     ]
    },
    {
     "name": "stdout",
     "output_type": "stream",
     "text": [
      "20245\n",
      "20383\n",
      "20030\n",
      "20351\n",
      "20219\n",
      "20266\n",
      "20202\n",
      "20281\n",
      "20222\n",
      "20147\n",
      "20159\n",
      "20064\n",
      "20032\n",
      "20075\n",
      "20118\n",
      "20034\n",
      "20267\n",
      "20288\n",
      "20261"
     ]
    },
    {
     "name": "stderr",
     "output_type": "stream",
     "text": [
      "\r",
      " 24%|███████████████▊                                                 | 24.319444444444443/100 [02:46<04:39,  3.69s/it]"
     ]
    },
    {
     "name": "stdout",
     "output_type": "stream",
     "text": [
      "\n",
      "20248\n",
      "20337\n",
      "20008\n",
      "20315\n",
      "20266\n",
      "20396\n",
      "20070\n",
      "20072\n",
      "20352\n",
      "20389\n",
      "20231\n",
      "20101\n",
      "20350\n",
      "20076\n",
      "20335\n"
     ]
    },
    {
     "name": "stderr",
     "output_type": "stream",
     "text": [
      "\r",
      " 25%|████████████████                                                 | 24.796296296296294/100 [02:48<04:23,  3.50s/it]"
     ]
    },
    {
     "name": "stdout",
     "output_type": "stream",
     "text": [
      "20078\n",
      "20184\n",
      "20175\n",
      "20154\n",
      "20328\n",
      "20162\n",
      "20107\n",
      "20181\n",
      "20087\n",
      "20232\n",
      "20083\n",
      "20241\n",
      "20321\n"
     ]
    },
    {
     "name": "stderr",
     "output_type": "stream",
     "text": [
      "\r",
      " 25%|████████████████▍                                                | 25.277777777777775/100 [02:49<04:10,  3.35s/it]"
     ]
    },
    {
     "name": "stdout",
     "output_type": "stream",
     "text": [
      "20355\n",
      "20218\n",
      "20177\n",
      "20330\n",
      "20366\n",
      "20014\n",
      "20267\n",
      "20326\n",
      "20276\n",
      "20098\n",
      "20053\n",
      "20015\n",
      "20180\n",
      "20346\n",
      "20024\n",
      "20186\n",
      "20338\n",
      "20309\n",
      "20030\n",
      "20142\n",
      "20185"
     ]
    },
    {
     "name": "stderr",
     "output_type": "stream",
     "text": [
      "\r",
      " 26%|████████████████▋                                                | 25.763888888888886/100 [02:50<03:47,  3.07s/it]"
     ]
    },
    {
     "name": "stdout",
     "output_type": "stream",
     "text": [
      "\n",
      "20348\n",
      "20081\n",
      "20263\n",
      "20040\n",
      "20147\n",
      "20202\n",
      "20072\n",
      "20261\n",
      "20044\n",
      "20192\n",
      "20220\n",
      "20037\n",
      "20343\n",
      "20370"
     ]
    },
    {
     "name": "stderr",
     "output_type": "stream",
     "text": [
      "\r",
      " 26%|█████████████████                                                | 26.254629629629626/100 [02:52<03:45,  3.06s/it]"
     ]
    },
    {
     "name": "stdout",
     "output_type": "stream",
     "text": [
      "\n",
      "20199\n",
      "20147\n",
      "20329\n",
      "20151\n",
      "20041\n",
      "20261\n",
      "20255\n",
      "20325\n",
      "20145\n",
      "20379\n",
      "20146\n",
      "20314\n",
      "20114\n",
      "20092\n",
      "20115\n",
      "20180\n",
      "20168\n"
     ]
    },
    {
     "name": "stderr",
     "output_type": "stream",
     "text": [
      "\r",
      " 27%|█████████████████▍                                               | 26.749999999999996/100 [02:56<05:25,  4.44s/it]"
     ]
    },
    {
     "name": "stdout",
     "output_type": "stream",
     "text": [
      "20110\n",
      "20221\n",
      "20098\n",
      "20353\n",
      "20175\n",
      "20020\n",
      "20352\n",
      "20157\n",
      "20144\n",
      "20090\n",
      "20315\n",
      "20376\n",
      "20311\n",
      "20314\n",
      "20398\n",
      "20175\n"
     ]
    },
    {
     "name": "stderr",
     "output_type": "stream",
     "text": [
      "\r",
      " 27%|█████████████████▋                                               | 27.249999999999996/100 [02:57<04:58,  4.11s/it]"
     ]
    },
    {
     "name": "stdout",
     "output_type": "stream",
     "text": [
      "20362\n",
      "20247\n",
      "20068\n",
      "20333\n",
      "20090\n",
      "20163\n",
      "20312\n",
      "20286\n",
      "20233\n",
      "20396\n",
      "20002\n",
      "20379\n",
      "20234\n",
      "20184\n",
      "20173\n",
      "20148\n",
      "20243"
     ]
    },
    {
     "name": "stderr",
     "output_type": "stream",
     "text": [
      "\r",
      " 28%|██████████████████                                               | 27.754629629629626/100 [02:58<04:11,  3.48s/it]"
     ]
    },
    {
     "name": "stdout",
     "output_type": "stream",
     "text": [
      "\n",
      "20241\n",
      "20170\n",
      "20006\n",
      "20042\n",
      "20241\n",
      "20098\n",
      "20046\n",
      "20018\n",
      "20155\n",
      "20078\n",
      "20014\n",
      "20353\n",
      "20106\n",
      "20314\n",
      "20228"
     ]
    },
    {
     "name": "stderr",
     "output_type": "stream",
     "text": [
      "\r",
      " 28%|██████████████████▎                                              | 28.263888888888886/100 [03:00<04:07,  3.45s/it]"
     ]
    },
    {
     "name": "stdout",
     "output_type": "stream",
     "text": [
      "\n",
      "20009\n",
      "20095\n",
      "20338\n",
      "20341\n",
      "20043\n",
      "20283\n",
      "20285\n",
      "20022\n",
      "20036\n",
      "20360\n",
      "20371\n",
      "20148\n",
      "20196\n",
      "20314"
     ]
    },
    {
     "name": "stderr",
     "output_type": "stream",
     "text": [
      "\r",
      " 29%|██████████████████▋                                              | 28.777777777777775/100 [03:01<03:47,  3.19s/it]"
     ]
    },
    {
     "name": "stdout",
     "output_type": "stream",
     "text": [
      "\n",
      "20314\n",
      "20056\n",
      "20281\n",
      "20038\n",
      "20148\n",
      "20060\n",
      "20067\n",
      "20396\n",
      "20179\n",
      "20049\n",
      "20003\n",
      "20005\n",
      "20152\n"
     ]
    },
    {
     "name": "stderr",
     "output_type": "stream",
     "text": [
      "\r",
      " 29%|███████████████████                                              | 29.296296296296294/100 [03:02<03:17,  2.79s/it]"
     ]
    },
    {
     "name": "stdout",
     "output_type": "stream",
     "text": [
      "20214\n",
      "20229\n",
      "20242\n",
      "20244\n",
      "20067\n",
      "20266\n",
      "20263\n",
      "20146\n",
      "20043\n",
      "20203\n",
      "20092\n",
      "20117\n",
      "20369\n",
      "20221\n",
      "20266\n"
     ]
    },
    {
     "name": "stderr",
     "output_type": "stream",
     "text": [
      "\r",
      " 30%|███████████████████▍                                             | 29.819444444444443/100 [03:04<03:27,  2.96s/it]"
     ]
    },
    {
     "name": "stdout",
     "output_type": "stream",
     "text": [
      "20047\n",
      "20198\n",
      "20153\n",
      "20200\n",
      "20318\n",
      "20205\n",
      "20154\n",
      "20214\n",
      "20172\n",
      "20095\n",
      "20328\n",
      "20040\n",
      "20216\n",
      "20315\n",
      "20334\n",
      "20339\n",
      "20110\n",
      "20221\n",
      "20255\n",
      "20148\n",
      "20248\n"
     ]
    },
    {
     "name": "stderr",
     "output_type": "stream",
     "text": [
      "\r",
      " 30%|████████████████████                                              | 30.34722222222222/100 [03:06<03:57,  3.41s/it]"
     ]
    },
    {
     "name": "stdout",
     "output_type": "stream",
     "text": [
      "20389\n",
      "20290\n",
      "20361\n",
      "20393\n",
      "20268\n",
      "20011\n",
      "20236\n",
      "20329\n",
      "20147\n",
      "20311\n",
      "20204\n",
      "20170\n",
      "20005\n"
     ]
    },
    {
     "name": "stderr",
     "output_type": "stream",
     "text": [
      "\r",
      " 31%|████████████████████▍                                             | 30.87962962962963/100 [03:08<03:43,  3.23s/it]"
     ]
    },
    {
     "name": "stdout",
     "output_type": "stream",
     "text": [
      "20224\n",
      "20221\n",
      "20199\n",
      "20366\n",
      "20148\n",
      "20111\n",
      "20310\n",
      "20151\n",
      "20146\n",
      "20219\n",
      "20397\n",
      "20361\n",
      "20088\n",
      "20103\n",
      "20120\n",
      "20346\n",
      "20050\n",
      "20357\n",
      "20094"
     ]
    },
    {
     "name": "stderr",
     "output_type": "stream",
     "text": [
      "\r",
      " 31%|████████████████████▍                                            | 31.416666666666668/100 [03:09<03:28,  3.03s/it]"
     ]
    },
    {
     "name": "stdout",
     "output_type": "stream",
     "text": [
      "\n",
      "20354\n",
      "20221\n",
      "20097\n",
      "20380\n",
      "20178\n",
      "20314\n",
      "20007\n",
      "20174\n",
      "20285\n",
      "20143\n",
      "20269\n",
      "20073\n",
      "20064\n",
      "20177\n",
      "20077"
     ]
    },
    {
     "name": "stderr",
     "output_type": "stream",
     "text": [
      "\r",
      " 32%|████████████████████▊                                            | 31.958333333333336/100 [03:11<03:25,  3.02s/it]"
     ]
    },
    {
     "name": "stdout",
     "output_type": "stream",
     "text": [
      "\n",
      "20370\n",
      "20400\n",
      "20324\n",
      "20065\n",
      "20234\n",
      "20373\n",
      "20162\n",
      "20344\n",
      "20045\n",
      "20109\n",
      "20106\n",
      "20270\n",
      "20148\n",
      "20400\n",
      "20204\n"
     ]
    },
    {
     "name": "stderr",
     "output_type": "stream",
     "text": [
      "\r",
      " 33%|█████████████████████▍                                            | 32.50462962962963/100 [03:12<03:10,  2.82s/it]"
     ]
    },
    {
     "name": "stdout",
     "output_type": "stream",
     "text": [
      "20252\n",
      "20224\n",
      "20280\n",
      "20230\n",
      "20118\n",
      "20354\n",
      "20400\n",
      "20030\n",
      "20343\n",
      "20078\n",
      "20194\n",
      "20065\n",
      "20259\n",
      "20265\n",
      "20258\n",
      "20326\n",
      "20353\n"
     ]
    },
    {
     "name": "stderr",
     "output_type": "stream",
     "text": [
      "\r",
      " 33%|█████████████████████▊                                            | 33.05555555555556/100 [03:14<03:02,  2.73s/it]"
     ]
    },
    {
     "name": "stdout",
     "output_type": "stream",
     "text": [
      "20257\n",
      "20347\n",
      "20387\n",
      "20371\n",
      "20010\n",
      "20017\n",
      "20347\n",
      "20343\n",
      "20273\n",
      "20314\n",
      "20226\n",
      "20226\n",
      "20103\n",
      "20258\n",
      "20393\n",
      "20097\n",
      "20331\n"
     ]
    },
    {
     "name": "stderr",
     "output_type": "stream",
     "text": [
      "\r",
      " 34%|█████████████████████▊                                           | 33.611111111111114/100 [03:16<03:33,  3.22s/it]"
     ]
    },
    {
     "name": "stdout",
     "output_type": "stream",
     "text": [
      "20386\n",
      "20159\n",
      "20200\n",
      "20287\n",
      "20323\n",
      "20329\n",
      "20353\n",
      "20013\n",
      "20048\n",
      "20054\n",
      "20043\n",
      "20043\n",
      "20390\n",
      "20153\n",
      "20314\n",
      "20211\n",
      "20058\n",
      "20070"
     ]
    },
    {
     "name": "stderr",
     "output_type": "stream",
     "text": [
      "\r",
      " 34%|██████████████████████▉                                            | 34.1712962962963/100 [03:17<03:15,  2.98s/it]"
     ]
    },
    {
     "name": "stdout",
     "output_type": "stream",
     "text": [
      "\n",
      "20288\n",
      "20345\n",
      "20206\n",
      "20220\n",
      "20107\n",
      "20314\n",
      "20155\n",
      "20099\n",
      "20319\n",
      "20272\n",
      "20058\n"
     ]
    },
    {
     "name": "stderr",
     "output_type": "stream",
     "text": [
      "\r",
      " 35%|██████████████████████▌                                          | 34.736111111111114/100 [03:19<03:14,  2.98s/it]"
     ]
    },
    {
     "name": "stdout",
     "output_type": "stream",
     "text": [
      "20314\n",
      "20141\n",
      "20222\n",
      "20154\n",
      "20060\n",
      "20282\n",
      "20061\n",
      "20399\n",
      "20339\n",
      "20315\n",
      "20063\n",
      "20095\n",
      "20250\n",
      "20049\n",
      "20219\n",
      "20146\n",
      "20355\n",
      "20330\n",
      "20311\n",
      "20245"
     ]
    },
    {
     "name": "stderr",
     "output_type": "stream",
     "text": [
      "\r",
      " 35%|███████████████████████▎                                          | 35.30555555555556/100 [03:20<02:54,  2.70s/it]"
     ]
    },
    {
     "name": "stdout",
     "output_type": "stream",
     "text": [
      "\n",
      "20147\n",
      "20276\n",
      "20214\n",
      "20244\n",
      "20159\n",
      "20003\n",
      "20284\n",
      "20041\n",
      "20250\n",
      "20346\n",
      "20198\n",
      "20314\n",
      "20200\n",
      "20153"
     ]
    },
    {
     "name": "stderr",
     "output_type": "stream",
     "text": [
      "\r",
      " 36%|███████████████████████▋                                          | 35.87962962962963/100 [03:22<02:51,  2.68s/it]"
     ]
    },
    {
     "name": "stdout",
     "output_type": "stream",
     "text": [
      "\n",
      "20315\n",
      "20222\n",
      "20148\n",
      "20036\n",
      "20280\n",
      "20324\n",
      "20147\n",
      "20289\n",
      "20313\n",
      "20148\n",
      "20386\n",
      "20262\n",
      "20011\n",
      "20197\n",
      "20049\n",
      "20143\n",
      "20215\n",
      "20329\n"
     ]
    },
    {
     "name": "stderr",
     "output_type": "stream",
     "text": [
      "\r",
      " 36%|███████████████████████▋                                         | 36.458333333333336/100 [03:23<02:44,  2.59s/it]"
     ]
    },
    {
     "name": "stdout",
     "output_type": "stream",
     "text": [
      "20201\n",
      "20066\n",
      "20270\n",
      "20147\n",
      "20016\n",
      "20047\n",
      "20026\n",
      "20245\n",
      "20223\n",
      "20071\n",
      "20317\n",
      "20210\n"
     ]
    },
    {
     "name": "stderr",
     "output_type": "stream",
     "text": [
      "\r",
      " 37%|████████████████████████▍                                         | 37.04166666666667/100 [03:25<03:08,  2.99s/it]"
     ]
    },
    {
     "name": "stdout",
     "output_type": "stream",
     "text": [
      "20040\n",
      "20018\n",
      "20281\n",
      "20085\n",
      "20346\n",
      "20397\n",
      "20366\n",
      "20016\n",
      "20042\n",
      "20315\n",
      "20088\n",
      "20023\n",
      "20364\n",
      "20326\n",
      "20200\n",
      "20148\n",
      "20147\n",
      "20260\n",
      "20342\n",
      "20118"
     ]
    },
    {
     "name": "stderr",
     "output_type": "stream",
     "text": [
      "\r",
      " 38%|████████████████████████▊                                         | 37.62962962962963/100 [03:26<02:25,  2.33s/it]"
     ]
    },
    {
     "name": "stdout",
     "output_type": "stream",
     "text": [
      "\n",
      "20260\n",
      "20216\n",
      "20223\n",
      "20148\n",
      "20145\n",
      "20162\n",
      "20209\n",
      "20071\n",
      "20154\n",
      "20062\n",
      "20170\n",
      "20020\n",
      "20328\n",
      "20103\n"
     ]
    },
    {
     "name": "stderr",
     "output_type": "stream",
     "text": [
      "\r",
      " 38%|█████████████████████████▏                                        | 38.22222222222223/100 [03:28<02:51,  2.78s/it]"
     ]
    },
    {
     "name": "stdout",
     "output_type": "stream",
     "text": [
      "20058\n",
      "20016\n",
      "20313\n",
      "20317\n",
      "20266\n",
      "20391\n",
      "20326\n",
      "20334\n",
      "20045\n",
      "20383\n",
      "20321\n",
      "20149\n",
      "20030\n",
      "20006\n",
      "20284\n",
      "20245\n",
      "20345\n",
      "20392\n"
     ]
    },
    {
     "name": "stderr",
     "output_type": "stream",
     "text": [
      "\r",
      " 39%|█████████████████████████▌                                        | 38.81944444444445/100 [03:29<02:17,  2.24s/it]"
     ]
    },
    {
     "name": "stdout",
     "output_type": "stream",
     "text": [
      "20145\n",
      "20358\n",
      "20339\n",
      "20012\n",
      "20256\n",
      "20013\n",
      "20234\n",
      "20007\n",
      "20037\n"
     ]
    },
    {
     "name": "stderr",
     "output_type": "stream",
     "text": [
      "\r",
      " 39%|█████████████████████████▌                                       | 39.421296296296305/100 [03:31<02:47,  2.76s/it]"
     ]
    },
    {
     "name": "stdout",
     "output_type": "stream",
     "text": [
      "20147\n",
      "20328\n",
      "20017\n",
      "20354\n",
      "20084\n",
      "20025\n",
      "20148\n",
      "20183\n",
      "20105\n",
      "20356\n",
      "20020\n",
      "20169\n",
      "20115\n",
      "20247\n",
      "20311\n",
      "20358\n",
      "20329\n",
      "20206\n",
      "20187\n"
     ]
    },
    {
     "name": "stderr",
     "output_type": "stream",
     "text": [
      "\r",
      " 40%|██████████████████████████                                       | 40.027777777777786/100 [03:33<02:40,  2.67s/it]"
     ]
    },
    {
     "name": "stdout",
     "output_type": "stream",
     "text": [
      "20244\n",
      "20163\n",
      "20080\n",
      "20080\n",
      "20314\n",
      "20383\n",
      "20253\n",
      "20072\n",
      "20151\n",
      "20054\n",
      "20313\n",
      "20382\n",
      "20246\n",
      "20012\n",
      "20147\n",
      "20023\n",
      "20257\n",
      "20054\n",
      "20340\n",
      "20347\n"
     ]
    },
    {
     "name": "stderr",
     "output_type": "stream",
     "text": [
      "\r",
      " 41%|███████████████████████████▏                                       | 40.6388888888889/100 [03:34<02:30,  2.54s/it]"
     ]
    },
    {
     "name": "stdout",
     "output_type": "stream",
     "text": [
      "20240\n",
      "20290\n",
      "20343\n",
      "20007\n",
      "20052\n",
      "20284\n",
      "20248\n",
      "20088\n",
      "20027\n",
      "20069\n",
      "20251\n",
      "20148\n",
      "20145\n",
      "20148\n"
     ]
    },
    {
     "name": "stderr",
     "output_type": "stream",
     "text": [
      "\r",
      " 41%|███████████████████████████▏                                      | 41.25462962962964/100 [03:36<02:52,  2.94s/it]"
     ]
    },
    {
     "name": "stdout",
     "output_type": "stream",
     "text": [
      "20265\n",
      "20322\n",
      "20324\n",
      "20212\n",
      "20245\n",
      "20320\n",
      "20361\n",
      "20059\n",
      "20253\n",
      "20162\n",
      "20102\n",
      "20056\n",
      "20343\n",
      "20027"
     ]
    },
    {
     "name": "stderr",
     "output_type": "stream",
     "text": [
      "\r",
      " 42%|███████████████████████████▏                                     | 41.875000000000014/100 [03:37<02:12,  2.28s/it]"
     ]
    },
    {
     "name": "stdout",
     "output_type": "stream",
     "text": [
      "\n",
      "20172\n",
      "20230\n",
      "20122\n",
      "20220\n",
      "20091\n",
      "20143\n",
      "20045\n",
      "20324\n",
      "20055\n",
      "20115\n",
      "20316\n",
      "20359\n",
      "20317\n",
      "20314\n",
      "20247\n",
      "20147\n",
      "20344\n",
      "20092\n",
      "20346\n",
      "20093\n"
     ]
    },
    {
     "name": "stderr",
     "output_type": "stream",
     "text": [
      "\r",
      " 43%|███████████████████████████▋                                     | 42.500000000000014/100 [03:39<02:36,  2.72s/it]"
     ]
    },
    {
     "name": "stdout",
     "output_type": "stream",
     "text": [
      "20101\n",
      "20218\n",
      "20395\n",
      "20023\n",
      "20034\n",
      "20211\n",
      "20172\n",
      "20039\n",
      "20105\n",
      "20358\n",
      "20094\n",
      "20060\n",
      "20051\n",
      "20374"
     ]
    },
    {
     "name": "stderr",
     "output_type": "stream",
     "text": [
      "\r",
      " 43%|████████████████████████████▍                                     | 43.12962962962964/100 [03:41<02:35,  2.73s/it]"
     ]
    },
    {
     "name": "stdout",
     "output_type": "stream",
     "text": [
      "\n",
      "20033\n",
      "20020\n",
      "20024\n",
      "20148\n",
      "20367\n",
      "20160\n",
      "20174\n",
      "20379\n",
      "20336\n",
      "20215\n",
      "20338\n",
      "20278\n",
      "20160\n",
      "20105\n",
      "20003\n",
      "20211\n",
      "20383\n",
      "20160\n",
      "20097"
     ]
    },
    {
     "name": "stderr",
     "output_type": "stream",
     "text": [
      "\r",
      " 44%|█████████████████████████████▎                                     | 43.7638888888889/100 [03:42<02:14,  2.40s/it]"
     ]
    },
    {
     "name": "stdout",
     "output_type": "stream",
     "text": [
      "\n",
      "20235\n",
      "20103\n",
      "20275\n",
      "20379\n",
      "20175\n",
      "20357\n",
      "20004\n",
      "20377\n",
      "20242\n",
      "20315\n",
      "20232\n",
      "20058\n",
      "20090\n",
      "20154\n"
     ]
    },
    {
     "name": "stderr",
     "output_type": "stream",
     "text": [
      "\r",
      " 44%|████████████████████████████▊                                    | 44.402777777777786/100 [03:43<02:12,  2.38s/it]"
     ]
    },
    {
     "name": "stdout",
     "output_type": "stream",
     "text": [
      "20003\n",
      "20168\n",
      "20034\n",
      "20265\n",
      "20343\n",
      "20027\n",
      "20325\n",
      "20266\n",
      "20278\n",
      "20322\n",
      "20213\n"
     ]
    },
    {
     "name": "stderr",
     "output_type": "stream",
     "text": [
      "\r",
      " 45%|█████████████████████████████▎                                   | 45.046296296296305/100 [03:45<02:06,  2.30s/it]"
     ]
    },
    {
     "name": "stdout",
     "output_type": "stream",
     "text": [
      "20275\n",
      "20058\n",
      "20277\n",
      "20309\n",
      "20315\n",
      "20013\n",
      "20348\n",
      "20181\n",
      "20148\n",
      "20024\n",
      "20244\n",
      "20315\n",
      "20322\n",
      "20209\n",
      "20122\n",
      "20351\n",
      "20309\n",
      "20383\n",
      "20371\n",
      "20217\n",
      "20058\n",
      "20186\n"
     ]
    },
    {
     "name": "stderr",
     "output_type": "stream",
     "text": [
      "\r",
      " 46%|██████████████████████████████▏                                   | 45.69444444444445/100 [03:46<02:05,  2.32s/it]"
     ]
    },
    {
     "name": "stdout",
     "output_type": "stream",
     "text": [
      "20095\n",
      "20259\n",
      "20284\n",
      "20035\n",
      "20222\n",
      "20380\n",
      "20025\n",
      "20111\n",
      "20059\n",
      "20394\n",
      "20249\n",
      "20118\n"
     ]
    },
    {
     "name": "stderr",
     "output_type": "stream",
     "text": [
      "\r",
      " 46%|██████████████████████████████▌                                   | 46.34722222222223/100 [03:48<02:00,  2.25s/it]"
     ]
    },
    {
     "name": "stdout",
     "output_type": "stream",
     "text": [
      "20370\n",
      "20148\n",
      "20279\n",
      "20088\n",
      "20063\n",
      "20097\n",
      "20210\n",
      "20362\n",
      "20044\n",
      "20362\n",
      "20178\n",
      "20033\n",
      "20315\n",
      "20070\n",
      "20391\n",
      "20314\n",
      "20349\n",
      "20085\n",
      "20184\n",
      "20003\n"
     ]
    },
    {
     "name": "stderr",
     "output_type": "stream",
     "text": [
      "\r",
      " 47%|███████████████████████████████                                   | 47.00462962962963/100 [03:50<02:21,  2.66s/it]"
     ]
    },
    {
     "name": "stdout",
     "output_type": "stream",
     "text": [
      "20314\n",
      "20047\n",
      "20163\n",
      "20142\n",
      "20398\n",
      "20016\n",
      "20102\n",
      "20077\n",
      "20100\n",
      "20062\n",
      "20249\n",
      "20355\n",
      "20377\n",
      "20079\n",
      "20314\n"
     ]
    },
    {
     "name": "stderr",
     "output_type": "stream",
     "text": [
      "\r",
      " 48%|███████████████████████████████▍                                  | 47.66666666666667/100 [03:50<01:47,  2.05s/it]"
     ]
    },
    {
     "name": "stdout",
     "output_type": "stream",
     "text": [
      "20259\n",
      "20264\n",
      "20365\n",
      "20183\n",
      "20370\n",
      "20267\n",
      "20061\n",
      "20256\n",
      "20229\n",
      "20170\n",
      "20378\n"
     ]
    },
    {
     "name": "stderr",
     "output_type": "stream",
     "text": [
      "\r",
      " 48%|███████████████████████████████▍                                 | 48.333333333333336/100 [03:53<02:12,  2.56s/it]"
     ]
    },
    {
     "name": "stdout",
     "output_type": "stream",
     "text": [
      "20217\n",
      "20232\n",
      "20216\n",
      "20103\n",
      "20160\n",
      "20148\n",
      "20016\n",
      "20319\n",
      "20080\n",
      "20029\n",
      "20157\n",
      "20237\n",
      "20029\n",
      "20080\n",
      "20063\n",
      "20259\n"
     ]
    },
    {
     "name": "stderr",
     "output_type": "stream",
     "text": [
      "\r",
      " 49%|████████████████████████████████▎                                 | 49.00462962962963/100 [03:54<01:59,  2.35s/it]"
     ]
    },
    {
     "name": "stdout",
     "output_type": "stream",
     "text": [
      "20183\n",
      "20243\n",
      "20280\n",
      "20178\n",
      "20275\n",
      "20160\n",
      "20335\n",
      "20238\n",
      "20081\n",
      "20381\n",
      "20351\n",
      "20158\n",
      "20396\n",
      "20075\n",
      "20359\n",
      "20231\n",
      "20178\n",
      "20252\n",
      "20284\n",
      "20021\n",
      "20115\n"
     ]
    },
    {
     "name": "stderr",
     "output_type": "stream",
     "text": [
      "\r",
      " 50%|████████████████████████████████▊                                 | 49.68055555555556/100 [03:55<01:51,  2.22s/it]"
     ]
    },
    {
     "name": "stdout",
     "output_type": "stream",
     "text": [
      "20105\n",
      "20164\n",
      "20359\n",
      "20285\n",
      "20309\n",
      "20359\n",
      "20158\n",
      "20160\n",
      "20363\n",
      "20141\n",
      "20156\n",
      "20229\n",
      "20147\n",
      "20311\n",
      "20313\n",
      "20312\n"
     ]
    },
    {
     "name": "stderr",
     "output_type": "stream",
     "text": [
      "\r",
      " 50%|████████████████████████████████▋                                | 50.361111111111114/100 [03:56<01:28,  1.79s/it]"
     ]
    },
    {
     "name": "stdout",
     "output_type": "stream",
     "text": [
      "20313\n",
      "20057\n",
      "20081\n",
      "20110\n",
      "20273\n",
      "20365\n",
      "20148\n",
      "20208\n",
      "20045\n",
      "20364\n",
      "20082\n",
      "20208\n",
      "20263\n",
      "20176\n",
      "20276\n",
      "20037\n",
      "20033\n"
     ]
    },
    {
     "name": "stderr",
     "output_type": "stream",
     "text": [
      "\r",
      " 51%|██████████████████████████████████▏                                | 51.0462962962963/100 [03:58<01:49,  2.24s/it]"
     ]
    },
    {
     "name": "stdout",
     "output_type": "stream",
     "text": [
      "20031\n",
      "20012\n",
      "20148\n",
      "20141\n",
      "20280\n",
      "20058\n",
      "20159\n",
      "20028\n",
      "20271\n",
      "20308\n",
      "20080\n",
      "20279\n",
      "20247\n",
      "20263"
     ]
    },
    {
     "name": "stderr",
     "output_type": "stream",
     "text": [
      "\r",
      " 52%|█████████████████████████████████▋                               | 51.736111111111114/100 [04:00<01:41,  2.11s/it]"
     ]
    },
    {
     "name": "stdout",
     "output_type": "stream",
     "text": [
      "\n",
      "20219\n",
      "20040\n",
      "20219\n",
      "20021\n",
      "20391\n",
      "20187\n",
      "20389\n",
      "20309\n",
      "20213\n",
      "20273\n",
      "20278\n",
      "20150\n",
      "20156\n",
      "20021\n",
      "20325"
     ]
    },
    {
     "name": "stderr",
     "output_type": "stream",
     "text": [
      "\r",
      " 52%|██████████████████████████████████▌                               | 52.43055555555556/100 [04:00<01:18,  1.66s/it]"
     ]
    },
    {
     "name": "stdout",
     "output_type": "stream",
     "text": [
      "\n",
      "20069\n",
      "20025\n",
      "20142\n",
      "20315\n",
      "20346\n",
      "20085\n",
      "20314\n",
      "20338\n",
      "20400\n",
      "20401\n",
      "20246\n",
      "20158\n",
      "20107\n",
      "20120\n",
      "20337\n"
     ]
    },
    {
     "name": "stderr",
     "output_type": "stream",
     "text": [
      "\r",
      " 53%|███████████████████████████████████                               | 53.12962962962963/100 [04:02<01:45,  2.26s/it]"
     ]
    },
    {
     "name": "stdout",
     "output_type": "stream",
     "text": [
      "20010\n",
      "20151\n",
      "20038\n",
      "20272\n",
      "20023\n",
      "20086\n",
      "20146\n",
      "20195\n",
      "20005\n",
      "20177\n",
      "20204\n",
      "20243\n",
      "20315\n",
      "20161\n",
      "20147\n",
      "20338\n"
     ]
    },
    {
     "name": "stderr",
     "output_type": "stream",
     "text": [
      "\r",
      " 54%|██████████████████████████████████▉                              | 53.833333333333336/100 [04:04<01:41,  2.21s/it]"
     ]
    },
    {
     "name": "stdout",
     "output_type": "stream",
     "text": [
      "20378\n",
      "20250\n",
      "20400\n",
      "20022\n",
      "20226\n",
      "20346\n",
      "20156\n",
      "20141\n",
      "20115\n",
      "20012\n",
      "20246\n",
      "20157\n",
      "20008\n",
      "20013\n",
      "20183\n",
      "20344\n",
      "20376\n",
      "20162\n"
     ]
    },
    {
     "name": "stderr",
     "output_type": "stream",
     "text": [
      "\r",
      " 55%|███████████████████████████████████▉                              | 54.54166666666667/100 [04:05<01:33,  2.06s/it]"
     ]
    },
    {
     "name": "stdout",
     "output_type": "stream",
     "text": [
      "20309\n",
      "20246\n",
      "20324\n",
      "20351\n",
      "20234\n",
      "20239\n",
      "20033\n",
      "20318\n",
      "20186\n",
      "20237\n",
      "20237\n",
      "20229\n",
      "20327\n"
     ]
    },
    {
     "name": "stderr",
     "output_type": "stream",
     "text": [
      "\r",
      " 55%|████████████████████████████████████▍                             | 55.25462962962963/100 [04:06<01:27,  1.95s/it]"
     ]
    },
    {
     "name": "stdout",
     "output_type": "stream",
     "text": [
      "20270\n",
      "20148\n",
      "20005\n",
      "20108\n",
      "20148\n",
      "20094\n",
      "20315\n",
      "20150\n",
      "20349\n",
      "20048\n",
      "20308\n",
      "20253\n",
      "20359\n",
      "20074\n",
      "20215\n",
      "20362\n",
      "20315\n",
      "20387\n",
      "20080\n",
      "20362\n"
     ]
    },
    {
     "name": "stderr",
     "output_type": "stream",
     "text": [
      "\r",
      " 56%|████████████████████████████████████▉                             | 55.97222222222223/100 [04:08<01:31,  2.08s/it]"
     ]
    },
    {
     "name": "stdout",
     "output_type": "stream",
     "text": [
      "20320\n",
      "20382\n",
      "20341\n",
      "20357\n",
      "20252\n",
      "20075\n",
      "20248\n",
      "20107\n",
      "20101\n",
      "20311\n",
      "20316\n",
      "20069\n",
      "20287\n",
      "20193\n"
     ]
    },
    {
     "name": "stderr",
     "output_type": "stream",
     "text": [
      "\r",
      " 57%|█████████████████████████████████████▍                            | 56.69444444444445/100 [04:11<01:50,  2.55s/it]"
     ]
    },
    {
     "name": "stdout",
     "output_type": "stream",
     "text": [
      "20034\n",
      "20324\n",
      "20343\n",
      "20051\n",
      "20141\n",
      "20230\n",
      "20190\n",
      "20315\n",
      "20078\n",
      "20309\n",
      "20399\n",
      "20007\n",
      "20260\n",
      "20278\n",
      "20071\n",
      "20030\n",
      "20111\n",
      "20272\n"
     ]
    },
    {
     "name": "stderr",
     "output_type": "stream",
     "text": [
      "\r",
      " 57%|█████████████████████████████████████▎                           | 57.421296296296305/100 [04:12<01:42,  2.40s/it]"
     ]
    },
    {
     "name": "stdout",
     "output_type": "stream",
     "text": [
      "20337\n",
      "20224\n",
      "20149\n",
      "20315\n",
      "20094\n",
      "20256\n",
      "20094\n",
      "20083\n",
      "20389\n",
      "20114\n",
      "20010\n",
      "20314\n",
      "20062\n"
     ]
    },
    {
     "name": "stderr",
     "output_type": "stream",
     "text": [
      "\r",
      " 58%|█████████████████████████████████████▊                           | 58.152777777777786/100 [04:15<01:55,  2.76s/it]"
     ]
    },
    {
     "name": "stdout",
     "output_type": "stream",
     "text": [
      "20020\n",
      "20005\n",
      "20148\n",
      "20259\n",
      "20148\n",
      "20167\n",
      "20168\n",
      "20037\n",
      "20219\n",
      "20281\n",
      "20148\n",
      "20264\n",
      "20351\n",
      "20215\n",
      "20229\n",
      "20023\n",
      "20187\n",
      "20105\n",
      "20172\n",
      "20346\n"
     ]
    },
    {
     "name": "stderr",
     "output_type": "stream",
     "text": [
      "\r",
      " 59%|███████████████████████████████████████▍                           | 58.8888888888889/100 [04:17<01:57,  2.85s/it]"
     ]
    },
    {
     "name": "stdout",
     "output_type": "stream",
     "text": [
      "20196\n",
      "20036\n",
      "20227\n",
      "20285\n",
      "20315\n",
      "20347\n",
      "20341\n",
      "20118\n",
      "20347\n",
      "20259\n",
      "20314\n",
      "20332\n",
      "20315\n",
      "20350\n"
     ]
    },
    {
     "name": "stderr",
     "output_type": "stream",
     "text": [
      "\r",
      " 60%|███████████████████████████████████████▎                          | 59.62962962962964/100 [04:19<01:44,  2.58s/it]"
     ]
    },
    {
     "name": "stdout",
     "output_type": "stream",
     "text": [
      "20364\n",
      "20366\n",
      "20210\n",
      "20177\n",
      "20044\n",
      "20148\n",
      "20330\n",
      "20172\n",
      "20069\n",
      "20001\n",
      "20264\n",
      "20315\n",
      "20026\n",
      "20037\n",
      "20155\n",
      "20275\n",
      "20324\n"
     ]
    },
    {
     "name": "stderr",
     "output_type": "stream",
     "text": [
      "\r",
      " 60%|███████████████████████████████████████▏                         | 60.375000000000014/100 [04:20<01:38,  2.47s/it]"
     ]
    },
    {
     "name": "stdout",
     "output_type": "stream",
     "text": [
      "20063\n",
      "20058\n",
      "20005\n",
      "20369\n",
      "20111\n",
      "20110\n",
      "20236\n",
      "20277\n",
      "20336\n",
      "20309\n",
      "20195\n"
     ]
    },
    {
     "name": "stderr",
     "output_type": "stream",
     "text": [
      "\r",
      " 61%|███████████████████████████████████████▋                         | 61.125000000000014/100 [04:22<01:28,  2.29s/it]"
     ]
    },
    {
     "name": "stdout",
     "output_type": "stream",
     "text": [
      "20083\n",
      "20313\n",
      "20188\n",
      "20184\n",
      "20381\n",
      "20314\n",
      "20044\n",
      "20020\n",
      "20148\n",
      "20008\n",
      "20392\n",
      "20260\n",
      "20022\n",
      "20367\n",
      "20256\n",
      "20174\n",
      "20009\n",
      "20098\n",
      "20158\n",
      "20263\n",
      "20314"
     ]
    },
    {
     "name": "stderr",
     "output_type": "stream",
     "text": [
      "\r",
      " 62%|████████████████████████████████████████▊                         | 61.87962962962964/100 [04:23<01:23,  2.19s/it]"
     ]
    },
    {
     "name": "stdout",
     "output_type": "stream",
     "text": [
      "\n",
      "20010\n",
      "20331\n",
      "20056\n",
      "20255\n",
      "20221\n",
      "20394\n",
      "20186\n",
      "20087\n",
      "20121\n",
      "20314\n",
      "20148\n",
      "20193\n",
      "20244\n",
      "20042\n",
      "20395\n",
      "20314"
     ]
    },
    {
     "name": "stderr",
     "output_type": "stream",
     "text": [
      "\r",
      " 63%|█████████████████████████████████████████▉                         | 62.6388888888889/100 [04:26<01:36,  2.58s/it]"
     ]
    },
    {
     "name": "stdout",
     "output_type": "stream",
     "text": [
      "\n",
      "20061\n",
      "20184\n",
      "20286\n",
      "20400\n",
      "20314\n",
      "20258\n",
      "20249\n",
      "20379\n",
      "20276\n",
      "20117\n",
      "20228\n",
      "20117\n",
      "20220\n",
      "20286\n",
      "20100\n",
      "20220\n"
     ]
    },
    {
     "name": "stderr",
     "output_type": "stream",
     "text": [
      "\r",
      " 63%|█████████████████████████████████████████▏                       | 63.402777777777786/100 [04:27<01:26,  2.35s/it]"
     ]
    },
    {
     "name": "stdout",
     "output_type": "stream",
     "text": [
      "20198\n",
      "20382\n",
      "20269\n",
      "20315\n",
      "20250\n",
      "20179\n",
      "20321\n",
      "20313\n",
      "20397\n",
      "20083\n",
      "20253\n",
      "20365\n",
      "20238\n",
      "20368\n",
      "20203\n"
     ]
    },
    {
     "name": "stderr",
     "output_type": "stream",
     "text": [
      "\r",
      " 64%|██████████████████████████████████████████▉                        | 64.1712962962963/100 [04:29<01:19,  2.23s/it]"
     ]
    },
    {
     "name": "stdout",
     "output_type": "stream",
     "text": [
      "20197\n",
      "20181\n",
      "20357\n",
      "20377\n",
      "20074\n",
      "20102\n",
      "20082\n",
      "20310\n",
      "20377\n",
      "20251\n",
      "20018\n",
      "20258\n",
      "20015\n",
      "20224\n"
     ]
    },
    {
     "name": "stderr",
     "output_type": "stream",
     "text": [
      "\r",
      " 65%|██████████████████████████████████████████▊                       | 64.94444444444446/100 [04:31<01:27,  2.50s/it]"
     ]
    },
    {
     "name": "stdout",
     "output_type": "stream",
     "text": [
      "20219\n",
      "20180\n",
      "20026\n",
      "20399\n",
      "20052\n",
      "20241\n",
      "20021\n",
      "20070\n",
      "20265\n",
      "20147\n",
      "20144\n",
      "20262\n",
      "20165\n",
      "20172\n",
      "20090\n",
      "20272\n",
      "20068\n"
     ]
    },
    {
     "name": "stderr",
     "output_type": "stream",
     "text": [
      "\r",
      " 66%|███████████████████████████████████████████▍                      | 65.72222222222223/100 [04:33<01:20,  2.35s/it]"
     ]
    },
    {
     "name": "stdout",
     "output_type": "stream",
     "text": [
      "20200\n",
      "20204\n",
      "20322\n",
      "20175\n",
      "20003\n",
      "20148\n",
      "20151\n",
      "20052\n",
      "20332\n",
      "20311\n",
      "20357\n",
      "20258\n",
      "20261\n",
      "20207\n",
      "20311\n",
      "20312\n",
      "20384\n",
      "20187\n",
      "20148\n"
     ]
    },
    {
     "name": "stderr",
     "output_type": "stream",
     "text": [
      "\r",
      " 67%|███████████████████████████████████████████▉                      | 66.50462962962963/100 [04:34<01:18,  2.35s/it]"
     ]
    },
    {
     "name": "stdout",
     "output_type": "stream",
     "text": [
      "20046\n",
      "20363\n",
      "20329\n",
      "20183\n",
      "20044\n",
      "20349\n",
      "20314\n",
      "20017\n",
      "20168\n",
      "20375\n",
      "20028\n",
      "20067\n",
      "20086\n",
      "20048\n",
      "20237\n",
      "20048\n"
     ]
    },
    {
     "name": "stderr",
     "output_type": "stream",
     "text": [
      "\r",
      " 67%|████████████████████████████████████████████▍                     | 67.29166666666667/100 [04:36<01:19,  2.44s/it]"
     ]
    },
    {
     "name": "stdout",
     "output_type": "stream",
     "text": [
      "20248\n",
      "20233\n",
      "20277\n",
      "20311\n",
      "20367\n",
      "20269\n",
      "20120\n",
      "20325\n",
      "20152\n",
      "20400\n",
      "20315\n",
      "20083\n",
      "20069\n"
     ]
    },
    {
     "name": "stderr",
     "output_type": "stream",
     "text": [
      "\r",
      " 68%|████████████████████████████████████████████▉                     | 68.08333333333334/100 [04:38<01:13,  2.29s/it]"
     ]
    },
    {
     "name": "stdout",
     "output_type": "stream",
     "text": [
      "20156\n",
      "20073\n",
      "20233\n",
      "20079\n",
      "20385\n",
      "20077\n",
      "20154\n",
      "20123\n",
      "20049\n",
      "20080\n",
      "20019\n",
      "20315\n",
      "20315\n",
      "20353\n",
      "20002\n",
      "20180\n",
      "20172\n",
      "20322\n",
      "20186\n"
     ]
    },
    {
     "name": "stderr",
     "output_type": "stream",
     "text": [
      "\r",
      " 69%|█████████████████████████████████████████████▍                    | 68.87962962962963/100 [04:41<01:19,  2.56s/it]"
     ]
    },
    {
     "name": "stdout",
     "output_type": "stream",
     "text": [
      "20199\n",
      "20241\n",
      "20155\n",
      "20311\n",
      "20245\n",
      "20230\n",
      "20148\n",
      "20062\n",
      "20091\n",
      "20171\n",
      "20322\n"
     ]
    },
    {
     "name": "stderr",
     "output_type": "stream",
     "text": [
      "\r",
      " 70%|█████████████████████████████████████████████▉                    | 69.68055555555556/100 [04:42<01:08,  2.24s/it]"
     ]
    },
    {
     "name": "stdout",
     "output_type": "stream",
     "text": [
      "20208\n",
      "20397\n",
      "20315\n",
      "20148\n",
      "20069\n",
      "20264\n",
      "20314\n",
      "20096\n",
      "20225\n",
      "20038\n",
      "20370\n",
      "20359\n",
      "20344\n",
      "20025\n",
      "20197\n"
     ]
    },
    {
     "name": "stderr",
     "output_type": "stream",
     "text": [
      "\r",
      " 70%|██████████████████████████████████████████████▌                   | 70.48611111111111/100 [04:42<00:51,  1.73s/it]"
     ]
    },
    {
     "name": "stdout",
     "output_type": "stream",
     "text": [
      "20254\n",
      "20314\n",
      "20314\n",
      "20103\n",
      "20365\n",
      "20318\n",
      "20081\n",
      "20222\n",
      "20021\n",
      "20210\n",
      "20317\n",
      "20283\n",
      "20011\n",
      "20311\n",
      "20222\n",
      "20367\n"
     ]
    },
    {
     "name": "stderr",
     "output_type": "stream",
     "text": [
      "\r",
      " 71%|███████████████████████████████████████████████▊                   | 71.2962962962963/100 [04:45<01:01,  2.15s/it]"
     ]
    },
    {
     "name": "stdout",
     "output_type": "stream",
     "text": [
      "20351\n",
      "20320\n",
      "20123\n",
      "20159\n",
      "20194\n",
      "20022\n",
      "20262\n",
      "20001\n",
      "20315\n",
      "20315\n",
      "20089\n",
      "20063\n",
      "20024\n",
      "20269\n",
      "20014\n",
      "20148\n"
     ]
    },
    {
     "name": "stderr",
     "output_type": "stream",
     "text": [
      "\r",
      " 72%|███████████████████████████████████████████████▌                  | 72.11111111111111/100 [04:47<01:06,  2.39s/it]"
     ]
    },
    {
     "name": "stdout",
     "output_type": "stream",
     "text": [
      "20280\n",
      "20320\n",
      "20176\n",
      "20394\n",
      "20255\n",
      "20119\n",
      "20192\n",
      "20351\n",
      "20033\n",
      "20041\n",
      "20058\n",
      "20058\n",
      "20368\n",
      "20141\n",
      "20151\n"
     ]
    },
    {
     "name": "stderr",
     "output_type": "stream",
     "text": [
      "\r",
      " 73%|████████████████████████████████████████████████▏                 | 72.93055555555556/100 [04:48<00:49,  1.83s/it]"
     ]
    },
    {
     "name": "stdout",
     "output_type": "stream",
     "text": [
      "20327\n",
      "20020\n",
      "20327\n",
      "20097\n",
      "20360\n",
      "20104\n",
      "20109\n",
      "20084\n",
      "20093\n",
      "20339\n",
      "20351\n",
      "20356\n",
      "20339\n",
      "20245\n",
      "20017\n",
      "20070\n",
      "20075\n",
      "20147\n",
      "20181\n",
      "20075\n",
      "20359\n",
      "20250\n",
      "20220\n"
     ]
    },
    {
     "name": "stderr",
     "output_type": "stream",
     "text": [
      "\r",
      " 74%|████████████████████████████████████████████████▋                 | 73.75462962962963/100 [04:50<00:56,  2.16s/it]"
     ]
    },
    {
     "name": "stdout",
     "output_type": "stream",
     "text": [
      "20366\n",
      "20210\n",
      "20310\n",
      "20401\n",
      "20389\n",
      "20348\n",
      "20337\n",
      "20060\n",
      "20151\n",
      "20115\n",
      "20069\n",
      "20391\n",
      "20313\n",
      "20288\n",
      "20013\n",
      "20259\n"
     ]
    },
    {
     "name": "stderr",
     "output_type": "stream",
     "text": [
      "\r",
      " 75%|█████████████████████████████████████████████████▏                | 74.58333333333334/100 [04:52<00:52,  2.06s/it]"
     ]
    },
    {
     "name": "stdout",
     "output_type": "stream",
     "text": [
      "20326\n",
      "20312\n",
      "20328\n",
      "20051\n",
      "20289\n",
      "20151\n",
      "20261\n",
      "20367\n",
      "20357\n"
     ]
    },
    {
     "name": "stderr",
     "output_type": "stream",
     "text": [
      "\r",
      " 75%|█████████████████████████████████████████████████▊                | 75.41666666666667/100 [04:53<00:49,  2.00s/it]"
     ]
    },
    {
     "name": "stdout",
     "output_type": "stream",
     "text": [
      "20014\n",
      "20315\n",
      "20181\n",
      "20004\n",
      "20092\n",
      "20168\n",
      "20064\n",
      "20369\n",
      "20202\n",
      "20098\n",
      "20315\n",
      "20364\n",
      "20086\n",
      "20014\n",
      "20314\n",
      "20092\n",
      "20224\n",
      "20324\n"
     ]
    },
    {
     "name": "stderr",
     "output_type": "stream",
     "text": [
      "\r",
      " 76%|██████████████████████████████████████████████████▎               | 76.25462962962963/100 [04:55<00:53,  2.27s/it]"
     ]
    },
    {
     "name": "stdout",
     "output_type": "stream",
     "text": [
      "20342\n",
      "20147\n",
      "20217\n",
      "20398\n",
      "20349\n",
      "20260\n",
      "20092\n",
      "20326\n",
      "20149\n",
      "20148\n",
      "20015\n",
      "20226\n",
      "20160\n",
      "20049\n",
      "20146\n",
      "20361\n",
      "20082\n",
      "20377\n",
      "20051\n",
      "20341\n"
     ]
    },
    {
     "name": "stderr",
     "output_type": "stream",
     "text": [
      "\r",
      " 77%|██████████████████████████████████████████████████▉               | 77.09722222222223/100 [04:57<00:48,  2.10s/it]"
     ]
    },
    {
     "name": "stdout",
     "output_type": "stream",
     "text": [
      "20359\n",
      "20179\n",
      "20090\n",
      "20255\n",
      "20225\n",
      "20251\n",
      "20170\n",
      "20008\n",
      "20347\n",
      "20057\n",
      "20108\n",
      "20118\n",
      "20274\n",
      "20226\n",
      "20385\n",
      "20244\n",
      "20316\n",
      "20170"
     ]
    },
    {
     "name": "stderr",
     "output_type": "stream",
     "text": [
      "\r",
      " 78%|███████████████████████████████████████████████████▍              | 77.94444444444446/100 [04:59<00:44,  2.03s/it]"
     ]
    },
    {
     "name": "stdout",
     "output_type": "stream",
     "text": [
      "\n",
      "20198\n",
      "20026\n",
      "20281\n",
      "20203\n",
      "20060\n",
      "20381\n",
      "20058\n",
      "20363\n",
      "20278\n",
      "20122\n",
      "20172\n"
     ]
    },
    {
     "name": "stderr",
     "output_type": "stream",
     "text": [
      "\r",
      " 79%|████████████████████████████████████████████████████▊              | 78.7962962962963/100 [05:01<00:48,  2.30s/it]"
     ]
    },
    {
     "name": "stdout",
     "output_type": "stream",
     "text": [
      "20029\n",
      "20388\n",
      "20274\n",
      "20062\n",
      "20352\n",
      "20328\n",
      "20313\n",
      "20055\n",
      "20208\n",
      "20009\n",
      "20004\n",
      "20314\n",
      "20148\n",
      "20362\n",
      "20186\n",
      "20315\n"
     ]
    },
    {
     "name": "stderr",
     "output_type": "stream",
     "text": [
      "\r",
      " 80%|████████████████████████████████████████████████████▌             | 79.65277777777779/100 [05:02<00:42,  2.07s/it]"
     ]
    },
    {
     "name": "stdout",
     "output_type": "stream",
     "text": [
      "20021\n",
      "20253\n",
      "20011\n",
      "20274\n",
      "20389\n",
      "20201\n",
      "20284\n",
      "20107\n",
      "20330\n",
      "20260\n",
      "20240\n",
      "20106\n",
      "20339\n",
      "20185\n",
      "20314\n",
      "20148\n",
      "20007\n",
      "20192\n",
      "20252\n"
     ]
    },
    {
     "name": "stderr",
     "output_type": "stream",
     "text": [
      "\r",
      " 81%|█████████████████████████████████████████████████████▉             | 80.5138888888889/100 [05:04<00:36,  1.89s/it]"
     ]
    },
    {
     "name": "stdout",
     "output_type": "stream",
     "text": [
      "20163\n",
      "20154\n",
      "20012\n",
      "20117\n",
      "20240\n",
      "20355\n",
      "20174\n",
      "20374\n",
      "20154\n",
      "20214\n",
      "20005\n",
      "20391\n",
      "20347\n",
      "20176\n",
      "20281"
     ]
    },
    {
     "name": "stderr",
     "output_type": "stream",
     "text": [
      "\r",
      " 81%|█████████████████████████████████████████████████████▋            | 81.37962962962965/100 [05:04<00:27,  1.47s/it]"
     ]
    },
    {
     "name": "stdout",
     "output_type": "stream",
     "text": [
      "\n",
      "20148\n",
      "20242\n",
      "20200\n",
      "20225\n",
      "20017\n",
      "20152\n",
      "20094\n",
      "20376\n",
      "20345\n",
      "20387\n",
      "20245\n",
      "20235\n"
     ]
    },
    {
     "name": "stderr",
     "output_type": "stream",
     "text": [
      "\r",
      " 82%|██████████████████████████████████████████████████████▎           | 82.25000000000001/100 [05:05<00:26,  1.48s/it]"
     ]
    },
    {
     "name": "stdout",
     "output_type": "stream",
     "text": [
      "20032\n",
      "20164\n",
      "20123\n",
      "20200\n",
      "20033\n",
      "20351\n",
      "20123\n",
      "20314\n",
      "20374\n",
      "20236\n",
      "20087\n",
      "20113\n",
      "20225\n",
      "20351\n",
      "20101\n",
      "20122\n",
      "20309\n",
      "20348"
     ]
    },
    {
     "name": "stderr",
     "output_type": "stream",
     "text": [
      "\r",
      " 83%|██████████████████████████████████████████████████████▊           | 83.12500000000001/100 [05:07<00:24,  1.45s/it]"
     ]
    },
    {
     "name": "stdout",
     "output_type": "stream",
     "text": [
      "\n",
      "20093\n",
      "20077\n",
      "20180\n",
      "20357\n",
      "20231\n",
      "20013\n",
      "20399\n",
      "20025\n",
      "20249\n",
      "20104\n",
      "20069\n",
      "20047\n",
      "20094\n",
      "20199\n",
      "20385"
     ]
    },
    {
     "name": "stderr",
     "output_type": "stream",
     "text": [
      "\r",
      " 84%|███████████████████████████████████████████████████████▍          | 84.00462962962965/100 [05:08<00:23,  1.45s/it]"
     ]
    },
    {
     "name": "stdout",
     "output_type": "stream",
     "text": [
      "\n",
      "20021\n",
      "20033\n",
      "20148\n",
      "20113\n",
      "20207\n",
      "20197\n",
      "20166\n",
      "20371\n",
      "20241\n",
      "20118\n",
      "20191\n",
      "20162\n",
      "20382\n",
      "20220\n",
      "20335\n",
      "20319\n",
      "20322\n",
      "20238\n",
      "20349\n",
      "20144\n"
     ]
    },
    {
     "name": "stderr",
     "output_type": "stream",
     "text": [
      "\r",
      " 85%|████████████████████████████████████████████████████████▉          | 84.8888888888889/100 [05:10<00:28,  1.87s/it]"
     ]
    },
    {
     "name": "stdout",
     "output_type": "stream",
     "text": [
      "20377\n",
      "20108\n",
      "20378\n",
      "20289\n",
      "20052\n",
      "20314\n",
      "20190\n",
      "20071\n",
      "20012\n",
      "20018\n",
      "20183\n",
      "20346\n",
      "20055\n",
      "20007"
     ]
    },
    {
     "name": "stderr",
     "output_type": "stream",
     "text": [
      "\r",
      " 86%|████████████████████████████████████████████████████████▌         | 85.77777777777779/100 [05:11<00:20,  1.47s/it]"
     ]
    },
    {
     "name": "stdout",
     "output_type": "stream",
     "text": [
      "\n",
      "20086\n",
      "20328\n",
      "20320\n",
      "20314\n",
      "20264\n",
      "20120\n",
      "20314\n",
      "20370\n",
      "20338\n",
      "20098\n",
      "20201\n",
      "20010\n",
      "20031\n",
      "20013\n"
     ]
    },
    {
     "name": "stderr",
     "output_type": "stream",
     "text": [
      "\r",
      " 87%|██████████████████████████████████████████████████████████         | 86.6712962962963/100 [05:12<00:19,  1.46s/it]"
     ]
    },
    {
     "name": "stdout",
     "output_type": "stream",
     "text": [
      "20147\n",
      "20287\n",
      "20165\n",
      "20073\n",
      "20120\n",
      "20074\n",
      "20314\n",
      "20055\n",
      "20024\n",
      "20211\n",
      "20148\n",
      "20324\n",
      "20065\n",
      "20361\n",
      "20054\n",
      "20013\n",
      "20074\n",
      "20328"
     ]
    },
    {
     "name": "stderr",
     "output_type": "stream",
     "text": [
      "\r",
      " 88%|█████████████████████████████████████████████████████████▊        | 87.56944444444446/100 [05:14<00:18,  1.49s/it]"
     ]
    },
    {
     "name": "stdout",
     "output_type": "stream",
     "text": [
      "\n",
      "20101\n",
      "20229\n",
      "20148\n",
      "20217\n",
      "20330\n",
      "20234\n",
      "20078\n",
      "20072\n",
      "20328\n",
      "20191\n",
      "20063\n",
      "20203\n",
      "20311\n",
      "20163\n",
      "20113\n",
      "20228\n",
      "20274\n",
      "20315\n",
      "20290\n"
     ]
    },
    {
     "name": "stderr",
     "output_type": "stream",
     "text": [
      "\r",
      " 88%|██████████████████████████████████████████████████████████▍       | 88.47222222222223/100 [05:16<00:20,  1.79s/it]"
     ]
    },
    {
     "name": "stdout",
     "output_type": "stream",
     "text": [
      "20191\n",
      "20267\n",
      "20349\n",
      "20374\n",
      "20379\n",
      "20043\n",
      "20062\n",
      "20224\n",
      "20321\n",
      "20359\n",
      "20030\n",
      "20350\n",
      "20330\n",
      "20156\n"
     ]
    },
    {
     "name": "stderr",
     "output_type": "stream",
     "text": [
      "\r",
      " 89%|██████████████████████████████████████████████████████████▉       | 89.37962962962963/100 [05:16<00:14,  1.41s/it]"
     ]
    },
    {
     "name": "stdout",
     "output_type": "stream",
     "text": [
      "20221\n",
      "20270\n",
      "20181\n",
      "20114\n",
      "20381\n",
      "20394\n",
      "20309\n",
      "20239\n",
      "20110\n",
      "20054\n",
      "20080\n",
      "20241\n",
      "20196\n",
      "20147\n"
     ]
    },
    {
     "name": "stderr",
     "output_type": "stream",
     "text": [
      "\r",
      " 90%|███████████████████████████████████████████████████████████▌      | 90.29166666666667/100 [05:18<00:13,  1.41s/it]"
     ]
    },
    {
     "name": "stdout",
     "output_type": "stream",
     "text": [
      "20093\n",
      "20192\n",
      "20278\n",
      "20380\n",
      "20269\n",
      "20394\n",
      "20096\n",
      "20206\n",
      "20095\n",
      "20360\n",
      "20195\n",
      "20147\n",
      "20216\n",
      "20229\n",
      "20148\n",
      "20148\n",
      "20069\n"
     ]
    },
    {
     "name": "stderr",
     "output_type": "stream",
     "text": [
      "\r",
      " 91%|████████████████████████████████████████████████████████████▏     | 91.20833333333334/100 [05:19<00:12,  1.40s/it]"
     ]
    },
    {
     "name": "stdout",
     "output_type": "stream",
     "text": [
      "20117\n",
      "20089\n",
      "20370\n",
      "20313\n",
      "20324\n",
      "20261\n",
      "20276\n",
      "20109\n",
      "20314\n",
      "20027\n",
      "20290\n",
      "20345\n",
      "20148\n",
      "20019\n",
      "20195\n",
      "20009\n",
      "20336\n",
      "20248\n",
      "20217\n"
     ]
    },
    {
     "name": "stderr",
     "output_type": "stream",
     "text": [
      "\r",
      " 92%|████████████████████████████████████████████████████████████▊     | 92.12962962962963/100 [05:20<00:11,  1.51s/it]"
     ]
    },
    {
     "name": "stdout",
     "output_type": "stream",
     "text": [
      "20243\n",
      "20228\n",
      "20314\n",
      "20257\n",
      "20280\n",
      "20315\n",
      "20348\n",
      "20064\n",
      "20170\n",
      "20316\n",
      "20010\n",
      "20176\n",
      "20018\n",
      "20204\n"
     ]
    },
    {
     "name": "stderr",
     "output_type": "stream",
     "text": [
      "\r",
      " 93%|█████████████████████████████████████████████████████████████▍    | 93.05555555555556/100 [05:23<00:12,  1.79s/it]"
     ]
    },
    {
     "name": "stdout",
     "output_type": "stream",
     "text": [
      "20109\n",
      "20028\n",
      "20099\n",
      "20394\n",
      "20204\n",
      "20247\n",
      "20029\n",
      "20148\n",
      "20383\n",
      "20345\n",
      "20148\n",
      "20098\n",
      "20117\n",
      "20021\n",
      "20398\n"
     ]
    },
    {
     "name": "stderr",
     "output_type": "stream",
     "text": [
      "\r",
      " 94%|██████████████████████████████████████████████████████████████    | 93.98611111111111/100 [05:23<00:08,  1.40s/it]"
     ]
    },
    {
     "name": "stdout",
     "output_type": "stream",
     "text": [
      "20070\n",
      "20029\n",
      "20089\n",
      "20121\n",
      "20316\n",
      "20261\n",
      "20034\n",
      "20106\n",
      "20056\n",
      "20088\n",
      "20226\n",
      "20072\n",
      "20254\n",
      "20044\n",
      "20182\n",
      "20315\n",
      "20148\n",
      "20024\n"
     ]
    },
    {
     "name": "stderr",
     "output_type": "stream",
     "text": [
      "\r",
      " 95%|███████████████████████████████████████████████████████████████▌   | 94.9212962962963/100 [05:27<00:10,  2.07s/it]"
     ]
    },
    {
     "name": "stdout",
     "output_type": "stream",
     "text": [
      "20114\n",
      "20279\n",
      "20350\n",
      "20228\n",
      "20348\n",
      "20033\n",
      "20319\n",
      "20401\n",
      "20255\n",
      "20249\n",
      "20239\n",
      "20238\n",
      "20079\n",
      "20393\n",
      "20094\n"
     ]
    },
    {
     "name": "stderr",
     "output_type": "stream",
     "text": [
      "\r",
      " 96%|███████████████████████████████████████████████████████████████▎  | 95.86111111111111/100 [05:27<00:06,  1.60s/it]"
     ]
    },
    {
     "name": "stdout",
     "output_type": "stream",
     "text": [
      "20018\n",
      "20097\n",
      "20103\n",
      "20164\n",
      "20319\n",
      "20110\n",
      "20361\n",
      "20153\n",
      "20309\n",
      "20084\n",
      "20022\n",
      "20243\n"
     ]
    },
    {
     "name": "stderr",
     "output_type": "stream",
     "text": [
      "\r",
      " 97%|███████████████████████████████████████████████████████████████▉  | 96.80555555555556/100 [05:28<00:04,  1.52s/it]"
     ]
    },
    {
     "name": "stdout",
     "output_type": "stream",
     "text": [
      "20148\n",
      "20148\n",
      "20268\n",
      "20391\n",
      "20090\n",
      "20359\n",
      "20148\n",
      "20382\n",
      "20267\n",
      "20082\n",
      "20114\n",
      "20147\n",
      "20214\n",
      "20117\n",
      "20089\n",
      "20041\n",
      "20044\n",
      "20285\n"
     ]
    },
    {
     "name": "stderr",
     "output_type": "stream",
     "text": [
      "\r",
      " 98%|████████████████████████████████████████████████████████████████▌ | 97.75462962962963/100 [05:29<00:03,  1.45s/it]"
     ]
    },
    {
     "name": "stdout",
     "output_type": "stream",
     "text": [
      "20339\n",
      "20270\n",
      "20329\n",
      "20003\n",
      "20198\n",
      "20050\n",
      "20148\n",
      "20335\n",
      "20015\n",
      "20208\n",
      "20266\n",
      "20171\n",
      "20043\n",
      "20381\n",
      "20370\n"
     ]
    },
    {
     "name": "stderr",
     "output_type": "stream",
     "text": [
      "\r",
      " 99%|█████████████████████████████████████████████████████████████████▏| 98.70833333333334/100 [05:30<00:01,  1.17s/it]"
     ]
    },
    {
     "name": "stdout",
     "output_type": "stream",
     "text": [
      "20221\n",
      "20148\n",
      "20190\n",
      "20151\n",
      "20340\n",
      "20145\n",
      "20243\n",
      "20375\n",
      "20117\n",
      "20243\n",
      "20314\n",
      "20351\n",
      "20366\n",
      "20333\n",
      "20243\n",
      "20123\n",
      "20315\n",
      "20061\n",
      "20218\n",
      "20277\n",
      "20159\n"
     ]
    },
    {
     "name": "stderr",
     "output_type": "stream",
     "text": [
      "\r",
      "100%|█████████████████████████████████████████████████████████████████▊| 99.66666666666667/100 [05:32<00:00,  1.37s/it]"
     ]
    },
    {
     "name": "stdout",
     "output_type": "stream",
     "text": [
      "20398\n",
      "20042\n",
      "20166\n",
      "20012\n",
      "20276\n",
      "20105\n",
      "20069\n",
      "20092\n",
      "20077\n",
      "20346\n",
      "20314\n",
      "20020\n",
      "20194\n",
      "20023\n",
      "20385\n",
      "20035\n"
     ]
    },
    {
     "name": "stderr",
     "output_type": "stream",
     "text": [
      "\r",
      "100.62962962962963it [05:34,  1.54s/it]                                                                                "
     ]
    },
    {
     "name": "stdout",
     "output_type": "stream",
     "text": [
      "20227\n",
      "20386\n",
      "20231\n",
      "20352\n",
      "20164\n",
      "20162\n",
      "20166\n",
      "20264\n",
      "20330\n",
      "20379\n",
      "20114\n",
      "20002\n",
      "20248\n",
      "20021\n"
     ]
    },
    {
     "name": "stderr",
     "output_type": "stream",
     "text": [
      "\r",
      "101.59722222222223it [05:35,  1.50s/it]"
     ]
    },
    {
     "name": "stdout",
     "output_type": "stream",
     "text": [
      "20263\n",
      "20170\n",
      "20383\n",
      "20243\n",
      "20081\n",
      "20167\n",
      "20148\n",
      "20250\n",
      "20324\n",
      "20003\n",
      "20043\n",
      "20159\n",
      "20112\n",
      "20144\n",
      "20331\n",
      "20342\n",
      "20143\n",
      "20080\n"
     ]
    },
    {
     "name": "stderr",
     "output_type": "stream",
     "text": [
      "\r",
      "102.56944444444446it [05:36,  1.50s/it]"
     ]
    },
    {
     "name": "stdout",
     "output_type": "stream",
     "text": [
      "20227\n",
      "20189\n",
      "20399\n",
      "20174\n",
      "20148\n",
      "20169\n",
      "20155\n",
      "20233\n",
      "20352\n",
      "20148\n",
      "20158\n",
      "20381\n"
     ]
    },
    {
     "name": "stderr",
     "output_type": "stream",
     "text": [
      "\r",
      "103.5462962962963it [05:38,  1.48s/it] "
     ]
    },
    {
     "name": "stdout",
     "output_type": "stream",
     "text": [
      "20205\n",
      "20168\n",
      "20244\n",
      "20314\n",
      "20034\n",
      "20061\n",
      "20084\n",
      "20036\n",
      "20145\n",
      "20190\n",
      "20253\n",
      "20148\n",
      "20033\n",
      "20247\n",
      "20058\n",
      "20113\n"
     ]
    },
    {
     "name": "stderr",
     "output_type": "stream",
     "text": [
      "\r",
      "104.52777777777779it [05:39,  1.40s/it]"
     ]
    },
    {
     "name": "stdout",
     "output_type": "stream",
     "text": [
      "20331\n",
      "20177\n",
      "20399\n",
      "20089\n",
      "20044\n",
      "20209\n",
      "20107\n",
      "20004\n",
      "20232\n",
      "20314\n",
      "20044\n",
      "20389\n",
      "20149\n",
      "20363\n",
      "20210\n"
     ]
    },
    {
     "name": "stderr",
     "output_type": "stream",
     "text": [
      "\r",
      "105.5138888888889it [05:39,  1.12s/it] "
     ]
    },
    {
     "name": "stdout",
     "output_type": "stream",
     "text": [
      "20090\n",
      "20122\n",
      "20192\n",
      "20142\n",
      "20167\n",
      "20315\n",
      "20338\n",
      "20157\n",
      "20172\n",
      "20308\n",
      "20311\n",
      "20038\n",
      "20034\n",
      "20314\n",
      "20340\n",
      "20256\n",
      "20147\n",
      "20191\n",
      "20039\n",
      "20167\n",
      "20076\n",
      "20148"
     ]
    },
    {
     "name": "stderr",
     "output_type": "stream",
     "text": [
      "\r",
      "106.50462962962965it [05:41,  1.14s/it]"
     ]
    },
    {
     "name": "stdout",
     "output_type": "stream",
     "text": [
      "\n",
      "20366\n",
      "20093\n",
      "20142\n",
      "20063\n",
      "20148\n",
      "20074\n",
      "20110\n",
      "20083\n",
      "20070\n",
      "20148\n",
      "20027\n",
      "20202\n",
      "20386\n",
      "20325\n",
      "20180\n",
      "20366"
     ]
    },
    {
     "name": "stderr",
     "output_type": "stream",
     "text": [
      "\r",
      "107.50000000000001it [05:42,  1.19s/it]"
     ]
    },
    {
     "name": "stdout",
     "output_type": "stream",
     "text": [
      "\n",
      "20073\n",
      "20194\n",
      "20190\n",
      "20281\n",
      "20100\n",
      "20376\n",
      "20112\n",
      "20121\n",
      "20330\n",
      "20329\n"
     ]
    },
    {
     "name": "stderr",
     "output_type": "stream",
     "text": [
      "108.50000000000001it [05:43,  3.17s/it]\n",
      "  0%|                                                                                          | 0/100 [00:00<?, ?it/s]"
     ]
    },
    {
     "name": "stdout",
     "output_type": "stream",
     "text": [
      "20253\n",
      "20319\n",
      "20004\n",
      "20105\n",
      "20117\n",
      "20382\n",
      "20002\n",
      "20226\n",
      "20078\n",
      "20324\n",
      "20235\n",
      "20193\n",
      "20141\n",
      "20359\n",
      "20330\n",
      "20300\n",
      "20071\n",
      "20345\n",
      "20285\n"
     ]
    },
    {
     "name": "stderr",
     "output_type": "stream",
     "text": [
      "\r",
      "  0%|                                                           | 0.004629629629629629/100 [00:02<14:01:57, 505.20s/it]"
     ]
    },
    {
     "name": "stdout",
     "output_type": "stream",
     "text": [
      "20206\n",
      "20123\n",
      "20007\n",
      "20183\n",
      "20110\n",
      "20394\n",
      "20120\n",
      "20297\n",
      "20228\n",
      "20079\n",
      "20306\n",
      "20337\n",
      "20160\n",
      "20201\n",
      "20357\n",
      "20012\n",
      "20399\n",
      "20230\n"
     ]
    },
    {
     "name": "stderr",
     "output_type": "stream",
     "text": [
      "\r",
      "  0%|                                                            | 0.013888888888888888/100 [00:03<6:38:41, 239.25s/it]"
     ]
    },
    {
     "name": "stdout",
     "output_type": "stream",
     "text": [
      "20021\n",
      "20345\n",
      "20208\n",
      "20284\n",
      "20103\n",
      "20369\n",
      "20198\n",
      "20038\n",
      "20331\n",
      "20032\n",
      "20114\n",
      "20155\n",
      "20258\n",
      "20207\n",
      "20174\n",
      "20057\n"
     ]
    },
    {
     "name": "stderr",
     "output_type": "stream",
     "text": [
      "\r",
      "  0%|                                                            | 0.027777777777777776/100 [00:05<4:29:20, 161.65s/it]"
     ]
    },
    {
     "name": "stdout",
     "output_type": "stream",
     "text": [
      "20391\n",
      "20031\n",
      "20003\n",
      "20367\n",
      "20166\n",
      "20303\n",
      "20076\n",
      "20042\n",
      "20170\n"
     ]
    },
    {
     "name": "stderr",
     "output_type": "stream",
     "text": [
      "\r",
      "  0%|                                                            | 0.046296296296296294/100 [00:06<3:01:16, 108.82s/it]"
     ]
    },
    {
     "name": "stdout",
     "output_type": "stream",
     "text": [
      "20272\n",
      "20212\n",
      "20331\n",
      "20336\n",
      "20110\n",
      "20201\n",
      "20349\n",
      "20061\n",
      "20389\n",
      "20216\n",
      "20089\n",
      "20028\n",
      "20083\n",
      "20080\n",
      "20078\n",
      "20081\n",
      "20384\n",
      "20238\n",
      "20297\n",
      "20119\n",
      "20273\n",
      "20315\n",
      "20370\n"
     ]
    },
    {
     "name": "stderr",
     "output_type": "stream",
     "text": [
      "\r",
      "  0%|                                                              | 0.06944444444444445/100 [00:06<1:48:34, 65.19s/it]"
     ]
    },
    {
     "name": "stdout",
     "output_type": "stream",
     "text": [
      "20372\n",
      "20339\n",
      "20105\n",
      "20043\n",
      "20026\n",
      "20363\n",
      "20060\n",
      "20358\n",
      "20145\n"
     ]
    },
    {
     "name": "stderr",
     "output_type": "stream",
     "text": [
      "\r",
      "  0%|                                                              | 0.09722222222222222/100 [00:08<1:32:25, 55.51s/it]"
     ]
    },
    {
     "name": "stdout",
     "output_type": "stream",
     "text": [
      "20384\n",
      "20154\n",
      "20134\n",
      "20275\n",
      "20356\n",
      "20153\n",
      "20174\n",
      "20271\n",
      "20108\n",
      "20194\n",
      "20212\n",
      "20322\n",
      "20319\n",
      "20300\n",
      "20196\n",
      "20332\n",
      "20225\n",
      "20113\n",
      "20140\n",
      "20023\n",
      "20366\n"
     ]
    },
    {
     "name": "stderr",
     "output_type": "stream",
     "text": [
      "\r",
      "  0%|                                                              | 0.12962962962962962/100 [00:09<1:20:35, 48.42s/it]"
     ]
    },
    {
     "name": "stdout",
     "output_type": "stream",
     "text": [
      "20306\n",
      "20148\n",
      "20114\n",
      "20085\n",
      "20131\n",
      "20021\n",
      "20354\n",
      "20101\n",
      "20163\n",
      "20059\n",
      "20351\n",
      "20244\n",
      "20314\n",
      "20080\n",
      "20182\n",
      "20306\n",
      "20174\n"
     ]
    },
    {
     "name": "stderr",
     "output_type": "stream",
     "text": [
      "\r",
      "  0%|                                                              | 0.16666666666666666/100 [00:10<1:16:51, 46.20s/it]"
     ]
    },
    {
     "name": "stdout",
     "output_type": "stream",
     "text": [
      "20256\n",
      "20323\n",
      "20071\n",
      "20130\n",
      "20386\n",
      "20285\n",
      "20080\n",
      "20346\n",
      "20020\n",
      "20298\n",
      "20015\n"
     ]
    },
    {
     "name": "stderr",
     "output_type": "stream",
     "text": [
      "\r",
      "  0%|▏                                                             | 0.20833333333333331/100 [00:12<1:06:02, 39.71s/it]"
     ]
    },
    {
     "name": "stdout",
     "output_type": "stream",
     "text": [
      "20053\n",
      "20034\n",
      "20222\n",
      "20229\n",
      "20214\n",
      "20089\n",
      "20032\n",
      "20123\n",
      "20027\n",
      "20166\n",
      "20054\n",
      "20102\n",
      "20329\n",
      "20205\n",
      "20108\n",
      "20396\n",
      "20368\n",
      "20050\n",
      "20115\n"
     ]
    },
    {
     "name": "stderr",
     "output_type": "stream",
     "text": [
      "\r",
      "  0%|▏                                                                | 0.2546296296296296/100 [00:13<58:38, 35.27s/it]"
     ]
    },
    {
     "name": "stdout",
     "output_type": "stream",
     "text": [
      "20284\n",
      "20189\n",
      "20119\n",
      "20139\n",
      "20211\n",
      "20325\n",
      "20208\n",
      "20028\n",
      "20333\n",
      "20223\n",
      "20042\n",
      "20205\n",
      "20380\n",
      "20290\n",
      "20191\n",
      "20182\n"
     ]
    },
    {
     "name": "stderr",
     "output_type": "stream",
     "text": [
      "\r",
      "  0%|▏                                                              | 0.3055555555555555/100 [00:15<1:05:17, 39.30s/it]"
     ]
    },
    {
     "name": "stdout",
     "output_type": "stream",
     "text": [
      "20369\n",
      "20221\n",
      "20147\n",
      "20355\n",
      "20265\n",
      "20050\n",
      "20204\n",
      "20046\n",
      "20113\n",
      "20220\n",
      "20318\n",
      "20149\n",
      "20344\n",
      "20299\n",
      "20187\n",
      "20145\n",
      "20178\n"
     ]
    },
    {
     "name": "stderr",
     "output_type": "stream",
     "text": [
      "\r",
      "  0%|▏                                                               | 0.36111111111111105/100 [00:17<56:45, 34.18s/it]"
     ]
    },
    {
     "name": "stdout",
     "output_type": "stream",
     "text": [
      "20235\n",
      "20153\n",
      "20254\n",
      "20214\n",
      "20079\n",
      "20338\n",
      "20252\n",
      "20264\n",
      "20080\n",
      "20338\n",
      "20050\n",
      "20045\n",
      "20298\n",
      "20127\n",
      "20377\n",
      "20115\n",
      "20136\n",
      "20057\n"
     ]
    },
    {
     "name": "stderr",
     "output_type": "stream",
     "text": [
      "\r",
      "  0%|▎                                                                | 0.4212962962962962/100 [00:18<50:01, 30.14s/it]"
     ]
    },
    {
     "name": "stdout",
     "output_type": "stream",
     "text": [
      "20294\n",
      "20224\n",
      "20194\n",
      "20336\n",
      "20075\n",
      "20005\n",
      "20045\n",
      "20017\n",
      "20090\n",
      "20103\n",
      "20165\n",
      "20284\n",
      "20178\n",
      "20054\n",
      "20219\n",
      "20344\n"
     ]
    },
    {
     "name": "stderr",
     "output_type": "stream",
     "text": [
      "\r",
      "  0%|▎                                                               | 0.48611111111111105/100 [00:19<42:37, 25.70s/it]"
     ]
    },
    {
     "name": "stdout",
     "output_type": "stream",
     "text": [
      "20324\n",
      "20088\n",
      "20371\n",
      "20126\n",
      "20058\n",
      "20244\n",
      "20005\n",
      "20383\n",
      "20216\n",
      "20156\n",
      "20006"
     ]
    },
    {
     "name": "stderr",
     "output_type": "stream",
     "text": [
      "\r",
      "  1%|▎                                                                | 0.5555555555555555/100 [00:20<32:05, 19.36s/it]"
     ]
    },
    {
     "name": "stdout",
     "output_type": "stream",
     "text": [
      "\n",
      "20096\n",
      "20355\n",
      "20238\n",
      "20062\n",
      "20008\n",
      "20215\n",
      "20368\n",
      "20262\n",
      "20091\n",
      "20163\n",
      "20387\n",
      "20040\n",
      "20161\n",
      "20203\n",
      "20135\n",
      "20132\n",
      "20251\n",
      "20101\n"
     ]
    },
    {
     "name": "stderr",
     "output_type": "stream",
     "text": [
      "\r",
      "  1%|▍                                                                | 0.6296296296296295/100 [00:21<31:40, 19.13s/it]"
     ]
    },
    {
     "name": "stdout",
     "output_type": "stream",
     "text": [
      "20117\n",
      "20214\n",
      "20360\n",
      "20192\n",
      "20132\n",
      "20271\n",
      "20185\n",
      "20234\n",
      "20166\n",
      "20370\n",
      "20049\n",
      "20267\n",
      "20060\n",
      "20100\n",
      "20046\n",
      "20042\n",
      "20277\n"
     ]
    },
    {
     "name": "stderr",
     "output_type": "stream",
     "text": [
      "\r",
      "  1%|▍                                                                | 0.7083333333333333/100 [00:23<31:28, 19.02s/it]"
     ]
    },
    {
     "name": "stdout",
     "output_type": "stream",
     "text": [
      "20332\n",
      "20197\n",
      "20182\n",
      "20262\n",
      "20168\n",
      "20257\n",
      "20041\n",
      "20333\n",
      "20148\n",
      "20352\n",
      "20209\n",
      "20386\n",
      "20159\n",
      "20291\n",
      "20253\n",
      "20151\n",
      "20326\n",
      "20342\n",
      "20027"
     ]
    },
    {
     "name": "stderr",
     "output_type": "stream",
     "text": [
      "\r",
      "  1%|▌                                                                | 0.7916666666666666/100 [00:24<29:34, 17.88s/it]"
     ]
    },
    {
     "name": "stdout",
     "output_type": "stream",
     "text": [
      "\n",
      "20298\n",
      "20146\n",
      "20095\n",
      "20329\n",
      "20314\n",
      "20111\n",
      "20226\n",
      "20071\n",
      "20051\n",
      "20304\n"
     ]
    },
    {
     "name": "stderr",
     "output_type": "stream",
     "text": [
      "\r",
      "  1%|▌                                                                | 0.8796296296296295/100 [00:25<28:28, 17.24s/it]"
     ]
    },
    {
     "name": "stdout",
     "output_type": "stream",
     "text": [
      "20167\n",
      "20113\n",
      "20069\n",
      "20219\n",
      "20097\n",
      "20128\n",
      "20091\n",
      "20264\n",
      "20280\n",
      "20269\n",
      "20258\n",
      "20023\n",
      "20133\n",
      "20382\n",
      "20129\n"
     ]
    },
    {
     "name": "stderr",
     "output_type": "stream",
     "text": [
      "\r",
      "  1%|▋                                                                | 0.9722222222222221/100 [00:27<26:23, 15.99s/it]"
     ]
    },
    {
     "name": "stdout",
     "output_type": "stream",
     "text": [
      "20124\n",
      "20066\n",
      "20148\n",
      "20112\n",
      "20385\n",
      "20095\n",
      "20105\n",
      "20251\n",
      "20303\n",
      "20234\n",
      "20109\n",
      "20286\n",
      "20136\n",
      "20287\n",
      "20010\n",
      "20281\n",
      "20253\n",
      "20052\n",
      "20289\n",
      "20153\n"
     ]
    },
    {
     "name": "stderr",
     "output_type": "stream",
     "text": [
      "\r",
      "  1%|▋                                                                | 1.0694444444444444/100 [00:28<26:47, 16.25s/it]"
     ]
    },
    {
     "name": "stdout",
     "output_type": "stream",
     "text": [
      "20211\n",
      "20347\n",
      "20238\n",
      "20199\n",
      "20013\n",
      "20270\n",
      "20222\n",
      "20141\n",
      "20230\n",
      "20307\n",
      "20010\n",
      "20001\n",
      "20220\n",
      "20300\n",
      "20114\n",
      "20319\n",
      "20335\n",
      "20291"
     ]
    },
    {
     "name": "stderr",
     "output_type": "stream",
     "text": [
      "\r",
      "  1%|▊                                                                | 1.1712962962962963/100 [00:29<23:24, 14.22s/it]"
     ]
    },
    {
     "name": "stdout",
     "output_type": "stream",
     "text": [
      "\n",
      "20120\n",
      "20216\n",
      "20163\n",
      "20042\n",
      "20157\n",
      "20040\n",
      "20268\n",
      "20066\n",
      "20277\n",
      "20269\n",
      "20296\n",
      "20356\n",
      "20304\n",
      "20229\n",
      "20107\n",
      "20046\n"
     ]
    },
    {
     "name": "stderr",
     "output_type": "stream",
     "text": [
      "\r",
      "  1%|▊                                                                | 1.2777777777777777/100 [00:31<22:01, 13.38s/it]"
     ]
    },
    {
     "name": "stdout",
     "output_type": "stream",
     "text": [
      "20108\n",
      "20335\n",
      "20284\n",
      "20241\n",
      "20300\n",
      "20102\n",
      "20059\n",
      "20002\n",
      "20025\n"
     ]
    },
    {
     "name": "stderr",
     "output_type": "stream",
     "text": [
      "\r",
      "  1%|▉                                                                | 1.3888888888888888/100 [00:32<21:22, 13.01s/it]"
     ]
    },
    {
     "name": "stdout",
     "output_type": "stream",
     "text": [
      "20323\n",
      "20342\n",
      "20085\n",
      "20047\n",
      "20222\n",
      "20007\n",
      "20047\n",
      "20183\n",
      "20294\n",
      "20392\n",
      "20196\n",
      "20087\n",
      "20321\n",
      "20246\n",
      "20140\n",
      "20194\n",
      "20400\n",
      "20150\n"
     ]
    },
    {
     "name": "stderr",
     "output_type": "stream",
     "text": [
      "\r",
      "  2%|▉                                                                | 1.5046296296296295/100 [00:33<20:22, 12.42s/it]"
     ]
    },
    {
     "name": "stdout",
     "output_type": "stream",
     "text": [
      "20380\n",
      "20089\n",
      "20253\n",
      "20231\n",
      "20059\n",
      "20373\n",
      "20184\n",
      "20258\n",
      "20020\n",
      "20263\n",
      "20298\n",
      "20041\n",
      "20261\n",
      "20081\n",
      "20095\n",
      "20294\n",
      "20399\n",
      "20303\n",
      "20358\n"
     ]
    },
    {
     "name": "stderr",
     "output_type": "stream",
     "text": [
      "\r",
      "  2%|█▎                                                                            | 1.625/100 [00:35<19:36, 11.96s/it]"
     ]
    },
    {
     "name": "stdout",
     "output_type": "stream",
     "text": [
      "20220\n",
      "20358\n",
      "20349\n",
      "20247\n",
      "20289\n",
      "20293\n",
      "20062\n",
      "20303\n",
      "20062\n",
      "20163\n",
      "20247\n",
      "20288\n",
      "20333\n",
      "20355\n",
      "20026\n",
      "20159\n",
      "20242\n"
     ]
    },
    {
     "name": "stderr",
     "output_type": "stream",
     "text": [
      "\r",
      "  2%|█▍                                                                             | 1.75/100 [00:36<19:23, 11.84s/it]"
     ]
    },
    {
     "name": "stdout",
     "output_type": "stream",
     "text": [
      "20196\n",
      "20182\n",
      "20306\n",
      "20233\n",
      "20135\n",
      "20234\n",
      "20145\n",
      "20301\n",
      "20034\n",
      "20039\n",
      "20400\n",
      "20019\n",
      "20160\n",
      "20044\n"
     ]
    },
    {
     "name": "stderr",
     "output_type": "stream",
     "text": [
      "\r",
      "  2%|█▏                                                               | 1.8796296296296295/100 [00:37<18:05, 11.06s/it]"
     ]
    },
    {
     "name": "stdout",
     "output_type": "stream",
     "text": [
      "20167\n",
      "20175\n",
      "20109\n",
      "20182\n",
      "20091\n",
      "20106\n",
      "20258\n",
      "20358\n",
      "20353\n",
      "20181\n",
      "20166\n",
      "20094\n",
      "20387\n",
      "20297\n",
      "20138\n",
      "20290\n"
     ]
    },
    {
     "name": "stderr",
     "output_type": "stream",
     "text": [
      "\r",
      "  2%|█▎                                                                | 2.013888888888889/100 [00:38<13:58,  8.56s/it]"
     ]
    },
    {
     "name": "stdout",
     "output_type": "stream",
     "text": [
      "20242\n",
      "20250\n",
      "20359\n",
      "20274\n",
      "20095\n",
      "20045\n",
      "20214\n",
      "20287\n",
      "20228\n",
      "20007\n",
      "20205\n",
      "20184\n",
      "20389\n",
      "20357\n",
      "20282\n",
      "20099\n",
      "20042\n",
      "20108\n",
      "20188\n",
      "20244"
     ]
    },
    {
     "name": "stderr",
     "output_type": "stream",
     "text": [
      "\r",
      "  2%|█▍                                                               | 2.1527777777777777/100 [00:39<14:16,  8.76s/it]"
     ]
    },
    {
     "name": "stdout",
     "output_type": "stream",
     "text": [
      "\n",
      "20021\n",
      "20155\n",
      "20048\n",
      "20400\n",
      "20297\n",
      "20017\n",
      "20003\n",
      "20273\n",
      "20384\n",
      "20284\n",
      "20301"
     ]
    },
    {
     "name": "stderr",
     "output_type": "stream",
     "text": [
      "\r",
      "  2%|█▍                                                               | 2.2962962962962963/100 [00:40<14:36,  8.97s/it]"
     ]
    },
    {
     "name": "stdout",
     "output_type": "stream",
     "text": [
      "\n",
      "20057\n",
      "20272\n",
      "20246\n",
      "20266\n",
      "20391\n",
      "20029\n",
      "20364\n",
      "20346\n",
      "20252\n",
      "20357\n",
      "20231\n",
      "20062\n",
      "20360\n",
      "20231\n",
      "20106\n",
      "20071\n",
      "20251\n"
     ]
    },
    {
     "name": "stderr",
     "output_type": "stream",
     "text": [
      "\r",
      "  2%|█▌                                                               | 2.4444444444444446/100 [00:42<14:53,  9.15s/it]"
     ]
    },
    {
     "name": "stdout",
     "output_type": "stream",
     "text": [
      "20335\n",
      "20269\n",
      "20344\n",
      "20180\n",
      "20394\n",
      "20265\n",
      "20285\n",
      "20024\n",
      "20327\n",
      "20300\n",
      "20391\n",
      "20335\n",
      "20127\n",
      "20048\n",
      "20083\n",
      "20118\n"
     ]
    },
    {
     "name": "stderr",
     "output_type": "stream",
     "text": [
      "\r",
      "  3%|█▋                                                               | 2.5972222222222223/100 [00:43<14:30,  8.94s/it]"
     ]
    },
    {
     "name": "stdout",
     "output_type": "stream",
     "text": [
      "20380\n",
      "20338\n",
      "20101\n",
      "20087\n",
      "20347\n",
      "20173\n",
      "20083\n",
      "20372\n",
      "20302\n",
      "20157\n",
      "20151\n",
      "20224\n",
      "20253\n",
      "20377\n",
      "20296\n",
      "20295\n"
     ]
    },
    {
     "name": "stderr",
     "output_type": "stream",
     "text": [
      "\r",
      "  3%|█▊                                                               | 2.7546296296296298/100 [00:44<14:13,  8.78s/it]"
     ]
    },
    {
     "name": "stdout",
     "output_type": "stream",
     "text": [
      "20156\n",
      "20221\n",
      "20393\n",
      "20252\n",
      "20302\n",
      "20275\n",
      "20218\n",
      "20031\n",
      "20176\n",
      "20082\n",
      "20279\n",
      "20117\n",
      "20176\n",
      "20094\n",
      "20232\n",
      "20214\n",
      "20252\n"
     ]
    },
    {
     "name": "stderr",
     "output_type": "stream",
     "text": [
      "\r",
      "  3%|█▉                                                                | 2.916666666666667/100 [00:47<17:42, 10.94s/it]"
     ]
    },
    {
     "name": "stdout",
     "output_type": "stream",
     "text": [
      "20065\n",
      "20203\n",
      "20386\n",
      "20132\n",
      "20173\n",
      "20252\n",
      "20279\n",
      "20197\n",
      "20268\n",
      "20108\n",
      "20043\n",
      "20027\n",
      "20057\n",
      "20183\n",
      "20073\n"
     ]
    },
    {
     "name": "stderr",
     "output_type": "stream",
     "text": [
      "\r",
      "  3%|██                                                               | 3.0833333333333335/100 [00:48<15:25,  9.54s/it]"
     ]
    },
    {
     "name": "stdout",
     "output_type": "stream",
     "text": [
      "20260\n",
      "20344\n",
      "20107\n",
      "20328\n",
      "20251\n",
      "20368\n",
      "20042\n",
      "20103\n",
      "20200\n",
      "20281\n",
      "20283\n",
      "20045\n",
      "20150\n",
      "20194\n",
      "20385\n",
      "20041\n",
      "20183\n",
      "20038"
     ]
    },
    {
     "name": "stderr",
     "output_type": "stream",
     "text": [
      "\r",
      "  3%|██                                                               | 3.2546296296296298/100 [00:49<12:19,  7.65s/it]"
     ]
    },
    {
     "name": "stdout",
     "output_type": "stream",
     "text": [
      "\n",
      "20209\n",
      "20131\n",
      "20317\n",
      "20331\n",
      "20296\n",
      "20227\n",
      "20022\n",
      "20076\n",
      "20397\n",
      "20172\n",
      "20258\n",
      "20290\n"
     ]
    },
    {
     "name": "stderr",
     "output_type": "stream",
     "text": [
      "\r",
      "  3%|██▎                                                               | 3.430555555555556/100 [00:51<15:19,  9.52s/it]"
     ]
    },
    {
     "name": "stdout",
     "output_type": "stream",
     "text": [
      "20361\n",
      "20338\n",
      "20367\n",
      "20194\n",
      "20193\n",
      "20292\n",
      "20304\n",
      "20155\n",
      "20299\n",
      "20111\n",
      "20146\n",
      "20013\n",
      "20330\n",
      "20304\n",
      "20175\n",
      "20091\n",
      "20034\n",
      "20107\n",
      "20251\n",
      "20308\n",
      "20131\n"
     ]
    },
    {
     "name": "stderr",
     "output_type": "stream",
     "text": [
      "\r",
      "  4%|██▍                                                               | 3.611111111111111/100 [00:54<18:51, 11.74s/it]"
     ]
    },
    {
     "name": "stdout",
     "output_type": "stream",
     "text": [
      "20103\n",
      "20195\n",
      "20302\n",
      "20226\n",
      "20140\n",
      "20280\n",
      "20388\n",
      "20162\n",
      "20110\n",
      "20357\n",
      "20238"
     ]
    },
    {
     "name": "stderr",
     "output_type": "stream",
     "text": [
      "\r",
      "  4%|██▍                                                              | 3.7962962962962963/100 [00:55<16:07, 10.06s/it]"
     ]
    },
    {
     "name": "stdout",
     "output_type": "stream",
     "text": [
      "\n",
      "20244\n",
      "20140\n",
      "20322\n",
      "20333\n",
      "20327\n",
      "20170\n",
      "20034\n",
      "20254\n",
      "20394\n",
      "20276\n",
      "20201\n",
      "20075\n",
      "20228\n",
      "20096\n",
      "20346\n"
     ]
    },
    {
     "name": "stderr",
     "output_type": "stream",
     "text": [
      "\r",
      "  4%|██▋                                                               | 3.986111111111111/100 [00:57<14:31,  9.08s/it]"
     ]
    },
    {
     "name": "stdout",
     "output_type": "stream",
     "text": [
      "20117\n",
      "20397\n",
      "20329\n",
      "20162\n",
      "20130\n",
      "20160\n",
      "20264\n",
      "20373\n",
      "20363\n",
      "20112\n",
      "20306\n",
      "20211\n",
      "20382\n",
      "20368\n",
      "20258\n",
      "20020\n",
      "20106\n",
      "20116\n",
      "20318\n"
     ]
    },
    {
     "name": "stderr",
     "output_type": "stream",
     "text": [
      "\r",
      "  4%|██▊                                                               | 4.180555555555555/100 [00:58<13:21,  8.36s/it]"
     ]
    },
    {
     "name": "stdout",
     "output_type": "stream",
     "text": [
      "20104\n",
      "20116\n",
      "20142\n",
      "20367\n",
      "20328\n",
      "20098\n",
      "20130\n",
      "20093\n",
      "20385\n",
      "20099\n",
      "20374\n",
      "20328\n",
      "20042\n",
      "20232\n",
      "20092\n",
      "20151\n",
      "20078\n",
      "20316\n",
      "20360"
     ]
    },
    {
     "name": "stderr",
     "output_type": "stream",
     "text": [
      "\r",
      "  4%|██▉                                                                | 4.37962962962963/100 [00:59<12:40,  7.95s/it]"
     ]
    },
    {
     "name": "stdout",
     "output_type": "stream",
     "text": [
      "\n",
      "20125\n",
      "20023\n",
      "20302\n",
      "20289\n",
      "20224\n",
      "20220\n",
      "20148\n",
      "20045\n",
      "20029\n",
      "20310\n",
      "20012\n",
      "20129\n"
     ]
    },
    {
     "name": "stderr",
     "output_type": "stream",
     "text": [
      "\r",
      "  5%|███                                                               | 4.583333333333333/100 [01:01<11:47,  7.42s/it]"
     ]
    },
    {
     "name": "stdout",
     "output_type": "stream",
     "text": [
      "20124\n",
      "20059\n",
      "20211\n",
      "20132\n",
      "20297\n",
      "20240\n",
      "20233\n",
      "20371\n",
      "20265\n",
      "20285\n",
      "20234\n",
      "20030\n",
      "20119\n",
      "20007\n",
      "20310\n",
      "20400\n",
      "20233\n",
      "20123\n",
      "20191\n"
     ]
    },
    {
     "name": "stderr",
     "output_type": "stream",
     "text": [
      "\r",
      "  5%|███▏                                                              | 4.791666666666666/100 [01:02<11:23,  7.18s/it]"
     ]
    },
    {
     "name": "stdout",
     "output_type": "stream",
     "text": [
      "20055\n",
      "20207\n",
      "20279\n",
      "20371\n",
      "20077\n",
      "20135\n",
      "20072\n",
      "20399\n",
      "20184\n",
      "20400\n",
      "20040\n",
      "20251\n",
      "20039\n",
      "20176\n"
     ]
    },
    {
     "name": "stderr",
     "output_type": "stream",
     "text": [
      "\r",
      "  5%|███▎                                                              | 5.004629629629629/100 [01:03<11:24,  7.21s/it]"
     ]
    },
    {
     "name": "stdout",
     "output_type": "stream",
     "text": [
      "20374\n",
      "20020\n",
      "20359\n",
      "20117\n",
      "20076\n",
      "20221\n",
      "20152\n",
      "20205\n",
      "20272\n",
      "20290\n",
      "20284\n",
      "20247\n",
      "20050\n",
      "20384\n",
      "20293\n",
      "20024\n",
      "20092\n",
      "20201\n"
     ]
    },
    {
     "name": "stderr",
     "output_type": "stream",
     "text": [
      "\r",
      "  5%|███▍                                                              | 5.222222222222221/100 [01:06<13:05,  8.28s/it]"
     ]
    },
    {
     "name": "stdout",
     "output_type": "stream",
     "text": [
      "20054\n",
      "20391\n",
      "20184\n",
      "20315\n",
      "20246\n",
      "20311\n",
      "20246\n",
      "20337\n",
      "20117\n",
      "20400\n",
      "20344\n",
      "20136\n",
      "20064\n",
      "20044\n"
     ]
    },
    {
     "name": "stderr",
     "output_type": "stream",
     "text": [
      "\r",
      "  5%|███▌                                                              | 5.444444444444444/100 [01:06<10:03,  6.38s/it]"
     ]
    },
    {
     "name": "stdout",
     "output_type": "stream",
     "text": [
      "20386\n",
      "20393\n",
      "20235\n",
      "20047\n",
      "20028\n",
      "20133\n",
      "20160\n",
      "20173\n",
      "20295\n",
      "20323\n",
      "20240\n",
      "20352\n",
      "20226\n",
      "20364\n",
      "20083\n",
      "20093\n",
      "20073\n",
      "20177\n",
      "20129\n",
      "20088"
     ]
    },
    {
     "name": "stderr",
     "output_type": "stream",
     "text": [
      "\r",
      "  6%|███▋                                                              | 5.671296296296296/100 [01:08<09:42,  6.18s/it]"
     ]
    },
    {
     "name": "stdout",
     "output_type": "stream",
     "text": [
      "\n",
      "20335\n",
      "20314\n",
      "20343\n",
      "20160\n",
      "20178\n",
      "20381\n",
      "20020\n",
      "20316\n",
      "20121\n",
      "20209\n",
      "20089\n",
      "20268\n"
     ]
    },
    {
     "name": "stderr",
     "output_type": "stream",
     "text": [
      "\r",
      "  6%|███▉                                                              | 5.902777777777778/100 [01:09<09:30,  6.06s/it]"
     ]
    },
    {
     "name": "stdout",
     "output_type": "stream",
     "text": [
      "20117\n",
      "20070\n",
      "20350\n",
      "20190\n",
      "20338\n",
      "20366\n",
      "20235\n",
      "20065\n",
      "20179\n",
      "20274\n",
      "20328\n",
      "20394\n",
      "20387\n",
      "20207\n",
      "20036\n",
      "20021\n",
      "20232\n",
      "20346\n",
      "20238\n"
     ]
    },
    {
     "name": "stderr",
     "output_type": "stream",
     "text": [
      "\r",
      "  6%|████                                                              | 6.138888888888888/100 [01:10<09:41,  6.20s/it]"
     ]
    },
    {
     "name": "stdout",
     "output_type": "stream",
     "text": [
      "20242\n",
      "20233\n",
      "20114\n",
      "20316\n",
      "20156\n",
      "20354\n",
      "20049\n",
      "20388\n",
      "20024\n",
      "20168\n",
      "20139\n",
      "20144\n",
      "20002\n",
      "20128\n",
      "20086\n",
      "20314\n",
      "20197"
     ]
    },
    {
     "name": "stderr",
     "output_type": "stream",
     "text": [
      "\r",
      "  6%|████▏                                                             | 6.379629629629629/100 [01:12<09:09,  5.87s/it]"
     ]
    },
    {
     "name": "stdout",
     "output_type": "stream",
     "text": [
      "\n",
      "20025\n",
      "20357\n",
      "20160\n",
      "20228\n",
      "20179\n",
      "20284\n",
      "20228\n",
      "20235\n",
      "20243\n",
      "20079\n",
      "20151\n",
      "20311\n"
     ]
    },
    {
     "name": "stderr",
     "output_type": "stream",
     "text": [
      "\r",
      "  7%|████▎                                                             | 6.624999999999999/100 [01:13<09:20,  6.01s/it]"
     ]
    },
    {
     "name": "stdout",
     "output_type": "stream",
     "text": [
      "20363\n",
      "20227\n",
      "20326\n",
      "20321\n",
      "20380\n",
      "20309\n",
      "20080\n",
      "20253\n",
      "20207\n",
      "20338\n",
      "20331\n",
      "20293\n",
      "20277\n",
      "20248\n",
      "20160\n",
      "20352\n",
      "20394\n",
      "20214"
     ]
    },
    {
     "name": "stderr",
     "output_type": "stream",
     "text": [
      "\r",
      "  7%|████▌                                                             | 6.874999999999999/100 [01:15<08:50,  5.70s/it]"
     ]
    },
    {
     "name": "stdout",
     "output_type": "stream",
     "text": [
      "\n",
      "20102\n",
      "20241\n",
      "20273\n",
      "20257\n",
      "20381\n",
      "20226\n",
      "20110\n",
      "20205\n",
      "20082\n",
      "20351\n",
      "20069\n",
      "20061\n",
      "20290\n"
     ]
    },
    {
     "name": "stderr",
     "output_type": "stream",
     "text": [
      "\r",
      "  7%|████▋                                                             | 7.129629629629629/100 [01:17<10:15,  6.63s/it]"
     ]
    },
    {
     "name": "stdout",
     "output_type": "stream",
     "text": [
      "20278\n",
      "20224\n",
      "20250\n",
      "20400\n",
      "20401\n",
      "20240\n",
      "20207\n",
      "20211\n",
      "20019\n",
      "20334\n",
      "20358\n",
      "20221\n",
      "20104\n",
      "20003\n",
      "20374\n",
      "20328\n",
      "20041\n",
      "20053\n",
      "20343\n",
      "20154\n",
      "20306"
     ]
    },
    {
     "name": "stderr",
     "output_type": "stream",
     "text": [
      "\r",
      "  7%|████▉                                                             | 7.388888888888888/100 [01:17<07:57,  5.16s/it]"
     ]
    },
    {
     "name": "stdout",
     "output_type": "stream",
     "text": [
      "\n",
      "20092\n",
      "20309\n",
      "20165\n",
      "20082\n",
      "20252\n",
      "20243\n",
      "20182\n",
      "20188\n",
      "20240\n"
     ]
    },
    {
     "name": "stderr",
     "output_type": "stream",
     "text": [
      "\r",
      "  8%|█████                                                             | 7.652777777777778/100 [01:19<07:58,  5.18s/it]"
     ]
    },
    {
     "name": "stdout",
     "output_type": "stream",
     "text": [
      "20255\n",
      "20343\n",
      "20333\n",
      "20251\n",
      "20289\n",
      "20227\n",
      "20151\n",
      "20027\n",
      "20132\n",
      "20007\n",
      "20031\n",
      "20149\n",
      "20004\n",
      "20093\n",
      "20231\n",
      "20300\n",
      "20143\n"
     ]
    },
    {
     "name": "stderr",
     "output_type": "stream",
     "text": [
      "\r",
      "  8%|█████▏                                                            | 7.921296296296296/100 [01:20<07:40,  5.00s/it]"
     ]
    },
    {
     "name": "stdout",
     "output_type": "stream",
     "text": [
      "20177\n",
      "20047\n",
      "20332\n",
      "20159\n",
      "20129\n",
      "20375\n",
      "20240\n",
      "20227\n",
      "20350\n",
      "20235\n",
      "20096\n",
      "20130\n",
      "20095\n",
      "20252\n",
      "20263\n",
      "20264\n",
      "20305\n",
      "20201\n",
      "20206\n",
      "20071\n",
      "20169\n"
     ]
    },
    {
     "name": "stderr",
     "output_type": "stream",
     "text": [
      "\r",
      "  8%|█████▍                                                            | 8.194444444444445/100 [01:21<07:38,  5.00s/it]"
     ]
    },
    {
     "name": "stdout",
     "output_type": "stream",
     "text": [
      "20189\n",
      "20395\n",
      "20356\n",
      "20010\n",
      "20030\n",
      "20038\n",
      "20157\n",
      "20128\n",
      "20374\n",
      "20334\n",
      "20230\n",
      "20199\n",
      "20159\n",
      "20369\n",
      "20210"
     ]
    },
    {
     "name": "stderr",
     "output_type": "stream",
     "text": [
      "\r",
      "  8%|█████▌                                                            | 8.472222222222223/100 [01:23<07:51,  5.15s/it]"
     ]
    },
    {
     "name": "stdout",
     "output_type": "stream",
     "text": [
      "\n",
      "20046\n",
      "20345\n",
      "20168\n",
      "20302\n",
      "20399\n",
      "20093\n",
      "20013\n",
      "20187\n",
      "20048\n",
      "20143\n",
      "20137\n",
      "20379\n"
     ]
    },
    {
     "name": "stderr",
     "output_type": "stream",
     "text": [
      "\r",
      "  9%|█████▊                                                             | 8.75462962962963/100 [01:24<07:35,  4.99s/it]"
     ]
    },
    {
     "name": "stdout",
     "output_type": "stream",
     "text": [
      "20009\n",
      "20378\n",
      "20313\n",
      "20312\n",
      "20312\n",
      "20301\n",
      "20247\n",
      "20019\n",
      "20022\n",
      "20223\n",
      "20280\n",
      "20055\n",
      "20116\n",
      "20294\n",
      "20133\n",
      "20140\n",
      "20205\n",
      "20366\n"
     ]
    },
    {
     "name": "stderr",
     "output_type": "stream",
     "text": [
      "\r",
      "  9%|█████▉                                                            | 9.041666666666666/100 [01:25<07:16,  4.80s/it]"
     ]
    },
    {
     "name": "stdout",
     "output_type": "stream",
     "text": [
      "20379\n",
      "20371\n",
      "20346\n",
      "20229\n",
      "20377\n",
      "20278\n",
      "20124\n",
      "20397\n",
      "20171\n",
      "20377\n",
      "20243\n",
      "20197\n",
      "20067\n",
      "20291\n",
      "20021\n",
      "20130\n",
      "20202\n",
      "20089\n",
      "20007\n"
     ]
    },
    {
     "name": "stderr",
     "output_type": "stream",
     "text": [
      "\r",
      "  9%|██████▏                                                           | 9.333333333333332/100 [01:27<07:26,  4.93s/it]"
     ]
    },
    {
     "name": "stdout",
     "output_type": "stream",
     "text": [
      "20064\n",
      "20216\n",
      "20121\n",
      "20340\n",
      "20219\n",
      "20141\n",
      "20001\n",
      "20048\n",
      "20115\n",
      "20220\n",
      "20001\n",
      "20307\n"
     ]
    },
    {
     "name": "stderr",
     "output_type": "stream",
     "text": [
      "\r",
      " 10%|██████▎                                                           | 9.629629629629628/100 [01:28<07:14,  4.80s/it]"
     ]
    },
    {
     "name": "stdout",
     "output_type": "stream",
     "text": [
      "20032\n",
      "20368\n",
      "20323\n",
      "20084\n",
      "20154\n",
      "20180\n",
      "20311\n",
      "20351\n",
      "20367\n",
      "20216\n",
      "20259\n",
      "20101\n",
      "20246\n",
      "20258\n",
      "20287\n",
      "20382\n"
     ]
    },
    {
     "name": "stderr",
     "output_type": "stream",
     "text": [
      "\r",
      " 10%|██████▌                                                           | 9.930555555555554/100 [01:29<07:03,  4.70s/it]"
     ]
    },
    {
     "name": "stdout",
     "output_type": "stream",
     "text": [
      "20229\n",
      "20059\n",
      "20140\n",
      "20344\n",
      "20312\n",
      "20297\n",
      "20378\n",
      "20324\n",
      "20045\n",
      "20048\n",
      "20011\n",
      "20378\n",
      "20177\n",
      "20082\n",
      "20256\n",
      "20080\n",
      "20134\n",
      "20305\n"
     ]
    },
    {
     "name": "stderr",
     "output_type": "stream",
     "text": [
      "\r",
      " 10%|██████▋                                                          | 10.236111111111109/100 [01:32<09:08,  6.11s/it]"
     ]
    },
    {
     "name": "stdout",
     "output_type": "stream",
     "text": [
      "20261\n",
      "20383\n",
      "20063\n",
      "20255\n",
      "20072\n",
      "20170\n",
      "20032\n",
      "20159\n",
      "20303\n",
      "20308\n",
      "20334\n"
     ]
    },
    {
     "name": "stderr",
     "output_type": "stream",
     "text": [
      "\r",
      " 11%|██████▊                                                          | 10.546296296296294/100 [01:33<08:00,  5.37s/it]"
     ]
    },
    {
     "name": "stdout",
     "output_type": "stream",
     "text": [
      "20278\n",
      "20164\n",
      "20200\n",
      "20257\n",
      "20034\n",
      "20115\n",
      "20074\n",
      "20094\n",
      "20075\n",
      "20296\n",
      "20223\n",
      "20363\n",
      "20098\n",
      "20077\n",
      "20243\n",
      "20280\n",
      "20235\n",
      "20142\n",
      "20199\n",
      "20033\n",
      "20297\n",
      "20246\n"
     ]
    },
    {
     "name": "stderr",
     "output_type": "stream",
     "text": [
      "\r",
      " 11%|███████                                                          | 10.861111111111109/100 [01:35<07:32,  5.07s/it]"
     ]
    },
    {
     "name": "stdout",
     "output_type": "stream",
     "text": [
      "20249\n",
      "20277\n",
      "20249\n",
      "20014\n",
      "20393\n",
      "20134\n",
      "20393\n",
      "20212\n",
      "20023\n",
      "20229\n",
      "20167\n",
      "20059\n"
     ]
    },
    {
     "name": "stderr",
     "output_type": "stream",
     "text": [
      "\r",
      " 11%|███████▎                                                         | 11.180555555555554/100 [01:36<06:58,  4.72s/it]"
     ]
    },
    {
     "name": "stdout",
     "output_type": "stream",
     "text": [
      "20160\n",
      "20062\n",
      "20122\n",
      "20088\n",
      "20022\n",
      "20107\n",
      "20240\n",
      "20343\n",
      "20135\n",
      "20234\n",
      "20370\n",
      "20295\n",
      "20011\n",
      "20317\n",
      "20255\n",
      "20033\n",
      "20042\n"
     ]
    },
    {
     "name": "stderr",
     "output_type": "stream",
     "text": [
      "\r",
      " 12%|███████▍                                                         | 11.504629629629628/100 [01:38<06:54,  4.69s/it]"
     ]
    },
    {
     "name": "stdout",
     "output_type": "stream",
     "text": [
      "20211\n",
      "20241\n",
      "20175\n",
      "20009\n",
      "20268\n",
      "20393\n",
      "20169\n",
      "20031\n",
      "20138\n",
      "20329\n",
      "20044\n",
      "20362\n",
      "20235\n",
      "20285\n",
      "20076\n",
      "20247\n",
      "20018\n",
      "20112\n",
      "20225\n"
     ]
    },
    {
     "name": "stderr",
     "output_type": "stream",
     "text": [
      "\r",
      " 12%|███████▋                                                         | 11.833333333333332/100 [01:39<06:24,  4.37s/it]"
     ]
    },
    {
     "name": "stdout",
     "output_type": "stream",
     "text": [
      "20247\n",
      "20254\n",
      "20336\n",
      "20220\n",
      "20259\n",
      "20230\n",
      "20385\n",
      "20131\n",
      "20021\n",
      "20264\n",
      "20083\n",
      "20318\n",
      "20339\n",
      "20098\n"
     ]
    },
    {
     "name": "stderr",
     "output_type": "stream",
     "text": [
      "\r",
      " 12%|███████▉                                                         | 12.166666666666666/100 [01:40<06:13,  4.26s/it]"
     ]
    },
    {
     "name": "stdout",
     "output_type": "stream",
     "text": [
      "20353\n",
      "20196\n",
      "20226\n",
      "20307\n",
      "20009\n",
      "20294\n",
      "20186\n",
      "20117\n",
      "20172\n",
      "20261\n",
      "20037\n",
      "20370\n",
      "20011\n",
      "20087\n",
      "20302\n",
      "20217\n",
      "20131\n"
     ]
    },
    {
     "name": "stderr",
     "output_type": "stream",
     "text": [
      "\r",
      " 13%|████████▎                                                         | 12.50462962962963/100 [01:42<06:20,  4.34s/it]"
     ]
    },
    {
     "name": "stdout",
     "output_type": "stream",
     "text": [
      "20002\n",
      "20365\n",
      "20282\n",
      "20110\n",
      "20309\n",
      "20021\n",
      "20085\n",
      "20100\n",
      "20220\n",
      "20011\n",
      "20059\n",
      "20216\n",
      "20154\n",
      "20184\n",
      "20340\n",
      "20010\n",
      "20165\n",
      "20063\n"
     ]
    },
    {
     "name": "stderr",
     "output_type": "stream",
     "text": [
      "\r",
      " 13%|████████▎                                                        | 12.847222222222223/100 [01:43<06:11,  4.26s/it]"
     ]
    },
    {
     "name": "stdout",
     "output_type": "stream",
     "text": [
      "20297\n",
      "20145\n",
      "20153\n",
      "20065\n",
      "20145\n",
      "20199\n",
      "20127\n",
      "20151\n",
      "20222\n",
      "20280\n",
      "20185\n",
      "20150\n",
      "20085\n",
      "20399\n"
     ]
    },
    {
     "name": "stderr",
     "output_type": "stream",
     "text": [
      "\r",
      " 13%|████████▌                                                        | 13.194444444444445/100 [01:44<05:57,  4.11s/it]"
     ]
    },
    {
     "name": "stdout",
     "output_type": "stream",
     "text": [
      "20063\n",
      "20146\n",
      "20183\n",
      "20086\n",
      "20332\n",
      "20360\n",
      "20282\n",
      "20174\n",
      "20283\n",
      "20116\n",
      "20193\n",
      "20071\n",
      "20189\n",
      "20131\n",
      "20169\n",
      "20010\n",
      "20182\n"
     ]
    },
    {
     "name": "stderr",
     "output_type": "stream",
     "text": [
      "\r",
      " 14%|████████▊                                                        | 13.546296296296296/100 [01:46<05:44,  3.99s/it]"
     ]
    },
    {
     "name": "stdout",
     "output_type": "stream",
     "text": [
      "20121\n",
      "20134\n",
      "20009\n",
      "20222\n",
      "20340\n",
      "20309\n",
      "20252\n",
      "20221\n",
      "20271\n",
      "20392\n",
      "20192\n"
     ]
    },
    {
     "name": "stderr",
     "output_type": "stream",
     "text": [
      "\r",
      " 14%|█████████                                                        | 13.902777777777777/100 [01:47<05:32,  3.86s/it]"
     ]
    },
    {
     "name": "stdout",
     "output_type": "stream",
     "text": [
      "20372\n",
      "20277\n",
      "20262\n",
      "20297\n",
      "20363\n",
      "20222\n",
      "20159\n",
      "20154\n",
      "20319\n",
      "20079\n",
      "20112\n",
      "20031\n",
      "20155\n",
      "20133\n",
      "20176\n",
      "20029\n",
      "20184\n",
      "20200\n",
      "20032\n",
      "20316\n"
     ]
    },
    {
     "name": "stderr",
     "output_type": "stream",
     "text": [
      "\r",
      " 14%|█████████▎                                                       | 14.263888888888888/100 [01:49<05:42,  3.99s/it]"
     ]
    },
    {
     "name": "stdout",
     "output_type": "stream",
     "text": [
      "20058\n",
      "20263\n",
      "20328\n",
      "20323\n",
      "20061\n",
      "20231\n",
      "20348\n",
      "20366\n",
      "20247\n",
      "20292\n",
      "20018\n",
      "20268\n",
      "20392\n",
      "20127\n",
      "20229\n",
      "20123\n",
      "20071\n",
      "20044\n"
     ]
    },
    {
     "name": "stderr",
     "output_type": "stream",
     "text": [
      "\r",
      " 15%|█████████▌                                                       | 14.629629629629628/100 [01:50<05:36,  3.94s/it]"
     ]
    },
    {
     "name": "stdout",
     "output_type": "stream",
     "text": [
      "20349\n",
      "20169\n",
      "20089\n",
      "20344\n",
      "20306\n",
      "20133\n",
      "20032\n",
      "20025\n",
      "20092\n",
      "20206\n",
      "20168\n",
      "20233\n",
      "20200\n",
      "20368\n"
     ]
    },
    {
     "name": "stderr",
     "output_type": "stream",
     "text": [
      "\r",
      " 15%|█████████▊                                                       | 14.999999999999998/100 [01:51<05:27,  3.85s/it]"
     ]
    },
    {
     "name": "stdout",
     "output_type": "stream",
     "text": [
      "20171\n",
      "20087\n",
      "20227\n",
      "20365\n",
      "20217\n",
      "20242\n",
      "20081\n",
      "20254\n",
      "20182\n",
      "20323\n",
      "20125\n",
      "20231\n",
      "20212\n",
      "20272\n",
      "20387\n",
      "20054\n",
      "20118"
     ]
    },
    {
     "name": "stderr",
     "output_type": "stream",
     "text": [
      "\r",
      " 15%|█████████▉                                                       | 15.374999999999998/100 [01:53<05:18,  3.76s/it]"
     ]
    },
    {
     "name": "stdout",
     "output_type": "stream",
     "text": [
      "\n",
      "20015\n",
      "20002\n",
      "20160\n",
      "20057\n",
      "20073\n",
      "20250\n",
      "20009\n",
      "20364\n",
      "20306\n",
      "20348\n",
      "20147\n"
     ]
    },
    {
     "name": "stderr",
     "output_type": "stream",
     "text": [
      "\r",
      " 16%|██████████▏                                                      | 15.754629629629628/100 [01:55<06:22,  4.54s/it]"
     ]
    },
    {
     "name": "stdout",
     "output_type": "stream",
     "text": [
      "20199\n",
      "20230\n",
      "20164\n",
      "20320\n",
      "20068\n",
      "20099\n",
      "20216\n",
      "20135\n",
      "20283\n",
      "20178\n",
      "20306\n",
      "20189\n",
      "20023\n",
      "20209\n",
      "20372\n",
      "20182\n",
      "20258\n",
      "20088\n",
      "20104\n",
      "20311\n",
      "20400\n"
     ]
    },
    {
     "name": "stderr",
     "output_type": "stream",
     "text": [
      "\r",
      " 16%|██████████▍                                                      | 16.138888888888886/100 [01:56<05:55,  4.24s/it]"
     ]
    },
    {
     "name": "stdout",
     "output_type": "stream",
     "text": [
      "20166\n",
      "20091\n",
      "20077\n",
      "20339\n",
      "20187\n",
      "20264\n",
      "20007\n",
      "20132\n",
      "20068\n",
      "20398\n",
      "20401\n",
      "20210\n",
      "20341\n",
      "20031"
     ]
    },
    {
     "name": "stderr",
     "output_type": "stream",
     "text": [
      "\r",
      " 17%|██████████▋                                                      | 16.527777777777775/100 [01:57<04:38,  3.33s/it]"
     ]
    },
    {
     "name": "stdout",
     "output_type": "stream",
     "text": [
      "\n",
      "20220\n",
      "20348\n",
      "20277\n",
      "20166\n",
      "20239\n",
      "20287\n",
      "20276\n",
      "20117\n",
      "20348\n",
      "20250\n",
      "20175\n",
      "20262\n",
      "20350\n",
      "20221\n",
      "20054\n",
      "20068\n"
     ]
    },
    {
     "name": "stderr",
     "output_type": "stream",
     "text": [
      "\r",
      " 17%|██████████▉                                                      | 16.921296296296294/100 [01:58<04:39,  3.36s/it]"
     ]
    },
    {
     "name": "stdout",
     "output_type": "stream",
     "text": [
      "20137\n",
      "20253\n",
      "20367\n",
      "20142\n",
      "20178\n",
      "20260\n",
      "20007\n",
      "20084\n",
      "20219\n",
      "20364\n",
      "20326\n",
      "20092\n",
      "20315\n",
      "20253\n",
      "20105\n",
      "20090\n",
      "20101\n"
     ]
    },
    {
     "name": "stderr",
     "output_type": "stream",
     "text": [
      "\r",
      " 17%|███████████▎                                                     | 17.319444444444443/100 [02:01<05:41,  4.14s/it]"
     ]
    },
    {
     "name": "stdout",
     "output_type": "stream",
     "text": [
      "20215\n",
      "20303\n",
      "20332\n",
      "20016\n",
      "20311\n",
      "20388\n",
      "20058\n",
      "20002\n",
      "20347\n",
      "20270\n",
      "20152\n",
      "20164\n",
      "20312\n",
      "20040\n",
      "20373\n",
      "20145\n"
     ]
    },
    {
     "name": "stderr",
     "output_type": "stream",
     "text": [
      "\r",
      " 18%|███████████▋                                                      | 17.72222222222222/100 [02:02<05:22,  3.92s/it]"
     ]
    },
    {
     "name": "stdout",
     "output_type": "stream",
     "text": [
      "20340\n",
      "20330\n",
      "20314\n",
      "20083\n",
      "20261\n",
      "20316\n",
      "20259\n",
      "20298\n",
      "20200\n",
      "20160\n",
      "20294\n",
      "20202\n",
      "20297\n"
     ]
    },
    {
     "name": "stderr",
     "output_type": "stream",
     "text": [
      "\r",
      " 18%|███████████▉                                                      | 18.12962962962963/100 [02:03<04:59,  3.66s/it]"
     ]
    },
    {
     "name": "stdout",
     "output_type": "stream",
     "text": [
      "20120\n",
      "20243\n",
      "20355\n",
      "20190\n",
      "20322\n",
      "20379\n",
      "20169\n",
      "20350\n",
      "20229\n",
      "20282\n",
      "20384\n",
      "20310\n",
      "20204\n",
      "20210\n",
      "20017\n",
      "20253\n",
      "20174\n",
      "20328\n",
      "20110\n",
      "20235\n",
      "20231\n"
     ]
    },
    {
     "name": "stderr",
     "output_type": "stream",
     "text": [
      "\r",
      " 19%|████████████                                                     | 18.541666666666668/100 [02:04<04:24,  3.24s/it]"
     ]
    },
    {
     "name": "stdout",
     "output_type": "stream",
     "text": [
      "20180\n",
      "20341\n",
      "20299\n",
      "20063\n",
      "20132\n",
      "20033\n",
      "20032\n",
      "20257\n",
      "20329\n",
      "20219\n",
      "20180\n",
      "20165\n",
      "20120\n",
      "20187\n",
      "20201\n"
     ]
    },
    {
     "name": "stderr",
     "output_type": "stream",
     "text": [
      "\r",
      " 19%|████████████▎                                                    | 18.958333333333336/100 [02:06<04:55,  3.65s/it]"
     ]
    },
    {
     "name": "stdout",
     "output_type": "stream",
     "text": [
      "20062\n",
      "20130\n",
      "20375\n",
      "20291\n",
      "20160\n",
      "20150\n",
      "20259\n",
      "20093\n",
      "20312\n",
      "20079\n",
      "20135\n",
      "20219\n",
      "20047\n",
      "20005\n",
      "20140\n",
      "20102\n"
     ]
    },
    {
     "name": "stderr",
     "output_type": "stream",
     "text": [
      "\r",
      " 19%|████████████▌                                                    | 19.379629629629633/100 [02:08<05:00,  3.72s/it]"
     ]
    },
    {
     "name": "stdout",
     "output_type": "stream",
     "text": [
      "20141\n",
      "20186\n",
      "20362\n",
      "20313\n",
      "20178\n",
      "20159\n",
      "20293\n",
      "20249\n",
      "20149\n",
      "20018\n",
      "20064\n",
      "20080\n",
      "20051\n",
      "20054\n",
      "20170\n",
      "20025\n"
     ]
    },
    {
     "name": "stderr",
     "output_type": "stream",
     "text": [
      "\r",
      " 20%|█████████████                                                     | 19.80555555555556/100 [02:09<04:38,  3.47s/it]"
     ]
    },
    {
     "name": "stdout",
     "output_type": "stream",
     "text": [
      "20310\n",
      "20326\n",
      "20200\n",
      "20216\n",
      "20048\n",
      "20332\n",
      "20080\n",
      "20208\n",
      "20385\n",
      "20335\n",
      "20349\n",
      "20213\n",
      "20212\n",
      "20104\n",
      "20174\n",
      "20295"
     ]
    },
    {
     "name": "stderr",
     "output_type": "stream",
     "text": [
      "\r",
      " 20%|█████████████▏                                                   | 20.236111111111118/100 [02:10<04:25,  3.33s/it]"
     ]
    },
    {
     "name": "stdout",
     "output_type": "stream",
     "text": [
      "\n",
      "20029\n",
      "20244\n",
      "20020\n",
      "20019\n",
      "20073\n",
      "20268\n",
      "20087\n",
      "20385\n",
      "20342\n",
      "20172\n",
      "20221\n",
      "20141\n",
      "20325\n",
      "20084\n",
      "20024\n"
     ]
    },
    {
     "name": "stderr",
     "output_type": "stream",
     "text": [
      "\r",
      " 21%|█████████████▍                                                   | 20.671296296296305/100 [02:12<04:31,  3.42s/it]"
     ]
    },
    {
     "name": "stdout",
     "output_type": "stream",
     "text": [
      "20311\n",
      "20067\n",
      "20348\n",
      "20065\n",
      "20210\n",
      "20351\n",
      "20191\n",
      "20102\n",
      "20024\n",
      "20046\n",
      "20162\n",
      "20043\n",
      "20382\n",
      "20401\n",
      "20077\n",
      "20339\n",
      "20026\n"
     ]
    },
    {
     "name": "stderr",
     "output_type": "stream",
     "text": [
      "\r",
      " 21%|█████████████▋                                                   | 21.111111111111118/100 [02:13<04:21,  3.31s/it]"
     ]
    },
    {
     "name": "stdout",
     "output_type": "stream",
     "text": [
      "20320\n",
      "20057\n",
      "20334\n",
      "20400\n",
      "20018\n",
      "20002\n",
      "20089\n",
      "20252\n",
      "20279\n",
      "20276\n",
      "20168\n",
      "20298\n",
      "20316\n",
      "20164\n",
      "20135\n",
      "20203\n"
     ]
    },
    {
     "name": "stderr",
     "output_type": "stream",
     "text": [
      "\r",
      " 22%|██████████████▏                                                   | 21.55555555555556/100 [02:15<04:20,  3.32s/it]"
     ]
    },
    {
     "name": "stdout",
     "output_type": "stream",
     "text": [
      "20265\n",
      "20056\n",
      "20241\n",
      "20364\n",
      "20103\n",
      "20326\n",
      "20229\n",
      "20330\n",
      "20224\n",
      "20073\n",
      "20179\n",
      "20344\n",
      "20263\n",
      "20278\n"
     ]
    },
    {
     "name": "stderr",
     "output_type": "stream",
     "text": [
      "\r",
      " 22%|██████████████▎                                                  | 22.004629629629633/100 [02:16<04:01,  3.10s/it]"
     ]
    },
    {
     "name": "stdout",
     "output_type": "stream",
     "text": [
      "20078\n",
      "20262\n",
      "20207\n",
      "20141\n",
      "20255\n",
      "20301\n",
      "20377\n",
      "20365\n",
      "20182\n",
      "20297\n",
      "20320\n",
      "20151\n",
      "20148\n",
      "20322\n",
      "20003\n",
      "20053\n"
     ]
    },
    {
     "name": "stderr",
     "output_type": "stream",
     "text": [
      "\r",
      " 22%|██████████████▌                                                  | 22.458333333333336/100 [02:17<04:00,  3.11s/it]"
     ]
    },
    {
     "name": "stdout",
     "output_type": "stream",
     "text": [
      "20129\n",
      "20128\n",
      "20130\n",
      "20273\n",
      "20360\n",
      "20278\n",
      "20201\n",
      "20148\n",
      "20327\n",
      "20029\n",
      "20310\n",
      "20395\n",
      "20280\n",
      "20028\n"
     ]
    },
    {
     "name": "stderr",
     "output_type": "stream",
     "text": [
      "\r",
      " 23%|██████████████▉                                                  | 22.916666666666668/100 [02:19<03:52,  3.02s/it]"
     ]
    },
    {
     "name": "stdout",
     "output_type": "stream",
     "text": [
      "20111\n",
      "20272\n",
      "20398\n",
      "20085\n",
      "20147\n",
      "20024\n",
      "20097\n",
      "20081\n",
      "20178\n",
      "20377\n",
      "20215\n",
      "20279\n",
      "20090\n",
      "20228\n",
      "20166\n",
      "20301\n",
      "20029\n",
      "20320\n",
      "20392"
     ]
    },
    {
     "name": "stderr",
     "output_type": "stream",
     "text": [
      "\r",
      " 23%|███████████████▍                                                  | 23.37962962962963/100 [02:20<03:45,  2.94s/it]"
     ]
    },
    {
     "name": "stdout",
     "output_type": "stream",
     "text": [
      "\n",
      "20222\n",
      "20151\n",
      "20033\n",
      "20296\n",
      "20127\n",
      "20332\n",
      "20385\n",
      "20350\n",
      "20291\n",
      "20121\n",
      "20379\n",
      "20052\n",
      "20027\n",
      "20315\n",
      "20211\n",
      "20245\n",
      "20383\n",
      "20030\n"
     ]
    },
    {
     "name": "stderr",
     "output_type": "stream",
     "text": [
      "\r",
      " 24%|███████████████▋                                                  | 23.84722222222222/100 [02:22<04:48,  3.78s/it]"
     ]
    },
    {
     "name": "stdout",
     "output_type": "stream",
     "text": [
      "20351\n",
      "20219\n",
      "20266\n",
      "20202\n",
      "20281\n",
      "20222\n",
      "20136\n",
      "20159\n",
      "20064\n",
      "20032\n",
      "20075\n",
      "20118\n",
      "20034\n",
      "20267\n",
      "20288\n",
      "20261\n",
      "20248"
     ]
    },
    {
     "name": "stderr",
     "output_type": "stream",
     "text": [
      "\r",
      " 24%|███████████████▊                                                 | 24.319444444444443/100 [02:24<04:21,  3.45s/it]"
     ]
    },
    {
     "name": "stdout",
     "output_type": "stream",
     "text": [
      "\n",
      "20337\n",
      "20008\n",
      "20310\n",
      "20266\n",
      "20396\n",
      "20070\n",
      "20072\n",
      "20352\n",
      "20389\n",
      "20231\n",
      "20101\n"
     ]
    },
    {
     "name": "stderr",
     "output_type": "stream",
     "text": [
      "\r",
      " 25%|████████████████                                                 | 24.796296296296294/100 [02:25<04:01,  3.21s/it]"
     ]
    },
    {
     "name": "stdout",
     "output_type": "stream",
     "text": [
      "20350\n",
      "20076\n",
      "20335\n",
      "20078\n",
      "20184\n",
      "20175\n",
      "20154\n",
      "20328\n",
      "20162\n",
      "20107\n",
      "20181\n",
      "20087\n",
      "20232\n",
      "20083\n",
      "20241\n",
      "20321\n",
      "20355\n",
      "20218\n",
      "20177\n",
      "20330\n"
     ]
    },
    {
     "name": "stderr",
     "output_type": "stream",
     "text": [
      "\r",
      " 25%|████████████████▍                                                | 25.277777777777775/100 [02:26<03:18,  2.66s/it]"
     ]
    },
    {
     "name": "stdout",
     "output_type": "stream",
     "text": [
      "20366\n",
      "20014\n",
      "20267\n",
      "20326\n",
      "20276\n",
      "20098\n",
      "20053\n",
      "20015\n",
      "20180\n",
      "20346\n",
      "20024\n",
      "20186\n",
      "20338\n",
      "20292\n",
      "20030\n",
      "20125\n"
     ]
    },
    {
     "name": "stderr",
     "output_type": "stream",
     "text": [
      "\r",
      " 26%|████████████████▋                                                | 25.763888888888886/100 [02:28<03:51,  3.12s/it]"
     ]
    },
    {
     "name": "stdout",
     "output_type": "stream",
     "text": [
      "20185\n",
      "20348\n",
      "20081\n",
      "20263\n",
      "20040\n",
      "20134\n",
      "20202\n",
      "20072\n",
      "20261\n",
      "20044\n",
      "20192\n"
     ]
    },
    {
     "name": "stderr",
     "output_type": "stream",
     "text": [
      "\r",
      " 26%|█████████████████                                                | 26.254629629629626/100 [02:29<03:48,  3.09s/it]"
     ]
    },
    {
     "name": "stdout",
     "output_type": "stream",
     "text": [
      "20220\n",
      "20037\n",
      "20343\n",
      "20370\n",
      "20199\n",
      "20144\n",
      "20329\n",
      "20151\n",
      "20041\n",
      "20261\n",
      "20255\n",
      "20325\n",
      "20128\n",
      "20379\n",
      "20130\n",
      "20302\n",
      "20114\n",
      "20092\n",
      "20115\n"
     ]
    },
    {
     "name": "stderr",
     "output_type": "stream",
     "text": [
      "\r",
      " 27%|█████████████████▍                                               | 26.749999999999996/100 [02:31<03:49,  3.13s/it]"
     ]
    },
    {
     "name": "stdout",
     "output_type": "stream",
     "text": [
      "20180\n",
      "20168\n",
      "20110\n",
      "20221\n",
      "20098\n",
      "20353\n",
      "20175\n",
      "20020\n",
      "20352\n",
      "20157\n",
      "20127\n",
      "20090\n",
      "20307\n",
      "20376\n",
      "20294\n",
      "20300\n",
      "20398\n"
     ]
    },
    {
     "name": "stderr",
     "output_type": "stream",
     "text": [
      "\r",
      " 27%|█████████████████▋                                               | 27.249999999999996/100 [02:33<04:24,  3.64s/it]"
     ]
    },
    {
     "name": "stdout",
     "output_type": "stream",
     "text": [
      "20175\n",
      "20362\n",
      "20247\n",
      "20068\n",
      "20333\n",
      "20090\n",
      "20163\n",
      "20295\n",
      "20286\n",
      "20233\n",
      "20396\n",
      "20002\n",
      "20379\n",
      "20234\n",
      "20184\n",
      "20173\n"
     ]
    },
    {
     "name": "stderr",
     "output_type": "stream",
     "text": [
      "\r",
      " 28%|██████████████████                                               | 27.754629629629626/100 [02:35<04:03,  3.37s/it]"
     ]
    },
    {
     "name": "stdout",
     "output_type": "stream",
     "text": [
      "20144\n",
      "20243\n",
      "20241\n",
      "20170\n",
      "20006\n",
      "20042\n",
      "20241\n",
      "20098\n",
      "20046\n",
      "20018\n",
      "20155\n",
      "20078\n",
      "20014\n",
      "20353\n",
      "20106\n"
     ]
    },
    {
     "name": "stderr",
     "output_type": "stream",
     "text": [
      "\r",
      " 28%|██████████████████▎                                              | 28.263888888888886/100 [02:36<03:47,  3.17s/it]"
     ]
    },
    {
     "name": "stdout",
     "output_type": "stream",
     "text": [
      "20306\n",
      "20228\n",
      "20009\n",
      "20095\n",
      "20338\n",
      "20341\n",
      "20043\n",
      "20283\n",
      "20285\n",
      "20022\n",
      "20036\n",
      "20360\n",
      "20371\n",
      "20137\n",
      "20196\n",
      "20299\n"
     ]
    },
    {
     "name": "stderr",
     "output_type": "stream",
     "text": [
      "\r",
      " 29%|██████████████████▋                                              | 28.777777777777775/100 [02:37<03:35,  3.03s/it]"
     ]
    },
    {
     "name": "stdout",
     "output_type": "stream",
     "text": [
      "20309\n",
      "20056\n",
      "20281\n",
      "20038\n",
      "20147\n",
      "20060\n",
      "20067\n",
      "20396\n",
      "20179\n",
      "20049\n",
      "20003\n",
      "20005\n",
      "20152\n",
      "20214\n",
      "20229\n",
      "20242\n",
      "20244\n",
      "20067\n",
      "20266"
     ]
    },
    {
     "name": "stderr",
     "output_type": "stream",
     "text": [
      "\r",
      " 29%|███████████████████                                              | 29.296296296296294/100 [02:39<03:38,  3.09s/it]"
     ]
    },
    {
     "name": "stdout",
     "output_type": "stream",
     "text": [
      "\n",
      "20263\n",
      "20130\n",
      "20043\n",
      "20203\n",
      "20092\n",
      "20117\n",
      "20369\n",
      "20221\n",
      "20266\n",
      "20047\n",
      "20198\n",
      "20153\n",
      "20200\n",
      "20318\n"
     ]
    },
    {
     "name": "stderr",
     "output_type": "stream",
     "text": [
      "\r",
      " 30%|███████████████████▍                                             | 29.819444444444443/100 [02:40<03:26,  2.94s/it]"
     ]
    },
    {
     "name": "stdout",
     "output_type": "stream",
     "text": [
      "20205\n",
      "20154\n",
      "20214\n",
      "20172\n",
      "20095\n",
      "20328\n",
      "20040\n",
      "20216\n",
      "20304\n",
      "20334\n",
      "20339\n",
      "20110\n",
      "20221\n",
      "20255\n",
      "20144\n"
     ]
    },
    {
     "name": "stderr",
     "output_type": "stream",
     "text": [
      "\r",
      " 30%|████████████████████                                              | 30.34722222222222/100 [02:42<03:15,  2.80s/it]"
     ]
    },
    {
     "name": "stdout",
     "output_type": "stream",
     "text": [
      "20248\n",
      "20389\n",
      "20290\n",
      "20361\n",
      "20393\n",
      "20268\n",
      "20011\n",
      "20236\n",
      "20329\n",
      "20135\n",
      "20294\n",
      "20204\n",
      "20170\n"
     ]
    },
    {
     "name": "stderr",
     "output_type": "stream",
     "text": [
      "\r",
      " 31%|████████████████████▍                                             | 30.87962962962963/100 [02:44<03:48,  3.31s/it]"
     ]
    },
    {
     "name": "stdout",
     "output_type": "stream",
     "text": [
      "20005\n",
      "20224\n",
      "20221\n",
      "20199\n",
      "20366\n",
      "20134\n",
      "20111\n",
      "20293\n",
      "20151\n",
      "20131\n",
      "20219\n",
      "20397\n",
      "20361\n",
      "20088\n",
      "20103\n",
      "20120\n",
      "20346\n",
      "20050\n",
      "20357\n",
      "20094\n"
     ]
    },
    {
     "name": "stderr",
     "output_type": "stream",
     "text": [
      "\r",
      " 31%|████████████████████▍                                            | 31.416666666666668/100 [02:45<03:31,  3.08s/it]"
     ]
    },
    {
     "name": "stdout",
     "output_type": "stream",
     "text": [
      "20354\n",
      "20221\n",
      "20097\n",
      "20380\n",
      "20178\n",
      "20301\n",
      "20007\n",
      "20174\n",
      "20285\n",
      "20126\n",
      "20269\n",
      "20073\n",
      "20064\n",
      "20177\n",
      "20077\n",
      "20370\n"
     ]
    },
    {
     "name": "stderr",
     "output_type": "stream",
     "text": [
      "\r",
      " 32%|████████████████████▊                                            | 31.958333333333336/100 [02:47<03:15,  2.88s/it]"
     ]
    },
    {
     "name": "stdout",
     "output_type": "stream",
     "text": [
      "20400\n",
      "20324\n",
      "20065\n",
      "20234\n",
      "20373\n",
      "20162\n",
      "20344\n",
      "20045\n",
      "20109\n",
      "20106\n",
      "20270\n",
      "20137\n",
      "20400\n",
      "20204\n",
      "20252\n",
      "20224\n",
      "20280\n"
     ]
    },
    {
     "name": "stderr",
     "output_type": "stream",
     "text": [
      "\r",
      " 33%|█████████████████████▍                                            | 32.50462962962963/100 [02:48<02:44,  2.44s/it]"
     ]
    },
    {
     "name": "stdout",
     "output_type": "stream",
     "text": [
      "20230\n",
      "20118\n",
      "20354\n",
      "20400\n",
      "20030\n",
      "20343\n",
      "20078\n",
      "20194\n",
      "20065\n",
      "20259\n",
      "20265\n",
      "20258\n",
      "20326\n",
      "20353\n",
      "20257\n"
     ]
    },
    {
     "name": "stderr",
     "output_type": "stream",
     "text": [
      "\r",
      " 33%|█████████████████████▊                                            | 33.05555555555556/100 [02:50<03:11,  2.87s/it]"
     ]
    },
    {
     "name": "stdout",
     "output_type": "stream",
     "text": [
      "20347\n",
      "20387\n",
      "20371\n",
      "20010\n",
      "20017\n",
      "20347\n",
      "20343\n",
      "20273\n",
      "20302\n",
      "20226\n",
      "20226\n",
      "20103\n",
      "20258\n"
     ]
    },
    {
     "name": "stderr",
     "output_type": "stream",
     "text": [
      "\r",
      " 34%|█████████████████████▊                                           | 33.611111111111114/100 [02:51<03:03,  2.76s/it]"
     ]
    },
    {
     "name": "stdout",
     "output_type": "stream",
     "text": [
      "20393\n",
      "20097\n",
      "20331\n",
      "20386\n",
      "20159\n",
      "20200\n",
      "20287\n",
      "20323\n",
      "20329\n",
      "20353\n",
      "20013\n",
      "20048\n",
      "20054\n",
      "20043\n",
      "20043\n",
      "20390\n",
      "20153\n",
      "20299\n",
      "20211\n",
      "20058\n"
     ]
    },
    {
     "name": "stderr",
     "output_type": "stream",
     "text": [
      "\r",
      " 34%|██████████████████████▉                                            | 34.1712962962963/100 [02:53<02:58,  2.71s/it]"
     ]
    },
    {
     "name": "stdout",
     "output_type": "stream",
     "text": [
      "20070\n",
      "20288\n",
      "20345\n",
      "20206\n",
      "20220\n",
      "20107\n",
      "20311\n",
      "20155\n",
      "20099\n",
      "20319\n",
      "20272\n",
      "20058\n",
      "20307\n",
      "20124\n",
      "20222\n",
      "20154\n"
     ]
    },
    {
     "name": "stderr",
     "output_type": "stream",
     "text": [
      "\r",
      " 35%|██████████████████████▌                                          | 34.736111111111114/100 [02:54<03:12,  2.95s/it]"
     ]
    },
    {
     "name": "stdout",
     "output_type": "stream",
     "text": [
      "20060\n",
      "20282\n",
      "20061\n",
      "20399\n",
      "20339\n",
      "20310\n",
      "20063\n",
      "20095\n",
      "20250\n",
      "20049\n",
      "20219\n",
      "20131\n",
      "20355\n"
     ]
    },
    {
     "name": "stderr",
     "output_type": "stream",
     "text": [
      "\r",
      " 35%|███████████████████████▎                                          | 35.30555555555556/100 [02:55<02:44,  2.54s/it]"
     ]
    },
    {
     "name": "stdout",
     "output_type": "stream",
     "text": [
      "20330\n",
      "20294\n",
      "20245\n",
      "20132\n",
      "20276\n",
      "20214\n",
      "20244\n",
      "20159\n",
      "20003\n",
      "20284\n",
      "20041\n",
      "20250\n",
      "20346\n",
      "20198\n",
      "20300\n",
      "20200\n",
      "20153\n"
     ]
    },
    {
     "name": "stderr",
     "output_type": "stream",
     "text": [
      "\r",
      " 36%|███████████████████████▋                                          | 35.87962962962963/100 [02:57<02:42,  2.53s/it]"
     ]
    },
    {
     "name": "stdout",
     "output_type": "stream",
     "text": [
      "20315\n",
      "20222\n",
      "20144\n",
      "20036\n",
      "20280\n",
      "20324\n",
      "20131\n",
      "20289\n",
      "20298\n",
      "20148\n",
      "20386\n",
      "20262\n",
      "20011\n",
      "20197\n",
      "20049\n"
     ]
    },
    {
     "name": "stderr",
     "output_type": "stream",
     "text": [
      "\r",
      " 36%|███████████████████████▋                                         | 36.458333333333336/100 [02:58<02:37,  2.47s/it]"
     ]
    },
    {
     "name": "stdout",
     "output_type": "stream",
     "text": [
      "20126\n",
      "20215\n",
      "20329\n",
      "20201\n",
      "20066\n",
      "20270\n",
      "20144\n",
      "20016\n",
      "20047\n",
      "20026\n",
      "20245\n",
      "20223\n",
      "20071\n",
      "20317\n",
      "20210\n",
      "20040\n",
      "20018\n",
      "20281\n",
      "20085\n"
     ]
    },
    {
     "name": "stderr",
     "output_type": "stream",
     "text": [
      "\r",
      " 37%|████████████████████████▍                                         | 37.04166666666667/100 [03:00<02:59,  2.85s/it]"
     ]
    },
    {
     "name": "stdout",
     "output_type": "stream",
     "text": [
      "20346\n",
      "20397\n",
      "20366\n",
      "20016\n",
      "20042\n",
      "20305\n",
      "20088\n",
      "20023\n",
      "20364\n",
      "20326\n",
      "20200\n",
      "20138\n"
     ]
    },
    {
     "name": "stderr",
     "output_type": "stream",
     "text": [
      "\r",
      " 38%|████████████████████████▊                                         | 37.62962962962963/100 [03:02<02:58,  2.87s/it]"
     ]
    },
    {
     "name": "stdout",
     "output_type": "stream",
     "text": [
      "20132\n",
      "20260\n",
      "20342\n",
      "20118\n",
      "20260\n",
      "20216\n",
      "20223\n",
      "20135\n",
      "20129\n",
      "20162\n",
      "20209\n",
      "20071\n",
      "20154\n",
      "20062\n",
      "20170\n",
      "20020\n",
      "20328\n",
      "20103\n",
      "20058\n",
      "20016\n"
     ]
    },
    {
     "name": "stderr",
     "output_type": "stream",
     "text": [
      "\r",
      " 38%|█████████████████████████▏                                        | 38.22222222222223/100 [03:03<02:40,  2.60s/it]"
     ]
    },
    {
     "name": "stdout",
     "output_type": "stream",
     "text": [
      "20298\n",
      "20317\n",
      "20266\n",
      "20391\n",
      "20326\n",
      "20334\n",
      "20045\n",
      "20383\n",
      "20321\n",
      "20149\n",
      "20030\n",
      "20006\n",
      "20284\n"
     ]
    },
    {
     "name": "stderr",
     "output_type": "stream",
     "text": [
      "\r",
      " 39%|█████████████████████████▌                                        | 38.81944444444445/100 [03:05<02:40,  2.63s/it]"
     ]
    },
    {
     "name": "stdout",
     "output_type": "stream",
     "text": [
      "20245\n",
      "20345\n",
      "20392\n",
      "20128\n",
      "20358\n",
      "20339\n",
      "20012\n",
      "20256\n",
      "20013\n",
      "20234\n",
      "20007\n",
      "20037\n",
      "20141\n",
      "20328\n",
      "20017\n"
     ]
    },
    {
     "name": "stderr",
     "output_type": "stream",
     "text": [
      "\r",
      " 39%|█████████████████████████▌                                       | 39.421296296296305/100 [03:06<02:29,  2.47s/it]"
     ]
    },
    {
     "name": "stdout",
     "output_type": "stream",
     "text": [
      "20354\n",
      "20084\n",
      "20025\n",
      "20139\n",
      "20183\n",
      "20105\n",
      "20356\n",
      "20020\n",
      "20169\n",
      "20115\n",
      "20247\n",
      "20295\n",
      "20358\n",
      "20329\n",
      "20206\n",
      "20187\n",
      "20244\n",
      "20163\n",
      "20080"
     ]
    },
    {
     "name": "stderr",
     "output_type": "stream",
     "text": [
      "\r",
      " 40%|██████████████████████████                                       | 40.027777777777786/100 [03:08<02:26,  2.44s/it]"
     ]
    },
    {
     "name": "stdout",
     "output_type": "stream",
     "text": [
      "\n",
      "20080\n",
      "20308\n",
      "20383\n",
      "20253\n",
      "20072\n",
      "20151\n",
      "20054\n",
      "20298\n",
      "20382\n",
      "20246\n",
      "20012\n",
      "20133\n",
      "20023\n",
      "20257\n",
      "20054\n",
      "20340\n",
      "20347\n",
      "20240"
     ]
    },
    {
     "name": "stderr",
     "output_type": "stream",
     "text": [
      "\r",
      " 41%|███████████████████████████▏                                       | 40.6388888888889/100 [03:09<02:22,  2.40s/it]"
     ]
    },
    {
     "name": "stdout",
     "output_type": "stream",
     "text": [
      "\n",
      "20290\n",
      "20343\n",
      "20007\n",
      "20052\n",
      "20284\n",
      "20248\n",
      "20088\n",
      "20027\n",
      "20069\n",
      "20251\n",
      "20137\n",
      "20129\n",
      "20148\n",
      "20265\n",
      "20322\n"
     ]
    },
    {
     "name": "stderr",
     "output_type": "stream",
     "text": [
      "\r",
      " 41%|███████████████████████████▏                                      | 41.25462962962964/100 [03:11<02:29,  2.55s/it]"
     ]
    },
    {
     "name": "stdout",
     "output_type": "stream",
     "text": [
      "20324\n",
      "20212\n",
      "20245\n",
      "20320\n",
      "20361\n",
      "20059\n",
      "20253\n",
      "20162\n",
      "20102\n",
      "20056\n",
      "20343\n",
      "20027\n",
      "20172\n",
      "20230\n",
      "20122\n",
      "20220\n",
      "20091"
     ]
    },
    {
     "name": "stderr",
     "output_type": "stream",
     "text": [
      "\r",
      " 42%|███████████████████████████▏                                     | 41.875000000000014/100 [03:13<02:45,  2.84s/it]"
     ]
    },
    {
     "name": "stdout",
     "output_type": "stream",
     "text": [
      "\n",
      "20126\n",
      "20045\n",
      "20324\n",
      "20055\n",
      "20115\n",
      "20316\n",
      "20359\n",
      "20317\n",
      "20299\n",
      "20247\n",
      "20145\n",
      "20344\n",
      "20092"
     ]
    },
    {
     "name": "stderr",
     "output_type": "stream",
     "text": [
      "\r",
      " 43%|███████████████████████████▋                                     | 42.500000000000014/100 [03:14<02:34,  2.68s/it]"
     ]
    },
    {
     "name": "stdout",
     "output_type": "stream",
     "text": [
      "\n",
      "20346\n",
      "20093\n",
      "20101\n",
      "20218\n",
      "20395\n",
      "20023\n",
      "20034\n",
      "20211\n",
      "20172\n",
      "20039\n",
      "20105\n",
      "20358\n",
      "20094\n",
      "20060\n",
      "20051\n",
      "20374\n",
      "20033\n",
      "20020\n"
     ]
    },
    {
     "name": "stderr",
     "output_type": "stream",
     "text": [
      "\r",
      " 43%|████████████████████████████▍                                     | 43.12962962962964/100 [03:17<02:50,  2.99s/it]"
     ]
    },
    {
     "name": "stdout",
     "output_type": "stream",
     "text": [
      "20024\n",
      "20136\n",
      "20367\n",
      "20160\n",
      "20174\n",
      "20379\n",
      "20336\n",
      "20215\n",
      "20338\n",
      "20278\n",
      "20160\n",
      "20105\n",
      "20003\n",
      "20211\n",
      "20383\n",
      "20160\n"
     ]
    },
    {
     "name": "stderr",
     "output_type": "stream",
     "text": [
      "\r",
      " 44%|█████████████████████████████▎                                     | 43.7638888888889/100 [03:18<02:37,  2.80s/it]"
     ]
    },
    {
     "name": "stdout",
     "output_type": "stream",
     "text": [
      "20097\n",
      "20235\n",
      "20103\n",
      "20275\n",
      "20379\n",
      "20175\n",
      "20357\n",
      "20004\n",
      "20377\n",
      "20242\n",
      "20315\n",
      "20232\n"
     ]
    },
    {
     "name": "stderr",
     "output_type": "stream",
     "text": [
      "\r",
      " 44%|████████████████████████████▊                                    | 44.402777777777786/100 [03:20<02:26,  2.63s/it]"
     ]
    },
    {
     "name": "stdout",
     "output_type": "stream",
     "text": [
      "20058\n",
      "20090\n",
      "20154\n",
      "20003\n",
      "20168\n",
      "20034\n",
      "20265\n",
      "20343\n",
      "20027\n",
      "20325\n",
      "20266\n",
      "20278\n",
      "20322\n",
      "20213\n",
      "20275\n",
      "20058\n",
      "20277\n",
      "20292\n",
      "20312\n",
      "20013"
     ]
    },
    {
     "name": "stderr",
     "output_type": "stream",
     "text": [
      "\r",
      " 45%|█████████████████████████████▎                                   | 45.046296296296305/100 [03:21<02:14,  2.45s/it]"
     ]
    },
    {
     "name": "stdout",
     "output_type": "stream",
     "text": [
      "\n",
      "20348\n",
      "20181\n",
      "20142\n",
      "20024\n",
      "20244\n",
      "20314\n",
      "20322\n",
      "20209\n",
      "20122\n",
      "20351\n",
      "20292\n"
     ]
    },
    {
     "name": "stderr",
     "output_type": "stream",
     "text": [
      "\r",
      " 46%|██████████████████████████████▏                                   | 45.69444444444445/100 [03:23<02:13,  2.45s/it]"
     ]
    },
    {
     "name": "stdout",
     "output_type": "stream",
     "text": [
      "20383\n",
      "20371\n",
      "20217\n",
      "20058\n",
      "20186\n",
      "20095\n",
      "20259\n",
      "20284\n",
      "20035\n",
      "20222\n",
      "20380\n",
      "20025\n",
      "20111\n",
      "20059\n",
      "20394\n",
      "20249\n",
      "20118\n"
     ]
    },
    {
     "name": "stderr",
     "output_type": "stream",
     "text": [
      "\r",
      " 46%|██████████████████████████████▌                                   | 46.34722222222223/100 [03:24<02:08,  2.39s/it]"
     ]
    },
    {
     "name": "stdout",
     "output_type": "stream",
     "text": [
      "20370\n",
      "20148\n",
      "20279\n",
      "20088\n",
      "20063\n",
      "20097\n",
      "20210\n",
      "20362\n",
      "20044\n",
      "20362\n",
      "20178\n",
      "20033\n",
      "20314\n",
      "20070\n",
      "20391\n",
      "20311\n"
     ]
    },
    {
     "name": "stderr",
     "output_type": "stream",
     "text": [
      "\r",
      " 47%|███████████████████████████████                                   | 47.00462962962963/100 [03:25<02:03,  2.34s/it]"
     ]
    },
    {
     "name": "stdout",
     "output_type": "stream",
     "text": [
      "20349\n",
      "20085\n",
      "20184\n",
      "20003\n",
      "20301\n",
      "20047\n",
      "20163\n",
      "20125\n",
      "20398\n",
      "20016\n",
      "20102\n",
      "20077\n",
      "20100\n",
      "20062\n",
      "20249\n",
      "20355\n",
      "20377\n",
      "20079\n"
     ]
    },
    {
     "name": "stderr",
     "output_type": "stream",
     "text": [
      "\r",
      " 48%|███████████████████████████████▍                                  | 47.66666666666667/100 [03:28<02:23,  2.74s/it]"
     ]
    },
    {
     "name": "stdout",
     "output_type": "stream",
     "text": [
      "20313\n",
      "20259\n",
      "20264\n",
      "20365\n",
      "20183\n",
      "20370\n",
      "20267\n",
      "20061\n",
      "20256\n",
      "20229\n",
      "20170\n",
      "20378\n",
      "20217\n",
      "20232\n",
      "20216\n",
      "20103"
     ]
    },
    {
     "name": "stderr",
     "output_type": "stream",
     "text": [
      "\r",
      " 48%|███████████████████████████████▍                                 | 48.333333333333336/100 [03:29<02:10,  2.52s/it]"
     ]
    },
    {
     "name": "stdout",
     "output_type": "stream",
     "text": [
      "\n",
      "20160\n",
      "20141\n",
      "20016\n",
      "20319\n",
      "20080\n",
      "20029\n",
      "20157\n",
      "20237\n",
      "20029\n",
      "20080\n",
      "20063\n",
      "20259\n",
      "20183\n"
     ]
    },
    {
     "name": "stderr",
     "output_type": "stream",
     "text": [
      "\r",
      " 49%|████████████████████████████████▎                                 | 49.00462962962963/100 [03:31<02:08,  2.52s/it]"
     ]
    },
    {
     "name": "stdout",
     "output_type": "stream",
     "text": [
      "20243\n",
      "20280\n",
      "20178\n",
      "20275\n",
      "20160\n",
      "20335\n",
      "20238\n",
      "20081\n",
      "20381\n",
      "20351\n",
      "20158\n",
      "20396\n",
      "20075\n",
      "20359\n",
      "20231\n",
      "20178\n",
      "20252\n",
      "20284\n",
      "20021\n",
      "20115\n",
      "20105\n"
     ]
    },
    {
     "name": "stderr",
     "output_type": "stream",
     "text": [
      "\r",
      " 50%|████████████████████████████████▊                                 | 49.68055555555556/100 [03:32<01:57,  2.33s/it]"
     ]
    },
    {
     "name": "stdout",
     "output_type": "stream",
     "text": [
      "20164\n",
      "20359\n",
      "20285\n",
      "20292\n",
      "20359\n",
      "20158\n",
      "20160\n",
      "20363\n",
      "20124\n",
      "20156\n",
      "20229\n",
      "20142\n",
      "20294\n"
     ]
    },
    {
     "name": "stderr",
     "output_type": "stream",
     "text": [
      "\r",
      " 50%|████████████████████████████████▋                                | 50.361111111111114/100 [03:35<02:12,  2.66s/it]"
     ]
    },
    {
     "name": "stdout",
     "output_type": "stream",
     "text": [
      "20299\n",
      "20296\n",
      "20297\n",
      "20057\n",
      "20081\n",
      "20110\n",
      "20273\n",
      "20365\n",
      "20148\n",
      "20208\n",
      "20045\n",
      "20364\n",
      "20082\n",
      "20208\n",
      "20263\n",
      "20176\n"
     ]
    },
    {
     "name": "stderr",
     "output_type": "stream",
     "text": [
      "\r",
      " 51%|██████████████████████████████████▏                                | 51.0462962962963/100 [03:36<02:04,  2.54s/it]"
     ]
    },
    {
     "name": "stdout",
     "output_type": "stream",
     "text": [
      "20276\n",
      "20037\n",
      "20033\n",
      "20031\n",
      "20012\n",
      "20143\n",
      "20124\n",
      "20280\n",
      "20058\n",
      "20159\n",
      "20028\n",
      "20271\n",
      "20291\n",
      "20080\n",
      "20279\n",
      "20247\n",
      "20263\n",
      "20219"
     ]
    },
    {
     "name": "stderr",
     "output_type": "stream",
     "text": [
      "\r",
      " 52%|█████████████████████████████████▋                               | 51.736111111111114/100 [03:38<01:56,  2.41s/it]"
     ]
    },
    {
     "name": "stdout",
     "output_type": "stream",
     "text": [
      "\n",
      "20040\n",
      "20219\n",
      "20021\n",
      "20391\n",
      "20187\n",
      "20389\n",
      "20292\n",
      "20213\n",
      "20273\n",
      "20278\n",
      "20150\n",
      "20156\n",
      "20021\n"
     ]
    },
    {
     "name": "stderr",
     "output_type": "stream",
     "text": [
      "\r",
      " 52%|██████████████████████████████████▌                               | 52.43055555555556/100 [03:39<01:47,  2.26s/it]"
     ]
    },
    {
     "name": "stdout",
     "output_type": "stream",
     "text": [
      "20325\n",
      "20069\n",
      "20025\n",
      "20125\n",
      "20315\n",
      "20346\n",
      "20085\n",
      "20313\n",
      "20338\n",
      "20400\n",
      "20401\n",
      "20246\n",
      "20158\n",
      "20107\n",
      "20120\n",
      "20337\n"
     ]
    },
    {
     "name": "stderr",
     "output_type": "stream",
     "text": [
      "\r",
      " 53%|███████████████████████████████████                               | 53.12962962962963/100 [03:40<01:46,  2.27s/it]"
     ]
    },
    {
     "name": "stdout",
     "output_type": "stream",
     "text": [
      "20010\n",
      "20151\n",
      "20038\n",
      "20272\n",
      "20023\n",
      "20086\n",
      "20130\n",
      "20195\n",
      "20005\n",
      "20177\n",
      "20204\n",
      "20243\n",
      "20304\n",
      "20161\n",
      "20141\n",
      "20338\n",
      "20378\n",
      "20250\n",
      "20400\n",
      "20022\n"
     ]
    },
    {
     "name": "stderr",
     "output_type": "stream",
     "text": [
      "\r",
      " 54%|██████████████████████████████████▉                              | 53.833333333333336/100 [03:43<02:02,  2.65s/it]"
     ]
    },
    {
     "name": "stdout",
     "output_type": "stream",
     "text": [
      "20226\n",
      "20346\n",
      "20156\n",
      "20124\n",
      "20115\n",
      "20012\n",
      "20246\n",
      "20157\n",
      "20008\n",
      "20013\n",
      "20183\n",
      "20344\n",
      "20376"
     ]
    },
    {
     "name": "stderr",
     "output_type": "stream",
     "text": [
      "\r",
      " 55%|███████████████████████████████████▉                              | 54.54166666666667/100 [03:44<01:48,  2.39s/it]"
     ]
    },
    {
     "name": "stdout",
     "output_type": "stream",
     "text": [
      "\n",
      "20162\n",
      "20292\n",
      "20246\n",
      "20324\n",
      "20351\n",
      "20234\n",
      "20239\n",
      "20033\n",
      "20318\n",
      "20186\n",
      "20237\n",
      "20237\n",
      "20229\n",
      "20327\n",
      "20270\n",
      "20138\n",
      "20005\n",
      "20108\n"
     ]
    },
    {
     "name": "stderr",
     "output_type": "stream",
     "text": [
      "\r",
      " 55%|████████████████████████████████████▍                             | 55.25462962962963/100 [03:46<01:43,  2.30s/it]"
     ]
    },
    {
     "name": "stdout",
     "output_type": "stream",
     "text": [
      "20138\n",
      "20094\n",
      "20309\n",
      "20150\n",
      "20349\n",
      "20048\n",
      "20291\n",
      "20253\n",
      "20359\n",
      "20074\n",
      "20215\n",
      "20362\n",
      "20313\n",
      "20387\n",
      "20080\n",
      "20362\n",
      "20320\n"
     ]
    },
    {
     "name": "stderr",
     "output_type": "stream",
     "text": [
      "\r",
      " 56%|████████████████████████████████████▉                             | 55.97222222222223/100 [03:47<01:37,  2.21s/it]"
     ]
    },
    {
     "name": "stdout",
     "output_type": "stream",
     "text": [
      "20382\n",
      "20341\n",
      "20357\n",
      "20252\n",
      "20075\n",
      "20248\n",
      "20107\n",
      "20101\n",
      "20294\n",
      "20316\n",
      "20069\n",
      "20287\n",
      "20193\n",
      "20034\n"
     ]
    },
    {
     "name": "stderr",
     "output_type": "stream",
     "text": [
      "\r",
      " 57%|█████████████████████████████████████▍                            | 56.69444444444445/100 [03:50<01:51,  2.57s/it]"
     ]
    },
    {
     "name": "stdout",
     "output_type": "stream",
     "text": [
      "20324\n",
      "20343\n",
      "20051\n",
      "20124\n",
      "20230\n",
      "20190\n",
      "20306\n",
      "20078\n",
      "20292\n",
      "20399\n",
      "20007\n",
      "20260\n",
      "20278\n",
      "20071\n",
      "20030\n",
      "20111\n"
     ]
    },
    {
     "name": "stderr",
     "output_type": "stream",
     "text": [
      "\r",
      " 57%|█████████████████████████████████████▎                           | 57.421296296296305/100 [03:51<01:42,  2.40s/it]"
     ]
    },
    {
     "name": "stdout",
     "output_type": "stream",
     "text": [
      "20272\n",
      "20337\n",
      "20224\n",
      "20149\n",
      "20313\n",
      "20094\n",
      "20256\n",
      "20094\n",
      "20083\n",
      "20389\n",
      "20114\n",
      "20010\n",
      "20309\n",
      "20062\n",
      "20020\n",
      "20005\n",
      "20140"
     ]
    },
    {
     "name": "stderr",
     "output_type": "stream",
     "text": [
      "\r",
      " 58%|█████████████████████████████████████▊                           | 58.152777777777786/100 [03:52<01:34,  2.26s/it]"
     ]
    },
    {
     "name": "stdout",
     "output_type": "stream",
     "text": [
      "\n",
      "20259\n",
      "20138\n",
      "20167\n",
      "20168\n",
      "20037\n",
      "20219\n",
      "20281\n",
      "20136\n",
      "20264\n",
      "20351\n",
      "20215\n",
      "20229\n",
      "20023\n"
     ]
    },
    {
     "name": "stderr",
     "output_type": "stream",
     "text": [
      "\r",
      " 59%|███████████████████████████████████████▍                           | 58.8888888888889/100 [03:54<01:31,  2.21s/it]"
     ]
    },
    {
     "name": "stdout",
     "output_type": "stream",
     "text": [
      "20187\n",
      "20105\n",
      "20172\n",
      "20346\n",
      "20196\n",
      "20036\n",
      "20227\n",
      "20285\n",
      "20312\n",
      "20347\n",
      "20341\n",
      "20118\n",
      "20347\n",
      "20259\n",
      "20300\n",
      "20332\n",
      "20307\n",
      "20350\n",
      "20364\n",
      "20366\n"
     ]
    },
    {
     "name": "stderr",
     "output_type": "stream",
     "text": [
      "\r",
      " 60%|███████████████████████████████████████▎                          | 59.62962962962964/100 [03:56<01:35,  2.37s/it]"
     ]
    },
    {
     "name": "stdout",
     "output_type": "stream",
     "text": [
      "20210\n",
      "20177\n",
      "20044\n",
      "20143\n",
      "20330\n",
      "20172\n",
      "20069\n",
      "20001\n",
      "20264\n",
      "20310\n",
      "20026\n",
      "20037\n",
      "20155\n",
      "20275\n",
      "20324\n",
      "20063\n"
     ]
    },
    {
     "name": "stderr",
     "output_type": "stream",
     "text": [
      "\r",
      " 60%|███████████████████████████████████████▏                         | 60.375000000000014/100 [03:58<01:31,  2.30s/it]"
     ]
    },
    {
     "name": "stdout",
     "output_type": "stream",
     "text": [
      "20058\n",
      "20005\n",
      "20369\n",
      "20111\n",
      "20110\n",
      "20236\n",
      "20277\n",
      "20336\n",
      "20292\n",
      "20195\n",
      "20083\n",
      "20298\n",
      "20188\n",
      "20184\n"
     ]
    },
    {
     "name": "stderr",
     "output_type": "stream",
     "text": [
      "\r",
      " 61%|███████████████████████████████████████▋                         | 61.125000000000014/100 [03:59<01:28,  2.28s/it]"
     ]
    },
    {
     "name": "stdout",
     "output_type": "stream",
     "text": [
      "20381\n",
      "20299\n",
      "20044\n",
      "20020\n",
      "20139\n",
      "20008\n",
      "20392\n",
      "20260\n",
      "20022\n",
      "20367\n",
      "20256\n",
      "20174\n",
      "20009\n",
      "20098\n",
      "20158\n",
      "20263\n",
      "20314\n",
      "20010\n"
     ]
    },
    {
     "name": "stderr",
     "output_type": "stream",
     "text": [
      "\r",
      " 62%|████████████████████████████████████████▊                         | 61.87962962962964/100 [04:01<01:19,  2.07s/it]"
     ]
    },
    {
     "name": "stdout",
     "output_type": "stream",
     "text": [
      "20331\n",
      "20056\n",
      "20255\n",
      "20221\n",
      "20394\n",
      "20186\n",
      "20087\n",
      "20121\n",
      "20314\n",
      "20138\n",
      "20193\n"
     ]
    },
    {
     "name": "stderr",
     "output_type": "stream",
     "text": [
      "\r",
      " 63%|█████████████████████████████████████████▉                         | 62.6388888888889/100 [04:02<01:17,  2.08s/it]"
     ]
    },
    {
     "name": "stdout",
     "output_type": "stream",
     "text": [
      "20244\n",
      "20042\n",
      "20395\n",
      "20303\n",
      "20061\n",
      "20184\n",
      "20286\n",
      "20400\n",
      "20311\n",
      "20258\n",
      "20249\n",
      "20379\n",
      "20276\n",
      "20117\n",
      "20228\n",
      "20117\n",
      "20220\n",
      "20286\n",
      "20100\n",
      "20220\n",
      "20198\n"
     ]
    },
    {
     "name": "stderr",
     "output_type": "stream",
     "text": [
      "\r",
      " 63%|█████████████████████████████████████████▏                       | 63.402777777777786/100 [04:04<01:19,  2.16s/it]"
     ]
    },
    {
     "name": "stdout",
     "output_type": "stream",
     "text": [
      "20382\n",
      "20269\n",
      "20307\n",
      "20250\n",
      "20179\n",
      "20321\n",
      "20299\n",
      "20397\n",
      "20083\n",
      "20253\n",
      "20365\n",
      "20238\n"
     ]
    },
    {
     "name": "stderr",
     "output_type": "stream",
     "text": [
      "\r",
      " 64%|██████████████████████████████████████████▉                        | 64.1712962962963/100 [04:05<01:08,  1.92s/it]"
     ]
    },
    {
     "name": "stdout",
     "output_type": "stream",
     "text": [
      "20368\n",
      "20203\n",
      "20197\n",
      "20181\n",
      "20357\n",
      "20377\n",
      "20074\n",
      "20102\n",
      "20082\n",
      "20293\n",
      "20377\n",
      "20251\n",
      "20018\n",
      "20258\n",
      "20015\n",
      "20224\n",
      "20219\n",
      "20180\n"
     ]
    },
    {
     "name": "stderr",
     "output_type": "stream",
     "text": [
      "\r",
      " 65%|██████████████████████████████████████████▊                       | 64.94444444444446/100 [04:07<01:18,  2.23s/it]"
     ]
    },
    {
     "name": "stdout",
     "output_type": "stream",
     "text": [
      "20026\n",
      "20399\n",
      "20052\n",
      "20241\n",
      "20021\n",
      "20070\n",
      "20265\n",
      "20134\n",
      "20127\n",
      "20262\n",
      "20165\n",
      "20172\n",
      "20090\n",
      "20272\n",
      "20068\n"
     ]
    },
    {
     "name": "stderr",
     "output_type": "stream",
     "text": [
      "\r",
      " 66%|███████████████████████████████████████████▍                      | 65.72222222222223/100 [04:09<01:13,  2.13s/it]"
     ]
    },
    {
     "name": "stdout",
     "output_type": "stream",
     "text": [
      "20200\n",
      "20204\n",
      "20322\n",
      "20175\n",
      "20003\n",
      "20137\n",
      "20151\n",
      "20052\n",
      "20332\n",
      "20294\n",
      "20357\n",
      "20258\n",
      "20261\n",
      "20207\n",
      "20295\n",
      "20296\n",
      "20384\n",
      "20187\n",
      "20146\n"
     ]
    },
    {
     "name": "stderr",
     "output_type": "stream",
     "text": [
      "\r",
      " 67%|███████████████████████████████████████████▉                      | 66.50462962962963/100 [04:11<01:20,  2.39s/it]"
     ]
    },
    {
     "name": "stdout",
     "output_type": "stream",
     "text": [
      "20046\n",
      "20363\n",
      "20329\n",
      "20183\n",
      "20044\n",
      "20349\n",
      "20306\n",
      "20017\n",
      "20168\n",
      "20375\n",
      "20028\n"
     ]
    },
    {
     "name": "stderr",
     "output_type": "stream",
     "text": [
      "\r",
      " 67%|████████████████████████████████████████████▍                     | 67.29166666666667/100 [04:12<01:02,  1.91s/it]"
     ]
    },
    {
     "name": "stdout",
     "output_type": "stream",
     "text": [
      "20067\n",
      "20086\n",
      "20048\n",
      "20237\n",
      "20048\n",
      "20248\n",
      "20233\n",
      "20277\n",
      "20294\n",
      "20367\n",
      "20269\n",
      "20120\n",
      "20325\n",
      "20152\n",
      "20400\n",
      "20310\n",
      "20083\n",
      "20069\n",
      "20156\n",
      "20073\n"
     ]
    },
    {
     "name": "stderr",
     "output_type": "stream",
     "text": [
      "\r",
      " 68%|████████████████████████████████████████████▉                     | 68.08333333333334/100 [04:14<01:14,  2.32s/it]"
     ]
    },
    {
     "name": "stdout",
     "output_type": "stream",
     "text": [
      "20233\n",
      "20079\n",
      "20385\n",
      "20077\n",
      "20154\n",
      "20123\n",
      "20049\n",
      "20080\n",
      "20019\n",
      "20309\n",
      "20305\n",
      "20353\n",
      "20002\n",
      "20180\n",
      "20172\n",
      "20322\n"
     ]
    },
    {
     "name": "stderr",
     "output_type": "stream",
     "text": [
      "\r",
      " 69%|█████████████████████████████████████████████▍                    | 68.87962962962963/100 [04:16<01:06,  2.13s/it]"
     ]
    },
    {
     "name": "stdout",
     "output_type": "stream",
     "text": [
      "20186\n",
      "20199\n",
      "20241\n",
      "20155\n",
      "20295\n",
      "20245\n",
      "20230\n",
      "20146\n",
      "20062\n",
      "20091\n",
      "20171\n",
      "20322\n",
      "20208\n",
      "20397\n"
     ]
    },
    {
     "name": "stderr",
     "output_type": "stream",
     "text": [
      "\r",
      " 70%|█████████████████████████████████████████████▉                    | 69.68055555555556/100 [04:17<01:00,  2.00s/it]"
     ]
    },
    {
     "name": "stdout",
     "output_type": "stream",
     "text": [
      "20302\n",
      "20139\n",
      "20069\n",
      "20264\n",
      "20301\n",
      "20096\n",
      "20225\n",
      "20038\n",
      "20370\n",
      "20359\n",
      "20344\n",
      "20025\n",
      "20197\n",
      "20254\n",
      "20300\n",
      "20303"
     ]
    },
    {
     "name": "stderr",
     "output_type": "stream",
     "text": [
      "\r",
      " 70%|██████████████████████████████████████████████▌                   | 70.48611111111111/100 [04:18<00:57,  1.95s/it]"
     ]
    },
    {
     "name": "stdout",
     "output_type": "stream",
     "text": [
      "\n",
      "20103\n",
      "20365\n",
      "20318\n",
      "20081\n",
      "20222\n",
      "20021\n",
      "20210\n",
      "20317\n",
      "20283\n",
      "20011\n",
      "20294\n",
      "20222\n",
      "20367\n",
      "20351\n",
      "20320\n",
      "20123\n",
      "20159\n",
      "20194\n",
      "20022\n"
     ]
    },
    {
     "name": "stderr",
     "output_type": "stream",
     "text": [
      "\r",
      " 71%|███████████████████████████████████████████████▊                   | 71.2962962962963/100 [04:20<00:53,  1.87s/it]"
     ]
    },
    {
     "name": "stdout",
     "output_type": "stream",
     "text": [
      "20262\n",
      "20001\n",
      "20308\n",
      "20303\n",
      "20089\n",
      "20063\n",
      "20024\n",
      "20269\n",
      "20014\n",
      "20139\n",
      "20280\n",
      "20320\n",
      "20176\n"
     ]
    },
    {
     "name": "stderr",
     "output_type": "stream",
     "text": [
      "\r",
      " 72%|███████████████████████████████████████████████▌                  | 72.11111111111111/100 [04:22<00:59,  2.15s/it]"
     ]
    },
    {
     "name": "stdout",
     "output_type": "stream",
     "text": [
      "20394\n",
      "20255\n",
      "20119\n",
      "20192\n",
      "20351\n",
      "20033\n",
      "20041\n",
      "20058\n",
      "20058\n",
      "20368\n",
      "20124\n",
      "20151\n",
      "20327\n",
      "20020\n",
      "20327\n",
      "20097\n",
      "20360\n",
      "20104\n",
      "20109\n"
     ]
    },
    {
     "name": "stderr",
     "output_type": "stream",
     "text": [
      "\r",
      " 73%|████████████████████████████████████████████████▏                 | 72.93055555555556/100 [04:23<00:53,  1.99s/it]"
     ]
    },
    {
     "name": "stdout",
     "output_type": "stream",
     "text": [
      "20084\n",
      "20093\n",
      "20339\n",
      "20351\n",
      "20356\n",
      "20339\n",
      "20245\n",
      "20017\n",
      "20070\n",
      "20075\n",
      "20143\n",
      "20181\n",
      "20075\n",
      "20359\n",
      "20250"
     ]
    },
    {
     "name": "stderr",
     "output_type": "stream",
     "text": [
      "\r",
      " 74%|████████████████████████████████████████████████▋                 | 73.75462962962963/100 [04:25<00:53,  2.02s/it]"
     ]
    },
    {
     "name": "stdout",
     "output_type": "stream",
     "text": [
      "\n",
      "20220\n",
      "20366\n",
      "20210\n",
      "20293\n",
      "20401\n",
      "20389\n",
      "20348\n",
      "20337\n",
      "20060\n",
      "20151\n",
      "20115\n",
      "20069\n",
      "20391\n",
      "20298\n"
     ]
    },
    {
     "name": "stderr",
     "output_type": "stream",
     "text": [
      "\r",
      " 75%|█████████████████████████████████████████████████▏                | 74.58333333333334/100 [04:27<00:49,  1.94s/it]"
     ]
    },
    {
     "name": "stdout",
     "output_type": "stream",
     "text": [
      "20288\n",
      "20013\n",
      "20259\n",
      "20326\n",
      "20295\n",
      "20328\n",
      "20051\n",
      "20289\n",
      "20151\n",
      "20261\n",
      "20367\n",
      "20357\n",
      "20014\n",
      "20310\n",
      "20181\n",
      "20004\n",
      "20092\n",
      "20168\n",
      "20064\n",
      "20369"
     ]
    },
    {
     "name": "stderr",
     "output_type": "stream",
     "text": [
      "\r",
      " 75%|█████████████████████████████████████████████████▊                | 75.41666666666667/100 [04:28<00:45,  1.87s/it]"
     ]
    },
    {
     "name": "stdout",
     "output_type": "stream",
     "text": [
      "\n",
      "20202\n",
      "20098\n",
      "20303\n",
      "20364\n",
      "20086\n",
      "20014\n",
      "20309\n",
      "20092\n",
      "20224\n",
      "20324\n",
      "20342\n",
      "20134\n",
      "20217\n",
      "20398\n",
      "20349\n",
      "20260"
     ]
    },
    {
     "name": "stderr",
     "output_type": "stream",
     "text": [
      "\r",
      " 76%|██████████████████████████████████████████████████▎               | 76.25462962962963/100 [04:29<00:42,  1.80s/it]"
     ]
    },
    {
     "name": "stdout",
     "output_type": "stream",
     "text": [
      "\n",
      "20092\n",
      "20326\n",
      "20149\n",
      "20148\n",
      "20015\n",
      "20226\n",
      "20160\n",
      "20049\n",
      "20131\n",
      "20361\n",
      "20082\n",
      "20377\n",
      "20051\n",
      "20341\n"
     ]
    },
    {
     "name": "stderr",
     "output_type": "stream",
     "text": [
      "\r",
      " 77%|██████████████████████████████████████████████████▉               | 77.09722222222223/100 [04:32<00:51,  2.25s/it]"
     ]
    },
    {
     "name": "stdout",
     "output_type": "stream",
     "text": [
      "20359\n",
      "20179\n",
      "20090\n",
      "20255\n",
      "20225\n",
      "20251\n",
      "20170\n",
      "20008\n",
      "20347\n",
      "20057\n",
      "20108\n",
      "20118\n",
      "20274\n",
      "20226\n",
      "20385"
     ]
    },
    {
     "name": "stderr",
     "output_type": "stream",
     "text": [
      "\r",
      " 78%|███████████████████████████████████████████████████▍              | 77.94444444444446/100 [04:33<00:43,  1.99s/it]"
     ]
    },
    {
     "name": "stdout",
     "output_type": "stream",
     "text": [
      "\n",
      "20244\n",
      "20316\n",
      "20170\n",
      "20198\n",
      "20026\n",
      "20281\n",
      "20203\n",
      "20060\n",
      "20381\n",
      "20058\n",
      "20363\n",
      "20278\n",
      "20122\n",
      "20172\n"
     ]
    },
    {
     "name": "stderr",
     "output_type": "stream",
     "text": [
      "\r",
      " 79%|████████████████████████████████████████████████████▊              | 78.7962962962963/100 [04:35<00:40,  1.92s/it]"
     ]
    },
    {
     "name": "stdout",
     "output_type": "stream",
     "text": [
      "20029\n",
      "20388\n",
      "20274\n",
      "20062\n",
      "20352\n",
      "20328\n",
      "20297\n",
      "20055\n",
      "20208\n",
      "20009\n",
      "20004\n",
      "20300\n",
      "20135\n",
      "20362\n",
      "20186\n",
      "20308\n",
      "20021\n",
      "20253\n"
     ]
    },
    {
     "name": "stderr",
     "output_type": "stream",
     "text": [
      "\r",
      " 80%|████████████████████████████████████████████████████▌             | 79.65277777777779/100 [04:36<00:37,  1.83s/it]"
     ]
    },
    {
     "name": "stdout",
     "output_type": "stream",
     "text": [
      "20011\n",
      "20274\n",
      "20389\n",
      "20201\n",
      "20284\n",
      "20107\n",
      "20330\n",
      "20260\n",
      "20240\n",
      "20106\n",
      "20339\n",
      "20185\n",
      "20300\n",
      "20142\n",
      "20007\n",
      "20192\n"
     ]
    },
    {
     "name": "stderr",
     "output_type": "stream",
     "text": [
      "\r",
      " 81%|█████████████████████████████████████████████████████▉             | 80.5138888888889/100 [04:38<00:34,  1.79s/it]"
     ]
    },
    {
     "name": "stdout",
     "output_type": "stream",
     "text": [
      "20252\n",
      "20163\n",
      "20154\n",
      "20012\n",
      "20117\n",
      "20240\n",
      "20355\n",
      "20174\n",
      "20374\n",
      "20154\n",
      "20214\n",
      "20005\n",
      "20391\n",
      "20347\n",
      "20176\n",
      "20281\n"
     ]
    },
    {
     "name": "stderr",
     "output_type": "stream",
     "text": [
      "\r",
      " 81%|█████████████████████████████████████████████████████▋            | 81.37962962962965/100 [04:40<00:38,  2.06s/it]"
     ]
    },
    {
     "name": "stdout",
     "output_type": "stream",
     "text": [
      "20134\n",
      "20242\n",
      "20200\n",
      "20225\n",
      "20017\n",
      "20152\n",
      "20094\n",
      "20376\n",
      "20345\n",
      "20387\n",
      "20245\n",
      "20235\n",
      "20032\n",
      "20164\n",
      "20123\n",
      "20200\n"
     ]
    },
    {
     "name": "stderr",
     "output_type": "stream",
     "text": [
      "\r",
      " 82%|██████████████████████████████████████████████████████▎           | 82.25000000000001/100 [04:41<00:33,  1.90s/it]"
     ]
    },
    {
     "name": "stdout",
     "output_type": "stream",
     "text": [
      "20033\n",
      "20351\n",
      "20123\n",
      "20314\n",
      "20374\n",
      "20236\n",
      "20087\n",
      "20113\n",
      "20225\n",
      "20351\n",
      "20101\n",
      "20122\n",
      "20292\n",
      "20348\n",
      "20093\n",
      "20077\n"
     ]
    },
    {
     "name": "stderr",
     "output_type": "stream",
     "text": [
      "\r",
      " 83%|██████████████████████████████████████████████████████▊           | 83.12500000000001/100 [04:43<00:32,  1.94s/it]"
     ]
    },
    {
     "name": "stdout",
     "output_type": "stream",
     "text": [
      "20180\n",
      "20357\n",
      "20231\n",
      "20013\n",
      "20399\n",
      "20025\n",
      "20249\n",
      "20104\n",
      "20069\n",
      "20047\n",
      "20094\n",
      "20199\n",
      "20385\n",
      "20021\n",
      "20033\n",
      "20136\n",
      "20113\n",
      "20207\n"
     ]
    },
    {
     "name": "stderr",
     "output_type": "stream",
     "text": [
      "\r",
      " 84%|███████████████████████████████████████████████████████▍          | 84.00462962962965/100 [04:45<00:33,  2.08s/it]"
     ]
    },
    {
     "name": "stdout",
     "output_type": "stream",
     "text": [
      "20197\n",
      "20166\n",
      "20371\n",
      "20241\n",
      "20118\n",
      "20191\n",
      "20162\n",
      "20382\n",
      "20220\n",
      "20335\n",
      "20319\n",
      "20322\n",
      "20238\n",
      "20349\n",
      "20128\n",
      "20377\n"
     ]
    },
    {
     "name": "stderr",
     "output_type": "stream",
     "text": [
      "\r",
      " 85%|████████████████████████████████████████████████████████▉          | 84.8888888888889/100 [04:46<00:26,  1.76s/it]"
     ]
    },
    {
     "name": "stdout",
     "output_type": "stream",
     "text": [
      "20108\n",
      "20378\n",
      "20289\n",
      "20052\n",
      "20311\n",
      "20190\n",
      "20071\n",
      "20012\n",
      "20018\n",
      "20183\n",
      "20346\n",
      "20055\n",
      "20007\n",
      "20086\n"
     ]
    },
    {
     "name": "stderr",
     "output_type": "stream",
     "text": [
      "\r",
      " 86%|████████████████████████████████████████████████████████▌         | 85.77777777777779/100 [04:48<00:27,  1.90s/it]"
     ]
    },
    {
     "name": "stdout",
     "output_type": "stream",
     "text": [
      "20328\n",
      "20320\n",
      "20313\n",
      "20264\n",
      "20120\n",
      "20314\n",
      "20370\n",
      "20338\n",
      "20098\n",
      "20201\n",
      "20010\n",
      "20031\n",
      "20013\n",
      "20143\n",
      "20287\n"
     ]
    },
    {
     "name": "stderr",
     "output_type": "stream",
     "text": [
      "\r",
      " 87%|██████████████████████████████████████████████████████████         | 86.6712962962963/100 [04:50<00:24,  1.80s/it]"
     ]
    },
    {
     "name": "stdout",
     "output_type": "stream",
     "text": [
      "20165\n",
      "20073\n",
      "20120\n",
      "20074\n",
      "20299\n",
      "20055\n",
      "20024\n",
      "20211\n",
      "20145\n",
      "20324\n",
      "20065\n",
      "20361\n",
      "20054\n",
      "20013\n",
      "20074\n"
     ]
    },
    {
     "name": "stderr",
     "output_type": "stream",
     "text": [
      "\r",
      " 88%|█████████████████████████████████████████████████████████▊        | 87.56944444444446/100 [04:51<00:21,  1.73s/it]"
     ]
    },
    {
     "name": "stdout",
     "output_type": "stream",
     "text": [
      "20328\n",
      "20101\n",
      "20229\n",
      "20140\n",
      "20217\n",
      "20330\n",
      "20234\n",
      "20078\n",
      "20072\n",
      "20328\n",
      "20191\n",
      "20063\n",
      "20203\n",
      "20294\n",
      "20163\n",
      "20113\n",
      "20228\n"
     ]
    },
    {
     "name": "stderr",
     "output_type": "stream",
     "text": [
      "\r",
      " 88%|██████████████████████████████████████████████████████████▍       | 88.47222222222223/100 [04:52<00:19,  1.71s/it]"
     ]
    },
    {
     "name": "stdout",
     "output_type": "stream",
     "text": [
      "20274\n",
      "20303\n",
      "20290\n",
      "20191\n",
      "20267\n",
      "20349\n",
      "20374\n",
      "20379\n",
      "20043\n",
      "20062\n",
      "20224\n",
      "20321\n",
      "20359\n",
      "20030\n",
      "20350\n",
      "20330\n",
      "20156\n"
     ]
    },
    {
     "name": "stderr",
     "output_type": "stream",
     "text": [
      "\r",
      " 89%|██████████████████████████████████████████████████████████▉       | 89.37962962962963/100 [04:55<00:21,  2.02s/it]"
     ]
    },
    {
     "name": "stdout",
     "output_type": "stream",
     "text": [
      "20221\n",
      "20270\n",
      "20181\n",
      "20114\n",
      "20381\n",
      "20394\n",
      "20292\n",
      "20239\n",
      "20110\n",
      "20054\n",
      "20080\n",
      "20241\n",
      "20196\n",
      "20143\n",
      "20093\n",
      "20192"
     ]
    },
    {
     "name": "stderr",
     "output_type": "stream",
     "text": [
      "\r",
      " 90%|███████████████████████████████████████████████████████████▌      | 90.29166666666667/100 [04:55<00:15,  1.55s/it]"
     ]
    },
    {
     "name": "stdout",
     "output_type": "stream",
     "text": [
      "\n",
      "20278\n",
      "20380\n",
      "20269\n",
      "20394\n",
      "20096\n",
      "20206\n",
      "20095\n",
      "20360\n",
      "20195\n",
      "20132\n",
      "20216\n",
      "20229\n",
      "20136\n",
      "20140\n",
      "20069\n",
      "20117\n",
      "20089\n",
      "20370\n",
      "20297"
     ]
    },
    {
     "name": "stderr",
     "output_type": "stream",
     "text": [
      "\r",
      " 91%|████████████████████████████████████████████████████████████▏     | 91.20833333333334/100 [04:58<00:16,  1.89s/it]"
     ]
    },
    {
     "name": "stdout",
     "output_type": "stream",
     "text": [
      "\n",
      "20324\n",
      "20261\n",
      "20276\n",
      "20109\n",
      "20308\n",
      "20027\n",
      "20290\n",
      "20345\n",
      "20138\n",
      "20019\n",
      "20195\n",
      "20009\n"
     ]
    },
    {
     "name": "stderr",
     "output_type": "stream",
     "text": [
      "\r",
      " 92%|████████████████████████████████████████████████████████████▊     | 92.12962962962963/100 [04:59<00:13,  1.78s/it]"
     ]
    },
    {
     "name": "stdout",
     "output_type": "stream",
     "text": [
      "20336\n",
      "20248\n",
      "20217\n",
      "20243\n",
      "20228\n",
      "20312\n",
      "20257\n",
      "20280\n",
      "20305\n",
      "20348\n",
      "20064\n",
      "20170\n",
      "20316\n",
      "20010\n",
      "20176\n"
     ]
    },
    {
     "name": "stderr",
     "output_type": "stream",
     "text": [
      "\r",
      " 93%|█████████████████████████████████████████████████████████████▍    | 93.05555555555556/100 [05:01<00:11,  1.69s/it]"
     ]
    },
    {
     "name": "stdout",
     "output_type": "stream",
     "text": [
      "20018\n",
      "20204\n",
      "20109\n",
      "20028\n",
      "20099\n",
      "20394\n",
      "20204\n",
      "20247\n",
      "20029\n",
      "20148\n",
      "20383\n",
      "20345\n",
      "20136\n",
      "20098\n",
      "20117\n"
     ]
    },
    {
     "name": "stderr",
     "output_type": "stream",
     "text": [
      "\r",
      " 94%|██████████████████████████████████████████████████████████████    | 93.98611111111111/100 [05:02<00:10,  1.67s/it]"
     ]
    },
    {
     "name": "stdout",
     "output_type": "stream",
     "text": [
      "20021\n",
      "20398\n",
      "20070\n",
      "20029\n",
      "20089\n",
      "20121\n",
      "20316\n",
      "20261\n",
      "20034\n",
      "20106\n",
      "20056\n",
      "20088\n",
      "20226\n",
      "20072\n",
      "20254\n",
      "20044\n",
      "20182\n",
      "20305\n",
      "20135\n",
      "20024"
     ]
    },
    {
     "name": "stderr",
     "output_type": "stream",
     "text": [
      "\r",
      " 95%|███████████████████████████████████████████████████████████████▌   | 94.9212962962963/100 [05:04<00:08,  1.64s/it]"
     ]
    },
    {
     "name": "stdout",
     "output_type": "stream",
     "text": [
      "\n",
      "20114\n",
      "20279\n",
      "20350\n",
      "20228\n",
      "20348\n",
      "20033\n",
      "20319\n",
      "20401\n",
      "20255\n",
      "20249\n",
      "20239\n",
      "20238\n",
      "20079\n"
     ]
    },
    {
     "name": "stderr",
     "output_type": "stream",
     "text": [
      "\r",
      " 96%|███████████████████████████████████████████████████████████████▎  | 95.86111111111111/100 [05:06<00:07,  1.93s/it]"
     ]
    },
    {
     "name": "stdout",
     "output_type": "stream",
     "text": [
      "20393\n",
      "20094\n",
      "20018\n",
      "20097\n",
      "20103\n",
      "20164\n",
      "20319\n",
      "20110\n",
      "20361\n",
      "20153\n",
      "20292\n",
      "20084\n",
      "20022\n",
      "20243\n",
      "20143\n",
      "20145\n"
     ]
    },
    {
     "name": "stderr",
     "output_type": "stream",
     "text": [
      "\r",
      " 97%|███████████████████████████████████████████████████████████████▉  | 96.80555555555556/100 [05:07<00:05,  1.78s/it]"
     ]
    },
    {
     "name": "stdout",
     "output_type": "stream",
     "text": [
      "20268\n",
      "20391\n",
      "20090\n",
      "20359\n",
      "20140\n",
      "20382\n",
      "20267\n",
      "20082\n",
      "20114\n",
      "20143\n",
      "20214\n",
      "20117\n",
      "20089\n",
      "20041\n",
      "20044\n",
      "20285\n"
     ]
    },
    {
     "name": "stderr",
     "output_type": "stream",
     "text": [
      "\r",
      " 98%|████████████████████████████████████████████████████████████████▌ | 97.75462962962963/100 [05:09<00:03,  1.68s/it]"
     ]
    },
    {
     "name": "stdout",
     "output_type": "stream",
     "text": [
      "20339\n",
      "20270\n",
      "20329\n",
      "20003\n",
      "20198\n",
      "20050\n",
      "20148\n",
      "20335\n",
      "20015\n",
      "20208\n",
      "20266\n",
      "20171\n",
      "20043\n",
      "20381\n"
     ]
    },
    {
     "name": "stderr",
     "output_type": "stream",
     "text": [
      "\r",
      " 99%|█████████████████████████████████████████████████████████████████▏| 98.70833333333334/100 [05:10<00:02,  1.64s/it]"
     ]
    },
    {
     "name": "stdout",
     "output_type": "stream",
     "text": [
      "20370\n",
      "20221\n",
      "20139\n",
      "20190\n",
      "20151\n",
      "20340\n",
      "20128\n",
      "20243\n",
      "20375\n",
      "20117\n",
      "20243\n",
      "20300\n",
      "20351\n",
      "20366\n",
      "20333\n",
      "20243\n",
      "20123\n",
      "20315\n",
      "20061\n",
      "20218\n",
      "20277\n",
      "20159\n"
     ]
    },
    {
     "name": "stderr",
     "output_type": "stream",
     "text": [
      "\r",
      "100%|█████████████████████████████████████████████████████████████████▊| 99.66666666666667/100 [05:12<00:00,  1.58s/it]"
     ]
    },
    {
     "name": "stdout",
     "output_type": "stream",
     "text": [
      "20398\n",
      "20042\n",
      "20166\n",
      "20012\n",
      "20276\n",
      "20105\n",
      "20069\n",
      "20092\n",
      "20077\n",
      "20346\n",
      "20306\n",
      "20020\n",
      "20194\n"
     ]
    },
    {
     "name": "stderr",
     "output_type": "stream",
     "text": [
      "\r",
      "100.62962962962963it [05:14,  1.88s/it]                                                                                "
     ]
    },
    {
     "name": "stdout",
     "output_type": "stream",
     "text": [
      "20023\n",
      "20385\n",
      "20035\n",
      "20227\n",
      "20386\n",
      "20231\n",
      "20352\n",
      "20164\n",
      "20162\n",
      "20166\n",
      "20264\n",
      "20330\n",
      "20379\n",
      "20114\n",
      "20002\n",
      "20248\n",
      "20021\n",
      "20263\n",
      "20170\n"
     ]
    },
    {
     "name": "stderr",
     "output_type": "stream",
     "text": [
      "\r",
      "101.59722222222223it [05:16,  1.80s/it]"
     ]
    },
    {
     "name": "stdout",
     "output_type": "stream",
     "text": [
      "20383\n",
      "20243\n",
      "20081\n",
      "20167\n",
      "20137\n",
      "20250\n",
      "20324\n",
      "20003\n",
      "20043\n",
      "20159\n",
      "20112\n",
      "20128\n",
      "20331\n"
     ]
    },
    {
     "name": "stderr",
     "output_type": "stream",
     "text": [
      "\r",
      "102.56944444444446it [05:17,  1.61s/it]"
     ]
    },
    {
     "name": "stdout",
     "output_type": "stream",
     "text": [
      "20342\n",
      "20126\n",
      "20080\n",
      "20227\n",
      "20189\n",
      "20399\n",
      "20174\n",
      "20148\n",
      "20169\n",
      "20155\n",
      "20233\n",
      "20352\n",
      "20136\n",
      "20158\n",
      "20381\n",
      "20205\n"
     ]
    },
    {
     "name": "stderr",
     "output_type": "stream",
     "text": [
      "\r",
      "103.5462962962963it [05:17,  1.29s/it] "
     ]
    },
    {
     "name": "stdout",
     "output_type": "stream",
     "text": [
      "20168\n",
      "20244\n",
      "20312\n",
      "20034\n",
      "20061\n",
      "20084\n",
      "20036\n",
      "20128\n",
      "20190\n",
      "20253\n",
      "20134\n",
      "20033\n",
      "20247\n",
      "20058\n",
      "20113\n",
      "20331\n"
     ]
    },
    {
     "name": "stderr",
     "output_type": "stream",
     "text": [
      "\r",
      "104.52777777777779it [05:19,  1.55s/it]"
     ]
    },
    {
     "name": "stdout",
     "output_type": "stream",
     "text": [
      "20177\n",
      "20399\n",
      "20089\n",
      "20044\n",
      "20209\n",
      "20107\n",
      "20004\n",
      "20232\n",
      "20309\n",
      "20044\n",
      "20389\n",
      "20149\n",
      "20363\n",
      "20210\n",
      "20090\n",
      "20122\n"
     ]
    },
    {
     "name": "stderr",
     "output_type": "stream",
     "text": [
      "\r",
      "105.5138888888889it [05:20,  1.22s/it] "
     ]
    },
    {
     "name": "stdout",
     "output_type": "stream",
     "text": [
      "20192\n",
      "20125\n",
      "20167\n",
      "20307\n",
      "20338\n",
      "20157\n",
      "20172\n",
      "20291\n",
      "20295\n",
      "20038\n",
      "20034\n",
      "20302\n",
      "20340\n",
      "20256\n",
      "20145\n"
     ]
    },
    {
     "name": "stderr",
     "output_type": "stream",
     "text": [
      "\r",
      "106.50462962962965it [05:21,  1.28s/it]"
     ]
    },
    {
     "name": "stdout",
     "output_type": "stream",
     "text": [
      "20191\n",
      "20039\n",
      "20167\n",
      "20076\n",
      "20138\n",
      "20366\n",
      "20093\n",
      "20125\n",
      "20063\n",
      "20138\n",
      "20074\n",
      "20110\n",
      "20083\n",
      "20070\n"
     ]
    },
    {
     "name": "stderr",
     "output_type": "stream",
     "text": [
      "\r",
      "107.50000000000001it [05:23,  1.55s/it]"
     ]
    },
    {
     "name": "stdout",
     "output_type": "stream",
     "text": [
      "20135\n",
      "20027\n",
      "20202\n",
      "20386\n",
      "20325\n",
      "20180\n",
      "20366\n",
      "20073\n",
      "20194\n",
      "20190\n",
      "20281\n",
      "20100\n",
      "20376\n",
      "20112\n",
      "20121\n",
      "20330\n"
     ]
    },
    {
     "name": "stderr",
     "output_type": "stream",
     "text": [
      "108.50000000000001it [05:24,  2.99s/it]\n",
      "  0%|                                                                                          | 0/100 [00:00<?, ?it/s]"
     ]
    },
    {
     "name": "stdout",
     "output_type": "stream",
     "text": [
      "20329\n",
      "20253\n",
      "20319\n",
      "20004\n",
      "20105\n",
      "20117\n",
      "20382\n",
      "[[20002]]\n",
      "[[20226]]\n",
      "[[20078]]\n",
      "[[20324]]\n",
      "[[20235]]\n",
      "[[20193]]\n",
      "[[20141]]\n",
      "[[20359]]\n",
      "[[20330]]\n",
      "[[20300]]\n",
      "[[20071]]\n",
      "[[20345]]\n",
      "[[20285]]\n",
      "[[20206]]\n",
      "[[20123]]\n"
     ]
    },
    {
     "name": "stderr",
     "output_type": "stream",
     "text": [
      "\r",
      "  0%|                                                            | 0.004629629629629629/100 [00:01<8:06:33, 291.95s/it]"
     ]
    },
    {
     "name": "stdout",
     "output_type": "stream",
     "text": [
      "[[20007]]\n",
      "[[20183]]\n",
      "[[20110]]\n",
      "[[20394]]\n",
      "[[20120]]\n",
      "[[20297]]\n",
      "[[20228]]\n",
      "[[20079]]\n",
      "[[20306]]\n",
      "[[20337]]\n",
      "[[20160]]\n"
     ]
    },
    {
     "name": "stderr",
     "output_type": "stream",
     "text": [
      "\r",
      "  0%|                                                            | 0.013888888888888888/100 [00:02<5:15:44, 189.47s/it]"
     ]
    },
    {
     "name": "stdout",
     "output_type": "stream",
     "text": [
      "[[20201]]\n",
      "[[20357]]\n",
      "[[20012]]\n",
      "[[20399]]\n",
      "[[20230]]\n",
      "[[20021]]\n",
      "[[20345]]\n",
      "[[20208]]\n",
      "[[20284]]\n",
      "[[20103]]\n",
      "[[20369]]\n",
      "[[20198]]\n",
      "[[20038]]\n",
      "[[20331]]\n",
      "[[20032]]\n",
      "[[20114]]\n",
      "[[20155]]\n",
      "[[20258]]\n",
      "[[20207]]\n"
     ]
    },
    {
     "name": "stderr",
     "output_type": "stream",
     "text": [
      "\r",
      "  0%|                                                            | 0.027777777777777776/100 [00:04<3:39:11, 131.55s/it]"
     ]
    },
    {
     "name": "stdout",
     "output_type": "stream",
     "text": [
      "[[20174]]\n",
      "[[20057]]\n",
      "[[20391]]\n",
      "[[20031]]\n",
      "[[20003]]\n",
      "[[20367]]\n",
      "[[20166]]\n",
      "[[20303]]\n",
      "[[20076]]\n",
      "[[20042]]\n",
      "[[20170]]\n",
      "[[20272]]\n",
      "[[20212]]\n",
      "[[20331]]\n"
     ]
    },
    {
     "name": "stderr",
     "output_type": "stream",
     "text": [
      "\r",
      "  0%|                                                             | 0.046296296296296294/100 [00:05<2:32:19, 91.44s/it]"
     ]
    },
    {
     "name": "stdout",
     "output_type": "stream",
     "text": [
      "[[20336]]\n",
      "[[20110]]\n",
      "[[20201]]\n",
      "[[20349]]\n",
      "[[20061]]\n",
      "[[20389]]\n",
      "[[20216]]\n",
      "[[20089]]\n",
      "[[20028]]\n",
      "[[20083]]\n",
      "[[20080]]\n",
      "[[20078]]\n",
      "[[20081]]\n",
      "[[20384]]\n",
      "[[20238]]\n",
      "[[20297]]\n",
      "[[20119]]\n",
      "[[20273]]\n"
     ]
    },
    {
     "name": "stderr",
     "output_type": "stream",
     "text": [
      "\r",
      "  0%|                                                              | 0.06944444444444445/100 [00:06<1:54:08, 68.53s/it]"
     ]
    },
    {
     "name": "stdout",
     "output_type": "stream",
     "text": [
      "[[20315]]\n",
      "[[20370]]\n",
      "[[20372]]\n",
      "[[20339]]\n",
      "[[20105]]\n",
      "[[20043]]\n",
      "[[20026]]\n",
      "[[20363]]\n",
      "[[20060]]\n",
      "[[20358]]\n",
      "[[20145]]\n",
      "[[20384]]\n",
      "[[20154]]\n",
      "[[20134]]\n",
      "[[20275]]\n",
      "[[20356]]\n",
      "[[20153]]"
     ]
    },
    {
     "name": "stderr",
     "output_type": "stream",
     "text": [
      "\r",
      "  0%|                                                              | 0.09722222222222222/100 [00:06<1:17:29, 46.54s/it]"
     ]
    },
    {
     "name": "stdout",
     "output_type": "stream",
     "text": [
      "\n",
      "[[20174]]\n",
      "[[20271]]\n",
      "[[20108]]\n",
      "[[20194]]\n",
      "[[20212]]\n",
      "[[20322]]\n",
      "[[20319]]\n",
      "[[20300]]\n",
      "[[20196]]\n",
      "[[20332]]\n",
      "[[20225]]\n",
      "[[20113]]\n",
      "[[20140]]\n",
      "[[20023]]\n"
     ]
    },
    {
     "name": "stderr",
     "output_type": "stream",
     "text": [
      "\r",
      "  0%|                                                              | 0.12962962962962962/100 [00:07<1:03:36, 38.22s/it]"
     ]
    },
    {
     "name": "stdout",
     "output_type": "stream",
     "text": [
      "[[20366]]\n",
      "[[20306]]\n",
      "[[20148]]\n",
      "[[20114]]\n",
      "[[20085]]\n",
      "[[20131]]\n",
      "[[20021]]\n",
      "[[20354]]\n",
      "[[20101]]\n",
      "[[20163]]\n",
      "[[20059]]\n",
      "[[20351]]\n",
      "[[20244]]\n",
      "[[20314]]\n"
     ]
    },
    {
     "name": "stderr",
     "output_type": "stream",
     "text": [
      "\r",
      "  0%|                                                                | 0.16666666666666666/100 [00:08<46:48, 28.13s/it]"
     ]
    },
    {
     "name": "stdout",
     "output_type": "stream",
     "text": [
      "[[20080]]\n",
      "[[20182]]\n",
      "[[20306]]\n",
      "[[20174]]\n",
      "[[20256]]\n",
      "[[20323]]\n",
      "[[20071]]\n",
      "[[20130]]\n",
      "[[20386]]\n",
      "[[20285]]\n",
      "[[20080]]\n",
      "[[20346]]\n",
      "[[20020]]\n",
      "[[20298]]\n",
      "[[20015]]\n"
     ]
    },
    {
     "name": "stderr",
     "output_type": "stream",
     "text": [
      "\r",
      "  0%|▏                                                               | 0.20833333333333331/100 [00:09<42:52, 25.78s/it]"
     ]
    },
    {
     "name": "stdout",
     "output_type": "stream",
     "text": [
      "[[20053]]\n",
      "[[20034]]\n",
      "[[20222]]\n",
      "[[20229]]\n",
      "[[20214]]\n",
      "[[20089]]\n",
      "[[20032]]\n",
      "[[20123]]\n",
      "[[20027]]\n",
      "[[20166]]\n",
      "[[20054]]\n",
      "[[20102]]\n",
      "[[20329]]\n",
      "[[20205]]\n",
      "[[20108]]\n",
      "[[20396]]\n",
      "[[20368]]\n",
      "[[20050]]\n",
      "[[20115]]\n",
      "[[20284]]\n",
      "[[20189]]\n"
     ]
    },
    {
     "name": "stderr",
     "output_type": "stream",
     "text": [
      "\r",
      "  0%|▏                                                                | 0.2546296296296296/100 [00:09<33:40, 20.25s/it]"
     ]
    },
    {
     "name": "stdout",
     "output_type": "stream",
     "text": [
      "[[20119]]\n",
      "[[20139]]\n",
      "[[20211]]\n",
      "[[20325]]\n",
      "[[20208]]\n",
      "[[20028]]\n",
      "[[20333]]\n",
      "[[20223]]\n",
      "[[20042]]\n",
      "[[20205]]\n",
      "[[20380]]\n",
      "[[20290]]\n",
      "[[20191]]\n",
      "[[20182]]\n",
      "[[20369]]\n",
      "[[20221]]\n"
     ]
    },
    {
     "name": "stderr",
     "output_type": "stream",
     "text": [
      "\r",
      "  0%|▏                                                                | 0.3055555555555555/100 [00:10<31:12, 18.78s/it]"
     ]
    },
    {
     "name": "stdout",
     "output_type": "stream",
     "text": [
      "[[20147]]\n",
      "[[20355]]\n",
      "[[20265]]\n",
      "[[20050]]\n",
      "[[20204]]\n",
      "[[20046]]\n",
      "[[20113]]\n",
      "[[20220]]\n",
      "[[20318]]\n",
      "[[20149]]\n",
      "[[20344]]\n",
      "[[20299]]\n",
      "[[20187]]\n"
     ]
    },
    {
     "name": "stderr",
     "output_type": "stream",
     "text": [
      "\r",
      "  0%|▏                                                               | 0.36111111111111105/100 [00:10<25:45, 15.51s/it]"
     ]
    },
    {
     "name": "stdout",
     "output_type": "stream",
     "text": [
      "[[20145]]\n",
      "[[20178]]\n",
      "[[20235]]\n",
      "[[20153]]\n",
      "[[20254]]\n",
      "[[20214]]\n",
      "[[20079]]\n",
      "[[20338]]\n",
      "[[20252]]\n",
      "[[20264]]\n",
      "[[20080]]\n",
      "[[20338]]\n",
      "[[20050]]\n",
      "[[20045]]\n",
      "[[20298]]\n",
      "[[20127]]\n",
      "[[20377]]\n",
      "[[20115]]\n",
      "[[20136]]\n"
     ]
    },
    {
     "name": "stderr",
     "output_type": "stream",
     "text": [
      "\r",
      "  0%|▎                                                                | 0.4212962962962962/100 [00:11<24:43, 14.89s/it]"
     ]
    },
    {
     "name": "stdout",
     "output_type": "stream",
     "text": [
      "[[20057]]\n",
      "[[20294]]\n",
      "[[20224]]\n",
      "[[20194]]\n",
      "[[20336]]\n",
      "[[20075]]\n",
      "[[20005]]\n",
      "[[20045]]\n",
      "[[20017]]\n",
      "[[20090]]\n",
      "[[20103]]\n",
      "[[20165]]\n",
      "[[20284]]\n"
     ]
    },
    {
     "name": "stderr",
     "output_type": "stream",
     "text": [
      "\r",
      "  0%|▎                                                               | 0.48611111111111105/100 [00:12<20:48, 12.55s/it]"
     ]
    },
    {
     "name": "stdout",
     "output_type": "stream",
     "text": [
      "[[20178]]\n",
      "[[20054]]\n",
      "[[20219]]\n",
      "[[20344]]\n",
      "[[20324]]\n",
      "[[20088]]\n",
      "[[20371]]\n",
      "[[20126]]\n",
      "[[20058]]\n",
      "[[20244]]\n",
      "[[20005]]\n",
      "[[20383]]\n",
      "[[20216]]\n",
      "[[20156]]\n",
      "[[20006]]\n",
      "[[20096]]\n",
      "[[20355]]\n",
      "[[20238]]\n",
      "[[20062]]\n",
      "[[20008]]\n"
     ]
    },
    {
     "name": "stderr",
     "output_type": "stream",
     "text": [
      "\r",
      "  1%|▎                                                                | 0.5555555555555555/100 [00:13<21:52, 13.20s/it]"
     ]
    },
    {
     "name": "stdout",
     "output_type": "stream",
     "text": [
      "[[20215]]\n",
      "[[20368]]\n",
      "[[20262]]\n",
      "[[20091]]\n",
      "[[20163]]\n",
      "[[20387]]\n",
      "[[20040]]\n",
      "[[20161]]\n",
      "[[20203]]\n",
      "[[20135]]\n",
      "[[20132]]\n",
      "[[20251]]\n",
      "[[20101]]\n"
     ]
    },
    {
     "name": "stderr",
     "output_type": "stream",
     "text": [
      "\r",
      "  1%|▍                                                                | 0.6296296296296295/100 [00:14<20:14, 12.22s/it]"
     ]
    },
    {
     "name": "stdout",
     "output_type": "stream",
     "text": [
      "[[20117]]\n",
      "[[20214]]\n",
      "[[20360]]\n",
      "[[20192]]\n",
      "[[20132]]\n",
      "[[20271]]\n",
      "[[20185]]\n",
      "[[20234]]\n",
      "[[20166]]\n",
      "[[20370]]\n",
      "[[20049]]\n",
      "[[20267]]\n",
      "[[20060]]\n",
      "[[20100]]\n",
      "[[20046]]\n",
      "[[20042]]\n",
      "[[20277]]\n",
      "[[20332]]\n",
      "[[20197]]\n",
      "[[20182]]"
     ]
    },
    {
     "name": "stderr",
     "output_type": "stream",
     "text": [
      "\r",
      "  1%|▍                                                                | 0.7083333333333333/100 [00:14<17:02, 10.30s/it]"
     ]
    },
    {
     "name": "stdout",
     "output_type": "stream",
     "text": [
      "\n",
      "[[20262]]\n",
      "[[20168]]\n",
      "[[20257]]\n",
      "[[20041]]\n",
      "[[20333]]\n",
      "[[20148]]\n",
      "[[20352]]\n",
      "[[20209]]\n",
      "[[20386]]\n",
      "[[20159]]\n",
      "[[20291]]\n",
      "[[20253]]\n",
      "[[20151]]\n",
      "[[20326]]\n"
     ]
    },
    {
     "name": "stderr",
     "output_type": "stream",
     "text": [
      "\r",
      "  1%|▌                                                                | 0.7916666666666666/100 [00:15<16:11,  9.79s/it]"
     ]
    },
    {
     "name": "stdout",
     "output_type": "stream",
     "text": [
      "[[20342]]\n",
      "[[20027]]\n",
      "[[20298]]\n",
      "[[20146]]\n",
      "[[20095]]\n",
      "[[20329]]\n",
      "[[20314]]\n",
      "[[20111]]\n",
      "[[20226]]\n",
      "[[20071]]\n",
      "[[20051]]\n",
      "[[20304]]\n",
      "[[20167]]"
     ]
    },
    {
     "name": "stderr",
     "output_type": "stream",
     "text": [
      "\r",
      "  1%|▌                                                                | 0.8796296296296295/100 [00:15<13:48,  8.36s/it]"
     ]
    },
    {
     "name": "stdout",
     "output_type": "stream",
     "text": [
      "\n",
      "[[20113]]\n",
      "[[20069]]\n",
      "[[20219]]\n",
      "[[20097]]\n",
      "[[20128]]\n",
      "[[20091]]\n",
      "[[20264]]\n",
      "[[20280]]\n",
      "[[20269]]\n",
      "[[20258]]\n",
      "[[20023]]\n",
      "[[20133]]\n",
      "[[20382]]\n",
      "[[20129]]\n",
      "[[20124]]\n",
      "[[20066]]\n",
      "[[20148]]\n",
      "[[20112]]\n",
      "[[20385]]\n",
      "[[20095]]\n"
     ]
    },
    {
     "name": "stderr",
     "output_type": "stream",
     "text": [
      "\r",
      "  1%|▋                                                                | 0.9722222222222221/100 [00:16<12:15,  7.43s/it]"
     ]
    },
    {
     "name": "stdout",
     "output_type": "stream",
     "text": [
      "[[20105]]\n",
      "[[20251]]\n",
      "[[20303]]\n",
      "[[20234]]\n",
      "[[20109]]\n",
      "[[20286]]\n",
      "[[20136]]\n",
      "[[20287]]\n",
      "[[20010]]\n",
      "[[20281]]\n",
      "[[20253]]\n",
      "[[20052]]\n",
      "[[20289]]\n",
      "[[20153]]\n"
     ]
    },
    {
     "name": "stderr",
     "output_type": "stream",
     "text": [
      "\r",
      "  1%|▋                                                                | 1.0694444444444444/100 [00:17<12:16,  7.44s/it]"
     ]
    },
    {
     "name": "stdout",
     "output_type": "stream",
     "text": [
      "[[20211]]\n",
      "[[20347]]\n",
      "[[20238]]\n",
      "[[20199]]\n",
      "[[20013]]\n",
      "[[20270]]\n",
      "[[20222]]\n",
      "[[20141]]\n",
      "[[20230]]\n",
      "[[20307]]\n",
      "[[20010]]\n",
      "[[20001]]\n",
      "[[20220]]\n"
     ]
    },
    {
     "name": "stderr",
     "output_type": "stream",
     "text": [
      "\r",
      "  1%|▊                                                                | 1.1712962962962963/100 [00:17<11:02,  6.71s/it]"
     ]
    },
    {
     "name": "stdout",
     "output_type": "stream",
     "text": [
      "[[20300]]\n",
      "[[20114]]\n",
      "[[20319]]\n",
      "[[20335]]\n",
      "[[20291]]\n",
      "[[20120]]\n",
      "[[20216]]\n",
      "[[20163]]\n",
      "[[20042]]\n",
      "[[20157]]\n",
      "[[20040]]\n",
      "[[20268]]\n",
      "[[20066]]\n",
      "[[20277]]\n",
      "[[20269]]\n",
      "[[20296]]\n",
      "[[20356]]\n"
     ]
    },
    {
     "name": "stderr",
     "output_type": "stream",
     "text": [
      "\r",
      "  1%|▊                                                                | 1.2777777777777777/100 [00:18<10:51,  6.60s/it]"
     ]
    },
    {
     "name": "stdout",
     "output_type": "stream",
     "text": [
      "[[20304]]\n",
      "[[20229]]\n",
      "[[20107]]\n",
      "[[20046]]\n",
      "[[20108]]\n",
      "[[20335]]\n",
      "[[20284]]\n",
      "[[20241]]\n",
      "[[20300]]\n",
      "[[20102]]\n",
      "[[20059]]\n",
      "[[20002]]\n",
      "[[20025]]\n",
      "[[20323]]\n",
      "[[20342]]\n",
      "[[20085]]\n",
      "[[20047]]\n",
      "[[20222]]\n",
      "[[20007]]\n",
      "[[20047]]\n",
      "[[20183]]\n"
     ]
    },
    {
     "name": "stderr",
     "output_type": "stream",
     "text": [
      "\r",
      "  1%|▉                                                                | 1.3888888888888888/100 [00:18<09:47,  5.96s/it]"
     ]
    },
    {
     "name": "stdout",
     "output_type": "stream",
     "text": [
      "[[20294]]\n",
      "[[20392]]\n",
      "[[20196]]\n",
      "[[20087]]\n",
      "[[20321]]\n",
      "[[20246]]\n",
      "[[20140]]\n",
      "[[20194]]\n",
      "[[20400]]\n",
      "[[20150]]\n"
     ]
    },
    {
     "name": "stderr",
     "output_type": "stream",
     "text": [
      "\r",
      "  2%|▉                                                                | 1.5046296296296295/100 [00:19<09:39,  5.88s/it]"
     ]
    },
    {
     "name": "stdout",
     "output_type": "stream",
     "text": [
      "[[20380]]\n",
      "[[20089]]\n",
      "[[20253]]\n",
      "[[20231]]\n",
      "[[20059]]\n",
      "[[20373]]\n",
      "[[20184]]\n",
      "[[20258]]\n",
      "[[20020]]\n",
      "[[20263]]\n",
      "[[20298]]\n",
      "[[20041]]\n",
      "[[20261]]\n",
      "[[20081]]\n",
      "[[20095]]\n",
      "[[20294]]\n",
      "[[20399]]\n",
      "[[20303]]\n",
      "[[20358]]\n"
     ]
    },
    {
     "name": "stderr",
     "output_type": "stream",
     "text": [
      "\r",
      "  2%|█▎                                                                            | 1.625/100 [00:20<08:58,  5.47s/it]"
     ]
    },
    {
     "name": "stdout",
     "output_type": "stream",
     "text": [
      "[[20220]]\n",
      "[[20358]]\n",
      "[[20349]]\n",
      "[[20247]]\n",
      "[[20289]]\n",
      "[[20293]]\n",
      "[[20062]]\n",
      "[[20303]]\n",
      "[[20062]]\n",
      "[[20163]]\n",
      "[[20247]]\n",
      "[[20288]]\n",
      "[[20333]]\n"
     ]
    },
    {
     "name": "stderr",
     "output_type": "stream",
     "text": [
      "\r",
      "  2%|█▍                                                                             | 1.75/100 [00:20<08:19,  5.08s/it]"
     ]
    },
    {
     "name": "stdout",
     "output_type": "stream",
     "text": [
      "[[20355]]\n",
      "[[20026]]\n",
      "[[20159]]\n",
      "[[20242]]\n",
      "[[20196]]\n",
      "[[20182]]\n",
      "[[20306]]\n",
      "[[20233]]\n",
      "[[20135]]\n",
      "[[20234]]\n",
      "[[20145]]\n",
      "[[20301]]\n",
      "[[20034]]\n",
      "[[20039]]\n",
      "[[20400]]\n",
      "[[20019]]\n",
      "[[20160]]\n",
      "[[20044]]\n",
      "[[20167]]\n"
     ]
    },
    {
     "name": "stderr",
     "output_type": "stream",
     "text": [
      "\r",
      "  2%|█▏                                                               | 1.8796296296296295/100 [00:21<08:08,  4.97s/it]"
     ]
    },
    {
     "name": "stdout",
     "output_type": "stream",
     "text": [
      "[[20175]]\n",
      "[[20109]]\n",
      "[[20182]]\n",
      "[[20091]]\n",
      "[[20106]]\n",
      "[[20258]]\n",
      "[[20358]]\n",
      "[[20353]]\n",
      "[[20181]]\n",
      "[[20166]]\n",
      "[[20094]]\n",
      "[[20387]]\n",
      "[[20297]]\n"
     ]
    },
    {
     "name": "stderr",
     "output_type": "stream",
     "text": [
      "\r",
      "  2%|█▎                                                                | 2.013888888888889/100 [00:21<07:31,  4.61s/it]"
     ]
    },
    {
     "name": "stdout",
     "output_type": "stream",
     "text": [
      "[[20138]]\n",
      "[[20290]]\n",
      "[[20242]]\n",
      "[[20250]]\n",
      "[[20359]]\n",
      "[[20274]]\n",
      "[[20095]]\n",
      "[[20045]]\n",
      "[[20214]]\n",
      "[[20287]]\n",
      "[[20228]]\n",
      "[[20007]]\n",
      "[[20205]]\n",
      "[[20184]]\n",
      "[[20389]]\n",
      "[[20357]]\n",
      "[[20282]]\n",
      "[[20099]]\n",
      "[[20042]]\n"
     ]
    },
    {
     "name": "stderr",
     "output_type": "stream",
     "text": [
      "\r",
      "  2%|█▍                                                               | 2.1527777777777777/100 [00:22<07:20,  4.50s/it]"
     ]
    },
    {
     "name": "stdout",
     "output_type": "stream",
     "text": [
      "[[20108]]\n",
      "[[20188]]\n",
      "[[20244]]\n",
      "[[20021]]\n",
      "[[20155]]\n",
      "[[20048]]\n",
      "[[20400]]\n",
      "[[20297]]\n",
      "[[20017]]\n",
      "[[20003]]\n",
      "[[20273]]\n",
      "[[20384]]\n",
      "[[20284]]\n",
      "[[20301]]\n"
     ]
    },
    {
     "name": "stderr",
     "output_type": "stream",
     "text": [
      "\r",
      "  2%|█▍                                                               | 2.2962962962962963/100 [00:22<06:51,  4.21s/it]"
     ]
    },
    {
     "name": "stdout",
     "output_type": "stream",
     "text": [
      "[[20057]]\n",
      "[[20272]]\n",
      "[[20246]]\n",
      "[[20266]]\n",
      "[[20391]]\n",
      "[[20029]]\n",
      "[[20364]]\n",
      "[[20346]]\n",
      "[[20252]]\n",
      "[[20357]]\n",
      "[[20231]]\n",
      "[[20062]]\n",
      "[[20360]]\n",
      "[[20231]]\n",
      "[[20106]]\n",
      "[[20071]]\n",
      "[[20251]]\n"
     ]
    },
    {
     "name": "stderr",
     "output_type": "stream",
     "text": [
      "\r",
      "  2%|█▌                                                               | 2.4444444444444446/100 [00:23<07:09,  4.40s/it]"
     ]
    },
    {
     "name": "stdout",
     "output_type": "stream",
     "text": [
      "[[20335]]\n",
      "[[20269]]\n",
      "[[20344]]\n",
      "[[20180]]\n",
      "[[20394]]\n",
      "[[20265]]\n",
      "[[20285]]\n",
      "[[20024]]\n",
      "[[20327]]\n",
      "[[20300]]\n",
      "[[20391]]\n",
      "[[20335]]\n",
      "[[20127]]\n"
     ]
    },
    {
     "name": "stderr",
     "output_type": "stream",
     "text": [
      "\r",
      "  3%|█▋                                                               | 2.5972222222222223/100 [00:24<06:39,  4.10s/it]"
     ]
    },
    {
     "name": "stdout",
     "output_type": "stream",
     "text": [
      "[[20048]]\n",
      "[[20083]]\n",
      "[[20118]]\n",
      "[[20380]]\n",
      "[[20338]]\n",
      "[[20101]]\n",
      "[[20087]]\n",
      "[[20347]]\n",
      "[[20173]]\n",
      "[[20083]]\n",
      "[[20372]]\n",
      "[[20302]]\n",
      "[[20157]]\n",
      "[[20151]]\n",
      "[[20224]]\n",
      "[[20253]]\n",
      "[[20377]]\n",
      "[[20296]]\n",
      "[[20295]]\n",
      "[[20156]]\n"
     ]
    },
    {
     "name": "stderr",
     "output_type": "stream",
     "text": [
      "\r",
      "  3%|█▊                                                               | 2.7546296296296298/100 [00:24<06:16,  3.87s/it]"
     ]
    },
    {
     "name": "stdout",
     "output_type": "stream",
     "text": [
      "[[20221]]\n",
      "[[20393]]\n",
      "[[20252]]\n",
      "[[20302]]\n",
      "[[20275]]\n",
      "[[20218]]\n",
      "[[20031]]\n",
      "[[20176]]\n",
      "[[20082]]\n",
      "[[20279]]\n",
      "[[20117]]\n",
      "[[20176]]\n",
      "[[20094]]\n"
     ]
    },
    {
     "name": "stderr",
     "output_type": "stream",
     "text": [
      "\r",
      "  3%|█▉                                                                | 2.916666666666667/100 [00:25<05:57,  3.68s/it]"
     ]
    },
    {
     "name": "stdout",
     "output_type": "stream",
     "text": [
      "[[20232]]\n",
      "[[20214]]\n",
      "[[20252]]\n",
      "[[20065]]\n",
      "[[20203]]\n",
      "[[20386]]\n",
      "[[20132]]\n",
      "[[20173]]\n",
      "[[20252]]\n",
      "[[20279]]\n",
      "[[20197]]\n",
      "[[20268]]\n",
      "[[20108]]\n",
      "[[20043]]\n",
      "[[20027]]\n",
      "[[20057]]\n",
      "[[20183]]\n",
      "[[20073]]\n",
      "[[20260]]\n",
      "[[20344]]\n",
      "[[20107]]\n"
     ]
    },
    {
     "name": "stderr",
     "output_type": "stream",
     "text": [
      "\r",
      "  3%|██                                                               | 3.0833333333333335/100 [00:25<05:41,  3.53s/it]"
     ]
    },
    {
     "name": "stdout",
     "output_type": "stream",
     "text": [
      "[[20328]]\n",
      "[[20251]]\n",
      "[[20368]]\n",
      "[[20042]]\n",
      "[[20103]]\n",
      "[[20200]]\n",
      "[[20281]]\n",
      "[[20283]]\n",
      "[[20045]]\n",
      "[[20150]]\n",
      "[[20194]]\n",
      "[[20385]]\n",
      "[[20041]]\n"
     ]
    },
    {
     "name": "stderr",
     "output_type": "stream",
     "text": [
      "\r",
      "  3%|██                                                               | 3.2546296296296298/100 [00:26<05:26,  3.38s/it]"
     ]
    },
    {
     "name": "stdout",
     "output_type": "stream",
     "text": [
      "[[20183]]\n",
      "[[20038]]\n",
      "[[20209]]\n",
      "[[20131]]\n",
      "[[20317]]\n",
      "[[20331]]\n",
      "[[20296]]\n",
      "[[20227]]\n",
      "[[20022]]\n",
      "[[20076]]\n",
      "[[20397]]\n",
      "[[20172]]\n",
      "[[20258]]\n",
      "[[20290]]\n",
      "[[20361]]\n",
      "[[20338]]\n",
      "[[20367]]\n",
      "[[20194]]\n",
      "[[20193]]\n"
     ]
    },
    {
     "name": "stderr",
     "output_type": "stream",
     "text": [
      "\r",
      "  3%|██▎                                                               | 3.430555555555556/100 [00:26<05:31,  3.44s/it]"
     ]
    },
    {
     "name": "stdout",
     "output_type": "stream",
     "text": [
      "[[20292]]\n",
      "[[20304]]\n",
      "[[20155]]\n",
      "[[20299]]\n",
      "[[20111]]\n",
      "[[20146]]\n",
      "[[20013]]\n",
      "[[20330]]\n",
      "[[20304]]\n",
      "[[20175]]\n",
      "[[20091]]\n",
      "[[20034]]\n",
      "[[20107]]\n",
      "[[20251]]\n"
     ]
    },
    {
     "name": "stderr",
     "output_type": "stream",
     "text": [
      "\r",
      "  4%|██▍                                                               | 3.611111111111111/100 [00:27<05:26,  3.38s/it]"
     ]
    },
    {
     "name": "stdout",
     "output_type": "stream",
     "text": [
      "[[20308]]\n",
      "[[20131]]\n",
      "[[20103]]\n",
      "[[20195]]\n",
      "[[20302]]\n",
      "[[20226]]\n",
      "[[20140]]\n",
      "[[20280]]\n",
      "[[20388]]\n",
      "[[20162]]\n",
      "[[20110]]\n",
      "[[20357]]\n"
     ]
    },
    {
     "name": "stderr",
     "output_type": "stream",
     "text": [
      "\r",
      "  4%|██▍                                                              | 3.7962962962962963/100 [00:28<05:15,  3.28s/it]"
     ]
    },
    {
     "name": "stdout",
     "output_type": "stream",
     "text": [
      "[[20238]]\n",
      "[[20244]]\n",
      "[[20140]]\n",
      "[[20322]]\n",
      "[[20333]]\n",
      "[[20327]]\n",
      "[[20170]]\n",
      "[[20034]]\n",
      "[[20254]]\n",
      "[[20394]]\n",
      "[[20276]]\n",
      "[[20201]]\n",
      "[[20075]]\n",
      "[[20228]]\n",
      "[[20096]]\n",
      "[[20346]]\n",
      "[[20117]]\n",
      "[[20397]]\n",
      "[[20329]]\n"
     ]
    },
    {
     "name": "stderr",
     "output_type": "stream",
     "text": [
      "\r",
      "  4%|██▋                                                               | 3.986111111111111/100 [00:28<05:07,  3.20s/it]"
     ]
    },
    {
     "name": "stdout",
     "output_type": "stream",
     "text": [
      "[[20162]]\n",
      "[[20130]]\n",
      "[[20160]]\n",
      "[[20264]]\n",
      "[[20373]]\n",
      "[[20363]]\n",
      "[[20112]]\n",
      "[[20306]]\n",
      "[[20211]]\n",
      "[[20382]]\n",
      "[[20368]]\n",
      "[[20258]]\n",
      "[[20020]]\n",
      "[[20106]]\n"
     ]
    },
    {
     "name": "stderr",
     "output_type": "stream",
     "text": [
      "\r",
      "  4%|██▊                                                               | 4.180555555555555/100 [00:29<04:55,  3.08s/it]"
     ]
    },
    {
     "name": "stdout",
     "output_type": "stream",
     "text": [
      "[[20116]]\n",
      "[[20318]]\n",
      "[[20104]]\n",
      "[[20116]]\n",
      "[[20142]]\n",
      "[[20367]]\n",
      "[[20328]]\n",
      "[[20098]]\n",
      "[[20130]]\n",
      "[[20093]]\n",
      "[[20385]]\n",
      "[[20099]]\n",
      "[[20374]]\n",
      "[[20328]]\n",
      "[[20042]]\n",
      "[[20232]]\n"
     ]
    },
    {
     "name": "stderr",
     "output_type": "stream",
     "text": [
      "\r",
      "  4%|██▉                                                                | 4.37962962962963/100 [00:29<04:57,  3.11s/it]"
     ]
    },
    {
     "name": "stdout",
     "output_type": "stream",
     "text": [
      "[[20092]]\n",
      "[[20151]]\n",
      "[[20078]]\n",
      "[[20316]]\n",
      "[[20360]]\n",
      "[[20125]]\n",
      "[[20023]]\n",
      "[[20302]]\n",
      "[[20289]]\n",
      "[[20224]]\n",
      "[[20220]]\n",
      "[[20148]]\n",
      "[[20045]]\n",
      "[[20029]]\n",
      "[[20310]]\n",
      "[[20012]]\n",
      "[[20129]]\n",
      "[[20124]]\n",
      "[[20059]]\n"
     ]
    },
    {
     "name": "stderr",
     "output_type": "stream",
     "text": [
      "\r",
      "  5%|███                                                               | 4.583333333333333/100 [00:30<04:45,  2.99s/it]"
     ]
    },
    {
     "name": "stdout",
     "output_type": "stream",
     "text": [
      "[[20211]]\n",
      "[[20132]]\n",
      "[[20297]]\n",
      "[[20240]]\n",
      "[[20233]]\n",
      "[[20371]]\n",
      "[[20265]]\n",
      "[[20285]]\n",
      "[[20234]]\n",
      "[[20030]]\n",
      "[[20119]]\n",
      "[[20007]]\n",
      "[[20310]]\n"
     ]
    },
    {
     "name": "stderr",
     "output_type": "stream",
     "text": [
      "\r",
      "  5%|███▏                                                              | 4.791666666666666/100 [00:30<04:35,  2.90s/it]"
     ]
    },
    {
     "name": "stdout",
     "output_type": "stream",
     "text": [
      "[[20400]]\n",
      "[[20233]]\n",
      "[[20123]]\n",
      "[[20191]]\n",
      "[[20055]]\n",
      "[[20207]]\n",
      "[[20279]]\n",
      "[[20371]]\n",
      "[[20077]]\n",
      "[[20135]]\n",
      "[[20072]]\n",
      "[[20399]]\n",
      "[[20184]]\n",
      "[[20400]]\n",
      "[[20040]]\n",
      "[[20251]]\n",
      "[[20039]]\n",
      "[[20176]]\n",
      "[[20374]]\n",
      "[[20020]]\n"
     ]
    },
    {
     "name": "stderr",
     "output_type": "stream",
     "text": [
      "\r",
      "  5%|███▎                                                              | 5.004629629629629/100 [00:31<04:20,  2.75s/it]"
     ]
    },
    {
     "name": "stdout",
     "output_type": "stream",
     "text": [
      "[[20359]]\n",
      "[[20117]]\n",
      "[[20076]]\n",
      "[[20221]]\n",
      "[[20152]]\n",
      "[[20205]]\n",
      "[[20272]]\n",
      "[[20290]]\n",
      "[[20284]]\n",
      "[[20247]]\n",
      "[[20050]]\n",
      "[[20384]]\n",
      "[[20293]]\n"
     ]
    },
    {
     "name": "stderr",
     "output_type": "stream",
     "text": [
      "\r",
      "  5%|███▍                                                              | 5.222222222222221/100 [00:31<04:12,  2.66s/it]"
     ]
    },
    {
     "name": "stdout",
     "output_type": "stream",
     "text": [
      "[[20024]]\n",
      "[[20092]]\n",
      "[[20201]]\n",
      "[[20054]]\n",
      "[[20391]]\n",
      "[[20184]]\n",
      "[[20315]]\n",
      "[[20246]]\n",
      "[[20311]]\n",
      "[[20246]]\n",
      "[[20337]]\n",
      "[[20117]]\n",
      "[[20400]]\n",
      "[[20344]]\n"
     ]
    },
    {
     "name": "stderr",
     "output_type": "stream",
     "text": [
      "\r",
      "  5%|███▌                                                              | 5.444444444444444/100 [00:32<04:01,  2.56s/it]"
     ]
    },
    {
     "name": "stdout",
     "output_type": "stream",
     "text": [
      "[[20136]]\n",
      "[[20064]]\n",
      "[[20044]]\n",
      "[[20386]]\n",
      "[[20393]]\n",
      "[[20235]]\n",
      "[[20047]]\n",
      "[[20028]]\n",
      "[[20133]]\n",
      "[[20160]]\n",
      "[[20173]]\n",
      "[[20295]]\n",
      "[[20323]]\n",
      "[[20240]]\n",
      "[[20352]]\n",
      "[[20226]]\n",
      "[[20364]]\n",
      "[[20083]]\n",
      "[[20093]]\n",
      "[[20073]]\n",
      "[[20177]]\n"
     ]
    },
    {
     "name": "stderr",
     "output_type": "stream",
     "text": [
      "\r",
      "  6%|███▋                                                              | 5.671296296296296/100 [00:32<03:53,  2.48s/it]"
     ]
    },
    {
     "name": "stdout",
     "output_type": "stream",
     "text": [
      "[[20129]]\n",
      "[[20088]]\n",
      "[[20335]]\n",
      "[[20314]]\n",
      "[[20343]]\n",
      "[[20160]]\n",
      "[[20178]]\n",
      "[[20381]]\n",
      "[[20020]]\n",
      "[[20316]]\n",
      "[[20121]]\n",
      "[[20209]]\n"
     ]
    },
    {
     "name": "stderr",
     "output_type": "stream",
     "text": [
      "\r",
      "  6%|███▉                                                              | 5.902777777777778/100 [00:33<03:53,  2.48s/it]"
     ]
    },
    {
     "name": "stdout",
     "output_type": "stream",
     "text": [
      "[[20089]]\n",
      "[[20268]]\n",
      "[[20117]]\n",
      "[[20070]]\n",
      "[[20350]]\n",
      "[[20190]]\n",
      "[[20338]]\n",
      "[[20366]]\n",
      "[[20235]]\n",
      "[[20065]]\n",
      "[[20179]]\n",
      "[[20274]]\n",
      "[[20328]]\n",
      "[[20394]]\n",
      "[[20387]]\n",
      "[[20207]]\n",
      "[[20036]]\n",
      "[[20021]]\n"
     ]
    },
    {
     "name": "stderr",
     "output_type": "stream",
     "text": [
      "\r",
      "  6%|████                                                              | 6.138888888888888/100 [00:34<03:58,  2.54s/it]"
     ]
    },
    {
     "name": "stdout",
     "output_type": "stream",
     "text": [
      "[[20232]]\n",
      "[[20346]]\n",
      "[[20238]]\n",
      "[[20242]]\n",
      "[[20233]]\n",
      "[[20114]]\n",
      "[[20316]]\n",
      "[[20156]]\n",
      "[[20354]]\n",
      "[[20049]]\n",
      "[[20388]]\n",
      "[[20024]]\n",
      "[[20168]]\n",
      "[[20139]]\n"
     ]
    },
    {
     "name": "stderr",
     "output_type": "stream",
     "text": [
      "\r",
      "  6%|████▏                                                             | 6.379629629629629/100 [00:34<03:46,  2.42s/it]"
     ]
    },
    {
     "name": "stdout",
     "output_type": "stream",
     "text": [
      "[[20144]]\n",
      "[[20002]]\n",
      "[[20128]]\n",
      "[[20086]]\n",
      "[[20314]]\n",
      "[[20197]]\n",
      "[[20025]]\n",
      "[[20357]]\n",
      "[[20160]]\n",
      "[[20228]]\n",
      "[[20179]]\n",
      "[[20284]]\n",
      "[[20228]]\n",
      "[[20235]]\n",
      "[[20243]]\n",
      "[[20079]]\n",
      "[[20151]]\n",
      "[[20311]]\n",
      "[[20363]]\n",
      "[[20227]]\n",
      "[[20326]]\n"
     ]
    },
    {
     "name": "stderr",
     "output_type": "stream",
     "text": [
      "\r",
      "  7%|████▎                                                             | 6.624999999999999/100 [00:35<03:36,  2.31s/it]"
     ]
    },
    {
     "name": "stdout",
     "output_type": "stream",
     "text": [
      "[[20321]]\n",
      "[[20380]]\n",
      "[[20309]]\n",
      "[[20080]]\n",
      "[[20253]]\n",
      "[[20207]]\n",
      "[[20338]]\n",
      "[[20331]]\n",
      "[[20293]]\n",
      "[[20277]]\n",
      "[[20248]]\n"
     ]
    },
    {
     "name": "stderr",
     "output_type": "stream",
     "text": [
      "\r",
      "  7%|████▌                                                             | 6.874999999999999/100 [00:35<03:36,  2.33s/it]"
     ]
    },
    {
     "name": "stdout",
     "output_type": "stream",
     "text": [
      "[[20160]]\n",
      "[[20352]]\n",
      "[[20394]]\n",
      "[[20214]]\n",
      "[[20102]]\n",
      "[[20241]]\n",
      "[[20273]]\n",
      "[[20257]]\n",
      "[[20381]]\n",
      "[[20226]]\n",
      "[[20110]]\n",
      "[[20205]]\n",
      "[[20082]]\n",
      "[[20351]]\n",
      "[[20069]]\n",
      "[[20061]]\n",
      "[[20290]]\n",
      "[[20278]]\n",
      "[[20224]]\n",
      "[[20250]]\n"
     ]
    },
    {
     "name": "stderr",
     "output_type": "stream",
     "text": [
      "\r",
      "  7%|████▋                                                             | 7.129629629629629/100 [00:36<03:31,  2.27s/it]"
     ]
    },
    {
     "name": "stdout",
     "output_type": "stream",
     "text": [
      "[[20400]]\n",
      "[[20401]]\n",
      "[[20240]]\n",
      "[[20207]]\n",
      "[[20211]]\n",
      "[[20019]]\n",
      "[[20334]]\n",
      "[[20358]]\n",
      "[[20221]]\n",
      "[[20104]]\n",
      "[[20003]]\n",
      "[[20374]]\n",
      "[[20328]]\n",
      "[[20041]]\n"
     ]
    },
    {
     "name": "stderr",
     "output_type": "stream",
     "text": [
      "\r",
      "  7%|████▉                                                             | 7.388888888888888/100 [00:36<03:26,  2.23s/it]"
     ]
    },
    {
     "name": "stdout",
     "output_type": "stream",
     "text": [
      "[[20053]]\n",
      "[[20343]]\n",
      "[[20154]]\n",
      "[[20306]]\n",
      "[[20092]]\n",
      "[[20309]]\n",
      "[[20165]]\n",
      "[[20082]]\n",
      "[[20252]]\n",
      "[[20243]]\n",
      "[[20182]]\n",
      "[[20188]]\n",
      "[[20240]]\n",
      "[[20255]]\n",
      "[[20343]]\n",
      "[[20333]]\n",
      "[[20251]]\n",
      "[[20289]]\n",
      "[[20227]]\n"
     ]
    },
    {
     "name": "stderr",
     "output_type": "stream",
     "text": [
      "\r",
      "  8%|█████                                                             | 7.652777777777778/100 [00:37<03:21,  2.18s/it]"
     ]
    },
    {
     "name": "stdout",
     "output_type": "stream",
     "text": [
      "[[20151]]\n",
      "[[20027]]\n",
      "[[20132]]\n",
      "[[20007]]\n",
      "[[20031]]\n",
      "[[20149]]\n",
      "[[20004]]\n",
      "[[20093]]\n",
      "[[20231]]\n",
      "[[20300]]\n",
      "[[20143]]\n",
      "[[20177]]\n",
      "[[20047]]\n"
     ]
    },
    {
     "name": "stderr",
     "output_type": "stream",
     "text": [
      "\r",
      "  8%|█████▏                                                            | 7.921296296296296/100 [00:38<03:17,  2.15s/it]"
     ]
    },
    {
     "name": "stdout",
     "output_type": "stream",
     "text": [
      "[[20332]]\n",
      "[[20159]]\n",
      "[[20129]]\n",
      "[[20375]]\n",
      "[[20240]]\n",
      "[[20227]]\n",
      "[[20350]]\n",
      "[[20235]]\n",
      "[[20096]]\n",
      "[[20130]]\n",
      "[[20095]]\n",
      "[[20252]]\n",
      "[[20263]]\n",
      "[[20264]]\n",
      "[[20305]]\n",
      "[[20201]]\n",
      "[[20206]]\n",
      "[[20071]]\n",
      "[[20169]]\n"
     ]
    },
    {
     "name": "stderr",
     "output_type": "stream",
     "text": [
      "\r",
      "  8%|█████▍                                                            | 8.194444444444445/100 [00:38<03:14,  2.12s/it]"
     ]
    },
    {
     "name": "stdout",
     "output_type": "stream",
     "text": [
      "[[20189]]\n",
      "[[20395]]\n",
      "[[20356]]\n",
      "[[20010]]\n",
      "[[20030]]\n",
      "[[20038]]\n",
      "[[20157]]\n",
      "[[20128]]\n",
      "[[20374]]\n",
      "[[20334]]\n",
      "[[20230]]\n",
      "[[20199]]\n",
      "[[20159]]\n",
      "[[20369]]"
     ]
    },
    {
     "name": "stderr",
     "output_type": "stream",
     "text": [
      "\r",
      "  8%|█████▌                                                            | 8.472222222222223/100 [00:39<03:06,  2.03s/it]"
     ]
    },
    {
     "name": "stdout",
     "output_type": "stream",
     "text": [
      "\n",
      "[[20210]]\n",
      "[[20046]]\n",
      "[[20345]]\n",
      "[[20168]]\n",
      "[[20302]]\n",
      "[[20399]]\n",
      "[[20093]]\n",
      "[[20013]]\n",
      "[[20187]]\n",
      "[[20048]]\n",
      "[[20143]]\n",
      "[[20137]]\n",
      "[[20379]]\n"
     ]
    },
    {
     "name": "stderr",
     "output_type": "stream",
     "text": [
      "\r",
      "  9%|█████▊                                                             | 8.75462962962963/100 [00:39<03:00,  1.98s/it]"
     ]
    },
    {
     "name": "stdout",
     "output_type": "stream",
     "text": [
      "[[20009]]\n",
      "[[20378]]\n",
      "[[20313]]\n",
      "[[20312]]\n",
      "[[20312]]\n",
      "[[20301]]\n",
      "[[20247]]\n",
      "[[20019]]\n",
      "[[20022]]\n",
      "[[20223]]\n",
      "[[20280]]\n",
      "[[20055]]\n",
      "[[20116]]\n",
      "[[20294]]\n",
      "[[20133]]\n",
      "[[20140]]\n",
      "[[20205]]\n",
      "[[20366]]\n",
      "[[20379]]\n"
     ]
    },
    {
     "name": "stderr",
     "output_type": "stream",
     "text": [
      "\r",
      "  9%|█████▉                                                            | 9.041666666666666/100 [00:40<02:58,  1.96s/it]"
     ]
    },
    {
     "name": "stdout",
     "output_type": "stream",
     "text": [
      "[[20371]]\n",
      "[[20346]]\n",
      "[[20229]]\n",
      "[[20377]]\n",
      "[[20278]]\n",
      "[[20124]]\n",
      "[[20397]]\n",
      "[[20171]]\n",
      "[[20377]]\n",
      "[[20243]]\n",
      "[[20197]]\n",
      "[[20067]]\n",
      "[[20291]]\n",
      "[[20021]]\n",
      "[[20130]]\n",
      "[[20202]]\n",
      "[[20089]]\n",
      "[[20007]]\n"
     ]
    },
    {
     "name": "stderr",
     "output_type": "stream",
     "text": [
      "\r",
      "  9%|██████▏                                                           | 9.333333333333332/100 [00:40<02:56,  1.94s/it]"
     ]
    },
    {
     "name": "stdout",
     "output_type": "stream",
     "text": [
      "[[20064]]\n",
      "[[20216]]\n",
      "[[20121]]\n",
      "[[20340]]\n",
      "[[20219]]\n",
      "[[20141]]\n",
      "[[20001]]\n",
      "[[20048]]\n",
      "[[20115]]\n",
      "[[20220]]\n",
      "[[20001]]\n",
      "[[20307]]\n",
      "[[20032]]\n"
     ]
    },
    {
     "name": "stderr",
     "output_type": "stream",
     "text": [
      "\r",
      " 10%|██████▎                                                           | 9.629629629629628/100 [00:41<02:50,  1.89s/it]"
     ]
    },
    {
     "name": "stdout",
     "output_type": "stream",
     "text": [
      "[[20368]]\n",
      "[[20323]]\n",
      "[[20084]]\n",
      "[[20154]]\n",
      "[[20180]]\n",
      "[[20311]]\n",
      "[[20351]]\n",
      "[[20367]]\n",
      "[[20216]]\n",
      "[[20259]]\n",
      "[[20101]]\n",
      "[[20246]]\n",
      "[[20258]]\n",
      "[[20287]]\n"
     ]
    },
    {
     "name": "stderr",
     "output_type": "stream",
     "text": [
      "\r",
      " 10%|██████▌                                                           | 9.930555555555554/100 [00:41<02:47,  1.86s/it]"
     ]
    },
    {
     "name": "stdout",
     "output_type": "stream",
     "text": [
      "[[20382]]\n",
      "[[20229]]\n",
      "[[20059]]\n",
      "[[20140]]\n",
      "[[20344]]\n",
      "[[20312]]\n",
      "[[20297]]\n",
      "[[20378]]\n",
      "[[20324]]\n",
      "[[20045]]\n",
      "[[20048]]\n",
      "[[20011]]\n",
      "[[20378]]\n",
      "[[20177]]\n",
      "[[20082]]\n",
      "[[20256]]\n",
      "[[20080]]\n",
      "[[20134]]\n",
      "[[20305]]\n",
      "[[20261]]\n"
     ]
    },
    {
     "name": "stderr",
     "output_type": "stream",
     "text": [
      "\r",
      " 10%|██████▋                                                          | 10.236111111111109/100 [00:42<02:45,  1.84s/it]"
     ]
    },
    {
     "name": "stdout",
     "output_type": "stream",
     "text": [
      "[[20383]]\n",
      "[[20063]]\n",
      "[[20255]]\n",
      "[[20072]]\n",
      "[[20170]]\n",
      "[[20032]]\n",
      "[[20159]]\n",
      "[[20303]]\n",
      "[[20308]]\n",
      "[[20334]]\n",
      "[[20278]]\n",
      "[[20164]]\n",
      "[[20200]]"
     ]
    },
    {
     "name": "stderr",
     "output_type": "stream",
     "text": [
      "\r",
      " 11%|██████▊                                                          | 10.546296296296294/100 [00:42<02:42,  1.81s/it]"
     ]
    },
    {
     "name": "stdout",
     "output_type": "stream",
     "text": [
      "\n",
      "[[20257]]\n",
      "[[20034]]\n",
      "[[20115]]\n",
      "[[20074]]\n",
      "[[20094]]\n",
      "[[20075]]\n",
      "[[20296]]\n",
      "[[20223]]\n",
      "[[20363]]\n",
      "[[20098]]\n",
      "[[20077]]\n",
      "[[20243]]\n",
      "[[20280]]\n",
      "[[20235]]\n",
      "[[20142]]\n",
      "[[20199]]\n",
      "[[20033]]\n",
      "[[20297]]\n",
      "[[20246]]\n",
      "[[20249]]\n"
     ]
    },
    {
     "name": "stderr",
     "output_type": "stream",
     "text": [
      "\r",
      " 11%|███████                                                          | 10.861111111111109/100 [00:43<02:37,  1.76s/it]"
     ]
    },
    {
     "name": "stdout",
     "output_type": "stream",
     "text": [
      "[[20277]]\n",
      "[[20249]]\n",
      "[[20014]]\n",
      "[[20393]]\n",
      "[[20134]]\n",
      "[[20393]]\n",
      "[[20212]]\n",
      "[[20023]]\n",
      "[[20229]]\n",
      "[[20167]]\n",
      "[[20059]]\n",
      "[[20160]]\n",
      "[[20062]]\n",
      "[[20122]]\n"
     ]
    },
    {
     "name": "stderr",
     "output_type": "stream",
     "text": [
      "\r",
      " 11%|███████▎                                                         | 11.180555555555554/100 [00:43<02:33,  1.73s/it]"
     ]
    },
    {
     "name": "stdout",
     "output_type": "stream",
     "text": [
      "[[20088]]\n",
      "[[20022]]\n",
      "[[20107]]\n",
      "[[20240]]\n",
      "[[20343]]\n",
      "[[20135]]\n",
      "[[20234]]\n",
      "[[20370]]\n",
      "[[20295]]\n",
      "[[20011]]\n",
      "[[20317]]\n",
      "[[20255]]\n",
      "[[20033]]\n"
     ]
    },
    {
     "name": "stderr",
     "output_type": "stream",
     "text": [
      "\r",
      " 12%|███████▍                                                         | 11.504629629629628/100 [00:44<02:40,  1.81s/it]"
     ]
    },
    {
     "name": "stdout",
     "output_type": "stream",
     "text": [
      "[[20042]]\n",
      "[[20211]]\n",
      "[[20241]]\n",
      "[[20175]]\n",
      "[[20009]]\n",
      "[[20268]]\n",
      "[[20393]]\n",
      "[[20169]]\n",
      "[[20031]]\n",
      "[[20138]]\n",
      "[[20329]]\n",
      "[[20044]]\n",
      "[[20362]]\n",
      "[[20235]]\n",
      "[[20285]]\n",
      "[[20076]]\n",
      "[[20247]]\n",
      "[[20018]]\n",
      "[[20112]]\n"
     ]
    },
    {
     "name": "stderr",
     "output_type": "stream",
     "text": [
      "\r",
      " 12%|███████▋                                                         | 11.833333333333332/100 [00:45<02:34,  1.76s/it]"
     ]
    },
    {
     "name": "stdout",
     "output_type": "stream",
     "text": [
      "[[20225]]\n",
      "[[20247]]\n",
      "[[20254]]\n",
      "[[20336]]\n",
      "[[20220]]\n",
      "[[20259]]\n",
      "[[20230]]\n",
      "[[20385]]\n",
      "[[20131]]\n",
      "[[20021]]\n",
      "[[20264]]\n",
      "[[20083]]\n",
      "[[20318]]\n",
      "[[20339]]\n"
     ]
    },
    {
     "name": "stderr",
     "output_type": "stream",
     "text": [
      "\r",
      " 12%|███████▉                                                         | 12.166666666666666/100 [00:45<02:29,  1.70s/it]"
     ]
    },
    {
     "name": "stdout",
     "output_type": "stream",
     "text": [
      "[[20098]]\n",
      "[[20353]]\n",
      "[[20196]]\n",
      "[[20226]]\n",
      "[[20307]]\n",
      "[[20009]]\n",
      "[[20294]]\n",
      "[[20186]]\n",
      "[[20117]]\n",
      "[[20172]]\n",
      "[[20261]]\n",
      "[[20037]]\n",
      "[[20370]]\n",
      "[[20011]]\n"
     ]
    },
    {
     "name": "stderr",
     "output_type": "stream",
     "text": [
      "\r",
      " 13%|████████▎                                                         | 12.50462962962963/100 [00:46<02:23,  1.64s/it]"
     ]
    },
    {
     "name": "stdout",
     "output_type": "stream",
     "text": [
      "[[20087]]\n",
      "[[20302]]\n",
      "[[20217]]\n",
      "[[20131]]\n",
      "[[20002]]\n",
      "[[20365]]\n",
      "[[20282]]\n",
      "[[20110]]\n",
      "[[20309]]\n",
      "[[20021]]\n",
      "[[20085]]\n",
      "[[20100]]\n",
      "[[20220]]\n",
      "[[20011]]\n",
      "[[20059]]\n"
     ]
    },
    {
     "name": "stderr",
     "output_type": "stream",
     "text": [
      "\r",
      " 13%|████████▎                                                        | 12.847222222222223/100 [00:46<02:14,  1.54s/it]"
     ]
    },
    {
     "name": "stdout",
     "output_type": "stream",
     "text": [
      "[[20216]]\n",
      "[[20154]]\n",
      "[[20184]]\n",
      "[[20340]]\n",
      "[[20010]]\n",
      "[[20165]]\n",
      "[[20063]]\n",
      "[[20297]]\n",
      "[[20145]]\n",
      "[[20153]]\n",
      "[[20065]]\n",
      "[[20145]]\n",
      "[[20199]]\n",
      "[[20127]]\n",
      "[[20151]]\n",
      "[[20222]]\n",
      "[[20280]]\n",
      "[[20185]]\n",
      "[[20150]]\n",
      "[[20085]]\n",
      "[[20399]]\n",
      "[[20063]]\n",
      "[[20146]]\n"
     ]
    },
    {
     "name": "stderr",
     "output_type": "stream",
     "text": [
      "\r",
      " 13%|████████▌                                                        | 13.194444444444445/100 [00:47<02:08,  1.49s/it]"
     ]
    },
    {
     "name": "stdout",
     "output_type": "stream",
     "text": [
      "[[20183]]\n",
      "[[20086]]\n",
      "[[20332]]\n",
      "[[20360]]\n",
      "[[20282]]\n",
      "[[20174]]\n",
      "[[20283]]\n",
      "[[20116]]\n",
      "[[20193]]\n",
      "[[20071]]\n",
      "[[20189]]\n",
      "[[20131]]\n",
      "[[20169]]\n"
     ]
    },
    {
     "name": "stderr",
     "output_type": "stream",
     "text": [
      "\r",
      " 14%|████████▊                                                        | 13.546296296296296/100 [00:47<02:08,  1.49s/it]"
     ]
    },
    {
     "name": "stdout",
     "output_type": "stream",
     "text": [
      "[[20010]]\n",
      "[[20182]]\n",
      "[[20121]]\n",
      "[[20134]]\n",
      "[[20009]]\n",
      "[[20222]]\n",
      "[[20340]]\n",
      "[[20309]]\n",
      "[[20252]]\n",
      "[[20221]]\n",
      "[[20271]]\n",
      "[[20392]]\n",
      "[[20192]]\n",
      "[[20372]]\n",
      "[[20277]]\n",
      "[[20262]]\n",
      "[[20297]]\n",
      "[[20363]]\n",
      "[[20222]]\n"
     ]
    },
    {
     "name": "stderr",
     "output_type": "stream",
     "text": [
      "\r",
      " 14%|█████████                                                        | 13.902777777777777/100 [00:48<02:16,  1.58s/it]"
     ]
    },
    {
     "name": "stdout",
     "output_type": "stream",
     "text": [
      "[[20159]]\n",
      "[[20154]]\n",
      "[[20319]]\n",
      "[[20079]]\n",
      "[[20112]]\n",
      "[[20031]]\n",
      "[[20155]]\n",
      "[[20133]]\n",
      "[[20176]]\n",
      "[[20029]]\n",
      "[[20184]]\n",
      "[[20200]]\n",
      "[[20032]]\n",
      "[[20316]]\n"
     ]
    },
    {
     "name": "stderr",
     "output_type": "stream",
     "text": [
      "\r",
      " 14%|█████████▎                                                       | 14.263888888888888/100 [00:48<02:11,  1.54s/it]"
     ]
    },
    {
     "name": "stdout",
     "output_type": "stream",
     "text": [
      "[[20058]]\n",
      "[[20263]]\n",
      "[[20328]]\n",
      "[[20323]]\n",
      "[[20061]]\n",
      "[[20231]]\n",
      "[[20348]]\n",
      "[[20366]]\n",
      "[[20247]]\n",
      "[[20292]]\n",
      "[[20018]]\n",
      "[[20268]]\n",
      "[[20392]]\n",
      "[[20127]]"
     ]
    },
    {
     "name": "stderr",
     "output_type": "stream",
     "text": [
      "\r",
      " 15%|█████████▌                                                       | 14.629629629629628/100 [00:49<02:08,  1.50s/it]"
     ]
    },
    {
     "name": "stdout",
     "output_type": "stream",
     "text": [
      "\n",
      "[[20229]]\n",
      "[[20123]]\n",
      "[[20071]]\n",
      "[[20044]]\n",
      "[[20349]]\n",
      "[[20169]]\n",
      "[[20089]]\n",
      "[[20344]]\n",
      "[[20306]]\n",
      "[[20133]]\n",
      "[[20032]]\n",
      "[[20025]]\n",
      "[[20092]]\n",
      "[[20206]]\n",
      "[[20168]]\n",
      "[[20233]]\n",
      "[[20200]]\n",
      "[[20368]]\n",
      "[[20171]]\n"
     ]
    },
    {
     "name": "stderr",
     "output_type": "stream",
     "text": [
      "\r",
      " 15%|█████████▊                                                       | 14.999999999999998/100 [00:49<02:06,  1.49s/it]"
     ]
    },
    {
     "name": "stdout",
     "output_type": "stream",
     "text": [
      "[[20087]]\n",
      "[[20227]]\n",
      "[[20365]]\n",
      "[[20217]]\n",
      "[[20242]]\n",
      "[[20081]]\n",
      "[[20254]]\n",
      "[[20182]]\n",
      "[[20323]]\n",
      "[[20125]]\n",
      "[[20231]]\n",
      "[[20212]]\n",
      "[[20272]]\n"
     ]
    },
    {
     "name": "stderr",
     "output_type": "stream",
     "text": [
      "\r",
      " 15%|█████████▉                                                       | 15.374999999999998/100 [00:50<02:04,  1.47s/it]"
     ]
    },
    {
     "name": "stdout",
     "output_type": "stream",
     "text": [
      "[[20387]]\n",
      "[[20054]]\n",
      "[[20118]]\n",
      "[[20015]]\n",
      "[[20002]]\n",
      "[[20160]]\n",
      "[[20057]]\n",
      "[[20073]]\n",
      "[[20250]]\n",
      "[[20009]]\n",
      "[[20364]]\n",
      "[[20306]]\n"
     ]
    },
    {
     "name": "stderr",
     "output_type": "stream",
     "text": [
      "\r",
      " 16%|██████████▏                                                      | 15.754629629629628/100 [00:50<02:03,  1.46s/it]"
     ]
    },
    {
     "name": "stdout",
     "output_type": "stream",
     "text": [
      "[[20348]]\n",
      "[[20147]]\n",
      "[[20199]]\n",
      "[[20230]]\n",
      "[[20164]]\n",
      "[[20320]]\n",
      "[[20068]]\n",
      "[[20099]]\n",
      "[[20216]]\n",
      "[[20135]]\n",
      "[[20283]]\n",
      "[[20178]]\n",
      "[[20306]]\n",
      "[[20189]]\n",
      "[[20023]]\n",
      "[[20209]]\n",
      "[[20372]]\n",
      "[[20182]]\n",
      "[[20258]]\n",
      "[[20088]]\n",
      "[[20104]]\n",
      "[[20311]]\n",
      "[[20400]]\n"
     ]
    },
    {
     "name": "stderr",
     "output_type": "stream",
     "text": [
      "\r",
      " 16%|██████████▍                                                      | 16.138888888888886/100 [00:51<01:59,  1.43s/it]"
     ]
    },
    {
     "name": "stdout",
     "output_type": "stream",
     "text": [
      "[[20166]]\n",
      "[[20091]]\n",
      "[[20077]]\n",
      "[[20339]]\n",
      "[[20187]]\n",
      "[[20264]]\n",
      "[[20007]]\n",
      "[[20132]]\n",
      "[[20068]]\n",
      "[[20398]]\n",
      "[[20401]]\n",
      "[[20210]]\n",
      "[[20341]]\n"
     ]
    },
    {
     "name": "stderr",
     "output_type": "stream",
     "text": [
      "\r",
      " 17%|██████████▋                                                      | 16.527777777777775/100 [00:51<01:57,  1.41s/it]"
     ]
    },
    {
     "name": "stdout",
     "output_type": "stream",
     "text": [
      "[[20031]]\n",
      "[[20220]]\n",
      "[[20348]]\n",
      "[[20277]]\n",
      "[[20166]]\n",
      "[[20239]]\n",
      "[[20287]]\n",
      "[[20276]]\n",
      "[[20117]]\n",
      "[[20348]]\n",
      "[[20250]]\n",
      "[[20175]]\n",
      "[[20262]]\n",
      "[[20350]]\n",
      "[[20221]]\n"
     ]
    },
    {
     "name": "stderr",
     "output_type": "stream",
     "text": [
      "\r",
      " 17%|██████████▉                                                      | 16.921296296296294/100 [00:52<01:50,  1.34s/it]"
     ]
    },
    {
     "name": "stdout",
     "output_type": "stream",
     "text": [
      "[[20054]]\n",
      "[[20068]]\n",
      "[[20137]]\n",
      "[[20253]]\n",
      "[[20367]]\n",
      "[[20142]]\n",
      "[[20178]]\n",
      "[[20260]]\n",
      "[[20007]]\n",
      "[[20084]]\n",
      "[[20219]]\n",
      "[[20364]]\n",
      "[[20326]]\n",
      "[[20092]]\n",
      "[[20315]]\n",
      "[[20253]]\n",
      "[[20105]]\n",
      "[[20090]]\n",
      "[[20101]]\n",
      "[[20215]]\n",
      "[[20303]]\n"
     ]
    },
    {
     "name": "stderr",
     "output_type": "stream",
     "text": [
      "\r",
      " 17%|███████████▎                                                     | 17.319444444444443/100 [00:52<01:49,  1.32s/it]"
     ]
    },
    {
     "name": "stdout",
     "output_type": "stream",
     "text": [
      "[[20332]]\n",
      "[[20016]]\n",
      "[[20311]]\n",
      "[[20388]]\n",
      "[[20058]]\n",
      "[[20002]]\n",
      "[[20347]]\n",
      "[[20270]]\n",
      "[[20152]]\n",
      "[[20164]]\n",
      "[[20312]]\n",
      "[[20040]]\n",
      "[[20373]]\n",
      "[[20145]]"
     ]
    },
    {
     "name": "stderr",
     "output_type": "stream",
     "text": [
      "\r",
      " 18%|███████████▋                                                      | 17.72222222222222/100 [00:53<01:47,  1.31s/it]"
     ]
    },
    {
     "name": "stdout",
     "output_type": "stream",
     "text": [
      "\n",
      "[[20340]]\n",
      "[[20330]]\n",
      "[[20314]]\n",
      "[[20083]]\n",
      "[[20261]]\n",
      "[[20316]]\n",
      "[[20259]]\n",
      "[[20298]]\n",
      "[[20200]]\n",
      "[[20160]]\n",
      "[[20294]]\n",
      "[[20202]]\n"
     ]
    },
    {
     "name": "stderr",
     "output_type": "stream",
     "text": [
      "\r",
      " 18%|███████████▉                                                      | 18.12962962962963/100 [00:53<01:46,  1.30s/it]"
     ]
    },
    {
     "name": "stdout",
     "output_type": "stream",
     "text": [
      "[[20297]]\n",
      "[[20120]]\n",
      "[[20243]]\n",
      "[[20355]]\n",
      "[[20190]]\n",
      "[[20322]]\n",
      "[[20379]]\n",
      "[[20169]]\n",
      "[[20350]]\n",
      "[[20229]]\n",
      "[[20282]]\n",
      "[[20384]]\n",
      "[[20310]]\n",
      "[[20204]]\n",
      "[[20210]]\n",
      "[[20017]]\n",
      "[[20253]]\n",
      "[[20174]]\n",
      "[[20328]]\n"
     ]
    },
    {
     "name": "stderr",
     "output_type": "stream",
     "text": [
      "\r",
      " 19%|████████████                                                     | 18.541666666666668/100 [00:54<01:49,  1.35s/it]"
     ]
    },
    {
     "name": "stdout",
     "output_type": "stream",
     "text": [
      "[[20110]]\n",
      "[[20235]]\n",
      "[[20231]]\n",
      "[[20180]]\n",
      "[[20341]]\n",
      "[[20299]]\n",
      "[[20063]]\n",
      "[[20132]]\n",
      "[[20033]]\n",
      "[[20032]]\n",
      "[[20257]]\n",
      "[[20329]]\n",
      "[[20219]]\n",
      "[[20180]]\n",
      "[[20165]]\n",
      "[[20120]]\n",
      "[[20187]]\n",
      "[[20201]]\n",
      "[[20062]]\n"
     ]
    },
    {
     "name": "stderr",
     "output_type": "stream",
     "text": [
      "\r",
      " 19%|████████████▎                                                    | 18.958333333333336/100 [00:55<01:50,  1.36s/it]"
     ]
    },
    {
     "name": "stdout",
     "output_type": "stream",
     "text": [
      "[[20130]]\n",
      "[[20375]]\n",
      "[[20291]]\n",
      "[[20160]]\n",
      "[[20150]]\n",
      "[[20259]]\n",
      "[[20093]]\n",
      "[[20312]]\n",
      "[[20079]]\n",
      "[[20135]]\n",
      "[[20219]]\n",
      "[[20047]]\n",
      "[[20005]]\n"
     ]
    },
    {
     "name": "stderr",
     "output_type": "stream",
     "text": [
      "\r",
      " 19%|████████████▌                                                    | 19.379629629629633/100 [00:55<01:47,  1.33s/it]"
     ]
    },
    {
     "name": "stdout",
     "output_type": "stream",
     "text": [
      "[[20140]]\n",
      "[[20102]]\n",
      "[[20141]]\n",
      "[[20186]]\n",
      "[[20362]]\n",
      "[[20313]]\n",
      "[[20178]]\n",
      "[[20159]]\n",
      "[[20293]]\n",
      "[[20249]]\n",
      "[[20149]]\n",
      "[[20018]]\n",
      "[[20064]]\n",
      "[[20080]]\n",
      "[[20051]]\n",
      "[[20054]]\n",
      "[[20170]]\n",
      "[[20025]]\n",
      "[[20310]]\n",
      "[[20326]]"
     ]
    },
    {
     "name": "stderr",
     "output_type": "stream",
     "text": [
      "\r",
      " 20%|█████████████                                                     | 19.80555555555556/100 [00:56<01:43,  1.29s/it]"
     ]
    },
    {
     "name": "stdout",
     "output_type": "stream",
     "text": [
      "\n",
      "[[20200]]\n",
      "[[20216]]\n",
      "[[20048]]\n",
      "[[20332]]\n",
      "[[20080]]\n",
      "[[20208]]\n",
      "[[20385]]\n",
      "[[20335]]\n",
      "[[20349]]\n",
      "[[20213]]\n",
      "[[20212]]\n",
      "[[20104]]\n"
     ]
    },
    {
     "name": "stderr",
     "output_type": "stream",
     "text": [
      "\r",
      " 20%|█████████████▏                                                   | 20.236111111111118/100 [00:56<01:40,  1.26s/it]"
     ]
    },
    {
     "name": "stdout",
     "output_type": "stream",
     "text": [
      "[[20174]]\n",
      "[[20295]]\n",
      "[[20029]]\n",
      "[[20244]]\n",
      "[[20020]]\n",
      "[[20019]]\n",
      "[[20073]]\n",
      "[[20268]]\n",
      "[[20087]]\n",
      "[[20385]]\n",
      "[[20342]]\n",
      "[[20172]]\n",
      "[[20221]]\n",
      "[[20141]]\n"
     ]
    },
    {
     "name": "stderr",
     "output_type": "stream",
     "text": [
      "\r",
      " 21%|█████████████▍                                                   | 20.671296296296305/100 [00:57<01:39,  1.25s/it]"
     ]
    },
    {
     "name": "stdout",
     "output_type": "stream",
     "text": [
      "[[20325]]\n",
      "[[20084]]\n",
      "[[20024]]\n",
      "[[20311]]\n",
      "[[20067]]\n",
      "[[20348]]\n",
      "[[20065]]\n",
      "[[20210]]\n",
      "[[20351]]\n",
      "[[20191]]\n",
      "[[20102]]\n",
      "[[20024]]\n",
      "[[20046]]\n",
      "[[20162]]\n",
      "[[20043]]\n",
      "[[20382]]\n",
      "[[20401]]\n",
      "[[20077]]\n",
      "[[20339]]\n"
     ]
    },
    {
     "name": "stderr",
     "output_type": "stream",
     "text": [
      "\r",
      " 21%|█████████████▋                                                   | 21.111111111111118/100 [00:57<01:42,  1.30s/it]"
     ]
    },
    {
     "name": "stdout",
     "output_type": "stream",
     "text": [
      "[[20026]]\n",
      "[[20320]]\n",
      "[[20057]]\n",
      "[[20334]]\n",
      "[[20400]]\n",
      "[[20018]]\n",
      "[[20002]]\n",
      "[[20089]]\n",
      "[[20252]]\n",
      "[[20279]]\n",
      "[[20276]]\n",
      "[[20168]]\n",
      "[[20298]]\n",
      "[[20316]]\n",
      "[[20164]]\n",
      "[[20135]]\n",
      "[[20203]]\n",
      "[[20265]]\n",
      "[[20056]]\n"
     ]
    },
    {
     "name": "stderr",
     "output_type": "stream",
     "text": [
      "\r",
      " 22%|██████████████▏                                                   | 21.55555555555556/100 [00:58<01:42,  1.31s/it]"
     ]
    },
    {
     "name": "stdout",
     "output_type": "stream",
     "text": [
      "[[20241]]\n",
      "[[20364]]\n",
      "[[20103]]\n",
      "[[20326]]\n",
      "[[20229]]\n",
      "[[20330]]\n",
      "[[20224]]\n",
      "[[20073]]\n",
      "[[20179]]\n",
      "[[20344]]\n",
      "[[20263]]\n",
      "[[20278]]\n",
      "[[20078]]\n",
      "[[20262]]\n"
     ]
    },
    {
     "name": "stderr",
     "output_type": "stream",
     "text": [
      "\r",
      " 22%|██████████████▎                                                  | 22.004629629629633/100 [00:58<01:38,  1.26s/it]"
     ]
    },
    {
     "name": "stdout",
     "output_type": "stream",
     "text": [
      "[[20207]]\n",
      "[[20141]]\n",
      "[[20255]]\n",
      "[[20301]]\n",
      "[[20377]]\n",
      "[[20365]]\n",
      "[[20182]]\n",
      "[[20297]]\n",
      "[[20320]]\n",
      "[[20151]]\n",
      "[[20148]]\n",
      "[[20322]]\n",
      "[[20003]]\n"
     ]
    },
    {
     "name": "stderr",
     "output_type": "stream",
     "text": [
      "\r",
      " 22%|██████████████▌                                                  | 22.458333333333336/100 [00:59<01:37,  1.26s/it]"
     ]
    },
    {
     "name": "stdout",
     "output_type": "stream",
     "text": [
      "[[20053]]\n",
      "[[20129]]\n",
      "[[20128]]\n",
      "[[20130]]\n",
      "[[20273]]\n",
      "[[20360]]\n",
      "[[20278]]\n",
      "[[20201]]\n",
      "[[20148]]\n",
      "[[20327]]\n",
      "[[20029]]\n",
      "[[20310]]\n",
      "[[20395]]\n",
      "[[20280]]\n",
      "[[20028]]\n",
      "[[20111]]\n",
      "[[20272]]\n",
      "[[20398]]\n",
      "[[20085]]\n",
      "[[20147]]\n"
     ]
    },
    {
     "name": "stderr",
     "output_type": "stream",
     "text": [
      "\r",
      " 23%|██████████████▉                                                  | 22.916666666666668/100 [01:00<01:37,  1.26s/it]"
     ]
    },
    {
     "name": "stdout",
     "output_type": "stream",
     "text": [
      "[[20024]]\n",
      "[[20097]]\n",
      "[[20081]]\n",
      "[[20178]]\n",
      "[[20377]]\n",
      "[[20215]]\n",
      "[[20279]]\n",
      "[[20090]]\n",
      "[[20228]]\n",
      "[[20166]]\n",
      "[[20301]]\n",
      "[[20029]]\n",
      "[[20320]]\n",
      "[[20392]]\n"
     ]
    },
    {
     "name": "stderr",
     "output_type": "stream",
     "text": [
      "\r",
      " 23%|███████████████▍                                                  | 23.37962962962963/100 [01:00<01:32,  1.21s/it]"
     ]
    },
    {
     "name": "stdout",
     "output_type": "stream",
     "text": [
      "[[20222]]\n",
      "[[20151]]\n",
      "[[20033]]\n",
      "[[20296]]\n",
      "[[20127]]\n",
      "[[20332]]\n",
      "[[20385]]\n",
      "[[20350]]\n",
      "[[20291]]\n",
      "[[20121]]\n",
      "[[20379]]\n",
      "[[20052]]\n",
      "[[20027]]\n",
      "[[20315]]\n",
      "[[20211]]\n"
     ]
    },
    {
     "name": "stderr",
     "output_type": "stream",
     "text": [
      "\r",
      " 24%|███████████████▋                                                  | 23.84722222222222/100 [01:01<01:28,  1.17s/it]"
     ]
    },
    {
     "name": "stdout",
     "output_type": "stream",
     "text": [
      "[[20245]]\n",
      "[[20383]]\n",
      "[[20030]]\n",
      "[[20351]]\n",
      "[[20219]]\n",
      "[[20266]]\n",
      "[[20202]]\n",
      "[[20281]]\n",
      "[[20222]]\n",
      "[[20136]]\n",
      "[[20159]]\n",
      "[[20064]]\n",
      "[[20032]]\n",
      "[[20075]]\n",
      "[[20118]]\n",
      "[[20034]]\n",
      "[[20267]]\n",
      "[[20288]]\n"
     ]
    },
    {
     "name": "stderr",
     "output_type": "stream",
     "text": [
      "\r",
      " 24%|███████████████▊                                                 | 24.319444444444443/100 [01:01<01:29,  1.19s/it]"
     ]
    },
    {
     "name": "stdout",
     "output_type": "stream",
     "text": [
      "[[20261]]\n",
      "[[20248]]\n",
      "[[20337]]\n",
      "[[20008]]\n",
      "[[20310]]\n",
      "[[20266]]\n",
      "[[20396]]\n",
      "[[20070]]\n",
      "[[20072]]\n",
      "[[20352]]\n",
      "[[20389]]\n",
      "[[20231]]\n",
      "[[20101]]\n",
      "[[20350]]\n"
     ]
    },
    {
     "name": "stderr",
     "output_type": "stream",
     "text": [
      "\r",
      " 25%|████████████████                                                 | 24.796296296296294/100 [01:02<01:26,  1.15s/it]"
     ]
    },
    {
     "name": "stdout",
     "output_type": "stream",
     "text": [
      "[[20076]]\n",
      "[[20335]]\n",
      "[[20078]]\n",
      "[[20184]]\n",
      "[[20175]]\n",
      "[[20154]]\n",
      "[[20328]]\n",
      "[[20162]]\n",
      "[[20107]]\n",
      "[[20181]]\n",
      "[[20087]]\n",
      "[[20232]]\n",
      "[[20083]]\n",
      "[[20241]]\n",
      "[[20321]]\n",
      "[[20355]]\n",
      "[[20218]]\n"
     ]
    },
    {
     "name": "stderr",
     "output_type": "stream",
     "text": [
      "\r",
      " 25%|████████████████▍                                                | 25.277777777777775/100 [01:02<01:28,  1.19s/it]"
     ]
    },
    {
     "name": "stdout",
     "output_type": "stream",
     "text": [
      "[[20177]]\n",
      "[[20330]]\n",
      "[[20366]]\n",
      "[[20014]]\n",
      "[[20267]]\n",
      "[[20326]]\n",
      "[[20276]]\n",
      "[[20098]]\n",
      "[[20053]]\n",
      "[[20015]]\n",
      "[[20180]]\n",
      "[[20346]]\n",
      "[[20024]]\n",
      "[[20186]]\n"
     ]
    },
    {
     "name": "stderr",
     "output_type": "stream",
     "text": [
      "\r",
      " 26%|████████████████▋                                                | 25.763888888888886/100 [01:03<01:24,  1.14s/it]"
     ]
    },
    {
     "name": "stdout",
     "output_type": "stream",
     "text": [
      "[[20338]]\n",
      "[[20292]]\n",
      "[[20030]]\n",
      "[[20125]]\n",
      "[[20185]]\n",
      "[[20348]]\n",
      "[[20081]]\n",
      "[[20263]]\n",
      "[[20040]]\n",
      "[[20134]]\n",
      "[[20202]]\n",
      "[[20072]]\n",
      "[[20261]]\n",
      "[[20044]]\n"
     ]
    },
    {
     "name": "stderr",
     "output_type": "stream",
     "text": [
      "\r",
      " 26%|█████████████████                                                | 26.254629629629626/100 [01:03<01:23,  1.13s/it]"
     ]
    },
    {
     "name": "stdout",
     "output_type": "stream",
     "text": [
      "[[20192]]\n",
      "[[20220]]\n",
      "[[20037]]\n",
      "[[20343]]\n",
      "[[20370]]\n",
      "[[20199]]\n",
      "[[20144]]\n",
      "[[20329]]\n",
      "[[20151]]\n",
      "[[20041]]\n",
      "[[20261]]\n",
      "[[20255]]\n",
      "[[20325]]\n",
      "[[20128]]\n",
      "[[20379]]\n",
      "[[20130]]\n",
      "[[20302]]\n",
      "[[20114]]\n",
      "[[20092]]\n"
     ]
    },
    {
     "name": "stderr",
     "output_type": "stream",
     "text": [
      "\r",
      " 27%|█████████████████▍                                               | 26.749999999999996/100 [01:04<01:24,  1.16s/it]"
     ]
    },
    {
     "name": "stdout",
     "output_type": "stream",
     "text": [
      "[[20115]]\n",
      "[[20180]]\n",
      "[[20168]]\n",
      "[[20110]]\n",
      "[[20221]]\n",
      "[[20098]]\n",
      "[[20353]]\n",
      "[[20175]]\n",
      "[[20020]]\n",
      "[[20352]]\n",
      "[[20157]]\n",
      "[[20127]]\n",
      "[[20090]]\n",
      "[[20307]]\n",
      "[[20376]]\n",
      "[[20294]]\n",
      "[[20300]]\n",
      "[[20398]]\n",
      "[[20175]]\n",
      "[[20362]]"
     ]
    },
    {
     "name": "stderr",
     "output_type": "stream",
     "text": [
      "\r",
      " 27%|█████████████████▋                                               | 27.249999999999996/100 [01:05<01:22,  1.14s/it]"
     ]
    },
    {
     "name": "stdout",
     "output_type": "stream",
     "text": [
      "\n",
      "[[20247]]\n",
      "[[20068]]\n",
      "[[20333]]\n",
      "[[20090]]\n",
      "[[20163]]\n",
      "[[20295]]\n",
      "[[20286]]\n",
      "[[20233]]\n",
      "[[20396]]\n",
      "[[20002]]\n",
      "[[20379]]\n",
      "[[20234]]\n",
      "[[20184]]\n"
     ]
    },
    {
     "name": "stderr",
     "output_type": "stream",
     "text": [
      "\r",
      " 28%|██████████████████                                               | 27.754629629629626/100 [01:05<01:19,  1.11s/it]"
     ]
    },
    {
     "name": "stdout",
     "output_type": "stream",
     "text": [
      "[[20173]]\n",
      "[[20144]]\n",
      "[[20243]]\n",
      "[[20241]]\n",
      "[[20170]]\n",
      "[[20006]]\n",
      "[[20042]]\n",
      "[[20241]]\n",
      "[[20098]]\n",
      "[[20046]]\n",
      "[[20018]]\n",
      "[[20155]]\n",
      "[[20078]]\n",
      "[[20014]]\n"
     ]
    },
    {
     "name": "stderr",
     "output_type": "stream",
     "text": [
      "\r",
      " 28%|██████████████████▎                                              | 28.263888888888886/100 [01:06<01:17,  1.08s/it]"
     ]
    },
    {
     "name": "stdout",
     "output_type": "stream",
     "text": [
      "[[20353]]\n",
      "[[20106]]\n",
      "[[20306]]\n",
      "[[20228]]\n",
      "[[20009]]\n",
      "[[20095]]\n",
      "[[20338]]\n",
      "[[20341]]\n",
      "[[20043]]\n",
      "[[20283]]\n",
      "[[20285]]\n",
      "[[20022]]\n",
      "[[20036]]\n",
      "[[20360]]\n",
      "[[20371]]\n",
      "[[20137]]\n",
      "[[20196]]\n",
      "[[20299]]\n",
      "[[20309]]\n",
      "[[20056]]\n"
     ]
    },
    {
     "name": "stderr",
     "output_type": "stream",
     "text": [
      "\r",
      " 29%|██████████████████▋                                              | 28.777777777777775/100 [01:06<01:15,  1.07s/it]"
     ]
    },
    {
     "name": "stdout",
     "output_type": "stream",
     "text": [
      "[[20281]]\n",
      "[[20038]]\n",
      "[[20147]]\n",
      "[[20060]]\n",
      "[[20067]]\n",
      "[[20396]]\n",
      "[[20179]]\n",
      "[[20049]]\n",
      "[[20003]]\n",
      "[[20005]]\n",
      "[[20152]]\n",
      "[[20214]]\n",
      "[[20229]]\n"
     ]
    },
    {
     "name": "stderr",
     "output_type": "stream",
     "text": [
      "\r",
      " 29%|███████████████████                                              | 29.296296296296294/100 [01:07<01:13,  1.04s/it]"
     ]
    },
    {
     "name": "stdout",
     "output_type": "stream",
     "text": [
      "[[20242]]\n",
      "[[20244]]\n",
      "[[20067]]\n",
      "[[20266]]\n",
      "[[20263]]\n",
      "[[20130]]\n",
      "[[20043]]\n",
      "[[20203]]\n",
      "[[20092]]\n",
      "[[20117]]\n",
      "[[20369]]\n",
      "[[20221]]\n",
      "[[20266]]\n",
      "[[20047]]\n"
     ]
    },
    {
     "name": "stderr",
     "output_type": "stream",
     "text": [
      "\r",
      " 30%|███████████████████▍                                             | 29.819444444444443/100 [01:07<01:12,  1.03s/it]"
     ]
    },
    {
     "name": "stdout",
     "output_type": "stream",
     "text": [
      "[[20198]]\n",
      "[[20153]]\n",
      "[[20200]]\n",
      "[[20318]]\n",
      "[[20205]]\n",
      "[[20154]]\n",
      "[[20214]]\n",
      "[[20172]]\n",
      "[[20095]]\n",
      "[[20328]]\n",
      "[[20040]]\n",
      "[[20216]]\n",
      "[[20304]]\n",
      "[[20334]]\n",
      "[[20339]]\n",
      "[[20110]]\n",
      "[[20221]]\n",
      "[[20255]]\n",
      "[[20144]]\n"
     ]
    },
    {
     "name": "stderr",
     "output_type": "stream",
     "text": [
      "\r",
      " 30%|████████████████████                                              | 30.34722222222222/100 [01:08<01:12,  1.04s/it]"
     ]
    },
    {
     "name": "stdout",
     "output_type": "stream",
     "text": [
      "[[20248]]\n",
      "[[20389]]\n",
      "[[20290]]\n",
      "[[20361]]\n",
      "[[20393]]\n",
      "[[20268]]\n",
      "[[20011]]\n",
      "[[20236]]\n",
      "[[20329]]\n",
      "[[20135]]\n",
      "[[20294]]\n",
      "[[20204]]\n",
      "[[20170]]\n",
      "[[20005]]\n"
     ]
    },
    {
     "name": "stderr",
     "output_type": "stream",
     "text": [
      "\r",
      " 31%|████████████████████▍                                             | 30.87962962962963/100 [01:08<01:11,  1.03s/it]"
     ]
    },
    {
     "name": "stdout",
     "output_type": "stream",
     "text": [
      "[[20224]]\n",
      "[[20221]]\n",
      "[[20199]]\n",
      "[[20366]]\n",
      "[[20134]]\n",
      "[[20111]]\n",
      "[[20293]]\n",
      "[[20151]]\n",
      "[[20131]]\n",
      "[[20219]]\n",
      "[[20397]]\n",
      "[[20361]]\n",
      "[[20088]]\n",
      "[[20103]]\n"
     ]
    },
    {
     "name": "stderr",
     "output_type": "stream",
     "text": [
      "\r",
      " 31%|████████████████████▍                                            | 31.416666666666668/100 [01:09<01:08,  1.00s/it]"
     ]
    },
    {
     "name": "stdout",
     "output_type": "stream",
     "text": [
      "[[20120]]\n",
      "[[20346]]\n",
      "[[20050]]\n",
      "[[20357]]\n",
      "[[20094]]\n",
      "[[20354]]\n",
      "[[20221]]\n",
      "[[20097]]\n",
      "[[20380]]\n",
      "[[20178]]\n",
      "[[20301]]\n",
      "[[20007]]\n",
      "[[20174]]\n",
      "[[20285]]\n",
      "[[20126]]\n",
      "[[20269]]\n",
      "[[20073]]\n",
      "[[20064]]\n",
      "[[20177]]\n",
      "[[20077]]\n",
      "[[20370]]\n",
      "[[20400]]\n"
     ]
    },
    {
     "name": "stderr",
     "output_type": "stream",
     "text": [
      "\r",
      " 32%|████████████████████▊                                            | 31.958333333333336/100 [01:09<01:05,  1.03it/s]"
     ]
    },
    {
     "name": "stdout",
     "output_type": "stream",
     "text": [
      "[[20324]]\n",
      "[[20065]]\n",
      "[[20234]]\n",
      "[[20373]]\n",
      "[[20162]]\n",
      "[[20344]]\n",
      "[[20045]]\n",
      "[[20109]]\n",
      "[[20106]]\n",
      "[[20270]]\n",
      "[[20137]]\n",
      "[[20400]]\n",
      "[[20204]]\n",
      "[[20252]]\n"
     ]
    },
    {
     "name": "stderr",
     "output_type": "stream",
     "text": [
      "\r",
      " 33%|█████████████████████▍                                            | 32.50462962962963/100 [01:10<01:04,  1.04it/s]"
     ]
    },
    {
     "name": "stdout",
     "output_type": "stream",
     "text": [
      "[[20224]]\n",
      "[[20280]]\n",
      "[[20230]]\n",
      "[[20118]]\n",
      "[[20354]]\n",
      "[[20400]]\n",
      "[[20030]]\n",
      "[[20343]]\n",
      "[[20078]]\n",
      "[[20194]]\n",
      "[[20065]]\n",
      "[[20259]]\n",
      "[[20265]]\n"
     ]
    },
    {
     "name": "stderr",
     "output_type": "stream",
     "text": [
      "\r",
      " 33%|█████████████████████▊                                            | 33.05555555555556/100 [01:10<01:04,  1.04it/s]"
     ]
    },
    {
     "name": "stdout",
     "output_type": "stream",
     "text": [
      "[[20258]]\n",
      "[[20326]]\n",
      "[[20353]]\n",
      "[[20257]]\n",
      "[[20347]]\n",
      "[[20387]]\n",
      "[[20371]]\n",
      "[[20010]]\n",
      "[[20017]]\n",
      "[[20347]]\n",
      "[[20343]]\n",
      "[[20273]]\n",
      "[[20302]]\n",
      "[[20226]]\n",
      "[[20226]]\n",
      "[[20103]]\n",
      "[[20258]]\n",
      "[[20393]]\n",
      "[[20097]]\n",
      "[[20331]]\n"
     ]
    },
    {
     "name": "stderr",
     "output_type": "stream",
     "text": [
      "\r",
      " 34%|█████████████████████▊                                           | 33.611111111111114/100 [01:11<01:03,  1.05it/s]"
     ]
    },
    {
     "name": "stdout",
     "output_type": "stream",
     "text": [
      "[[20386]]\n",
      "[[20159]]\n",
      "[[20200]]\n",
      "[[20287]]\n",
      "[[20323]]\n",
      "[[20329]]\n",
      "[[20353]]\n",
      "[[20013]]\n",
      "[[20048]]\n",
      "[[20054]]\n",
      "[[20043]]\n",
      "[[20043]]\n",
      "[[20390]]\n",
      "[[20153]]"
     ]
    },
    {
     "name": "stderr",
     "output_type": "stream",
     "text": [
      "\r",
      " 34%|██████████████████████▉                                            | 34.1712962962963/100 [01:11<01:04,  1.02it/s]"
     ]
    },
    {
     "name": "stdout",
     "output_type": "stream",
     "text": [
      "\n",
      "[[20299]]\n",
      "[[20211]]\n",
      "[[20058]]\n",
      "[[20070]]\n",
      "[[20288]]\n",
      "[[20345]]\n",
      "[[20206]]\n",
      "[[20220]]\n",
      "[[20107]]\n",
      "[[20311]]\n",
      "[[20155]]\n",
      "[[20099]]\n",
      "[[20319]]\n",
      "[[20272]]\n",
      "[[20058]]\n",
      "[[20307]]\n",
      "[[20124]]\n"
     ]
    },
    {
     "name": "stderr",
     "output_type": "stream",
     "text": [
      "\r",
      " 35%|██████████████████████▌                                          | 34.736111111111114/100 [01:12<01:05,  1.00s/it]"
     ]
    },
    {
     "name": "stdout",
     "output_type": "stream",
     "text": [
      "[[20222]]\n",
      "[[20154]]\n",
      "[[20060]]\n",
      "[[20282]]\n",
      "[[20061]]\n",
      "[[20399]]\n",
      "[[20339]]\n",
      "[[20310]]\n",
      "[[20063]]\n",
      "[[20095]]\n",
      "[[20250]]\n",
      "[[20049]]\n",
      "[[20219]]\n",
      "[[20131]]\n",
      "[[20355]]\n",
      "[[20330]]\n",
      "[[20294]]\n",
      "[[20245]]\n"
     ]
    },
    {
     "name": "stderr",
     "output_type": "stream",
     "text": [
      "\r",
      " 35%|███████████████████████▎                                          | 35.30555555555556/100 [01:12<01:03,  1.03it/s]"
     ]
    },
    {
     "name": "stdout",
     "output_type": "stream",
     "text": [
      "[[20132]]\n",
      "[[20276]]\n",
      "[[20214]]\n",
      "[[20244]]\n",
      "[[20159]]\n",
      "[[20003]]\n",
      "[[20284]]\n",
      "[[20041]]\n",
      "[[20250]]\n",
      "[[20346]]\n",
      "[[20198]]\n",
      "[[20300]]\n"
     ]
    },
    {
     "name": "stderr",
     "output_type": "stream",
     "text": [
      "\r",
      " 36%|███████████████████████▋                                          | 35.87962962962963/100 [01:13<01:02,  1.02it/s]"
     ]
    },
    {
     "name": "stdout",
     "output_type": "stream",
     "text": [
      "[[20200]]\n",
      "[[20153]]\n",
      "[[20315]]\n",
      "[[20222]]\n",
      "[[20144]]\n",
      "[[20036]]\n",
      "[[20280]]\n",
      "[[20324]]\n",
      "[[20131]]\n",
      "[[20289]]\n",
      "[[20298]]\n",
      "[[20148]]\n",
      "[[20386]]\n",
      "[[20262]]\n",
      "[[20011]]\n",
      "[[20197]]\n",
      "[[20049]]\n",
      "[[20126]]\n",
      "[[20215]]\n",
      "[[20329]]\n"
     ]
    },
    {
     "name": "stderr",
     "output_type": "stream",
     "text": [
      "\r",
      " 36%|███████████████████████▋                                         | 36.458333333333336/100 [01:14<01:00,  1.04it/s]"
     ]
    },
    {
     "name": "stdout",
     "output_type": "stream",
     "text": [
      "[[20201]]\n",
      "[[20066]]\n",
      "[[20270]]\n",
      "[[20144]]\n",
      "[[20016]]\n",
      "[[20047]]\n",
      "[[20026]]\n",
      "[[20245]]\n",
      "[[20223]]\n",
      "[[20071]]\n",
      "[[20317]]\n",
      "[[20210]]\n",
      "[[20040]]\n",
      "[[20018]]\n"
     ]
    },
    {
     "name": "stderr",
     "output_type": "stream",
     "text": [
      "\r",
      " 37%|████████████████████████▍                                         | 37.04166666666667/100 [01:14<01:01,  1.02it/s]"
     ]
    },
    {
     "name": "stdout",
     "output_type": "stream",
     "text": [
      "[[20281]]\n",
      "[[20085]]\n",
      "[[20346]]\n",
      "[[20397]]\n",
      "[[20366]]\n",
      "[[20016]]\n",
      "[[20042]]\n",
      "[[20305]]\n",
      "[[20088]]\n",
      "[[20023]]\n",
      "[[20364]]\n",
      "[[20326]]\n",
      "[[20200]]\n",
      "[[20138]]\n"
     ]
    },
    {
     "name": "stderr",
     "output_type": "stream",
     "text": [
      "\r",
      " 38%|████████████████████████▊                                         | 37.62962962962963/100 [01:15<01:00,  1.02it/s]"
     ]
    },
    {
     "name": "stdout",
     "output_type": "stream",
     "text": [
      "[[20132]]\n",
      "[[20260]]\n",
      "[[20342]]\n",
      "[[20118]]\n",
      "[[20260]]\n",
      "[[20216]]\n",
      "[[20223]]\n",
      "[[20135]]\n",
      "[[20129]]\n",
      "[[20162]]\n",
      "[[20209]]\n",
      "[[20071]]\n",
      "[[20154]]\n",
      "[[20062]]\n",
      "[[20170]]\n",
      "[[20020]]\n",
      "[[20328]]\n",
      "[[20103]]\n",
      "[[20058]]\n",
      "[[20016]]\n"
     ]
    },
    {
     "name": "stderr",
     "output_type": "stream",
     "text": [
      "\r",
      " 38%|█████████████████████████▏                                        | 38.22222222222223/100 [01:15<00:58,  1.06it/s]"
     ]
    },
    {
     "name": "stdout",
     "output_type": "stream",
     "text": [
      "[[20298]]\n",
      "[[20317]]\n",
      "[[20266]]\n",
      "[[20391]]\n",
      "[[20326]]\n",
      "[[20334]]\n",
      "[[20045]]\n",
      "[[20383]]\n",
      "[[20321]]\n",
      "[[20149]]\n",
      "[[20030]]\n"
     ]
    },
    {
     "name": "stderr",
     "output_type": "stream",
     "text": [
      "\r",
      " 39%|█████████████████████████▌                                        | 38.81944444444445/100 [01:16<00:58,  1.05it/s]"
     ]
    },
    {
     "name": "stdout",
     "output_type": "stream",
     "text": [
      "[[20006]]\n",
      "[[20284]]\n",
      "[[20245]]\n",
      "[[20345]]\n",
      "[[20392]]\n",
      "[[20128]]\n",
      "[[20358]]\n",
      "[[20339]]\n",
      "[[20012]]\n",
      "[[20256]]\n",
      "[[20013]]\n",
      "[[20234]]\n",
      "[[20007]]\n",
      "[[20037]]\n",
      "[[20141]]\n",
      "[[20328]]\n",
      "[[20017]]\n",
      "[[20354]]\n",
      "[[20084]]\n"
     ]
    },
    {
     "name": "stderr",
     "output_type": "stream",
     "text": [
      "\r",
      " 39%|█████████████████████████▌                                       | 39.421296296296305/100 [01:16<00:57,  1.06it/s]"
     ]
    },
    {
     "name": "stdout",
     "output_type": "stream",
     "text": [
      "[[20025]]\n",
      "[[20139]]\n",
      "[[20183]]\n",
      "[[20105]]\n",
      "[[20356]]\n",
      "[[20020]]\n",
      "[[20169]]\n",
      "[[20115]]\n",
      "[[20247]]\n",
      "[[20295]]\n",
      "[[20358]]\n",
      "[[20329]]\n",
      "[[20206]]\n",
      "[[20187]]\n"
     ]
    },
    {
     "name": "stderr",
     "output_type": "stream",
     "text": [
      "\r",
      " 40%|██████████████████████████                                       | 40.027777777777786/100 [01:17<00:55,  1.08it/s]"
     ]
    },
    {
     "name": "stdout",
     "output_type": "stream",
     "text": [
      "[[20244]]\n",
      "[[20163]]\n",
      "[[20080]]\n",
      "[[20080]]\n",
      "[[20308]]\n",
      "[[20383]]\n",
      "[[20253]]\n",
      "[[20072]]\n",
      "[[20151]]\n",
      "[[20054]]\n",
      "[[20298]]\n",
      "[[20382]]\n",
      "[[20246]]\n",
      "[[20012]]\n",
      "[[20133]]\n",
      "[[20023]]\n",
      "[[20257]]\n",
      "[[20054]]\n"
     ]
    },
    {
     "name": "stderr",
     "output_type": "stream",
     "text": [
      "\r",
      " 41%|███████████████████████████▏                                       | 40.6388888888889/100 [01:18<00:56,  1.06it/s]"
     ]
    },
    {
     "name": "stdout",
     "output_type": "stream",
     "text": [
      "[[20340]]\n",
      "[[20347]]\n",
      "[[20240]]\n",
      "[[20290]]\n",
      "[[20343]]\n",
      "[[20007]]\n",
      "[[20052]]\n",
      "[[20284]]\n",
      "[[20248]]\n",
      "[[20088]]\n",
      "[[20027]]\n",
      "[[20069]]\n",
      "[[20251]]\n",
      "[[20137]]\n"
     ]
    },
    {
     "name": "stderr",
     "output_type": "stream",
     "text": [
      "\r",
      " 41%|███████████████████████████▏                                      | 41.25462962962964/100 [01:18<00:52,  1.12it/s]"
     ]
    },
    {
     "name": "stdout",
     "output_type": "stream",
     "text": [
      "[[20129]]\n",
      "[[20148]]\n",
      "[[20265]]\n",
      "[[20322]]\n",
      "[[20324]]\n",
      "[[20212]]\n",
      "[[20245]]\n",
      "[[20320]]\n",
      "[[20361]]\n",
      "[[20059]]\n",
      "[[20253]]\n",
      "[[20162]]\n",
      "[[20102]]\n",
      "[[20056]]\n"
     ]
    },
    {
     "name": "stderr",
     "output_type": "stream",
     "text": [
      "\r",
      " 42%|███████████████████████████▏                                     | 41.875000000000014/100 [01:19<00:51,  1.14it/s]"
     ]
    },
    {
     "name": "stdout",
     "output_type": "stream",
     "text": [
      "[[20343]]\n",
      "[[20027]]\n",
      "[[20172]]\n",
      "[[20230]]\n",
      "[[20122]]\n",
      "[[20220]]\n",
      "[[20091]]\n",
      "[[20126]]\n",
      "[[20045]]\n",
      "[[20324]]\n",
      "[[20055]]\n",
      "[[20115]]\n",
      "[[20316]]\n",
      "[[20359]]\n",
      "[[20317]]\n",
      "[[20299]]\n",
      "[[20247]]\n",
      "[[20145]]\n",
      "[[20344]]\n",
      "[[20092]]\n"
     ]
    },
    {
     "name": "stderr",
     "output_type": "stream",
     "text": [
      "\r",
      " 43%|███████████████████████████▋                                     | 42.500000000000014/100 [01:19<00:49,  1.17it/s]"
     ]
    },
    {
     "name": "stdout",
     "output_type": "stream",
     "text": [
      "[[20346]]\n",
      "[[20093]]\n",
      "[[20101]]\n",
      "[[20218]]\n",
      "[[20395]]\n",
      "[[20023]]\n",
      "[[20034]]\n",
      "[[20211]]\n",
      "[[20172]]\n",
      "[[20039]]\n",
      "[[20105]]\n",
      "[[20358]]\n",
      "[[20094]]\n",
      "[[20060]]\n",
      "[[20051]]\n"
     ]
    },
    {
     "name": "stderr",
     "output_type": "stream",
     "text": [
      "\r",
      " 43%|████████████████████████████▍                                     | 43.12962962962964/100 [01:20<00:47,  1.21it/s]"
     ]
    },
    {
     "name": "stdout",
     "output_type": "stream",
     "text": [
      "[[20374]]\n",
      "[[20033]]\n",
      "[[20020]]\n",
      "[[20024]]\n",
      "[[20136]]\n",
      "[[20367]]\n",
      "[[20160]]\n",
      "[[20174]]\n",
      "[[20379]]\n",
      "[[20336]]\n",
      "[[20215]]\n",
      "[[20338]]\n",
      "[[20278]]\n"
     ]
    },
    {
     "name": "stderr",
     "output_type": "stream",
     "text": [
      "\r",
      " 44%|█████████████████████████████▎                                     | 43.7638888888889/100 [01:20<00:48,  1.16it/s]"
     ]
    },
    {
     "name": "stdout",
     "output_type": "stream",
     "text": [
      "[[20160]]\n",
      "[[20105]]\n",
      "[[20003]]\n",
      "[[20211]]\n",
      "[[20383]]\n",
      "[[20160]]\n",
      "[[20097]]\n",
      "[[20235]]\n",
      "[[20103]]\n",
      "[[20275]]\n",
      "[[20379]]\n",
      "[[20175]]\n",
      "[[20357]]\n",
      "[[20004]]\n",
      "[[20377]]\n",
      "[[20242]]\n",
      "[[20315]]\n"
     ]
    },
    {
     "name": "stderr",
     "output_type": "stream",
     "text": [
      "\r",
      " 44%|████████████████████████████▊                                    | 44.402777777777786/100 [01:21<00:51,  1.09it/s]"
     ]
    },
    {
     "name": "stdout",
     "output_type": "stream",
     "text": [
      "[[20232]]\n",
      "[[20058]]\n",
      "[[20090]]\n",
      "[[20154]]\n",
      "[[20003]]\n",
      "[[20168]]\n",
      "[[20034]]\n",
      "[[20265]]\n",
      "[[20343]]\n",
      "[[20027]]\n",
      "[[20325]]\n",
      "[[20266]]\n",
      "[[20278]]\n",
      "[[20322]]\n",
      "[[20213]]\n",
      "[[20275]]\n",
      "[[20058]]\n",
      "[[20277]]\n",
      "[[20292]]\n",
      "[[20312]]\n",
      "[[20013]]\n"
     ]
    },
    {
     "name": "stderr",
     "output_type": "stream",
     "text": [
      "\r",
      " 45%|█████████████████████████████▎                                   | 45.046296296296305/100 [01:21<00:48,  1.14it/s]"
     ]
    },
    {
     "name": "stdout",
     "output_type": "stream",
     "text": [
      "[[20348]]\n",
      "[[20181]]\n",
      "[[20142]]\n",
      "[[20024]]\n",
      "[[20244]]\n",
      "[[20314]]\n",
      "[[20322]]\n",
      "[[20209]]\n",
      "[[20122]]\n",
      "[[20351]]\n",
      "[[20292]]\n",
      "[[20383]]\n",
      "[[20371]]\n",
      "[[20217]]\n"
     ]
    },
    {
     "name": "stderr",
     "output_type": "stream",
     "text": [
      "\r",
      " 46%|██████████████████████████████▏                                   | 45.69444444444445/100 [01:22<00:46,  1.17it/s]"
     ]
    },
    {
     "name": "stdout",
     "output_type": "stream",
     "text": [
      "[[20058]]\n",
      "[[20186]]\n",
      "[[20095]]\n",
      "[[20259]]\n",
      "[[20284]]\n",
      "[[20035]]\n",
      "[[20222]]\n",
      "[[20380]]\n",
      "[[20025]]\n",
      "[[20111]]\n",
      "[[20059]]\n",
      "[[20394]]\n",
      "[[20249]]\n"
     ]
    },
    {
     "name": "stderr",
     "output_type": "stream",
     "text": [
      "\r",
      " 46%|██████████████████████████████▌                                   | 46.34722222222223/100 [01:22<00:45,  1.17it/s]"
     ]
    },
    {
     "name": "stdout",
     "output_type": "stream",
     "text": [
      "[[20118]]\n",
      "[[20370]]\n",
      "[[20148]]\n",
      "[[20279]]\n",
      "[[20088]]\n",
      "[[20063]]\n",
      "[[20097]]\n",
      "[[20210]]\n",
      "[[20362]]\n",
      "[[20044]]\n",
      "[[20362]]\n",
      "[[20178]]\n",
      "[[20033]]\n",
      "[[20314]]\n",
      "[[20070]]\n",
      "[[20391]]\n",
      "[[20311]]\n",
      "[[20349]]\n",
      "[[20085]]\n",
      "[[20184]]\n",
      "[[20003]]\n"
     ]
    },
    {
     "name": "stderr",
     "output_type": "stream",
     "text": [
      "\r",
      " 47%|███████████████████████████████                                   | 47.00462962962963/100 [01:23<00:44,  1.20it/s]"
     ]
    },
    {
     "name": "stdout",
     "output_type": "stream",
     "text": [
      "[[20301]]\n",
      "[[20047]]\n",
      "[[20163]]\n",
      "[[20125]]\n",
      "[[20398]]\n",
      "[[20016]]\n",
      "[[20102]]\n",
      "[[20077]]\n",
      "[[20100]]\n",
      "[[20062]]\n",
      "[[20249]]\n",
      "[[20355]]\n",
      "[[20377]]\n",
      "[[20079]]\n"
     ]
    },
    {
     "name": "stderr",
     "output_type": "stream",
     "text": [
      "\r",
      " 48%|███████████████████████████████▍                                  | 47.66666666666667/100 [01:23<00:41,  1.26it/s]"
     ]
    },
    {
     "name": "stdout",
     "output_type": "stream",
     "text": [
      "[[20313]]\n",
      "[[20259]]\n",
      "[[20264]]\n",
      "[[20365]]\n",
      "[[20183]]\n",
      "[[20370]]\n",
      "[[20267]]\n",
      "[[20061]]\n",
      "[[20256]]\n",
      "[[20229]]\n",
      "[[20170]]\n",
      "[[20378]]\n",
      "[[20217]]\n",
      "[[20232]]\n",
      "[[20216]]\n"
     ]
    },
    {
     "name": "stderr",
     "output_type": "stream",
     "text": [
      "\r",
      " 48%|███████████████████████████████▍                                 | 48.333333333333336/100 [01:24<00:41,  1.25it/s]"
     ]
    },
    {
     "name": "stdout",
     "output_type": "stream",
     "text": [
      "[[20103]]\n",
      "[[20160]]\n",
      "[[20141]]\n",
      "[[20016]]\n",
      "[[20319]]\n",
      "[[20080]]\n",
      "[[20029]]\n",
      "[[20157]]\n",
      "[[20237]]\n",
      "[[20029]]\n",
      "[[20080]]\n",
      "[[20063]]\n",
      "[[20259]]\n",
      "[[20183]]\n",
      "[[20243]]\n",
      "[[20280]]\n",
      "[[20178]]\n",
      "[[20275]]\n",
      "[[20160]]\n"
     ]
    },
    {
     "name": "stderr",
     "output_type": "stream",
     "text": [
      "\r",
      " 49%|████████████████████████████████▎                                 | 49.00462962962963/100 [01:24<00:40,  1.27it/s]"
     ]
    },
    {
     "name": "stdout",
     "output_type": "stream",
     "text": [
      "[[20335]]\n",
      "[[20238]]\n",
      "[[20081]]\n",
      "[[20381]]\n",
      "[[20351]]\n",
      "[[20158]]\n",
      "[[20396]]\n",
      "[[20075]]\n",
      "[[20359]]\n",
      "[[20231]]\n",
      "[[20178]]\n",
      "[[20252]]\n",
      "[[20284]]\n",
      "[[20021]]\n"
     ]
    },
    {
     "name": "stderr",
     "output_type": "stream",
     "text": [
      "\r",
      " 50%|████████████████████████████████▊                                 | 49.68055555555556/100 [01:25<00:39,  1.26it/s]"
     ]
    },
    {
     "name": "stdout",
     "output_type": "stream",
     "text": [
      "[[20115]]\n",
      "[[20105]]\n",
      "[[20164]]\n",
      "[[20359]]\n",
      "[[20285]]\n",
      "[[20292]]\n",
      "[[20359]]\n",
      "[[20158]]\n",
      "[[20160]]\n",
      "[[20363]]\n",
      "[[20124]]\n",
      "[[20156]]\n",
      "[[20229]]\n",
      "[[20142]]\n"
     ]
    },
    {
     "name": "stderr",
     "output_type": "stream",
     "text": [
      "\r",
      " 50%|████████████████████████████████▋                                | 50.361111111111114/100 [01:25<00:38,  1.28it/s]"
     ]
    },
    {
     "name": "stdout",
     "output_type": "stream",
     "text": [
      "[[20294]]\n",
      "[[20299]]\n",
      "[[20296]]\n",
      "[[20297]]\n",
      "[[20057]]\n",
      "[[20081]]\n",
      "[[20110]]\n",
      "[[20273]]\n",
      "[[20365]]\n",
      "[[20148]]\n",
      "[[20208]]\n",
      "[[20045]]\n",
      "[[20364]]\n",
      "[[20082]]\n",
      "[[20208]]\n",
      "[[20263]]\n",
      "[[20176]]\n",
      "[[20276]]\n",
      "[[20037]]\n",
      "[[20033]]\n"
     ]
    },
    {
     "name": "stderr",
     "output_type": "stream",
     "text": [
      "\r",
      " 51%|██████████████████████████████████▏                                | 51.0462962962963/100 [01:26<00:38,  1.29it/s]"
     ]
    },
    {
     "name": "stdout",
     "output_type": "stream",
     "text": [
      "[[20031]]\n",
      "[[20012]]\n",
      "[[20143]]\n",
      "[[20124]]\n",
      "[[20280]]\n",
      "[[20058]]\n",
      "[[20159]]\n",
      "[[20028]]\n",
      "[[20271]]\n",
      "[[20291]]\n",
      "[[20080]]\n",
      "[[20279]]\n",
      "[[20247]]\n",
      "[[20263]]\n",
      "[[20219]]\n",
      "[[20040]]\n"
     ]
    },
    {
     "name": "stderr",
     "output_type": "stream",
     "text": [
      "\r",
      " 52%|█████████████████████████████████▋                               | 51.736111111111114/100 [01:26<00:35,  1.38it/s]"
     ]
    },
    {
     "name": "stdout",
     "output_type": "stream",
     "text": [
      "[[20219]]\n",
      "[[20021]]\n",
      "[[20391]]\n",
      "[[20187]]\n",
      "[[20389]]\n",
      "[[20292]]\n",
      "[[20213]]\n",
      "[[20273]]\n",
      "[[20278]]\n",
      "[[20150]]\n",
      "[[20156]]\n",
      "[[20021]]\n",
      "[[20325]]\n",
      "[[20069]]\n",
      "[[20025]]\n",
      "[[20125]]\n"
     ]
    },
    {
     "name": "stderr",
     "output_type": "stream",
     "text": [
      "\r",
      " 52%|██████████████████████████████████▌                               | 52.43055555555556/100 [01:27<00:33,  1.43it/s]"
     ]
    },
    {
     "name": "stdout",
     "output_type": "stream",
     "text": [
      "[[20315]]\n",
      "[[20346]]\n",
      "[[20085]]\n",
      "[[20313]]\n",
      "[[20338]]\n",
      "[[20400]]\n",
      "[[20401]]\n",
      "[[20246]]\n",
      "[[20158]]\n",
      "[[20107]]\n",
      "[[20120]]\n",
      "[[20337]]\n",
      "[[20010]]\n",
      "[[20151]]\n",
      "[[20038]]\n",
      "[[20272]]\n"
     ]
    },
    {
     "name": "stderr",
     "output_type": "stream",
     "text": [
      "\r",
      " 53%|███████████████████████████████████                               | 53.12962962962963/100 [01:27<00:31,  1.49it/s]"
     ]
    },
    {
     "name": "stdout",
     "output_type": "stream",
     "text": [
      "[[20023]]\n",
      "[[20086]]\n",
      "[[20130]]\n",
      "[[20195]]\n",
      "[[20005]]\n",
      "[[20177]]\n",
      "[[20204]]\n",
      "[[20243]]\n",
      "[[20304]]\n",
      "[[20161]]\n",
      "[[20141]]\n",
      "[[20338]]\n",
      "[[20378]]\n",
      "[[20250]]\n",
      "[[20400]]\n",
      "[[20022]]\n"
     ]
    },
    {
     "name": "stderr",
     "output_type": "stream",
     "text": [
      "\r",
      " 54%|██████████████████████████████████▉                              | 53.833333333333336/100 [01:28<00:30,  1.54it/s]"
     ]
    },
    {
     "name": "stdout",
     "output_type": "stream",
     "text": [
      "[[20226]]\n",
      "[[20346]]\n",
      "[[20156]]\n",
      "[[20124]]\n",
      "[[20115]]\n",
      "[[20012]]\n",
      "[[20246]]\n",
      "[[20157]]\n",
      "[[20008]]\n",
      "[[20013]]\n",
      "[[20183]]\n",
      "[[20344]]\n",
      "[[20376]]\n",
      "[[20162]]\n",
      "[[20292]]\n"
     ]
    },
    {
     "name": "stderr",
     "output_type": "stream",
     "text": [
      "\r",
      " 55%|███████████████████████████████████▉                              | 54.54166666666667/100 [01:28<00:30,  1.50it/s]"
     ]
    },
    {
     "name": "stdout",
     "output_type": "stream",
     "text": [
      "[[20246]]\n",
      "[[20324]]\n",
      "[[20351]]\n",
      "[[20234]]\n",
      "[[20239]]\n",
      "[[20033]]\n",
      "[[20318]]\n",
      "[[20186]]\n",
      "[[20237]]\n",
      "[[20237]]\n",
      "[[20229]]\n",
      "[[20327]]\n",
      "[[20270]]\n",
      "[[20138]]\n"
     ]
    },
    {
     "name": "stderr",
     "output_type": "stream",
     "text": [
      "\r",
      " 55%|████████████████████████████████████▍                             | 55.25462962962963/100 [01:29<00:31,  1.41it/s]"
     ]
    },
    {
     "name": "stdout",
     "output_type": "stream",
     "text": [
      "[[20005]]\n",
      "[[20108]]\n",
      "[[20138]]\n",
      "[[20094]]\n",
      "[[20309]]\n",
      "[[20150]]\n",
      "[[20349]]\n",
      "[[20048]]\n",
      "[[20291]]\n",
      "[[20253]]\n",
      "[[20359]]\n",
      "[[20074]]\n",
      "[[20215]]\n",
      "[[20362]]\n",
      "[[20313]]\n",
      "[[20387]]\n",
      "[[20080]]\n",
      "[[20362]]\n"
     ]
    },
    {
     "name": "stderr",
     "output_type": "stream",
     "text": [
      "\r",
      " 56%|████████████████████████████████████▉                             | 55.97222222222223/100 [01:29<00:32,  1.35it/s]"
     ]
    },
    {
     "name": "stdout",
     "output_type": "stream",
     "text": [
      "[[20320]]\n",
      "[[20382]]\n",
      "[[20341]]\n",
      "[[20357]]\n",
      "[[20252]]\n",
      "[[20075]]\n",
      "[[20248]]\n",
      "[[20107]]\n",
      "[[20101]]\n",
      "[[20294]]\n",
      "[[20316]]\n",
      "[[20069]]\n",
      "[[20287]]\n"
     ]
    },
    {
     "name": "stderr",
     "output_type": "stream",
     "text": [
      "\r",
      " 57%|█████████████████████████████████████▍                            | 56.69444444444445/100 [01:30<00:32,  1.35it/s]"
     ]
    },
    {
     "name": "stdout",
     "output_type": "stream",
     "text": [
      "[[20193]]\n",
      "[[20034]]\n",
      "[[20324]]\n",
      "[[20343]]\n",
      "[[20051]]\n",
      "[[20124]]\n",
      "[[20230]]\n",
      "[[20190]]\n",
      "[[20306]]\n",
      "[[20078]]\n",
      "[[20292]]\n",
      "[[20399]]\n",
      "[[20007]]\n",
      "[[20260]]\n",
      "[[20278]]\n",
      "[[20071]]\n",
      "[[20030]]\n",
      "[[20111]]\n",
      "[[20272]]\n"
     ]
    },
    {
     "name": "stderr",
     "output_type": "stream",
     "text": [
      "\r",
      " 57%|█████████████████████████████████████▎                           | 57.421296296296305/100 [01:30<00:31,  1.37it/s]"
     ]
    },
    {
     "name": "stdout",
     "output_type": "stream",
     "text": [
      "[[20337]]\n",
      "[[20224]]\n",
      "[[20149]]\n",
      "[[20313]]\n",
      "[[20094]]\n",
      "[[20256]]\n",
      "[[20094]]\n",
      "[[20083]]\n",
      "[[20389]]\n",
      "[[20114]]\n",
      "[[20010]]\n",
      "[[20309]]\n",
      "[[20062]]\n",
      "[[20020]]\n",
      "[[20005]]"
     ]
    },
    {
     "name": "stderr",
     "output_type": "stream",
     "text": [
      "\r",
      " 58%|█████████████████████████████████████▊                           | 58.152777777777786/100 [01:31<00:29,  1.44it/s]"
     ]
    },
    {
     "name": "stdout",
     "output_type": "stream",
     "text": [
      "\n",
      "[[20140]]\n",
      "[[20259]]\n",
      "[[20138]]\n",
      "[[20167]]\n",
      "[[20168]]\n",
      "[[20037]]\n",
      "[[20219]]\n",
      "[[20281]]\n",
      "[[20136]]\n",
      "[[20264]]\n",
      "[[20351]]\n",
      "[[20215]]\n",
      "[[20229]]\n",
      "[[20023]]\n",
      "[[20187]]\n"
     ]
    },
    {
     "name": "stderr",
     "output_type": "stream",
     "text": [
      "\r",
      " 59%|███████████████████████████████████████▍                           | 58.8888888888889/100 [01:31<00:27,  1.52it/s]"
     ]
    },
    {
     "name": "stdout",
     "output_type": "stream",
     "text": [
      "[[20105]]\n",
      "[[20172]]\n",
      "[[20346]]\n",
      "[[20196]]\n",
      "[[20036]]\n",
      "[[20227]]\n",
      "[[20285]]\n",
      "[[20312]]\n",
      "[[20347]]\n",
      "[[20341]]\n",
      "[[20118]]\n",
      "[[20347]]\n",
      "[[20259]]\n",
      "[[20300]]\n",
      "[[20332]]\n"
     ]
    },
    {
     "name": "stderr",
     "output_type": "stream",
     "text": [
      "\r",
      " 60%|███████████████████████████████████████▎                          | 59.62962962962964/100 [01:32<00:26,  1.55it/s]"
     ]
    },
    {
     "name": "stdout",
     "output_type": "stream",
     "text": [
      "[[20307]]\n",
      "[[20350]]\n",
      "[[20364]]\n",
      "[[20366]]\n",
      "[[20210]]\n",
      "[[20177]]\n",
      "[[20044]]\n",
      "[[20143]]\n",
      "[[20330]]\n",
      "[[20172]]\n",
      "[[20069]]\n",
      "[[20001]]\n",
      "[[20264]]\n",
      "[[20310]]\n"
     ]
    },
    {
     "name": "stderr",
     "output_type": "stream",
     "text": [
      "\r",
      " 60%|███████████████████████████████████████▏                         | 60.375000000000014/100 [01:32<00:26,  1.51it/s]"
     ]
    },
    {
     "name": "stdout",
     "output_type": "stream",
     "text": [
      "[[20026]]\n",
      "[[20037]]\n",
      "[[20155]]\n",
      "[[20275]]\n",
      "[[20324]]\n",
      "[[20063]]\n",
      "[[20058]]\n",
      "[[20005]]\n",
      "[[20369]]\n",
      "[[20111]]\n",
      "[[20110]]\n",
      "[[20236]]\n",
      "[[20277]]\n",
      "[[20336]]\n",
      "[[20292]]\n",
      "[[20195]]\n",
      "[[20083]]\n",
      "[[20298]]\n",
      "[[20188]]\n",
      "[[20184]]\n",
      "[[20381]]\n"
     ]
    },
    {
     "name": "stderr",
     "output_type": "stream",
     "text": [
      "\r",
      " 61%|███████████████████████████████████████▋                         | 61.125000000000014/100 [01:33<00:26,  1.49it/s]"
     ]
    },
    {
     "name": "stdout",
     "output_type": "stream",
     "text": [
      "[[20299]]\n",
      "[[20044]]\n",
      "[[20020]]\n",
      "[[20139]]\n",
      "[[20008]]\n",
      "[[20392]]\n",
      "[[20260]]\n",
      "[[20022]]\n",
      "[[20367]]\n",
      "[[20256]]\n",
      "[[20174]]\n",
      "[[20009]]\n",
      "[[20098]]\n"
     ]
    },
    {
     "name": "stderr",
     "output_type": "stream",
     "text": [
      "\r",
      " 62%|████████████████████████████████████████▊                         | 61.87962962962964/100 [01:33<00:27,  1.41it/s]"
     ]
    },
    {
     "name": "stdout",
     "output_type": "stream",
     "text": [
      "[[20158]]\n",
      "[[20263]]\n",
      "[[20314]]\n",
      "[[20010]]\n",
      "[[20331]]\n",
      "[[20056]]\n",
      "[[20255]]\n",
      "[[20221]]\n",
      "[[20394]]\n",
      "[[20186]]\n",
      "[[20087]]\n",
      "[[20121]]\n",
      "[[20314]]\n",
      "[[20138]]\n",
      "[[20193]]\n",
      "[[20244]]\n",
      "[[20042]]\n",
      "[[20395]]\n",
      "[[20303]]\n"
     ]
    },
    {
     "name": "stderr",
     "output_type": "stream",
     "text": [
      "\r",
      " 63%|█████████████████████████████████████████▉                         | 62.6388888888889/100 [01:34<00:26,  1.40it/s]"
     ]
    },
    {
     "name": "stdout",
     "output_type": "stream",
     "text": [
      "[[20061]]\n",
      "[[20184]]\n",
      "[[20286]]\n",
      "[[20400]]\n",
      "[[20311]]\n",
      "[[20258]]\n",
      "[[20249]]\n",
      "[[20379]]\n",
      "[[20276]]\n",
      "[[20117]]\n",
      "[[20228]]\n",
      "[[20117]]\n",
      "[[20220]]\n",
      "[[20286]]\n"
     ]
    },
    {
     "name": "stderr",
     "output_type": "stream",
     "text": [
      "\r",
      " 63%|█████████████████████████████████████████▏                       | 63.402777777777786/100 [01:34<00:25,  1.42it/s]"
     ]
    },
    {
     "name": "stdout",
     "output_type": "stream",
     "text": [
      "[[20100]]\n",
      "[[20220]]\n",
      "[[20198]]\n",
      "[[20382]]\n",
      "[[20269]]\n",
      "[[20307]]\n",
      "[[20250]]\n",
      "[[20179]]\n",
      "[[20321]]\n",
      "[[20299]]\n",
      "[[20397]]\n",
      "[[20083]]\n",
      "[[20253]]\n"
     ]
    },
    {
     "name": "stderr",
     "output_type": "stream",
     "text": [
      "\r",
      " 64%|██████████████████████████████████████████▉                        | 64.1712962962963/100 [01:35<00:24,  1.43it/s]"
     ]
    },
    {
     "name": "stdout",
     "output_type": "stream",
     "text": [
      "[[20365]]\n",
      "[[20238]]\n",
      "[[20368]]\n",
      "[[20203]]\n",
      "[[20197]]\n",
      "[[20181]]\n",
      "[[20357]]\n",
      "[[20377]]\n",
      "[[20074]]\n",
      "[[20102]]\n",
      "[[20082]]\n",
      "[[20293]]\n",
      "[[20377]]\n",
      "[[20251]]\n",
      "[[20018]]\n",
      "[[20258]]\n",
      "[[20015]]\n",
      "[[20224]]\n",
      "[[20219]]\n",
      "[[20180]]\n",
      "[[20026]]\n"
     ]
    },
    {
     "name": "stderr",
     "output_type": "stream",
     "text": [
      "\r",
      " 65%|██████████████████████████████████████████▊                       | 64.94444444444446/100 [01:36<00:24,  1.45it/s]"
     ]
    },
    {
     "name": "stdout",
     "output_type": "stream",
     "text": [
      "[[20399]]\n",
      "[[20052]]\n",
      "[[20241]]\n",
      "[[20021]]\n",
      "[[20070]]\n",
      "[[20265]]\n",
      "[[20134]]\n",
      "[[20127]]\n",
      "[[20262]]\n",
      "[[20165]]\n",
      "[[20172]]\n",
      "[[20090]]\n",
      "[[20272]]\n"
     ]
    },
    {
     "name": "stderr",
     "output_type": "stream",
     "text": [
      "\r",
      " 66%|███████████████████████████████████████████▍                      | 65.72222222222223/100 [01:36<00:23,  1.46it/s]"
     ]
    },
    {
     "name": "stdout",
     "output_type": "stream",
     "text": [
      "[[20068]]\n",
      "[[20200]]\n",
      "[[20204]]\n",
      "[[20322]]\n",
      "[[20175]]\n",
      "[[20003]]\n",
      "[[20137]]\n",
      "[[20151]]\n",
      "[[20052]]\n",
      "[[20332]]\n",
      "[[20294]]\n",
      "[[20357]]\n",
      "[[20258]]\n",
      "[[20261]]\n"
     ]
    },
    {
     "name": "stderr",
     "output_type": "stream",
     "text": [
      "\r",
      " 67%|███████████████████████████████████████████▉                      | 66.50462962962963/100 [01:37<00:22,  1.48it/s]"
     ]
    },
    {
     "name": "stdout",
     "output_type": "stream",
     "text": [
      "[[20207]]\n",
      "[[20295]]\n",
      "[[20296]]\n",
      "[[20384]]\n",
      "[[20187]]\n",
      "[[20146]]\n",
      "[[20046]]\n",
      "[[20363]]\n",
      "[[20329]]\n",
      "[[20183]]\n",
      "[[20044]]\n",
      "[[20349]]\n",
      "[[20306]]\n",
      "[[20017]]\n",
      "[[20168]]\n",
      "[[20375]]\n",
      "[[20028]]\n",
      "[[20067]]\n",
      "[[20086]]\n",
      "[[20048]]\n"
     ]
    },
    {
     "name": "stderr",
     "output_type": "stream",
     "text": [
      "\r",
      " 67%|████████████████████████████████████████████▍                     | 67.29166666666667/100 [01:37<00:22,  1.47it/s]"
     ]
    },
    {
     "name": "stdout",
     "output_type": "stream",
     "text": [
      "[[20237]]\n",
      "[[20048]]\n",
      "[[20248]]\n",
      "[[20233]]\n",
      "[[20277]]\n",
      "[[20294]]\n",
      "[[20367]]\n",
      "[[20269]]\n",
      "[[20120]]\n",
      "[[20325]]\n",
      "[[20152]]\n",
      "[[20400]]\n",
      "[[20310]]\n",
      "[[20083]]\n"
     ]
    },
    {
     "name": "stderr",
     "output_type": "stream",
     "text": [
      "\r",
      " 68%|████████████████████████████████████████████▉                     | 68.08333333333334/100 [01:38<00:21,  1.49it/s]"
     ]
    },
    {
     "name": "stdout",
     "output_type": "stream",
     "text": [
      "[[20069]]\n",
      "[[20156]]\n",
      "[[20073]]\n",
      "[[20233]]\n",
      "[[20079]]\n",
      "[[20385]]\n",
      "[[20077]]\n",
      "[[20154]]\n",
      "[[20123]]\n",
      "[[20049]]\n",
      "[[20080]]\n",
      "[[20019]]\n",
      "[[20309]]\n",
      "[[20305]]\n",
      "[[20353]]\n",
      "[[20002]]\n",
      "[[20180]]\n",
      "[[20172]]\n",
      "[[20322]]\n"
     ]
    },
    {
     "name": "stderr",
     "output_type": "stream",
     "text": [
      "\r",
      " 69%|█████████████████████████████████████████████▍                    | 68.87962962962963/100 [01:38<00:20,  1.48it/s]"
     ]
    },
    {
     "name": "stdout",
     "output_type": "stream",
     "text": [
      "[[20186]]\n",
      "[[20199]]\n",
      "[[20241]]\n",
      "[[20155]]\n",
      "[[20295]]\n",
      "[[20245]]\n",
      "[[20230]]\n",
      "[[20146]]\n",
      "[[20062]]\n",
      "[[20091]]\n",
      "[[20171]]\n",
      "[[20322]]\n",
      "[[20208]]\n"
     ]
    },
    {
     "name": "stderr",
     "output_type": "stream",
     "text": [
      "\r",
      " 70%|█████████████████████████████████████████████▉                    | 69.68055555555556/100 [01:39<00:20,  1.49it/s]"
     ]
    },
    {
     "name": "stdout",
     "output_type": "stream",
     "text": [
      "[[20397]]\n",
      "[[20302]]\n",
      "[[20139]]\n",
      "[[20069]]\n",
      "[[20264]]\n",
      "[[20301]]\n",
      "[[20096]]\n",
      "[[20225]]\n",
      "[[20038]]\n",
      "[[20370]]\n",
      "[[20359]]\n",
      "[[20344]]\n",
      "[[20025]]\n",
      "[[20197]]\n",
      "[[20254]]\n",
      "[[20300]]\n",
      "[[20303]]\n",
      "[[20103]]\n",
      "[[20365]]\n",
      "[[20318]]\n"
     ]
    },
    {
     "name": "stderr",
     "output_type": "stream",
     "text": [
      "\r",
      " 70%|██████████████████████████████████████████████▌                   | 70.48611111111111/100 [01:39<00:19,  1.51it/s]"
     ]
    },
    {
     "name": "stdout",
     "output_type": "stream",
     "text": [
      "[[20081]]\n",
      "[[20222]]\n",
      "[[20021]]\n",
      "[[20210]]\n",
      "[[20317]]\n",
      "[[20283]]\n",
      "[[20011]]\n",
      "[[20294]]\n",
      "[[20222]]\n",
      "[[20367]]\n",
      "[[20351]]\n",
      "[[20320]]\n",
      "[[20123]]\n",
      "[[20159]]\n"
     ]
    },
    {
     "name": "stderr",
     "output_type": "stream",
     "text": [
      "\r",
      " 71%|███████████████████████████████████████████████▊                   | 71.2962962962963/100 [01:40<00:18,  1.53it/s]"
     ]
    },
    {
     "name": "stdout",
     "output_type": "stream",
     "text": [
      "[[20194]]\n",
      "[[20022]]\n",
      "[[20262]]\n",
      "[[20001]]\n",
      "[[20308]]\n",
      "[[20303]]\n",
      "[[20089]]\n",
      "[[20063]]\n",
      "[[20024]]\n",
      "[[20269]]\n",
      "[[20014]]\n",
      "[[20139]]\n",
      "[[20280]]\n",
      "[[20320]]\n"
     ]
    },
    {
     "name": "stderr",
     "output_type": "stream",
     "text": [
      "\r",
      " 72%|███████████████████████████████████████████████▌                  | 72.11111111111111/100 [01:40<00:18,  1.54it/s]"
     ]
    },
    {
     "name": "stdout",
     "output_type": "stream",
     "text": [
      "[[20176]]\n",
      "[[20394]]\n",
      "[[20255]]\n",
      "[[20119]]\n",
      "[[20192]]\n",
      "[[20351]]\n",
      "[[20033]]\n",
      "[[20041]]\n",
      "[[20058]]\n",
      "[[20058]]\n",
      "[[20368]]\n",
      "[[20124]]\n",
      "[[20151]]\n",
      "[[20327]]\n"
     ]
    },
    {
     "name": "stderr",
     "output_type": "stream",
     "text": [
      "\r",
      " 73%|████████████████████████████████████████████████▏                 | 72.93055555555556/100 [01:41<00:17,  1.54it/s]"
     ]
    },
    {
     "name": "stdout",
     "output_type": "stream",
     "text": [
      "[[20020]]\n",
      "[[20327]]\n",
      "[[20097]]\n",
      "[[20360]]\n",
      "[[20104]]\n",
      "[[20109]]\n",
      "[[20084]]\n",
      "[[20093]]\n",
      "[[20339]]\n",
      "[[20351]]\n",
      "[[20356]]\n",
      "[[20339]]\n",
      "[[20245]]\n",
      "[[20017]]\n",
      "[[20070]]\n",
      "[[20075]]\n",
      "[[20143]]\n",
      "[[20181]]\n",
      "[[20075]]\n",
      "[[20359]]\n",
      "[[20250]]"
     ]
    },
    {
     "name": "stderr",
     "output_type": "stream",
     "text": [
      "\r",
      " 74%|████████████████████████████████████████████████▋                 | 73.75462962962963/100 [01:41<00:17,  1.53it/s]"
     ]
    },
    {
     "name": "stdout",
     "output_type": "stream",
     "text": [
      "\n",
      "[[20220]]\n",
      "[[20366]]\n",
      "[[20210]]\n",
      "[[20293]]\n",
      "[[20401]]\n",
      "[[20389]]\n",
      "[[20348]]\n",
      "[[20337]]\n",
      "[[20060]]\n",
      "[[20151]]\n",
      "[[20115]]\n",
      "[[20069]]\n",
      "[[20391]]\n"
     ]
    },
    {
     "name": "stderr",
     "output_type": "stream",
     "text": [
      "\r",
      " 75%|█████████████████████████████████████████████████▏                | 74.58333333333334/100 [01:42<00:16,  1.55it/s]"
     ]
    },
    {
     "name": "stdout",
     "output_type": "stream",
     "text": [
      "[[20298]]\n",
      "[[20288]]\n",
      "[[20013]]\n",
      "[[20259]]\n",
      "[[20326]]\n",
      "[[20295]]\n",
      "[[20328]]\n",
      "[[20051]]\n",
      "[[20289]]\n",
      "[[20151]]\n",
      "[[20261]]\n",
      "[[20367]]\n",
      "[[20357]]\n",
      "[[20014]]\n",
      "[[20310]]\n",
      "[[20181]]\n",
      "[[20004]]\n",
      "[[20092]]\n",
      "[[20168]]\n",
      "[[20064]]\n"
     ]
    },
    {
     "name": "stderr",
     "output_type": "stream",
     "text": [
      "\r",
      " 75%|█████████████████████████████████████████████████▊                | 75.41666666666667/100 [01:42<00:15,  1.55it/s]"
     ]
    },
    {
     "name": "stdout",
     "output_type": "stream",
     "text": [
      "[[20369]]\n",
      "[[20202]]\n",
      "[[20098]]\n",
      "[[20303]]\n",
      "[[20364]]\n",
      "[[20086]]\n",
      "[[20014]]\n",
      "[[20309]]\n",
      "[[20092]]\n",
      "[[20224]]\n",
      "[[20324]]\n",
      "[[20342]]\n",
      "[[20134]]\n",
      "[[20217]]\n"
     ]
    },
    {
     "name": "stderr",
     "output_type": "stream",
     "text": [
      "\r",
      " 76%|██████████████████████████████████████████████████▎               | 76.25462962962963/100 [01:43<00:15,  1.57it/s]"
     ]
    },
    {
     "name": "stdout",
     "output_type": "stream",
     "text": [
      "[[20398]]\n",
      "[[20349]]\n",
      "[[20260]]\n",
      "[[20092]]\n",
      "[[20326]]\n",
      "[[20149]]\n",
      "[[20148]]\n",
      "[[20015]]\n",
      "[[20226]]\n",
      "[[20160]]\n",
      "[[20049]]\n",
      "[[20131]]\n",
      "[[20361]]\n",
      "[[20082]]\n"
     ]
    },
    {
     "name": "stderr",
     "output_type": "stream",
     "text": [
      "\r",
      " 77%|██████████████████████████████████████████████████▉               | 77.09722222222223/100 [01:43<00:14,  1.59it/s]"
     ]
    },
    {
     "name": "stdout",
     "output_type": "stream",
     "text": [
      "[[20377]]\n",
      "[[20051]]\n",
      "[[20341]]\n",
      "[[20359]]\n",
      "[[20179]]\n",
      "[[20090]]\n",
      "[[20255]]\n",
      "[[20225]]\n",
      "[[20251]]\n",
      "[[20170]]\n",
      "[[20008]]\n",
      "[[20347]]\n",
      "[[20057]]\n",
      "[[20108]]\n",
      "[[20118]]\n",
      "[[20274]]\n",
      "[[20226]]\n",
      "[[20385]]\n",
      "[[20244]]\n",
      "[[20316]]\n"
     ]
    },
    {
     "name": "stderr",
     "output_type": "stream",
     "text": [
      "\r",
      " 78%|███████████████████████████████████████████████████▍              | 77.94444444444446/100 [01:44<00:14,  1.52it/s]"
     ]
    },
    {
     "name": "stdout",
     "output_type": "stream",
     "text": [
      "[[20170]]\n",
      "[[20198]]\n",
      "[[20026]]\n",
      "[[20281]]\n",
      "[[20203]]\n",
      "[[20060]]\n",
      "[[20381]]\n",
      "[[20058]]\n",
      "[[20363]]\n",
      "[[20278]]\n",
      "[[20122]]\n",
      "[[20172]]\n",
      "[[20029]]\n",
      "[[20388]]\n"
     ]
    },
    {
     "name": "stderr",
     "output_type": "stream",
     "text": [
      "\r",
      " 79%|████████████████████████████████████████████████████▊              | 78.7962962962963/100 [01:45<00:13,  1.56it/s]"
     ]
    },
    {
     "name": "stdout",
     "output_type": "stream",
     "text": [
      "[[20274]]\n",
      "[[20062]]\n",
      "[[20352]]\n",
      "[[20328]]\n",
      "[[20297]]\n",
      "[[20055]]\n",
      "[[20208]]\n",
      "[[20009]]\n",
      "[[20004]]\n",
      "[[20300]]\n",
      "[[20135]]\n",
      "[[20362]]\n",
      "[[20186]]\n",
      "[[20308]]\n"
     ]
    },
    {
     "name": "stderr",
     "output_type": "stream",
     "text": [
      "\r",
      " 80%|████████████████████████████████████████████████████▌             | 79.65277777777779/100 [01:45<00:12,  1.58it/s]"
     ]
    },
    {
     "name": "stdout",
     "output_type": "stream",
     "text": [
      "[[20021]]\n",
      "[[20253]]\n",
      "[[20011]]\n",
      "[[20274]]\n",
      "[[20389]]\n",
      "[[20201]]\n",
      "[[20284]]\n",
      "[[20107]]\n",
      "[[20330]]\n",
      "[[20260]]\n",
      "[[20240]]\n",
      "[[20106]]\n",
      "[[20339]]\n",
      "[[20185]]\n",
      "[[20300]]\n",
      "[[20142]]\n",
      "[[20007]]\n",
      "[[20192]]\n"
     ]
    },
    {
     "name": "stderr",
     "output_type": "stream",
     "text": [
      "\r",
      " 81%|█████████████████████████████████████████████████████▉             | 80.5138888888889/100 [01:46<00:12,  1.54it/s]"
     ]
    },
    {
     "name": "stdout",
     "output_type": "stream",
     "text": [
      "[[20252]]\n",
      "[[20163]]\n",
      "[[20154]]\n",
      "[[20012]]\n",
      "[[20117]]\n",
      "[[20240]]\n",
      "[[20355]]\n",
      "[[20174]]\n",
      "[[20374]]\n",
      "[[20154]]\n",
      "[[20214]]\n",
      "[[20005]]\n"
     ]
    },
    {
     "name": "stderr",
     "output_type": "stream",
     "text": [
      "\r",
      " 81%|█████████████████████████████████████████████████████▋            | 81.37962962962965/100 [01:46<00:11,  1.56it/s]"
     ]
    },
    {
     "name": "stdout",
     "output_type": "stream",
     "text": [
      "[[20391]]\n",
      "[[20347]]\n",
      "[[20176]]\n",
      "[[20281]]\n",
      "[[20134]]\n",
      "[[20242]]\n",
      "[[20200]]\n",
      "[[20225]]\n",
      "[[20017]]\n",
      "[[20152]]\n",
      "[[20094]]\n",
      "[[20376]]\n",
      "[[20345]]\n",
      "[[20387]]\n",
      "[[20245]]\n",
      "[[20235]]\n",
      "[[20032]]\n",
      "[[20164]]\n",
      "[[20123]]\n",
      "[[20200]]\n"
     ]
    },
    {
     "name": "stderr",
     "output_type": "stream",
     "text": [
      "\r",
      " 82%|██████████████████████████████████████████████████████▎           | 82.25000000000001/100 [01:47<00:11,  1.57it/s]"
     ]
    },
    {
     "name": "stdout",
     "output_type": "stream",
     "text": [
      "[[20033]]\n",
      "[[20351]]\n",
      "[[20123]]\n",
      "[[20314]]\n",
      "[[20374]]\n",
      "[[20236]]\n",
      "[[20087]]\n",
      "[[20113]]\n",
      "[[20225]]\n",
      "[[20351]]\n",
      "[[20101]]\n",
      "[[20122]]\n",
      "[[20292]]\n"
     ]
    },
    {
     "name": "stderr",
     "output_type": "stream",
     "text": [
      "\r",
      " 83%|██████████████████████████████████████████████████████▊           | 83.12500000000001/100 [01:47<00:10,  1.59it/s]"
     ]
    },
    {
     "name": "stdout",
     "output_type": "stream",
     "text": [
      "[[20348]]\n",
      "[[20093]]\n",
      "[[20077]]\n",
      "[[20180]]\n",
      "[[20357]]\n",
      "[[20231]]\n",
      "[[20013]]\n",
      "[[20399]]\n",
      "[[20025]]\n",
      "[[20249]]\n",
      "[[20104]]\n",
      "[[20069]]\n",
      "[[20047]]\n",
      "[[20094]]\n",
      "[[20199]]\n",
      "[[20385]]\n",
      "[[20021]]\n",
      "[[20033]]\n",
      "[[20136]]\n",
      "[[20113]]\n"
     ]
    },
    {
     "name": "stderr",
     "output_type": "stream",
     "text": [
      "\r",
      " 84%|███████████████████████████████████████████████████████▍          | 84.00462962962965/100 [01:48<00:09,  1.62it/s]"
     ]
    },
    {
     "name": "stdout",
     "output_type": "stream",
     "text": [
      "[[20207]]\n",
      "[[20197]]\n",
      "[[20166]]\n",
      "[[20371]]\n",
      "[[20241]]\n",
      "[[20118]]\n",
      "[[20191]]\n",
      "[[20162]]\n",
      "[[20382]]\n",
      "[[20220]]\n",
      "[[20335]]\n",
      "[[20319]]\n",
      "[[20322]]\n",
      "[[20238]]\n"
     ]
    },
    {
     "name": "stderr",
     "output_type": "stream",
     "text": [
      "\r",
      " 85%|████████████████████████████████████████████████████████▉          | 84.8888888888889/100 [01:48<00:09,  1.63it/s]"
     ]
    },
    {
     "name": "stdout",
     "output_type": "stream",
     "text": [
      "[[20349]]\n",
      "[[20128]]\n",
      "[[20377]]\n",
      "[[20108]]\n",
      "[[20378]]\n",
      "[[20289]]\n",
      "[[20052]]\n",
      "[[20311]]\n",
      "[[20190]]\n",
      "[[20071]]\n",
      "[[20012]]\n",
      "[[20018]]\n",
      "[[20183]]\n"
     ]
    },
    {
     "name": "stderr",
     "output_type": "stream",
     "text": [
      "\r",
      " 86%|████████████████████████████████████████████████████████▌         | 85.77777777777779/100 [01:49<00:08,  1.67it/s]"
     ]
    },
    {
     "name": "stdout",
     "output_type": "stream",
     "text": [
      "[[20346]]\n",
      "[[20055]]\n",
      "[[20007]]\n",
      "[[20086]]\n",
      "[[20328]]\n",
      "[[20320]]\n",
      "[[20313]]\n",
      "[[20264]]\n",
      "[[20120]]\n",
      "[[20314]]\n",
      "[[20370]]\n",
      "[[20338]]\n",
      "[[20098]]\n",
      "[[20201]]\n",
      "[[20010]]\n",
      "[[20031]]\n",
      "[[20013]]\n",
      "[[20143]]\n",
      "[[20287]]\n",
      "[[20165]]\n",
      "[[20073]]\n",
      "[[20120]]\n"
     ]
    },
    {
     "name": "stderr",
     "output_type": "stream",
     "text": [
      "\r",
      " 87%|██████████████████████████████████████████████████████████         | 86.6712962962963/100 [01:49<00:07,  1.74it/s]"
     ]
    },
    {
     "name": "stdout",
     "output_type": "stream",
     "text": [
      "[[20074]]\n",
      "[[20299]]\n",
      "[[20055]]\n",
      "[[20024]]\n",
      "[[20211]]\n",
      "[[20145]]\n",
      "[[20324]]\n",
      "[[20065]]\n",
      "[[20361]]\n",
      "[[20054]]\n",
      "[[20013]]\n",
      "[[20074]]\n"
     ]
    },
    {
     "name": "stderr",
     "output_type": "stream",
     "text": [
      "\r",
      " 88%|█████████████████████████████████████████████████████████▊        | 87.56944444444446/100 [01:50<00:07,  1.65it/s]"
     ]
    },
    {
     "name": "stdout",
     "output_type": "stream",
     "text": [
      "[[20328]]\n",
      "[[20101]]\n",
      "[[20229]]\n",
      "[[20140]]\n",
      "[[20217]]\n",
      "[[20330]]\n",
      "[[20234]]\n",
      "[[20078]]\n",
      "[[20072]]\n",
      "[[20328]]\n",
      "[[20191]]\n",
      "[[20063]]\n",
      "[[20203]]\n",
      "[[20294]]\n"
     ]
    },
    {
     "name": "stderr",
     "output_type": "stream",
     "text": [
      "\r",
      " 88%|██████████████████████████████████████████████████████████▍       | 88.47222222222223/100 [01:50<00:06,  1.69it/s]"
     ]
    },
    {
     "name": "stdout",
     "output_type": "stream",
     "text": [
      "[[20163]]\n",
      "[[20113]]\n",
      "[[20228]]\n",
      "[[20274]]\n",
      "[[20303]]\n",
      "[[20290]]\n",
      "[[20191]]\n",
      "[[20267]]\n",
      "[[20349]]\n",
      "[[20374]]\n",
      "[[20379]]\n",
      "[[20043]]\n",
      "[[20062]]\n",
      "[[20224]]\n",
      "[[20321]]\n"
     ]
    },
    {
     "name": "stderr",
     "output_type": "stream",
     "text": [
      "\r",
      " 89%|██████████████████████████████████████████████████████████▉       | 89.37962962962963/100 [01:51<00:05,  1.79it/s]"
     ]
    },
    {
     "name": "stdout",
     "output_type": "stream",
     "text": [
      "[[20359]]\n",
      "[[20030]]\n",
      "[[20350]]\n",
      "[[20330]]\n",
      "[[20156]]\n",
      "[[20221]]\n",
      "[[20270]]\n",
      "[[20181]]\n",
      "[[20114]]\n",
      "[[20381]]\n",
      "[[20394]]\n",
      "[[20292]]\n",
      "[[20239]]\n",
      "[[20110]]\n",
      "[[20054]]\n",
      "[[20080]]\n",
      "[[20241]]\n",
      "[[20196]]\n",
      "[[20143]]\n",
      "[[20093]]\n",
      "[[20192]]\n",
      "[[20278]]\n",
      "[[20380]]\n",
      "[[20269]]\n"
     ]
    },
    {
     "name": "stderr",
     "output_type": "stream",
     "text": [
      "\r",
      " 90%|███████████████████████████████████████████████████████████▌      | 90.29166666666667/100 [01:51<00:05,  1.86it/s]"
     ]
    },
    {
     "name": "stdout",
     "output_type": "stream",
     "text": [
      "[[20394]]\n",
      "[[20096]]\n",
      "[[20206]]\n",
      "[[20095]]\n",
      "[[20360]]\n",
      "[[20195]]\n",
      "[[20132]]\n",
      "[[20216]]\n"
     ]
    },
    {
     "name": "stderr",
     "output_type": "stream",
     "text": [
      "\r",
      " 91%|████████████████████████████████████████████████████████████▏     | 91.20833333333334/100 [01:52<00:04,  1.94it/s]"
     ]
    },
    {
     "name": "stdout",
     "output_type": "stream",
     "text": [
      "[[20229]]\n",
      "[[20136]]\n",
      "[[20140]]\n",
      "[[20069]]\n",
      "[[20117]]\n",
      "[[20089]]\n",
      "[[20370]]\n",
      "[[20297]]\n",
      "[[20324]]\n",
      "[[20261]]\n",
      "[[20276]]\n",
      "[[20109]]\n",
      "[[20308]]\n",
      "[[20027]]\n",
      "[[20290]]\n",
      "[[20345]]\n",
      "[[20138]]\n",
      "[[20019]]\n",
      "[[20195]]\n",
      "[[20009]]\n",
      "[[20336]]\n",
      "[[20248]]\n",
      "[[20217]]\n"
     ]
    },
    {
     "name": "stderr",
     "output_type": "stream",
     "text": [
      "\r",
      " 92%|████████████████████████████████████████████████████████████▊     | 92.12962962962963/100 [01:52<00:03,  2.01it/s]"
     ]
    },
    {
     "name": "stdout",
     "output_type": "stream",
     "text": [
      "[[20243]]\n",
      "[[20228]]\n",
      "[[20312]]\n",
      "[[20257]]\n",
      "[[20280]]\n",
      "[[20305]]\n",
      "[[20348]]\n",
      "[[20064]]\n",
      "[[20170]]\n",
      "[[20316]]\n",
      "[[20010]]\n",
      "[[20176]]\n",
      "[[20018]]\n",
      "[[20204]]\n",
      "[[20109]]\n"
     ]
    },
    {
     "name": "stderr",
     "output_type": "stream",
     "text": [
      "\r",
      " 93%|█████████████████████████████████████████████████████████████▍    | 93.05555555555556/100 [01:53<00:03,  1.97it/s]"
     ]
    },
    {
     "name": "stdout",
     "output_type": "stream",
     "text": [
      "[[20028]]\n",
      "[[20099]]\n",
      "[[20394]]\n",
      "[[20204]]\n",
      "[[20247]]\n",
      "[[20029]]\n",
      "[[20148]]\n",
      "[[20383]]\n",
      "[[20345]]\n",
      "[[20136]]\n",
      "[[20098]]\n",
      "[[20117]]\n",
      "[[20021]]\n",
      "[[20398]]\n"
     ]
    },
    {
     "name": "stderr",
     "output_type": "stream",
     "text": [
      "\r",
      " 94%|██████████████████████████████████████████████████████████████    | 93.98611111111111/100 [01:53<00:03,  1.92it/s]"
     ]
    },
    {
     "name": "stdout",
     "output_type": "stream",
     "text": [
      "[[20070]]\n",
      "[[20029]]\n",
      "[[20089]]\n",
      "[[20121]]\n",
      "[[20316]]\n",
      "[[20261]]\n",
      "[[20034]]\n",
      "[[20106]]\n",
      "[[20056]]\n",
      "[[20088]]\n",
      "[[20226]]\n",
      "[[20072]]\n",
      "[[20254]]\n",
      "[[20044]]\n"
     ]
    },
    {
     "name": "stderr",
     "output_type": "stream",
     "text": [
      "\r",
      " 95%|███████████████████████████████████████████████████████████████▌   | 94.9212962962963/100 [01:54<00:02,  1.82it/s]"
     ]
    },
    {
     "name": "stdout",
     "output_type": "stream",
     "text": [
      "[[20182]]\n",
      "[[20305]]\n",
      "[[20135]]\n",
      "[[20024]]\n",
      "[[20114]]\n",
      "[[20279]]\n",
      "[[20350]]\n",
      "[[20228]]\n",
      "[[20348]]\n",
      "[[20033]]\n",
      "[[20319]]\n",
      "[[20401]]\n",
      "[[20255]]\n",
      "[[20249]]\n",
      "[[20239]]\n",
      "[[20238]]\n",
      "[[20079]]\n",
      "[[20393]]\n",
      "[[20094]]\n"
     ]
    },
    {
     "name": "stderr",
     "output_type": "stream",
     "text": [
      "\r",
      " 96%|███████████████████████████████████████████████████████████████▎  | 95.86111111111111/100 [01:54<00:02,  1.76it/s]"
     ]
    },
    {
     "name": "stdout",
     "output_type": "stream",
     "text": [
      "[[20018]]\n",
      "[[20097]]\n",
      "[[20103]]\n",
      "[[20164]]\n",
      "[[20319]]\n",
      "[[20110]]\n",
      "[[20361]]\n",
      "[[20153]]\n",
      "[[20292]]\n",
      "[[20084]]\n",
      "[[20022]]\n",
      "[[20243]]\n",
      "[[20143]]\n",
      "[[20145]]\n",
      "[[20268]]\n",
      "[[20391]]\n"
     ]
    },
    {
     "name": "stderr",
     "output_type": "stream",
     "text": [
      "\r",
      " 97%|███████████████████████████████████████████████████████████████▉  | 96.80555555555556/100 [01:55<00:01,  1.72it/s]"
     ]
    },
    {
     "name": "stdout",
     "output_type": "stream",
     "text": [
      "[[20090]]\n",
      "[[20359]]\n",
      "[[20140]]\n",
      "[[20382]]\n",
      "[[20267]]\n",
      "[[20082]]\n",
      "[[20114]]\n",
      "[[20143]]\n",
      "[[20214]]\n",
      "[[20117]]\n",
      "[[20089]]\n",
      "[[20041]]\n",
      "[[20044]]\n",
      "[[20285]]\n"
     ]
    },
    {
     "name": "stderr",
     "output_type": "stream",
     "text": [
      "\r",
      " 98%|████████████████████████████████████████████████████████████████▌ | 97.75462962962963/100 [01:55<00:01,  1.74it/s]"
     ]
    },
    {
     "name": "stdout",
     "output_type": "stream",
     "text": [
      "[[20339]]\n",
      "[[20270]]\n",
      "[[20329]]\n",
      "[[20003]]\n",
      "[[20198]]\n",
      "[[20050]]\n",
      "[[20148]]\n",
      "[[20335]]\n",
      "[[20015]]\n",
      "[[20208]]\n",
      "[[20266]]\n",
      "[[20171]]\n",
      "[[20043]]\n",
      "[[20381]]\n",
      "[[20370]]\n",
      "[[20221]]\n",
      "[[20139]]\n",
      "[[20190]]\n",
      "[[20151]]\n",
      "[[20340]]\n"
     ]
    },
    {
     "name": "stderr",
     "output_type": "stream",
     "text": [
      "\r",
      " 99%|█████████████████████████████████████████████████████████████████▏| 98.70833333333334/100 [01:56<00:00,  1.77it/s]"
     ]
    },
    {
     "name": "stdout",
     "output_type": "stream",
     "text": [
      "[[20128]]\n",
      "[[20243]]\n",
      "[[20375]]\n",
      "[[20117]]\n",
      "[[20243]]\n",
      "[[20300]]\n",
      "[[20351]]\n",
      "[[20366]]\n",
      "[[20333]]\n",
      "[[20243]]\n",
      "[[20123]]\n",
      "[[20315]]\n",
      "[[20061]]\n",
      "[[20218]]\n"
     ]
    },
    {
     "name": "stderr",
     "output_type": "stream",
     "text": [
      "\r",
      "100%|█████████████████████████████████████████████████████████████████▊| 99.66666666666667/100 [01:56<00:00,  1.80it/s]"
     ]
    },
    {
     "name": "stdout",
     "output_type": "stream",
     "text": [
      "[[20277]]\n",
      "[[20159]]\n",
      "[[20398]]\n",
      "[[20042]]\n",
      "[[20166]]\n",
      "[[20012]]\n",
      "[[20276]]\n",
      "[[20105]]\n",
      "[[20069]]\n",
      "[[20092]]\n",
      "[[20077]]\n",
      "[[20346]]\n",
      "[[20306]]\n",
      "[[20020]]\n"
     ]
    },
    {
     "name": "stderr",
     "output_type": "stream",
     "text": [
      "\r",
      "100.62962962962963it [01:57,  1.88it/s]                                                                                "
     ]
    },
    {
     "name": "stdout",
     "output_type": "stream",
     "text": [
      "[[20194]]\n",
      "[[20023]]\n",
      "[[20385]]\n",
      "[[20035]]\n",
      "[[20227]]\n",
      "[[20386]]\n",
      "[[20231]]\n",
      "[[20352]]\n",
      "[[20164]]\n",
      "[[20162]]\n",
      "[[20166]]\n",
      "[[20264]]\n",
      "[[20330]]\n",
      "[[20379]]\n",
      "[[20114]]\n",
      "[[20002]]\n"
     ]
    },
    {
     "name": "stderr",
     "output_type": "stream",
     "text": [
      "\r",
      "101.59722222222223it [01:57,  1.99it/s]"
     ]
    },
    {
     "name": "stdout",
     "output_type": "stream",
     "text": [
      "[[20248]]\n",
      "[[20021]]\n",
      "[[20263]]\n",
      "[[20170]]\n",
      "[[20383]]\n",
      "[[20243]]\n",
      "[[20081]]\n",
      "[[20167]]\n",
      "[[20137]]\n",
      "[[20250]]\n",
      "[[20324]]\n",
      "[[20003]]\n",
      "[[20043]]\n",
      "[[20159]]\n",
      "[[20112]]\n",
      "[[20128]]\n"
     ]
    },
    {
     "name": "stderr",
     "output_type": "stream",
     "text": [
      "\r",
      "102.56944444444446it [01:58,  2.02it/s]"
     ]
    },
    {
     "name": "stdout",
     "output_type": "stream",
     "text": [
      "[[20331]]\n",
      "[[20342]]\n",
      "[[20126]]\n",
      "[[20080]]\n",
      "[[20227]]\n",
      "[[20189]]\n",
      "[[20399]]\n",
      "[[20174]]\n",
      "[[20148]]\n",
      "[[20169]]\n",
      "[[20155]]\n",
      "[[20233]]\n",
      "[[20352]]\n",
      "[[20136]]\n",
      "[[20158]]\n"
     ]
    },
    {
     "name": "stderr",
     "output_type": "stream",
     "text": [
      "\r",
      "103.5462962962963it [01:58,  2.04it/s] "
     ]
    },
    {
     "name": "stdout",
     "output_type": "stream",
     "text": [
      "[[20381]]\n",
      "[[20205]]\n",
      "[[20168]]\n",
      "[[20244]]\n",
      "[[20312]]\n",
      "[[20034]]\n",
      "[[20061]]\n",
      "[[20084]]\n",
      "[[20036]]\n",
      "[[20128]]\n",
      "[[20190]]\n",
      "[[20253]]\n",
      "[[20134]]\n",
      "[[20033]]\n",
      "[[20247]]\n",
      "[[20058]]\n",
      "[[20113]]\n",
      "[[20331]]\n",
      "[[20177]]\n",
      "[[20399]]\n",
      "[[20089]]\n"
     ]
    },
    {
     "name": "stderr",
     "output_type": "stream",
     "text": [
      "\r",
      "104.52777777777779it [01:59,  2.01it/s]"
     ]
    },
    {
     "name": "stdout",
     "output_type": "stream",
     "text": [
      "[[20044]]\n",
      "[[20209]]\n",
      "[[20107]]\n",
      "[[20004]]\n",
      "[[20232]]\n",
      "[[20309]]\n",
      "[[20044]]\n",
      "[[20389]]\n",
      "[[20149]]\n",
      "[[20363]]\n",
      "[[20210]]\n",
      "[[20090]]\n",
      "[[20122]]\n"
     ]
    },
    {
     "name": "stderr",
     "output_type": "stream",
     "text": [
      "\r",
      "105.5138888888889it [01:59,  1.94it/s] "
     ]
    },
    {
     "name": "stdout",
     "output_type": "stream",
     "text": [
      "[[20192]]\n",
      "[[20125]]\n",
      "[[20167]]\n",
      "[[20307]]\n",
      "[[20338]]\n",
      "[[20157]]\n",
      "[[20172]]\n",
      "[[20291]]\n",
      "[[20295]]\n",
      "[[20038]]\n",
      "[[20034]]\n",
      "[[20302]]\n",
      "[[20340]]\n",
      "[[20256]]\n"
     ]
    },
    {
     "name": "stderr",
     "output_type": "stream",
     "text": [
      "\r",
      "106.50462962962965it [02:00,  1.93it/s]"
     ]
    },
    {
     "name": "stdout",
     "output_type": "stream",
     "text": [
      "[[20145]]\n",
      "[[20191]]\n",
      "[[20039]]\n",
      "[[20167]]\n",
      "[[20076]]\n",
      "[[20138]]\n",
      "[[20366]]\n",
      "[[20093]]\n",
      "[[20125]]\n",
      "[[20063]]\n",
      "[[20138]]\n",
      "[[20074]]\n",
      "[[20110]]\n",
      "[[20083]]\n",
      "[[20070]]\n",
      "[[20135]]\n",
      "[[20027]]\n",
      "[[20202]]\n",
      "[[20386]]\n",
      "[[20325]]\n",
      "[[20180]]\n"
     ]
    },
    {
     "name": "stderr",
     "output_type": "stream",
     "text": [
      "\r",
      "107.50000000000001it [02:00,  1.93it/s]"
     ]
    },
    {
     "name": "stdout",
     "output_type": "stream",
     "text": [
      "[[20366]]\n",
      "[[20073]]\n",
      "[[20194]]\n",
      "[[20190]]\n",
      "[[20281]]\n",
      "[[20100]]\n",
      "[[20376]]\n",
      "[[20112]]\n",
      "[[20121]]\n",
      "[[20330]]\n",
      "[[20329]]\n",
      "[[20253]]\n",
      "[[20319]]"
     ]
    },
    {
     "name": "stderr",
     "output_type": "stream",
     "text": [
      "108.50000000000001it [02:01,  1.12s/it]"
     ]
    },
    {
     "name": "stdout",
     "output_type": "stream",
     "text": [
      "\n",
      "[[20004]]\n",
      "[[20105]]\n",
      "[[20117]]\n",
      "[[20382]]\n"
     ]
    },
    {
     "name": "stderr",
     "output_type": "stream",
     "text": [
      "\n"
     ]
    }
   ],
   "source": [
    "addFaultTriggerData(\"SM1_Pe\")"
   ]
  },
  {
   "cell_type": "code",
   "execution_count": 84,
   "metadata": {},
   "outputs": [],
   "source": [
    "# # Extracts dataset with fault point fixed at center of the sequence\n",
    "# def extractDataArrayFromRawDataWithFixedFault(featureTitleList):\n",
    "#     dataList = []\n",
    "#     for faultType in os.listdir(rawDataDir):\n",
    "#         faultTypeDir = '/'.join([rawDataDir,faultType])\n",
    "#         if(os.path.isdir(faultTypeDir)):\n",
    "#             for generationLevel in os.listdir(faultTypeDir):\n",
    "#                 generationLevelDir = '/'.join([faultTypeDir,generationLevel]) \n",
    "#                 if(os.path.isdir(generationLevelDir)):   \n",
    "#                     with tqdm.tqdm(total=100) as p_bar:\n",
    "#                         total = len(os.listdir(generationLevelDir))     \n",
    "#                         processed = 0;\n",
    "#                         for dirName in os.listdir(generationLevelDir):\n",
    "#                             dataDir = '/'.join([generationLevelDir,dirName])                                                    \n",
    "#                             for fileName in os.listdir(dataDir):\n",
    "#                                 filePath = '/'.join([dataDir,fileName]) \n",
    "#                                 mat = scipy.io.loadmat(filePath)\n",
    "#                                 #operation here\n",
    "#                                 toAddSubSequence = []                                \n",
    "#                                 faultIndex = mat[\"Fault_Index\"][0][0]                                \n",
    "#                                 startIndex = int(faultIndex - windowLen/2)\n",
    "#                                 endIndex = int(faultIndex + windowLen/2)                                \n",
    "#                                 for feature in featureTitleList:                                                                        \n",
    "#                                     toAddSubSequence.append(list(mat[feature][startIndex:endIndex]))  \n",
    "#                                 dataList.append(toAddSubSequence)\n",
    "#                             processed += 1\n",
    "#                             p_bar.update(processed/total) \n",
    "#     return np.array(dataList)"
   ]
  },
  {
   "cell_type": "code",
   "execution_count": 7,
   "metadata": {},
   "outputs": [],
   "source": [
    "# Extracts dataset with fault point randomized shifts\n",
    "def extractDataArrayFromRawDataMovingWindow(featureTitleList):\n",
    "    dataList = []\n",
    "    for faultType in os.listdir(rawDataDir):\n",
    "        faultTypeDir = '/'.join([rawDataDir,faultType])\n",
    "        if(os.path.isdir(faultTypeDir)):\n",
    "            for generationLevel in os.listdir(faultTypeDir):\n",
    "                generationLevelDir = '/'.join([faultTypeDir,generationLevel]) \n",
    "                if(os.path.isdir(generationLevelDir)):   \n",
    "                    with tqdm.tqdm(total=100) as p_bar:\n",
    "                        total = len(os.listdir(generationLevelDir))     \n",
    "                        processed = 0;\n",
    "                        for dirName in os.listdir(generationLevelDir):\n",
    "                            dataDir = '/'.join([generationLevelDir,dirName])                                                    \n",
    "                            for fileName in os.listdir(dataDir):\n",
    "                                filePath = '/'.join([dataDir,fileName]) \n",
    "                                mat = scipy.io.loadmat(filePath)\n",
    "                                #operation here\n",
    "                                toAddSubSequence = []                                \n",
    "                                faultIndex = mat[\"Fault_Index\"][0][0]  \n",
    "                                randShift = random.randrange(int(-windowLen/4), int(windowLen/4))\n",
    "                                startIndex = int(faultIndex - windowLen/2 - randShift)\n",
    "                                endIndex = int(faultIndex + windowLen/2 - randShift)                                \n",
    "                                for feature in featureTitleList:                                                                        \n",
    "                                    toAddSubSequence.append(list(mat[feature][startIndex:endIndex]))  \n",
    "                                dataList.append(toAddSubSequence)\n",
    "                            processed += 1\n",
    "                            p_bar.update(processed/total) \n",
    "    return np.array(dataList)"
   ]
  },
  {
   "cell_type": "code",
   "execution_count": 9,
   "metadata": {},
   "outputs": [
    {
     "name": "stderr",
     "output_type": "stream",
     "text": [
      "108.50000000000001it [03:51,  2.14s/it]                                                                                \n",
      "108.50000000000001it [04:00,  2.21s/it]                                                                                \n",
      "108.50000000000001it [04:10,  2.31s/it]                                                                                \n",
      "108.50000000000001it [02:15,  1.25s/it]                                                                                \n"
     ]
    }
   ],
   "source": [
    "featureList = [\"Iprobe1_a\",\"Iprobe1_b\",\"Iprobe1_c\",\"Iprobe2_a\",\"Iprobe2_b\",\"Iprobe2_c\",\"PhaseAngle_a\",\"PhaseAngle_b\",\"PhaseAngle_c\"]\n",
    "#dataArray = extractDataArrayFromRawData(featureList)\n",
    "dataArray = extractDataArrayFromRawDataMovingWindow(featureList)"
   ]
  },
  {
   "cell_type": "code",
   "execution_count": 10,
   "metadata": {},
   "outputs": [],
   "source": [
    "dataArray = np.swapaxes(dataArray, 1, 2)\n",
    "with open('Data_Set/not_normalized_data_set.pickle', 'wb') as handle:\n",
    "    pickle.dump(dataArray, handle)"
   ]
  },
  {
   "cell_type": "code",
   "execution_count": 11,
   "metadata": {},
   "outputs": [],
   "source": [
    "with open('Data_Set/not_normalized_data_set.pickle', 'rb') as handle:\n",
    "    dataArray = pickle.load(handle)"
   ]
  },
  {
   "cell_type": "code",
   "execution_count": 15,
   "metadata": {},
   "outputs": [],
   "source": [
    "dataSize = dataArray.shape[0]"
   ]
  },
  {
   "cell_type": "code",
   "execution_count": 16,
   "metadata": {},
   "outputs": [],
   "source": [
    "def normalizeDataSet(dataArray):\n",
    "    iProbe1A = dataArray[:,:,0,0].reshape([dataSize*windowLen])\n",
    "    iProbe1B = dataArray[:,:,1,0].reshape([dataSize*windowLen])\n",
    "    iProbe1C = dataArray[:,:,2,0].reshape([dataSize*windowLen])\n",
    "    iProbe2A = dataArray[:,:,3,0].reshape([dataSize*windowLen])\n",
    "    iProbe2B = dataArray[:,:,4,0].reshape([dataSize*windowLen])\n",
    "    iProbe2C = dataArray[:,:,5,0].reshape([dataSize*windowLen])\n",
    "    maxI = max([max(iProbe1A),max(iProbe1B),max(iProbe1C),max(iProbe2A),max(iProbe2B),max(iProbe2C)])\n",
    "    minI = min([min(iProbe1A),min(iProbe1B),min(iProbe1C),min(iProbe2A),min(iProbe2B),min(iProbe2C)])\n",
    "    divI = max([abs(maxI),abs(minI)])\n",
    "    divPhase = 180\n",
    "    normalizationParameters = {\"divI\": divI, \"divPhase\": divPhase}\n",
    "    with open('Data_Set/normalization_parameters.pickle', 'wb') as handle:\n",
    "        pickle.dump(normalizationParameters, handle)\n",
    "    print(\"divI is %d\"%divI)\n",
    "    print(\"divPhase is %d\"%divPhase)\n",
    "    dataArray[:,:,0:6,0] = dataArray[:,:,0:6,0]/divI\n",
    "    dataArray[:,:,6:9,0] = dataArray[:,:,6:9,0]/divPhase        \n",
    "    return dataArray"
   ]
  },
  {
   "cell_type": "code",
   "execution_count": 17,
   "metadata": {},
   "outputs": [
    {
     "name": "stdout",
     "output_type": "stream",
     "text": [
      "divI is 580931\n",
      "divPhase is 180\n"
     ]
    }
   ],
   "source": [
    "normalizedDataArray = normalizeDataSet(dataArray.copy())"
   ]
  },
  {
   "cell_type": "code",
   "execution_count": 18,
   "metadata": {},
   "outputs": [],
   "source": [
    "with open('Data_Set/normalized_data_set.pickle', 'wb') as handle:\n",
    "    pickle.dump(normalizedDataArray, handle)"
   ]
  },
  {
   "cell_type": "code",
   "execution_count": 19,
   "metadata": {},
   "outputs": [],
   "source": [
    "with open('Data_Set/not_normalized_data_set.pickle', 'rb') as handle:\n",
    "    dataSet = pickle.load(handle)"
   ]
  },
  {
   "cell_type": "code",
   "execution_count": 24,
   "metadata": {},
   "outputs": [
    {
     "data": {
      "text/plain": [
       "[<matplotlib.lines.Line2D at 0x2391842e320>]"
      ]
     },
     "execution_count": 24,
     "metadata": {},
     "output_type": "execute_result"
    },
    {
     "data": {
      "image/png": "[encoded data removed]",
      "text/plain": [
       "<Figure size 432x288 with 1 Axes>"
      ]
     },
     "metadata": {
      "needs_background": "light"
     },
     "output_type": "display_data"
    }
   ],
   "source": []
  },
  {
   "cell_type": "code",
   "execution_count": null,
   "metadata": {},
   "outputs": [],
   "source": []
  }
 ],
 "metadata": {
  "kernelspec": {
   "display_name": "Python 3",
   "language": "python",
   "name": "python3"
  },
  "language_info": {
   "codemirror_mode": {
    "name": "ipython",
    "version": 3
   },
   "file_extension": ".py",
   "mimetype": "text/x-python",
   "name": "python",
   "nbconvert_exporter": "python",
   "pygments_lexer": "ipython3",
   "version": "3.6.10"
  }
 },
 "nbformat": 4,
 "nbformat_minor": 4
}
