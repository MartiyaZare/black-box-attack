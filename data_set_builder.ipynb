{
 "cells": [
  {
   "cell_type": "code",
   "execution_count": null,
   "metadata": {},
   "outputs": [],
   "source": [
    "import numpy as np\n",
    "from MZPackage.Utilities import *\n",
    "from MZPackage.DataPreprocessor import DataPreprocessor"
   ]
  },
  {
   "cell_type": "code",
   "execution_count": null,
   "metadata": {},
   "outputs": [],
   "source": [
    "dp = DataPreprocessor()"
   ]
  },
  {
   "cell_type": "code",
   "execution_count": null,
   "metadata": {
    "scrolled": false
   },
   "outputs": [],
   "source": [
    "# Finding mix max of data\n",
    "maxDict, minDict = dp.rawDataMinMaxFinder([\"Iprobe1_a\",\"Iprobe1_b\",\"Iprobe1_c\",\"Iprobe2_a\",\"Iprobe2_b\",\"Iprobe2_c\",\"PhaseAngle_a\",\"PhaseAngle_b\",\"PhaseAngle_c\"])"
   ]
  },
  {
   "cell_type": "code",
   "execution_count": null,
   "metadata": {},
   "outputs": [],
   "source": [
    "# Adding fault data to those that don't have it\n",
    "dp.addFaultTriggerData(\"SM1_Pe\")"
   ]
  },
  {
   "cell_type": "code",
   "execution_count": null,
   "metadata": {},
   "outputs": [],
   "source": [
    "# Extract data windows from raw data\n",
    "featureList = [\"Iprobe1_a\",\"Iprobe1_b\",\"Iprobe1_c\",\"Iprobe2_a\",\"Iprobe2_b\",\"Iprobe2_c\",\"PhaseAngle_a\",\"PhaseAngle_b\",\"PhaseAngle_c\"]\n",
    "dataArray = dp.extractDataArrayFromRawDataMovingWindow(featureList)"
   ]
  },
  {
   "cell_type": "code",
   "execution_count": null,
   "metadata": {},
   "outputs": [],
   "source": [
    "# save data set\n",
    "dataArray = np.swapaxes(dataArray, 1, 2)\n",
    "saveData(dataArray,\"not_normalized_data_set\")\n",
    "\n",
    "normalizedDataArray = dp.normalizeDataSetAndSaveParams(dataArray.copy())\n",
    "saveData(normalizedDataArray, \"normalized_data_set\")"
   ]
  },
  {
   "cell_type": "code",
   "execution_count": null,
   "metadata": {},
   "outputs": [],
   "source": []
  }
 ],
 "metadata": {
  "kernelspec": {
   "display_name": "Python 3",
   "language": "python",
   "name": "python3"
  },
  "language_info": {
   "codemirror_mode": {
    "name": "ipython",
    "version": 3
   },
   "file_extension": ".py",
   "mimetype": "text/x-python",
   "name": "python",
   "nbconvert_exporter": "python",
   "pygments_lexer": "ipython3",
   "version": "3.6.10"
  }
 },
 "nbformat": 4,
 "nbformat_minor": 4
}
