{
 "cells": [
  {
   "cell_type": "code",
   "execution_count": 7,
   "metadata": {},
   "outputs": [],
   "source": [
    "import numpy as np\n",
    "import scipy.io\n",
    "\n",
    "from MZPackage.Utilities import *\n",
    "from MZPackage.DataPreprocessor import DataPreprocessor"
   ]
  },
  {
   "cell_type": "code",
   "execution_count": 8,
   "metadata": {},
   "outputs": [],
   "source": [
    "dp = DataPreprocessor()"
   ]
  },
  {
   "cell_type": "code",
   "execution_count": 9,
   "outputs": [],
   "source": [
    "featureList = [\"Iprobe1_a\",\"Iprobe1_b\",\"Iprobe1_c\",\"Iprobe2_a\",\"Iprobe2_b\",\"Iprobe2_c\"]"
   ],
   "metadata": {
    "collapsed": false,
    "pycharm": {
     "name": "#%%\n"
    }
   }
  },
  {
   "cell_type": "code",
   "execution_count": 4,
   "metadata": {
    "scrolled": false
   },
   "outputs": [
    {
     "name": "stderr",
     "output_type": "stream",
     "text": [
      "100%|██████████| 216/216 [00:10<00:00, 20.55it/s]\n",
      "100%|██████████| 216/216 [00:13<00:00, 15.81it/s]\n",
      "100%|██████████| 216/216 [00:13<00:00, 15.82it/s]\n",
      "100%|██████████| 216/216 [00:14<00:00, 15.09it/s]\n",
      "100%|██████████| 216/216 [00:13<00:00, 16.24it/s]\n",
      "100%|██████████| 216/216 [00:13<00:00, 16.21it/s]\n"
     ]
    }
   ],
   "source": [
    "# Finding mix max of data\n",
    "maxDict, minDict = dp.rawDataMinMaxFinder(featureList, datasetFolderName=\"original_mat\")"
   ]
  },
  {
   "cell_type": "code",
   "execution_count": 5,
   "outputs": [
    {
     "name": "stdout",
     "output_type": "stream",
     "text": [
      "maxDict {'Iprobe1_a': 98995.8729428285, 'Iprobe1_b': 98966.80498503726, 'Iprobe1_c': 98936.28808180726, 'Iprobe2_a': 553951.2013615498, 'Iprobe2_b': 554304.513879752, 'Iprobe2_c': 554270.4230460499}\n",
      "minDict {'Iprobe1_a': -99010.13001090992, 'Iprobe1_b': -98998.52042127517, 'Iprobe1_c': -98992.91643662634, 'Iprobe2_a': -555608.756696088, 'Iprobe2_b': -555681.2132719966, 'Iprobe2_c': -554838.3306383519}\n"
     ]
    }
   ],
   "source": [
    "print(\"maxDict\",maxDict)\n",
    "print(\"minDict\",minDict)"
   ],
   "metadata": {
    "collapsed": false,
    "pycharm": {
     "name": "#%%\n"
    }
   }
  },
  {
   "cell_type": "code",
   "execution_count": 4,
   "outputs": [
    {
     "name": "stderr",
     "output_type": "stream",
     "text": [
      "100%|██████████| 216/216 [00:01<00:00, 115.32it/s]\n",
      "100%|██████████| 216/216 [00:01<00:00, 117.74it/s]\n",
      "100%|██████████| 216/216 [00:01<00:00, 115.11it/s]\n",
      "100%|██████████| 216/216 [00:01<00:00, 115.60it/s]\n",
      "100%|██████████| 216/216 [00:01<00:00, 117.52it/s]\n",
      "100%|██████████| 216/216 [00:01<00:00, 117.95it/s]\n"
     ]
    }
   ],
   "source": [
    "dp.addFaultTriggerData(\"Flt1_STATEa\", datasetFolderName=\"original_mat\")"
   ],
   "metadata": {
    "collapsed": false,
    "pycharm": {
     "name": "#%%\n"
    }
   }
  },
  {
   "cell_type": "code",
   "execution_count": 4,
   "metadata": {},
   "outputs": [
    {
     "name": "stderr",
     "output_type": "stream",
     "text": [
      "100%|██████████| 216/216 [00:02<00:00, 87.55it/s]\n",
      "100%|██████████| 216/216 [00:02<00:00, 91.16it/s]\n",
      "100%|██████████| 216/216 [00:02<00:00, 84.42it/s]\n",
      "100%|██████████| 216/216 [00:02<00:00, 91.04it/s]\n",
      "100%|██████████| 216/216 [00:02<00:00, 76.54it/s]\n",
      "100%|██████████| 216/216 [00:02<00:00, 76.39it/s]\n"
     ]
    }
   ],
   "source": [
    "# Extract data windows from raw data\n",
    "dataArrayNormal, dataArrayFault = dp.extractDataArrayNormalAndFault(featureList, datasetFolderName=\"original_mat\")"
   ]
  },
  {
   "cell_type": "code",
   "execution_count": 5,
   "metadata": {},
   "outputs": [
    {
     "name": "stdout",
     "output_type": "stream",
     "text": [
      "divI is 555681\n",
      "divPhase is 180\n"
     ]
    }
   ],
   "source": [
    "# save data set\n",
    "dataArrayNormal = np.swapaxes(dataArrayNormal, 1, 2)\n",
    "saveData(dataArrayNormal,\"not_normalized_normal\")\n",
    "dataArrayFault = np.swapaxes(dataArrayFault, 1, 2)\n",
    "saveData(dataArrayFault,\"not_normalized_fault\")\n",
    "\n",
    "normalizedDataFault = dp.normalizeDataSetAndSaveParams(dataArrayFault.copy())\n",
    "saveData(normalizedDataFault, \"normalized_fault\")\n",
    "normalizedDataNormal = dp.normalizeDataSetUsingSavedParams(dataArrayNormal.copy())\n",
    "saveData(normalizedDataNormal, \"normalized_normal\")"
   ]
  },
  {
   "cell_type": "code",
   "execution_count": 4,
   "metadata": {},
   "outputs": [
    {
     "data": {
      "text/plain": "array([7.62951095e-06, 7.62951095e-06, 7.62951095e-06])"
     },
     "execution_count": 4,
     "metadata": {},
     "output_type": "execute_result"
    }
   ],
   "source": [
    "mFile = scipy.io.loadmat(\"Raw_Data/original_mat/3_phase_to_ground/350/1/0001.mat\")\n",
    "mFile[\"Flt1_STATEa\"][0][0:3]"
   ]
  },
  {
   "cell_type": "markdown",
   "source": [
    "### Fault data set"
   ],
   "metadata": {
    "collapsed": false,
    "pycharm": {
     "name": "#%% md\n"
    }
   }
  },
  {
   "cell_type": "code",
   "execution_count": 10,
   "outputs": [
    {
     "name": "stderr",
     "output_type": "stream",
     "text": [
      "100%|██████████| 216/216 [00:26<00:00,  8.15it/s]\n",
      "100%|██████████| 216/216 [00:05<00:00, 39.29it/s] \n",
      "100%|██████████| 216/216 [00:02<00:00, 105.83it/s]\n",
      "100%|██████████| 216/216 [00:02<00:00, 103.45it/s]\n",
      "100%|██████████| 216/216 [00:02<00:00, 106.79it/s]\n",
      "100%|██████████| 216/216 [00:02<00:00, 106.98it/s]\n"
     ]
    }
   ],
   "source": [
    "dataArray = dp.extractDataArrayFromRawDataMovingWindow(featureList, datasetFolderName=\"original_mat\", windowLen = 48)"
   ],
   "metadata": {
    "collapsed": false,
    "pycharm": {
     "name": "#%%\n"
    }
   }
  },
  {
   "cell_type": "code",
   "execution_count": 11,
   "outputs": [],
   "source": [
    "dataArray = np.swapaxes(dataArray, 1, 2)\n",
    "saveData(dataArray,\"Anomaly_Detection_Model_Data/not_normalized_data_set\")\n",
    "normalizedData = dp.normalizeDataSetUsingSavedParams(dataArray.copy())\n",
    "saveData(normalizedData, \"Anomaly_Detection_Model_Data/normalized_data_set\")\n"
   ],
   "metadata": {
    "collapsed": false,
    "pycharm": {
     "name": "#%%\n"
    }
   }
  },
  {
   "cell_type": "code",
   "execution_count": 6,
   "outputs": [
    {
     "data": {
      "text/plain": "(20736, 48, 6)"
     },
     "execution_count": 6,
     "metadata": {},
     "output_type": "execute_result"
    }
   ],
   "source": [
    "dataArray.shape\n"
   ],
   "metadata": {
    "collapsed": false,
    "pycharm": {
     "name": "#%%\n"
    }
   }
  },
  {
   "cell_type": "code",
   "execution_count": null,
   "outputs": [],
   "source": [],
   "metadata": {
    "collapsed": false,
    "pycharm": {
     "name": "#%%\n"
    }
   }
  }
 ],
 "metadata": {
  "kernelspec": {
   "display_name": "Python 3",
   "language": "python",
   "name": "python3"
  },
  "language_info": {
   "codemirror_mode": {
    "name": "ipython",
    "version": 3
   },
   "file_extension": ".py",
   "mimetype": "text/x-python",
   "name": "python",
   "nbconvert_exporter": "python",
   "pygments_lexer": "ipython3",
   "version": "3.6.10"
  }
 },
 "nbformat": 4,
 "nbformat_minor": 4
}