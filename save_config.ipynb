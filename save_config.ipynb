{
 "cells": [
  {
   "cell_type": "code",
   "execution_count": 7,
   "metadata": {},
   "outputs": [],
   "source": [
    "import numpy as np\n",
    "from MZPackage.Utilities import *"
   ]
  },
  {
   "cell_type": "code",
   "execution_count": 8,
   "metadata": {},
   "outputs": [],
   "source": [
    "dataSet = loadData(\"normalized_data_set\")\n",
    "dataSetSize = dataSet.shape[0]\n",
    "testSetBenignSize = int(dataSetSize/10)\n",
    "validationSetSize = int(dataSetSize/10)\n",
    "trainingSetSize = dataSetSize - testSetBenignSize - validationSetSize\n",
    "sequenceLen = dataSet.shape[1]\n",
    "dimensionsCount = dataSet.shape[2]\n",
    "config = {\"dataSetSize\":dataSetSize,\n",
    "          \"testSetBenignSize\":testSetBenignSize,\n",
    "          \"validationSetSize\":validationSetSize,\n",
    "          \"trainingSetSize\":trainingSetSize,\n",
    "          \"sequenceLen\":sequenceLen,\n",
    "          \"dimensionsCount\":dimensionsCount,\n",
    "          \"attackSamplesCount\": 1000,          \n",
    "          \"adversarialTestSetSize\" : 250,\n",
    "          \"rawDataDir\" : \"Raw_Data\"\n",
    "         }\n",
    "saveData(config, \"config\")\n",
    "del dataSet"
   ]
  },
  {
   "cell_type": "code",
   "execution_count": null,
   "metadata": {},
   "outputs": [],
   "source": []
  }
 ],
 "metadata": {
  "kernelspec": {
   "display_name": "Python 3",
   "language": "python",
   "name": "python3"
  },
  "language_info": {
   "codemirror_mode": {
    "name": "ipython",
    "version": 3
   },
   "file_extension": ".py",
   "mimetype": "text/x-python",
   "name": "python",
   "nbconvert_exporter": "python",
   "pygments_lexer": "ipython3",
   "version": "3.6.10"
  }
 },
 "nbformat": 4,
 "nbformat_minor": 4
}
