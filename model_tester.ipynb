{
 "cells": [
  {
   "cell_type": "code",
   "execution_count": 1,
   "metadata": {},
   "outputs": [],
   "source": [
    "from MZPackage.DataPreprocessor import DataPreprocessor\n",
    "from MZPackage.ModelBuilder import ModelBuilder\n",
    "from MZPackage.Utilities import *"
   ]
  },
  {
   "cell_type": "code",
   "execution_count": 2,
   "metadata": {},
   "outputs": [],
   "source": [
    "dp = DataPreprocessor()\n",
    "mb = ModelBuilder()"
   ]
  },
  {
   "cell_type": "markdown",
   "metadata": {},
   "source": [
    "### Prepare attack data"
   ]
  },
  {
   "cell_type": "code",
   "execution_count": 3,
   "metadata": {},
   "outputs": [],
   "source": [
    "testSet, testSetLabels = dp.getAttackData()"
   ]
  },
  {
   "cell_type": "code",
   "execution_count": 4,
   "metadata": {},
   "outputs": [],
   "source": [
    "# To store thresholds\n",
    "thresholds = {}"
   ]
  },
  {
   "cell_type": "markdown",
   "metadata": {},
   "source": [
    "### PCA"
   ]
  },
  {
   "cell_type": "code",
   "execution_count": 5,
   "metadata": {},
   "outputs": [
    {
     "name": "stdout",
     "output_type": "stream",
     "text": [
      "Precision without threshold is:  1.0\n",
      "Recall without threshold is:  1.0\n",
      "Min reconstruction error for anomalies:  0.025712678854459048\n",
      "max reconstruction error for benign:  0.0011677688693006027\n",
      "Selected threshold:  0.0036222598678164472\n",
      "Precision by threshold is:  1.0\n",
      "Recall by threshold is:  1.0\n"
     ]
    }
   ],
   "source": [
    "modelType = \"pca\"\n",
    "precision, recall, precisionThre, recallThre, thre, minPositiveMSE, maxNegativeMSE = mb.testModel(testSet, testSetLabels, modelType)\n",
    "thresholds[modelType] = thre    "
   ]
  },
  {
   "cell_type": "markdown",
   "metadata": {},
   "source": [
    "### Fully connected"
   ]
  },
  {
   "cell_type": "code",
   "execution_count": 6,
   "metadata": {},
   "outputs": [
    {
     "name": "stdout",
     "output_type": "stream",
     "text": [
      "Precision without threshold is:  1.0\n",
      "Recall without threshold is:  1.0\n",
      "Min reconstruction error for anomalies:  0.06284687872390111\n",
      "max reconstruction error for benign:  0.0012662559851134608\n",
      "Selected threshold:  0.007424318258992226\n",
      "Precision by threshold is:  1.0\n",
      "Recall by threshold is:  1.0\n"
     ]
    }
   ],
   "source": [
    "modelType = \"fullyConnected\"\n",
    "precision, recall, precisionThre, recallThre, thre, minPositiveMSE, maxNegativeMSE = mb.testModel(testSet, testSetLabels, modelType)\n",
    "thresholds[modelType] = thre    "
   ]
  },
  {
   "cell_type": "markdown",
   "metadata": {},
   "source": [
    "### 1D Conv"
   ]
  },
  {
   "cell_type": "code",
   "execution_count": 5,
   "metadata": {},
   "outputs": [
    {
     "name": "stdout",
     "output_type": "stream",
     "text": [
      "Precision without threshold is:  1.0\n",
      "Recall without threshold is:  1.0\n",
      "Min reconstruction error for anomalies:  0.013998370586706896\n",
      "max reconstruction error for benign:  3.451640304838982e-05\n",
      "Selected threshold:  0.0014309018214142405\n",
      "Precision by threshold is:  1.0\n",
      "Recall by threshold is:  1.0\n"
     ]
    }
   ],
   "source": [
    "modelType = \"conv\"\n",
    "precision, recall, precisionThre, recallThre, thre, minPositiveMSE, maxNegativeMSE = mb.testModel(testSet, testSetLabels, modelType)\n",
    "thresholds[modelType] = thre "
   ]
  },
  {
   "cell_type": "markdown",
   "metadata": {},
   "source": [
    "### LSTM"
   ]
  },
  {
   "cell_type": "code",
   "execution_count": 8,
   "metadata": {},
   "outputs": [
    {
     "name": "stdout",
     "output_type": "stream",
     "text": [
      "Precision without threshold is:  1.0\n",
      "Recall without threshold is:  1.0\n",
      "Min reconstruction error for anomalies:  0.0003320811686344674\n",
      "max reconstruction error for benign:  1.0025960172065749e-05\n",
      "Selected threshold:  4.223148101830592e-05\n",
      "Precision by threshold is:  1.0\n",
      "Recall by threshold is:  1.0\n"
     ]
    }
   ],
   "source": [
    "modelType = \"lstm\"\n",
    "precision, recall, precisionThre, recallThre, thre, minPositiveMSE, maxNegativeMSE = mb.testModel(testSet, testSetLabels, modelType)\n",
    "thresholds[modelType] = thre "
   ]
  },
  {
   "cell_type": "markdown",
   "metadata": {},
   "source": [
    "### Store thresholds to file"
   ]
  },
  {
   "cell_type": "code",
   "execution_count": 11,
   "metadata": {},
   "outputs": [
    {
     "name": "stdout",
     "output_type": "stream",
     "text": [
      "Thresholds saved to file.\n"
     ]
    }
   ],
   "source": [
    "if(len(thresholds) == 4):\n",
    "    saveData(thresholds,\"thresholds\")\n",
    "    print(\"Thresholds saved to file.\")\n",
    "else:\n",
    "    print(\"Threshold dictionary is not completed!\")"
   ]
  },
  {
   "cell_type": "markdown",
   "metadata": {},
   "source": [
    "### Extras"
   ]
  }
 ],
 "metadata": {
  "kernelspec": {
   "display_name": "Python 3",
   "language": "python",
   "name": "python3"
  },
  "language_info": {
   "codemirror_mode": {
    "name": "ipython",
    "version": 3
   },
   "file_extension": ".py",
   "mimetype": "text/x-python",
   "name": "python",
   "nbconvert_exporter": "python",
   "pygments_lexer": "ipython3",
   "version": "3.6.10"
  }
 },
 "nbformat": 4,
 "nbformat_minor": 4
}
