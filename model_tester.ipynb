{
 "cells": [
  {
   "cell_type": "code",
   "execution_count": 1,
   "metadata": {},
   "outputs": [],
   "source": [
    "from tensorflow.keras.models import Sequential, load_model\n",
    "from tensorflow.keras.layers import Dense, Activation, LSTM, Flatten, Reshape\n",
    "from tensorflow.keras.callbacks import EarlyStopping, ModelCheckpoint\n",
    "from tensorflow.keras.optimizers import Adam\n",
    "import numpy as np\n",
    "import matplotlib.pyplot as plt\n",
    "from tensorflow.python.keras import backend as K\n",
    "import gc\n",
    "import tensorflow as tf\n",
    "import random\n",
    "from sklearn import preprocessing\n",
    "import pickle\n",
    "from utilities import *"
   ]
  },
  {
   "cell_type": "code",
   "execution_count": 2,
   "metadata": {},
   "outputs": [],
   "source": [
    "#Load config\n",
    "config = loadData(\"config\")\n",
    "dataSetSize = config[\"dataSetSize\"]\n",
    "testSetBenignSize = config[\"testSetBenignSize\"]\n",
    "validationSetSize = config[\"validationSetSize\"]\n",
    "trainingSetSize = config[\"trainingSetSize\"]\n",
    "sequenceLen = config[\"sequenceLen\"]\n",
    "dimensionsCount = config[\"dimensionsCount\"]\n",
    "attackSamplesCount = config[\"attackSamplesCount\"]\n",
    "testSetSize = testSetBenignSize + attackSamplesCount"
   ]
  },
  {
   "cell_type": "markdown",
   "metadata": {},
   "source": [
    "### Prepare attack data"
   ]
  },
  {
   "cell_type": "code",
   "execution_count": 3,
   "metadata": {},
   "outputs": [],
   "source": [
    "normalizedDataSet = loadData(\"normalized_data_set\")\n",
    "normalizedAngleShiftAttackDataSet = loadData(\"normalized_angle_shift_attack_data_set\")\n",
    "normalizedFDIAttackDataSet = loadData(\"normalized_fdi_attack_data_set\")\n",
    "normalizedTimeSyncAttackDataSet = loadData(\"normalized_time_sync_attack_data_set\")\n",
    "\n",
    "# for now we mix all three attack data sets into one\n",
    "attackDataSet = np.concatenate((normalizedAngleShiftAttackDataSet, normalizedFDIAttackDataSet, normalizedTimeSyncAttackDataSet), axis=0)\n",
    "sampledAttackDataSet = np.array(random.sample(list(attackDataSet), attackSamplesCount))\n",
    "#sampledAttackDataSet = attackDataSet\n",
    "testSetBenign = np.reshape(normalizedDataSet[trainingSetSize:trainingSetSize+testSetBenignSize,:,:,:], (testSetBenignSize,sequenceLen,dimensionsCount), order = 'C')\n",
    "testSetAttack = np.reshape(sampledAttackDataSet, (attackSamplesCount,sequenceLen,dimensionsCount), order = 'C')\n",
    "testSet = np.concatenate((testSetBenign,testSetAttack))\n",
    "test_labels = np.zeros(testSetSize)\n",
    "test_labels[testSetBenignSize:] = np.ones(attackSamplesCount)"
   ]
  },
  {
   "cell_type": "code",
   "execution_count": 4,
   "metadata": {},
   "outputs": [
    {
     "name": "stdout",
     "output_type": "stream",
     "text": [
      "testSetBenignSize 1382\n",
      "attackSamplesCount 1000\n",
      "test_labels shape (2382,)\n",
      "testSetBenign shape (1382, 200, 9)\n",
      "testSetAttack shape (1000, 200, 9)\n"
     ]
    }
   ],
   "source": [
    "print(\"testSetBenignSize\",testSetBenignSize)\n",
    "print(\"attackSamplesCount\",attackSamplesCount)\n",
    "print(\"test_labels shape\",test_labels.shape)\n",
    "print(\"testSetBenign shape\",testSetBenign.shape)\n",
    "print(\"testSetAttack shape\",testSetAttack.shape)"
   ]
  },
  {
   "cell_type": "code",
   "execution_count": 5,
   "metadata": {},
   "outputs": [],
   "source": [
    "def rankedPrecision(mse_labels):\n",
    "    sorted_mse_label = mse_label[mse_label[:,0].argsort()[::-1]]\n",
    "    totalNumberOfAnomalies = sum(sorted_mse_label[:,1] == 1)\n",
    "    TP = sum(sorted_mse_label[0:totalNumberOfAnomalies,1] == 1)\n",
    "    FP = sum(sorted_mse_label[0:totalNumberOfAnomalies,1] == 0)\n",
    "    TN = sum(sorted_mse_label[totalNumberOfAnomalies:,1] == 0)\n",
    "    FN = sum(sorted_mse_label[totalNumberOfAnomalies:,1] == 1)\n",
    "    precision = TP/(TP+FP)\n",
    "    return precision\n",
    "    \n",
    "    \n",
    "def rankedRecall(mse_labels):\n",
    "    sorted_mse_label = mse_label[mse_label[:,0].argsort()[::-1]]\n",
    "    totalNumberOfAnomalies = sum(sorted_mse_label[:,1] == 1)\n",
    "    TP = sum(sorted_mse_label[0:totalNumberOfAnomalies,1] == 1)\n",
    "    FP = sum(sorted_mse_label[0:totalNumberOfAnomalies,1] == 0)\n",
    "    TN = sum(sorted_mse_label[totalNumberOfAnomalies:,1] == 0)\n",
    "    FN = sum(sorted_mse_label[totalNumberOfAnomalies:,1] == 1)\n",
    "    recall = TP/(TP+FN)\n",
    "    return recall\n",
    "\n",
    "# show_curve() is for plotting training and validation losses\n",
    "def show_curve(history):\n",
    "    plt.plot(history.history['loss'])\n",
    "    plt.plot(history.history['val_loss'])\n",
    "    plt.title('model loss')\n",
    "    plt.ylabel('loss')\n",
    "    plt.xlabel('epoch')\n",
    "    plt.legend(['train', 'validation'], loc='upper left')\n",
    "    plt.show()\n",
    "    \n",
    "    \n",
    "def rankedPrecisionThre(mse_labels,threshold):\n",
    "    sorted_mse_label = mse_label[mse_label[:,0].argsort()[::-1]]\n",
    "    TP = sum((sorted_mse_label[:,1] == 1) & (sorted_mse_label[:,0] >= threshold))\n",
    "    FP = sum((sorted_mse_label[:,1] == 0) & (sorted_mse_label[:,0] >= threshold))\n",
    "    TN = sum((sorted_mse_label[:,1] == 0) & (sorted_mse_label[:,0] < threshold))\n",
    "    FN = sum((sorted_mse_label[:,1] == 1) & (sorted_mse_label[:,0] < threshold))\n",
    "    precision = TP/(TP+FP)\n",
    "    return precision\n",
    "    \n",
    "    \n",
    "def rankedRecallThre(mse_labels,threshold):\n",
    "    sorted_mse_label = mse_label[mse_label[:,0].argsort()[::-1]]\n",
    "    TP = sum((sorted_mse_label[:,1] == 1) & (sorted_mse_label[:,0] >= threshold))\n",
    "    FP = sum((sorted_mse_label[:,1] == 0) & (sorted_mse_label[:,0] >= threshold))\n",
    "    TN = sum((sorted_mse_label[:,1] == 0) & (sorted_mse_label[:,0] < threshold))\n",
    "    FN = sum((sorted_mse_label[:,1] == 1) & (sorted_mse_label[:,0] < threshold))\n",
    "    recall = TP/(TP+FN)\n",
    "    return recall"
   ]
  },
  {
   "cell_type": "code",
   "execution_count": 6,
   "metadata": {},
   "outputs": [],
   "source": [
    "# To store thresholds\n",
    "thresholds = {}"
   ]
  },
  {
   "cell_type": "markdown",
   "metadata": {},
   "source": [
    "### PCA"
   ]
  },
  {
   "cell_type": "code",
   "execution_count": 7,
   "metadata": {},
   "outputs": [
    {
     "name": "stdout",
     "output_type": "stream",
     "text": [
      "Precision is:  1.0\n",
      "Recall is:  1.0\n",
      "Min reconstruction error for anomalies:  0.025712678854459048\n",
      "max reconstruction error for benign:  0.0011677688693006027\n",
      "Selected threshold:  0.0012682255911249565\n",
      "Precision by threshold is:  1.0\n",
      "Recall by threshold is:  1.0\n"
     ]
    }
   ],
   "source": [
    "testSet = getReshapedTestSet(testSet, 'PCA')\n",
    "precisions = []\n",
    "recalls = []\n",
    "model = load_model('Trained_Model/pca.h5')\n",
    "predicted = model.predict(testSet)\n",
    "mse = (np.square(testSet - predicted)).mean(axis=1)\n",
    "mse_label = np.vstack((mse, test_labels)).T\n",
    "precision = rankedPrecision(mse_label)\n",
    "recall = rankedRecall(mse_label)\n",
    "precisions.append(precision)\n",
    "recalls.append(recall)\n",
    "print(\"Precision is: \", precision)\n",
    "print(\"Recall is: \", precision)\n",
    "\n",
    "LSTMPrecisions_domain = precisions\n",
    "\n",
    "sorted_mse_label = mse_label[mse_label[:,0].argsort()[::-1]]\n",
    "\n",
    "totalNumberOfAnomalies = sum(sorted_mse_label[:,1] == 1)\n",
    "print(\"Min reconstruction error for anomalies: \", min(sorted_mse_label[sorted_mse_label[:,1] == 1,0])) # 0.010118610983828593\n",
    "print(\"max reconstruction error for benign: \", max(sorted_mse_label[sorted_mse_label[:,1] == 0,0])) \n",
    "\n",
    "\n",
    "sorted_mse_label = mse_label[mse_label[:,0].argsort()[::-1]]\n",
    "minMSE = min(sorted_mse_label[sorted_mse_label[:,1] == 0,0])\n",
    "maxMSE = max(sorted_mse_label[sorted_mse_label[:,1] == 0,0])\n",
    "thre = maxMSE + (maxMSE - minMSE)/10\n",
    "thresholds[\"PCA\"] = thre\n",
    "print(\"Selected threshold: \",thre)\n",
    "precision = rankedPrecisionThre(mse_label,thre)\n",
    "recall = rankedRecallThre(mse_label,thre)\n",
    "print(\"Precision by threshold is: \", precision)\n",
    "print(\"Recall by threshold is: \", recall)"
   ]
  },
  {
   "cell_type": "markdown",
   "metadata": {},
   "source": [
    "### Fully connected"
   ]
  },
  {
   "cell_type": "code",
   "execution_count": 12,
   "metadata": {},
   "outputs": [
    {
     "name": "stdout",
     "output_type": "stream",
     "text": [
      "Precision is:  1.0\n",
      "Recall is:  1.0\n",
      "Min reconstruction error for anomalies:  0.06284825309843331\n",
      "max reconstruction error for benign:  0.0012662559851134608\n",
      "Selected threshold:  0.0013730668853040838\n",
      "Precision by threshold is:  1.0\n",
      "Recall by threshold is:  1.0\n"
     ]
    }
   ],
   "source": [
    "testSet = getReshapedTestSet(testSet, 'fullyConnected')\n",
    "precisions = []\n",
    "recalls = []\n",
    "model = load_model('Trained_Model/autoencoder.h5')\n",
    "predicted = model.predict(testSet)\n",
    "mse = (np.square(testSet - predicted)).mean(axis=1)\n",
    "mse_label = np.vstack((mse, test_labels)).T\n",
    "precision = rankedPrecision(mse_label)\n",
    "recall = rankedRecall(mse_label)\n",
    "precisions.append(precision)\n",
    "recalls.append(recall)\n",
    "print(\"Precision is: \", precision)\n",
    "print(\"Recall is: \", precision)\n",
    "\n",
    "sorted_mse_label = mse_label[mse_label[:,0].argsort()[::-1]]\n",
    "\n",
    "totalNumberOfAnomalies = sum(sorted_mse_label[:,1] == 1)\n",
    "print(\"Min reconstruction error for anomalies: \", min(sorted_mse_label[sorted_mse_label[:,1] == 1,0])) # 0.010118610983828593\n",
    "print(\"max reconstruction error for benign: \", max(sorted_mse_label[sorted_mse_label[:,1] == 0,0])) \n",
    "\n",
    "\n",
    "sorted_mse_label = mse_label[mse_label[:,0].argsort()[::-1]]\n",
    "minMSE = min(sorted_mse_label[sorted_mse_label[:,1] == 0,0])\n",
    "maxMSE = max(sorted_mse_label[sorted_mse_label[:,1] == 0,0])\n",
    "thre = maxMSE + (maxMSE - minMSE)/10\n",
    "thresholds[\"fullyConnected\"] = thre\n",
    "print(\"Selected threshold: \",thre)\n",
    "precision = rankedPrecisionThre(mse_label,thre)\n",
    "recall = rankedRecallThre(mse_label,thre)\n",
    "print(\"Precision by threshold is: \", precision)\n",
    "print(\"Recall by threshold is: \", recall)"
   ]
  },
  {
   "cell_type": "markdown",
   "metadata": {},
   "source": [
    "### 1D Conv"
   ]
  },
  {
   "cell_type": "code",
   "execution_count": 13,
   "metadata": {},
   "outputs": [
    {
     "name": "stdout",
     "output_type": "stream",
     "text": [
      "Precision is:  1.0\n",
      "Recall is:  1.0\n",
      "Min reconstruction error for anomalies:  0.013998370586706896\n",
      "max reconstruction error for benign:  3.451640304838982e-05\n",
      "Selected threshold:  3.693430875407472e-05\n",
      "Precision by threshold is:  1.0\n",
      "Recall by threshold is:  1.0\n"
     ]
    }
   ],
   "source": [
    "testSet = getReshapedTestSet(testSet, '1DConv')\n",
    "precisions = []\n",
    "recalls = []\n",
    "model = load_model('Trained_Model/conv.h5')\n",
    "predicted = model.predict(testSet)\n",
    "mse = (np.square(testSet - predicted)).mean(axis=1)\n",
    "# for conv\n",
    "mse = mse.reshape(testSetBenignSize+attackSamplesCount)\n",
    "mse_label = np.vstack((mse, test_labels)).T\n",
    "precision = rankedPrecision(mse_label)\n",
    "recall = rankedRecall(mse_label)\n",
    "precisions.append(precision)\n",
    "recalls.append(recall)\n",
    "print(\"Precision is: \", precision)\n",
    "print(\"Recall is: \", precision)\n",
    "\n",
    "LSTMPrecisions_domain = precisions\n",
    "\n",
    "sorted_mse_label = mse_label[mse_label[:,0].argsort()[::-1]]\n",
    "\n",
    "totalNumberOfAnomalies = sum(sorted_mse_label[:,1] == 1)\n",
    "print(\"Min reconstruction error for anomalies: \", min(sorted_mse_label[sorted_mse_label[:,1] == 1,0])) # 0.010118610983828593\n",
    "print(\"max reconstruction error for benign: \", max(sorted_mse_label[sorted_mse_label[:,1] == 0,0])) \n",
    "\n",
    "\n",
    "sorted_mse_label = mse_label[mse_label[:,0].argsort()[::-1]]\n",
    "minMSE = min(sorted_mse_label[sorted_mse_label[:,1] == 0,0])\n",
    "maxMSE = max(sorted_mse_label[sorted_mse_label[:,1] == 0,0])\n",
    "thre = maxMSE + (maxMSE - minMSE)/10\n",
    "thresholds[\"1DConv\"] = thre\n",
    "print(\"Selected threshold: \",thre)\n",
    "precision = rankedPrecisionThre(mse_label,thre)\n",
    "recall = rankedRecallThre(mse_label,thre)\n",
    "print(\"Precision by threshold is: \", precision)\n",
    "print(\"Recall by threshold is: \", recall)"
   ]
  },
  {
   "cell_type": "markdown",
   "metadata": {},
   "source": [
    "### LSTM"
   ]
  },
  {
   "cell_type": "code",
   "execution_count": 14,
   "metadata": {},
   "outputs": [
    {
     "name": "stdout",
     "output_type": "stream",
     "text": [
      "Precision is:  1.0\n",
      "Recall is:  1.0\n",
      "Min reconstruction error for anomalies:  0.00033237733996726324\n",
      "max reconstruction error for benign:  1.0025960172065749e-05\n",
      "Selected threshold:  1.0687692541864324e-05\n",
      "Precision by threshold is:  1.0\n",
      "Recall by threshold is:  1.0\n"
     ]
    }
   ],
   "source": [
    "testSet = getReshapedTestSet(testSet, 'LSTM')\n",
    "precisions = []\n",
    "recalls = []\n",
    "model = load_model('Trained_Model/lstm.h5')\n",
    "predicted = model.predict(testSet)\n",
    "mse = (np.square(testSet - predicted)).mean(axis=2).mean(axis=1)\n",
    "mse_label = np.vstack((mse, test_labels)).T\n",
    "precision = rankedPrecision(mse_label)\n",
    "recall = rankedRecall(mse_label)\n",
    "precisions.append(precision)\n",
    "recalls.append(recall)\n",
    "print(\"Precision is: \", precision)\n",
    "print(\"Recall is: \", precision)\n",
    "\n",
    "LSTMPrecisions_domain = precisions\n",
    "\n",
    "sorted_mse_label = mse_label[mse_label[:,0].argsort()[::-1]]\n",
    "\n",
    "totalNumberOfAnomalies = sum(sorted_mse_label[:,1] == 1)\n",
    "print(\"Min reconstruction error for anomalies: \", min(sorted_mse_label[sorted_mse_label[:,1] == 1,0])) # 0.010118610983828593\n",
    "print(\"max reconstruction error for benign: \", max(sorted_mse_label[sorted_mse_label[:,1] == 0,0])) \n",
    "\n",
    "\n",
    "sorted_mse_label = mse_label[mse_label[:,0].argsort()[::-1]]\n",
    "minMSE = min(sorted_mse_label[sorted_mse_label[:,1] == 0,0])\n",
    "maxMSE = max(sorted_mse_label[sorted_mse_label[:,1] == 0,0])\n",
    "thre = maxMSE + (maxMSE - minMSE)/10\n",
    "thresholds[\"LSTM\"] = thre\n",
    "print(\"Selected threshold: \",thre)\n",
    "precision = rankedPrecisionThre(mse_label,thre)\n",
    "recall = rankedRecallThre(mse_label,thre)\n",
    "print(\"Precision by threshold is: \", precision)\n",
    "print(\"Recall by threshold is: \", recall)"
   ]
  },
  {
   "cell_type": "markdown",
   "metadata": {},
   "source": [
    "### Store thresholds to file"
   ]
  },
  {
   "cell_type": "code",
   "execution_count": 15,
   "metadata": {},
   "outputs": [
    {
     "name": "stdout",
     "output_type": "stream",
     "text": [
      "Thresholds saved to file.\n"
     ]
    }
   ],
   "source": [
    "if(len(thresholds) == 4):\n",
    "    saveData(thresholds,\"thresholds\")\n",
    "    print(\"Thresholds saved to file.\")\n",
    "else:\n",
    "    print(\"Threshold dictionary is not completed!\")"
   ]
  },
  {
   "cell_type": "markdown",
   "metadata": {},
   "source": [
    "### Extras"
   ]
  },
  {
   "cell_type": "code",
   "execution_count": 81,
   "metadata": {},
   "outputs": [
    {
     "data": {
      "text/plain": [
       "[<matplotlib.lines.Line2D at 0x1f246c0b0f0>]"
      ]
     },
     "execution_count": 81,
     "metadata": {},
     "output_type": "execute_result"
    },
    {
     "data": {
      "image/png": "[encoded data removed]",
      "text/plain": [
       "<Figure size 432x288 with 1 Axes>"
      ]
     },
     "metadata": {
      "needs_background": "light"
     },
     "output_type": "display_data"
    }
   ],
   "source": [
    "plt.plot(mse, np.zeros_like(mse), 'xb')"
   ]
  },
  {
   "cell_type": "code",
   "execution_count": 82,
   "metadata": {},
   "outputs": [
    {
     "data": {
      "text/plain": [
       "[<matplotlib.lines.Line2D at 0x1f246c0b208>]"
      ]
     },
     "execution_count": 82,
     "metadata": {},
     "output_type": "execute_result"
    },
    {
     "data": {
      "image/png": "[encoded data removed]",
      "text/plain": [
       "<Figure size 432x288 with 1 Axes>"
      ]
     },
     "metadata": {
      "needs_background": "light"
     },
     "output_type": "display_data"
    }
   ],
   "source": [
    "ar = mse[0:testSetBenignSize]\n",
    "plt.plot(ar, np.zeros_like(ar), 'xb')\n",
    "ar = mse[testSetBenignSize:]\n",
    "plt.plot(ar, np.zeros_like(ar), 'xr')"
   ]
  },
  {
   "cell_type": "code",
   "execution_count": 74,
   "metadata": {},
   "outputs": [
    {
     "data": {
      "text/plain": [
       "[<matplotlib.lines.Line2D at 0x1f246ae5c18>]"
      ]
     },
     "execution_count": 74,
     "metadata": {},
     "output_type": "execute_result"
    },
    {
     "data": {
      "image/png": "[encoded data removed]",
      "text/plain": [
       "<Figure size 432x288 with 1 Axes>"
      ]
     },
     "metadata": {
      "needs_background": "light"
     },
     "output_type": "display_data"
    }
   ],
   "source": [
    "ar = mse[0:testSetBenignSize]\n",
    "plt.plot(ar, 'xb')\n",
    "ar = mse[testSetBenignSize+2000:testSetBenignSize+3000]\n",
    "plt.plot(ar, 'xr')"
   ]
  },
  {
   "cell_type": "code",
   "execution_count": 57,
   "metadata": {},
   "outputs": [
    {
     "data": {
      "text/plain": [
       "[<matplotlib.lines.Line2D at 0x1f247a8dc50>]"
      ]
     },
     "execution_count": 57,
     "metadata": {},
     "output_type": "execute_result"
    },
    {
     "data": {
      "image/png": "[encoded data removed]",
      "text/plain": [
       "<Figure size 432x288 with 1 Axes>"
      ]
     },
     "metadata": {
      "needs_background": "light"
     },
     "output_type": "display_data"
    }
   ],
   "source": [
    "plt.plot(normalizedFDIAttackDataSet[1,:,1])"
   ]
  },
  {
   "cell_type": "code",
   "execution_count": 84,
   "metadata": {},
   "outputs": [
    {
     "data": {
      "text/plain": [
       "(2382, 200, 9)"
      ]
     },
     "execution_count": 84,
     "metadata": {},
     "output_type": "execute_result"
    }
   ],
   "source": [
    "testSet.shape"
   ]
  }
 ],
 "metadata": {
  "kernelspec": {
   "display_name": "Python 3",
   "language": "python",
   "name": "python3"
  },
  "language_info": {
   "codemirror_mode": {
    "name": "ipython",
    "version": 3
   },
   "file_extension": ".py",
   "mimetype": "text/x-python",
   "name": "python",
   "nbconvert_exporter": "python",
   "pygments_lexer": "ipython3",
   "version": "3.6.10"
  }
 },
 "nbformat": 4,
 "nbformat_minor": 4
}
