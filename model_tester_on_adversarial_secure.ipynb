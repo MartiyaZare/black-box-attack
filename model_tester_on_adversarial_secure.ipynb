{
 "cells": [
  {
   "cell_type": "code",
   "execution_count": 1,
   "metadata": {},
   "outputs": [],
   "source": [
    "from MZPackage.ModelBuilder import ModelBuilder\n",
    "from MZPackage.Utilities import *"
   ]
  },
  {
   "cell_type": "code",
   "execution_count": 2,
   "metadata": {},
   "outputs": [],
   "source": [
    "mb = ModelBuilder()"
   ]
  },
  {
   "cell_type": "code",
   "execution_count": 3,
   "metadata": {},
   "outputs": [],
   "source": [
    "thresholds = loadData(\"thresholds\")"
   ]
  },
  {
   "cell_type": "markdown",
   "metadata": {},
   "source": [
    "### PCA"
   ]
  },
  {
   "cell_type": "code",
   "execution_count": 4,
   "metadata": {},
   "outputs": [
    {
     "name": "stdout",
     "output_type": "stream",
     "text": [
      "Precision without threshold is:  0.0\n",
      "Recall without threshold is:  0.0\n",
      "Min reconstruction error for anomalies:  0.003925587422935986\n",
      "max reconstruction error for benign:  0.026961132998691684\n",
      "Selected threshold:  0.0036222598678164472\n",
      "Precision by threshold is:  0.0014619883040935672\n",
      "Recall by threshold is:  1.0\n"
     ]
    }
   ],
   "source": [
    "#1/32\n",
    "modelType = \"pca\"\n",
    "testSet, testSetLabels = buildAdversarialDataSet(modelType)\n",
    "precision, recall, precisionThre, recallThre, thre, minPositiveMSE, maxNegativeMSE = mb.testModel(testSet, testSetLabels, modelType, adv = 1)\n",
    "thresholds[modelType + \"_adv\"] = thre"
   ]
  },
  {
   "cell_type": "code",
   "execution_count": 4,
   "metadata": {},
   "outputs": [
    {
     "name": "stdout",
     "output_type": "stream",
     "text": [
      "Precision without threshold is:  1.0\n",
      "Recall without threshold is:  1.0\n",
      "Min reconstruction error for anomalies:  0.0015693430214065753\n",
      "max reconstruction error for benign:  0.0013558982450146894\n",
      "Selected threshold:  0.0036222598678164472\n",
      "Precision by threshold is:  nan\n",
      "Recall by threshold is:  0.0\n"
     ]
    },
    {
     "name": "stderr",
     "output_type": "stream",
     "text": [
      "D:\\archive\\uni\\PhD\\Trustworthy Machine Learning\\project\\Angle_Difference\\MZPackage\\Utilities.py:102: RuntimeWarning: invalid value encountered in long_scalars\n",
      "  precision = TP/(TP+FP)\n"
     ]
    }
   ],
   "source": [
    "#1/16\n",
    "modelType = \"pca\"\n",
    "testSet, testSetLabels = buildAdversarialDataSet(modelType)\n",
    "precision, recall, precisionThre, recallThre, thre, minPositiveMSE, maxNegativeMSE = mb.testModel(testSet, testSetLabels, modelType, adv = 1)\n",
    "thresholds[modelType + \"_adv\"] = thre"
   ]
  },
  {
   "cell_type": "code",
   "execution_count": 8,
   "metadata": {},
   "outputs": [
    {
     "name": "stdout",
     "output_type": "stream",
     "text": [
      "Precision without threshold is:  1.0\n",
      "Recall without threshold is:  1.0\n",
      "Min reconstruction error for anomalies:  0.002837272826267405\n",
      "max reconstruction error for benign:  0.0014518743984885353\n",
      "Selected threshold:  0.0036222598678164472\n",
      "Precision by threshold is:  1.0\n",
      "Recall by threshold is:  0.94\n"
     ]
    }
   ],
   "source": [
    "#1/4\n",
    "modelType = \"pca\"\n",
    "testSet, testSetLabels = buildAdversarialDataSet(modelType)\n",
    "precision, recall, precisionThre, recallThre, thre, minPositiveMSE, maxNegativeMSE = mb.testModel(testSet, testSetLabels, modelType, adv = 1)\n",
    "thresholds[modelType + \"_adv\"] = thre"
   ]
  },
  {
   "cell_type": "code",
   "execution_count": 4,
   "metadata": {},
   "outputs": [
    {
     "name": "stdout",
     "output_type": "stream",
     "text": [
      "Precision without threshold is:  1.0\n",
      "Recall without threshold is:  1.0\n",
      "Min reconstruction error for anomalies:  0.003157802383870855\n",
      "max reconstruction error for benign:  0.0010371453858523526\n",
      "Selected threshold:  0.0036222598678164472\n",
      "Precision by threshold is:  1.0\n",
      "Recall by threshold is:  0.5\n"
     ]
    }
   ],
   "source": [
    "modelType = \"pca\"\n",
    "testSet, testSetLabels = buildAdversarialDataSet(modelType)\n",
    "precision, recall, precisionThre, recallThre, thre, minPositiveMSE, maxNegativeMSE = mb.testModel(testSet, testSetLabels, modelType, adv = 1)\n",
    "thresholds[modelType + \"_adv\"] = thre"
   ]
  },
  {
   "cell_type": "markdown",
   "metadata": {},
   "source": [
    "### Fully Connected"
   ]
  },
  {
   "cell_type": "code",
   "execution_count": 6,
   "metadata": {
    "scrolled": true
   },
   "outputs": [
    {
     "name": "stdout",
     "output_type": "stream",
     "text": [
      "Precision without threshold is:  1.0\n",
      "Recall without threshold is:  1.0\n",
      "Min reconstruction error for anomalies:  0.003073575349258088\n",
      "max reconstruction error for benign:  0.0010811324296685183\n",
      "Selected threshold:  0.007424768818683248\n",
      "Precision by threshold is:  nan\n",
      "Recall by threshold is:  0.0\n"
     ]
    },
    {
     "name": "stderr",
     "output_type": "stream",
     "text": [
      "D:\\archive\\uni\\PhD\\Trustworthy Machine Learning\\project\\Angle_Difference\\MZPackage\\Utilities.py:102: RuntimeWarning: invalid value encountered in long_scalars\n",
      "  precision = TP/(TP+FP)\n"
     ]
    }
   ],
   "source": [
    "modelType = \"fullyConnected\"\n",
    "testSet, testSetLabels = buildAdversarialDataSet(modelType)\n",
    "precision, recall, precisionThre, recallThre, thre, minPositiveMSE, maxNegativeMSE = mb.testModel(testSet, testSetLabels, modelType, adv = 1)\n",
    "thresholds[modelType + \"_adv\"] = thre"
   ]
  },
  {
   "cell_type": "markdown",
   "metadata": {},
   "source": [
    "### 1D Conv"
   ]
  },
  {
   "cell_type": "code",
   "execution_count": 7,
   "metadata": {},
   "outputs": [
    {
     "name": "stdout",
     "output_type": "stream",
     "text": [
      "Precision without threshold is:  1.0\n",
      "Recall without threshold is:  1.0\n",
      "Min reconstruction error for anomalies:  0.0022853074886004694\n",
      "max reconstruction error for benign:  8.91216968976937e-05\n",
      "Selected threshold:  0.0014309018214142405\n",
      "Precision by threshold is:  1.0\n",
      "Recall by threshold is:  1.0\n"
     ]
    }
   ],
   "source": [
    "modelType = \"conv\"\n",
    "testSet, testSetLabels = buildAdversarialDataSet(modelType)\n",
    "precision, recall, precisionThre, recallThre, thre, minPositiveMSE, maxNegativeMSE = mb.testModel(testSet, testSetLabels, modelType, adv = 1)\n",
    "thresholds[modelType + \"_adv\"] = thre"
   ]
  },
  {
   "cell_type": "markdown",
   "metadata": {},
   "source": [
    "### LSTM"
   ]
  },
  {
   "cell_type": "code",
   "execution_count": 8,
   "metadata": {},
   "outputs": [
    {
     "name": "stdout",
     "output_type": "stream",
     "text": [
      "Precision without threshold is:  1.0\n",
      "Recall without threshold is:  1.0\n",
      "Min reconstruction error for anomalies:  0.014541888110610808\n",
      "max reconstruction error for benign:  0.003002605852733423\n",
      "Selected threshold:  4.223148101830592e-05\n",
      "Precision by threshold is:  0.15318627450980393\n",
      "Recall by threshold is:  1.0\n"
     ]
    }
   ],
   "source": [
    "modelType = \"lstm\"\n",
    "testSet, testSetLabels = buildAdversarialDataSet(modelType)\n",
    "precision, recall, precisionThre, recallThre, thre, minPositiveMSE, maxNegativeMSE = mb.testModel(testSet, testSetLabels, modelType, adv = 1)\n",
    "thresholds[modelType + \"_adv\"] = thre"
   ]
  },
  {
   "cell_type": "code",
   "execution_count": null,
   "metadata": {},
   "outputs": [],
   "source": []
  }
 ],
 "metadata": {
  "kernelspec": {
   "display_name": "Python 3",
   "language": "python",
   "name": "python3"
  },
  "language_info": {
   "codemirror_mode": {
    "name": "ipython",
    "version": 3
   },
   "file_extension": ".py",
   "mimetype": "text/x-python",
   "name": "python",
   "nbconvert_exporter": "python",
   "pygments_lexer": "ipython3",
   "version": "3.6.10"
  }
 },
 "nbformat": 4,
 "nbformat_minor": 4
}
