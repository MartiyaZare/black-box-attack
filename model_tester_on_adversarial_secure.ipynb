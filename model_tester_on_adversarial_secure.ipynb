{
 "cells": [
  {
   "cell_type": "code",
   "execution_count": 1,
   "metadata": {},
   "outputs": [],
   "source": [
    "from MZPackage.ModelBuilder import ModelBuilder\n",
    "from MZPackage.Utilities import *"
   ]
  },
  {
   "cell_type": "code",
   "execution_count": 2,
   "metadata": {},
   "outputs": [],
   "source": [
    "mb = ModelBuilder()"
   ]
  },
  {
   "cell_type": "code",
   "execution_count": 3,
   "metadata": {},
   "outputs": [],
   "source": [
    "thresholds = loadData(\"thresholds\")"
   ]
  },
  {
   "cell_type": "markdown",
   "metadata": {},
   "source": [
    "### PCA"
   ]
  },
  {
   "cell_type": "code",
   "execution_count": 4,
   "metadata": {},
   "outputs": [
    {
     "name": "stdout",
     "output_type": "stream",
     "text": [
      "Precision without threshold is:  1.0\n",
      "Recall without threshold is:  1.0\n",
      "Min reconstruction error for anomalies:  0.0012496358692751217\n",
      "max reconstruction error for benign:  0.0011677688693006027\n",
      "Selected threshold:  0.0011759555692980547\n",
      "Precision by threshold is:  1.0\n",
      "Recall by threshold is:  1.0\n"
     ]
    }
   ],
   "source": [
    "modelType = \"pca\"\n",
    "testSet, testSetLabels = buildAdversarialDataSet(modelType)\n",
    "precision, recall, precisionThre, recallThre, thre, minPositiveMSE, maxNegativeMSE = mb.testModel(testSet, testSetLabels, modelType)\n",
    "thresholds[modelType + \"_adv\"] = thre"
   ]
  },
  {
   "cell_type": "markdown",
   "metadata": {},
   "source": [
    "### Fully Connected"
   ]
  },
  {
   "cell_type": "code",
   "execution_count": 5,
   "metadata": {},
   "outputs": [
    {
     "name": "stdout",
     "output_type": "stream",
     "text": [
      "Precision without threshold is:  1.0\n",
      "Recall without threshold is:  1.0\n",
      "Min reconstruction error for anomalies:  0.001349663181208897\n",
      "max reconstruction error for benign:  0.0012662559851134608\n",
      "Selected threshold:  0.0012745967047230044\n",
      "Precision by threshold is:  1.0\n",
      "Recall by threshold is:  1.0\n"
     ]
    }
   ],
   "source": [
    "modelType = \"fullyConnected\"\n",
    "testSet, testSetLabels = buildAdversarialDataSet(modelType)\n",
    "precision, recall, precisionThre, recallThre, thre, minPositiveMSE, maxNegativeMSE = mb.testModel(testSet, testSetLabels, modelType)\n",
    "thresholds[modelType + \"_adv\"] = thre"
   ]
  },
  {
   "cell_type": "markdown",
   "metadata": {},
   "source": [
    "### 1D Conv"
   ]
  },
  {
   "cell_type": "code",
   "execution_count": 6,
   "metadata": {},
   "outputs": [
    {
     "name": "stdout",
     "output_type": "stream",
     "text": [
      "Precision without threshold is:  1.0\n",
      "Recall without threshold is:  1.0\n",
      "Min reconstruction error for anomalies:  3.616080544701276e-05\n",
      "max reconstruction error for benign:  3.451640304838982e-05\n",
      "Selected threshold:  3.4680843288252115e-05\n",
      "Precision by threshold is:  1.0\n",
      "Recall by threshold is:  1.0\n"
     ]
    }
   ],
   "source": [
    "modelType = \"conv\"\n",
    "testSet, testSetLabels = buildAdversarialDataSet(modelType)\n",
    "precision, recall, precisionThre, recallThre, thre, minPositiveMSE, maxNegativeMSE = mb.testModel(testSet, testSetLabels, modelType)\n",
    "thresholds[modelType + \"_adv\"] = thre"
   ]
  },
  {
   "cell_type": "markdown",
   "metadata": {},
   "source": [
    "### LSTM"
   ]
  },
  {
   "cell_type": "code",
   "execution_count": 7,
   "metadata": {},
   "outputs": [
    {
     "name": "stdout",
     "output_type": "stream",
     "text": [
      "Precision without threshold is:  1.0\n",
      "Recall without threshold is:  1.0\n",
      "Min reconstruction error for anomalies:  1.0538012298846228e-05\n",
      "max reconstruction error for benign:  1.0025960172065749e-05\n",
      "Selected threshold:  1.0077165384743796e-05\n",
      "Precision by threshold is:  1.0\n",
      "Recall by threshold is:  1.0\n"
     ]
    }
   ],
   "source": [
    "modelType = \"lstm\"\n",
    "testSet, testSetLabels = buildAdversarialDataSet(modelType)\n",
    "precision, recall, precisionThre, recallThre, thre, minPositiveMSE, maxNegativeMSE = mb.testModel(testSet, testSetLabels, modelType)\n",
    "thresholds[modelType + \"_adv\"] = thre"
   ]
  },
  {
   "cell_type": "code",
   "execution_count": 16,
   "metadata": {},
   "outputs": [
    {
     "data": {
      "text/plain": [
       "(250, 1, 200, 9)"
      ]
     },
     "execution_count": 16,
     "metadata": {},
     "output_type": "execute_result"
    }
   ],
   "source": [
    "advTestSet.shape"
   ]
  },
  {
   "cell_type": "code",
   "execution_count": 17,
   "metadata": {},
   "outputs": [
    {
     "data": {
      "text/plain": [
       "(1382, 200, 9)"
      ]
     },
     "execution_count": 17,
     "metadata": {},
     "output_type": "execute_result"
    }
   ],
   "source": [
    "benignTestSet.shape"
   ]
  }
 ],
 "metadata": {
  "kernelspec": {
   "display_name": "Python 3",
   "language": "python",
   "name": "python3"
  },
  "language_info": {
   "codemirror_mode": {
    "name": "ipython",
    "version": 3
   },
   "file_extension": ".py",
   "mimetype": "text/x-python",
   "name": "python",
   "nbconvert_exporter": "python",
   "pygments_lexer": "ipython3",
   "version": "3.6.10"
  }
 },
 "nbformat": 4,
 "nbformat_minor": 4
}
