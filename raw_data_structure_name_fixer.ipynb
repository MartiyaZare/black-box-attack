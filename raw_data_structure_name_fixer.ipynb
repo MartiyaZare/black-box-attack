{
 "cells": [
  {
   "cell_type": "code",
   "execution_count": 1,
   "metadata": {},
   "outputs": [],
   "source": [
    "import os"
   ]
  },
  {
   "cell_type": "code",
   "execution_count": 2,
   "metadata": {},
   "outputs": [
    {
     "name": "stdout",
     "output_type": "stream",
     "text": [
      "Done!\n"
     ]
    }
   ],
   "source": [
    "rawDataDir = \"Raw_Data\" \n",
    "for faultType in os.listdir(rawDataDir):\n",
    "    faultTypeDir = '/'.join([rawDataDir,faultType])\n",
    "    if(os.path.isdir(faultTypeDir)):\n",
    "        for generationLevel in os.listdir(faultTypeDir):\n",
    "            generationLevelDir = '/'.join([faultTypeDir,generationLevel]) \n",
    "            if(os.path.isdir(generationLevelDir)):                \n",
    "                for dirName in os.listdir(generationLevelDir):\n",
    "                    dataDir = '/'.join([generationLevelDir,dirName]) \n",
    "                    if(os.path.isdir(dataDir)):                        \n",
    "                        if ~dirName.isdigit():\n",
    "                            newName = dirName.split(\"-\")[-1]\n",
    "                            oldDir = dataDir\n",
    "                            newDir = '/'.join([generationLevelDir,newName]) \n",
    "                            os.rename(oldDir,newDir)\n",
    "                            #print(oldDir)\n",
    "                            #print(newDir)\n",
    "print(\"Done!\")"
   ]
  },
  {
   "cell_type": "code",
   "execution_count": null,
   "metadata": {},
   "outputs": [],
   "source": []
  }
 ],
 "metadata": {
  "kernelspec": {
   "display_name": "Python 3",
   "language": "python",
   "name": "python3"
  },
  "language_info": {
   "codemirror_mode": {
    "name": "ipython",
    "version": 3
   },
   "file_extension": ".py",
   "mimetype": "text/x-python",
   "name": "python",
   "nbconvert_exporter": "python",
   "pygments_lexer": "ipython3",
   "version": "3.6.10"
  }
 },
 "nbformat": 4,
 "nbformat_minor": 4
}
