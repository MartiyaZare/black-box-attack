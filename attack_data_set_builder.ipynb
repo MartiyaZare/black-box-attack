{
 "cells": [
  {
   "cell_type": "code",
   "execution_count": 1,
   "metadata": {},
   "outputs": [],
   "source": [
    "from MZPackage.DataPreprocessor import DataPreprocessor\n",
    "from MZPackage.Utilities import *"
   ]
  },
  {
   "cell_type": "code",
   "execution_count": 2,
   "metadata": {},
   "outputs": [],
   "source": [
    "dp = DataPreprocessor()"
   ]
  },
  {
   "cell_type": "code",
   "execution_count": null,
   "metadata": {},
   "outputs": [],
   "source": [
    "# get benign data and save \n",
    "benignData = dp.getBenignData([\"Iprobe1_a\",\"Iprobe1_b\",\"Iprobe1_c\",\"Iprobe2_a\",\"Iprobe2_b\",\"Iprobe2_c\",\"PhaseAngle_a\",\"PhaseAngle_b\",\"PhaseAngle_c\"])\n",
    "normalizedBenignData = dp.normalizeDataSetUsingSavedParams(benignData.copy())\n",
    "saveData(normalizedBenignData, \"normalized_benign_data_set\")"
   ]
  },
  {
   "cell_type": "code",
   "execution_count": null,
   "metadata": {},
   "outputs": [],
   "source": [
    "# generate FDI attack data and save\n",
    "FDIAttackData = dp.getRandomFDIAttackData([0,1,2],1000)\n",
    "saveData(FDIAttackData, \"normalized_fdi_attack_data_set\")"
   ]
  },
  {
   "cell_type": "code",
   "execution_count": 4,
   "metadata": {},
   "outputs": [
    {
     "name": "stderr",
     "output_type": "stream",
     "text": [
      "100%|████████████████████████████████████████████████████████████████████████████████| 216/216 [01:48<00:00,  1.99it/s]\n",
      "100%|████████████████████████████████████████████████████████████████████████████████| 216/216 [01:53<00:00,  1.90it/s]\n",
      "100%|████████████████████████████████████████████████████████████████████████████████| 216/216 [01:55<00:00,  1.86it/s]\n",
      "100%|████████████████████████████████████████████████████████████████████████████████| 216/216 [02:17<00:00,  1.57it/s]\n"
     ]
    }
   ],
   "source": [
    "# generate angle shift attack data and save\n",
    "angleShiftAttackData = dp.getShiftedAngleData([\"Iprobe1_a\",\"Iprobe1_b\",\"Iprobe1_c\",\"Iprobe2_a\",\"Iprobe2_b\",\"Iprobe2_c\",\"PhaseAngle_a\",\"PhaseAngle_b\",\"PhaseAngle_c\"]\n",
    "                                  ,[\"PhaseAngle_a\",\"PhaseAngle_b\",\"PhaseAngle_c\"]\n",
    "                                  ,1000, shiftRange = [1,5])\n",
    "normalizedAngleShiftAttackData = dp.normalizeDataSetUsingSavedParams(angleShiftAttackData.copy())\n",
    "saveData(normalizedAngleShiftAttackData, \"normalized_angle_shift_attack_data_set\")"
   ]
  },
  {
   "cell_type": "code",
   "execution_count": 6,
   "metadata": {},
   "outputs": [
    {
     "name": "stderr",
     "output_type": "stream",
     "text": [
      "100%|████████████████████████████████████████████████████████████████████████████████| 216/216 [01:49<00:00,  1.98it/s]\n",
      "100%|████████████████████████████████████████████████████████████████████████████████| 216/216 [01:54<00:00,  1.89it/s]\n",
      "100%|████████████████████████████████████████████████████████████████████████████████| 216/216 [01:55<00:00,  1.87it/s]\n",
      "100%|████████████████████████████████████████████████████████████████████████████████| 216/216 [02:12<00:00,  1.63it/s]\n"
     ]
    }
   ],
   "source": [
    "# Time sync attack\n",
    "timeSyncAttackData = dp.getShiftedAngleData([\"Iprobe1_a\",\"Iprobe1_b\",\"Iprobe1_c\",\"Iprobe2_a\",\"Iprobe2_b\",\"Iprobe2_c\",\"PhaseAngle_a\",\"PhaseAngle_b\",\"PhaseAngle_c\"]\n",
    "                                  ,[\"Iprobe1_a\",\"Iprobe1_b\",\"Iprobe1_c\",\"PhaseAngle_a\",\"PhaseAngle_b\",\"PhaseAngle_c\"]\n",
    "                                  ,1000, shiftRange = [5,15])\n",
    "normalizedTimeSyncAttackData = dp.normalizeDataSetUsingSavedParams(timeSyncAttackData.copy())\n",
    "saveData(normalizedTimeSyncAttackData, \"normalized_time_sync_attack_data_set\")"
   ]
  },
  {
   "cell_type": "code",
   "execution_count": 1,
   "metadata": {},
   "outputs": [],
   "source": [
    "#tmp\n",
    "from MZPackage.DataPreprocessor import DataPreprocessor\n",
    "from MZPackage.Utilities import *\n",
    "dp = DataPreprocessor()\n",
    "\n",
    "# Replay attack\n",
    "replayAttackData = dp.getReplayAttackData(1000)\n",
    "saveData(replayAttackData, \"normalized_replay_attack_data_set\")"
   ]
  },
  {
   "cell_type": "code",
   "execution_count": null,
   "metadata": {},
   "outputs": [],
   "source": []
  }
 ],
 "metadata": {
  "kernelspec": {
   "display_name": "Python 3",
   "language": "python",
   "name": "python3"
  },
  "language_info": {
   "codemirror_mode": {
    "name": "ipython",
    "version": 3
   },
   "file_extension": ".py",
   "mimetype": "text/x-python",
   "name": "python",
   "nbconvert_exporter": "python",
   "pygments_lexer": "ipython3",
   "version": "3.6.10"
  }
 },
 "nbformat": 4,
 "nbformat_minor": 4
}
