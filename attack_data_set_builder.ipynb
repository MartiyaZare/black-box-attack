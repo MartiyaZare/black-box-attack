{
 "cells": [
  {
   "cell_type": "code",
   "execution_count": 2,
   "metadata": {},
   "outputs": [],
   "source": [
    "import matplotlib.pyplot as plt\n",
    "\n",
    "from MZPackage.DataPreprocessor import DataPreprocessor\n",
    "from MZPackage.Utilities import *"
   ]
  },
  {
   "cell_type": "code",
   "execution_count": 3,
   "metadata": {},
   "outputs": [],
   "source": [
    "dp = DataPreprocessor()\n",
    "featuresList = [\"Iprobe1_a\",\"Iprobe1_b\",\"Iprobe1_c\",\"Iprobe2_a\",\"Iprobe2_b\",\"Iprobe2_c\"]"
   ]
  },
  {
   "cell_type": "code",
   "execution_count": 3,
   "outputs": [],
   "source": [],
   "metadata": {
    "collapsed": false,
    "pycharm": {
     "name": "#%%\n"
    }
   }
  },
  {
   "cell_type": "code",
   "execution_count": 4,
   "metadata": {},
   "outputs": [
    {
     "name": "stderr",
     "output_type": "stream",
     "text": [
      "100%|██████████| 216/216 [00:02<00:00, 91.14it/s]\n",
      "100%|██████████| 216/216 [00:02<00:00, 87.61it/s]\n",
      "100%|██████████| 216/216 [00:02<00:00, 77.63it/s]\n",
      "100%|██████████| 216/216 [00:02<00:00, 77.34it/s]\n",
      "100%|██████████| 216/216 [00:06<00:00, 33.48it/s]\n",
      "100%|██████████| 216/216 [00:23<00:00,  9.09it/s]\n"
     ]
    }
   ],
   "source": [
    "# get benign data and save \n",
    "benignData = dp.getNoFaultData(featuresList, datasetFolderName=\"original_mat\")\n",
    "normalizedBenignData = dp.normalizeDataSetUsingSavedParams(benignData.copy())\n",
    "saveData(normalizedBenignData, \"Anomaly_Detection_Model_Data/normalized_no_fault_data_set\")"
   ]
  },
  {
   "cell_type": "code",
   "execution_count": 5,
   "metadata": {},
   "outputs": [
    {
     "name": "stderr",
     "output_type": "stream",
     "text": [
      "100%|██████████| 1000/1000 [00:00<00:00, 1495.89it/s]\n"
     ]
    }
   ],
   "source": [
    "# generate FDI attack data and save\n",
    "FDIAttackData = dp.getRandomFDIAttackData([0,1,2],1000, \"Anomaly_Detection_Model_Data/normalized_no_fault_data_set\")\n",
    "saveData(FDIAttackData, \"Anomaly_Detection_Model_Data/normalized_fdi_attack_data_set\")"
   ]
  },
  {
   "cell_type": "code",
   "execution_count": 6,
   "metadata": {},
   "outputs": [],
   "source": [
    "replayAttackData = dp.getReplayAttackData(1000, \"Anomaly_Detection_Model_Data/normalized_no_fault_data_set\", \"Anomaly_Detection_Model_Data/normalized_data_set\")\n",
    "saveData(replayAttackData, \"Anomaly_Detection_Model_Data/normalized_replay_attack_data_set\")"
   ]
  },
  {
   "cell_type": "code",
   "execution_count": 7,
   "outputs": [
    {
     "name": "stderr",
     "output_type": "stream",
     "text": [
      "100%|██████████| 216/216 [00:17<00:00, 12.57it/s]\n",
      "100%|██████████| 216/216 [00:02<00:00, 82.52it/s]\n",
      "100%|██████████| 216/216 [00:02<00:00, 79.99it/s]\n",
      "100%|██████████| 216/216 [00:02<00:00, 77.28it/s]\n",
      "100%|██████████| 216/216 [00:07<00:00, 28.33it/s]\n",
      "100%|██████████| 216/216 [00:23<00:00,  9.16it/s]\n"
     ]
    }
   ],
   "source": [
    "featuresToShift = featuresList[0:3]\n",
    "shiftAttackData = dp.getShiftAttackData(featuresList, featuresToShift, 1000, datasetFolderName = \"original_mat\")\n",
    "saveData(shiftAttackData, \"Anomaly_Detection_Model_Data/normalized_time_sync_attack_data_set\")"
   ],
   "metadata": {
    "collapsed": false,
    "pycharm": {
     "name": "#%%\n"
    }
   }
  },
  {
   "cell_type": "code",
   "execution_count": null,
   "outputs": [],
   "source": [],
   "metadata": {
    "collapsed": false,
    "pycharm": {
     "name": "#%%\n"
    }
   }
  }
 ],
 "metadata": {
  "kernelspec": {
   "display_name": "Python 3",
   "language": "python",
   "name": "python3"
  },
  "language_info": {
   "codemirror_mode": {
    "name": "ipython",
    "version": 3
   },
   "file_extension": ".py",
   "mimetype": "text/x-python",
   "name": "python",
   "nbconvert_exporter": "python",
   "pygments_lexer": "ipython3",
   "version": "3.6.10"
  }
 },
 "nbformat": 4,
 "nbformat_minor": 4
}