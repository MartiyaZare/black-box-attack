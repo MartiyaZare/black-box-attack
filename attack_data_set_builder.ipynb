{
 "cells": [
  {
   "cell_type": "code",
   "execution_count": 1,
   "metadata": {},
   "outputs": [],
   "source": [
    "import scipy.io\n",
    "import matplotlib.pyplot as plt\n",
    "import numpy as np\n",
    "import os\n",
    "import tqdm\n",
    "import random\n",
    "from utilities import *\n",
    "from datasetVariables import *"
   ]
  },
  {
   "cell_type": "code",
   "execution_count": 2,
   "metadata": {},
   "outputs": [],
   "source": [
    "def normalizeDataSet(dataArray):    \n",
    "    normalizationParameters = loadData(\"normalization_parameters\")    \n",
    "    divI = normalizationParameters[\"divI\"]\n",
    "    divPhase = normalizationParameters[\"divPhase\"]\n",
    "    dataArray[:,:,0:6,0] = dataArray[:,:,0:6,0]/divI\n",
    "    dataArray[:,:,6:9,0] = dataArray[:,:,6:9,0]/divPhase    \n",
    "    return dataArray"
   ]
  },
  {
   "cell_type": "code",
   "execution_count": 3,
   "metadata": {},
   "outputs": [],
   "source": [
    "def getBenignData(featureTitleList):\n",
    "    dataList = []\n",
    "    for faultType in os.listdir(rawDataDir):\n",
    "        faultTypeDir = '/'.join([rawDataDir,faultType])\n",
    "        if(os.path.isdir(faultTypeDir)):\n",
    "            for generationLevel in os.listdir(faultTypeDir):\n",
    "                generationLevelDir = '/'.join([faultTypeDir,generationLevel]) \n",
    "                if(os.path.isdir(generationLevelDir)):\n",
    "                    ttl = len(os.listdir(generationLevelDir))\n",
    "                    with tqdm.tqdm(total=ttl) as p_bar:                             \n",
    "                        processed = 0;\n",
    "                        for dirName in os.listdir(generationLevelDir):\n",
    "                            dataDir = '/'.join([generationLevelDir,dirName])                                                    \n",
    "                            for fileName in os.listdir(dataDir):\n",
    "                                filePath = '/'.join([dataDir,fileName]) \n",
    "                                mat = scipy.io.loadmat(filePath)                               \n",
    "                                toAddSubSequence = []                                \n",
    "                                faultIndex = mat[\"Fault_Index\"][0][0]                                                                  \n",
    "                                randInt = random.randint(1,101)\n",
    "                                startIndex = 500 + randInt\n",
    "                                endIndex = 700 + randInt                                    \n",
    "                                for feature in featureTitleList:  \n",
    "                                    toAppendArr = mat[feature][startIndex:endIndex]                                                                        \n",
    "                                    toAddSubSequence.append(toAppendArr) \n",
    "                                dataList.append(toAddSubSequence)                            \n",
    "                            p_bar.update(1)    \n",
    "    return np.swapaxes(np.array(dataList), 1, 2)"
   ]
  },
  {
   "cell_type": "code",
   "execution_count": 4,
   "metadata": {},
   "outputs": [],
   "source": [
    "def getShiftedAngleData(featureTitleList, featuresToShift, count, shiftRange = 20):\n",
    "    dataList = []\n",
    "    for faultType in os.listdir(rawDataDir):\n",
    "        faultTypeDir = '/'.join([rawDataDir,faultType])\n",
    "        if(os.path.isdir(faultTypeDir)):\n",
    "            for generationLevel in os.listdir(faultTypeDir):\n",
    "                generationLevelDir = '/'.join([faultTypeDir,generationLevel]) \n",
    "                if(os.path.isdir(generationLevelDir)):      \n",
    "                    ttl = len(os.listdir(generationLevelDir)) \n",
    "                    with tqdm.tqdm(total=ttl) as p_bar:                             \n",
    "                        processed = 0;\n",
    "                        for dirName in os.listdir(generationLevelDir):\n",
    "                            dataDir = '/'.join([generationLevelDir,dirName])                                                    \n",
    "                            for fileName in os.listdir(dataDir):\n",
    "                                filePath = '/'.join([dataDir,fileName]) \n",
    "                                mat = scipy.io.loadmat(filePath)                               \n",
    "                                toAddSubSequence = []                                                                                                                                  \n",
    "                                randInt = random.randint(1,101)\n",
    "                                startIndex = 500 + randInt\n",
    "                                endIndex = 700 + randInt    \n",
    "                                shiftBy = random.randint(5,shiftRange)\n",
    "                                for feature in featureTitleList:  \n",
    "                                    toAppendArr = mat[feature][startIndex:endIndex]                                    \n",
    "                                    if(feature in featuresToShift):\n",
    "                                        shiftedHalfStartIndex = int(startIndex+sequenceLen/2-shiftBy)\n",
    "                                        shiftedHalfEndIndex = int(endIndex-shiftBy)\n",
    "                                        attackStartIndex = int(sequenceLen/2)\n",
    "                                        toAppendArr[attackStartIndex:] = mat[feature][shiftedHalfStartIndex:shiftedHalfEndIndex]\n",
    "                                    toAddSubSequence.append(toAppendArr) \n",
    "                                dataList.append(toAddSubSequence)                                                        \n",
    "                            p_bar.update(1) \n",
    "    smapledList = random.sample(dataList, count)\n",
    "    return np.swapaxes(np.array(smapledList), 1, 2)"
   ]
  },
  {
   "cell_type": "code",
   "execution_count": 5,
   "metadata": {},
   "outputs": [],
   "source": [
    "def getRandomFDIAttackData(featuresIndexesToAttack, count):\n",
    "    benignData = loadData(\"benign_data_set\")\n",
    "    sampledBenignDataList = random.sample(list(benignData), count)\n",
    "    sampledBenignDataArr = np.array(sampledBenignDataList)\n",
    "    ttl = len(sampledBenignDataArr)\n",
    "    with tqdm.tqdm(total=ttl) as p_bar:              \n",
    "        processed = 0;  \n",
    "        for dataSeq in sampledBenignDataArr:                                                                                                        \n",
    "            for featureIndex in featuresIndexesToAttack:  \n",
    "                randArr = np.random.rand(count,sequenceLen)                \n",
    "                sampledBenignDataArr[:,:,featureIndex,0] = randArr                                                                 \n",
    "            p_bar.update(1) # One is processed\n",
    "            \n",
    "    return sampledBenignDataArr"
   ]
  },
  {
   "cell_type": "code",
   "execution_count": 6,
   "metadata": {},
   "outputs": [
    {
     "name": "stderr",
     "output_type": "stream",
     "text": [
      "100%|████████████████████████████████████████████████████████████████████████████████| 216/216 [01:49<00:00,  1.97it/s]\n",
      "100%|████████████████████████████████████████████████████████████████████████████████| 216/216 [01:57<00:00,  1.84it/s]\n",
      "100%|████████████████████████████████████████████████████████████████████████████████| 216/216 [02:02<00:00,  1.76it/s]\n",
      "100%|████████████████████████████████████████████████████████████████████████████████| 216/216 [02:18<00:00,  1.56it/s]\n"
     ]
    }
   ],
   "source": [
    "# get benign data and save \n",
    "benignData = getBenignData([\"Iprobe1_a\",\"Iprobe1_b\",\"Iprobe1_c\",\"Iprobe2_a\",\"Iprobe2_b\",\"Iprobe2_c\",\"PhaseAngle_a\",\"PhaseAngle_b\",\"PhaseAngle_c\"])\n",
    "normalizedBenignData = normalizeDataSet(benignData.copy())\n",
    "saveData(normalizedBenignData, \"benign_data_set\")"
   ]
  },
  {
   "cell_type": "code",
   "execution_count": 8,
   "metadata": {},
   "outputs": [
    {
     "name": "stderr",
     "output_type": "stream",
     "text": [
      "100%|█████████████████████████████████████████████████████████████████████████████| 1000/1000 [00:06<00:00, 155.86it/s]\n"
     ]
    }
   ],
   "source": [
    "# generate FDI attack data and save\n",
    "# generate angle shift attack data and save\n",
    "FDIAttackData = getRandomFDIAttackData([0,1,2],1000)\n",
    "normalizedFDIAttackData = normalizeDataSet(FDIAttackData.copy())\n",
    "saveData(normalizedFDIAttackData, \"normalized_fdi_attack_data_set\")"
   ]
  },
  {
   "cell_type": "code",
   "execution_count": 7,
   "metadata": {},
   "outputs": [
    {
     "name": "stderr",
     "output_type": "stream",
     "text": [
      "100%|████████████████████████████████████████████████████████████████████████████████| 216/216 [01:48<00:00,  2.00it/s]\n",
      "100%|████████████████████████████████████████████████████████████████████████████████| 216/216 [01:53<00:00,  1.90it/s]\n",
      "100%|████████████████████████████████████████████████████████████████████████████████| 216/216 [01:54<00:00,  1.89it/s]\n",
      "100%|████████████████████████████████████████████████████████████████████████████████| 216/216 [02:11<00:00,  1.65it/s]\n"
     ]
    }
   ],
   "source": [
    "# generate angle shift attack data and save\n",
    "angleShiftAttackData = getShiftedAngleData([\"Iprobe1_a\",\"Iprobe1_b\",\"Iprobe1_c\",\"Iprobe2_a\",\"Iprobe2_b\",\"Iprobe2_c\",\"PhaseAngle_a\",\"PhaseAngle_b\",\"PhaseAngle_c\"]\n",
    "                                  ,[\"PhaseAngle_a\",\"PhaseAngle_b\",\"PhaseAngle_c\"]\n",
    "                                  ,1000)\n",
    "normalizedAngleShiftAttackData = normalizeDataSet(angleShiftAttackData.copy())\n",
    "saveData(normalizedAngleShiftAttackData, \"normalized_angle_shift_attack_data_set\")"
   ]
  },
  {
   "cell_type": "code",
   "execution_count": 10,
   "metadata": {},
   "outputs": [
    {
     "name": "stderr",
     "output_type": "stream",
     "text": [
      "100%|████████████████████████████████████████████████████████████████████████████████| 216/216 [01:42<00:00,  2.12it/s]\n",
      "100%|████████████████████████████████████████████████████████████████████████████████| 216/216 [01:53<00:00,  1.91it/s]\n",
      "100%|████████████████████████████████████████████████████████████████████████████████| 216/216 [01:54<00:00,  1.88it/s]\n",
      "100%|████████████████████████████████████████████████████████████████████████████████| 216/216 [02:32<00:00,  1.41it/s]\n"
     ]
    }
   ],
   "source": [
    "# Time sync attack\n",
    "timeSyncAttackData = getShiftedAngleData([\"Iprobe1_a\",\"Iprobe1_b\",\"Iprobe1_c\",\"Iprobe2_a\",\"Iprobe2_b\",\"Iprobe2_c\",\"PhaseAngle_a\",\"PhaseAngle_b\",\"PhaseAngle_c\"]\n",
    "                                  ,[\"Iprobe1_a\",\"Iprobe1_b\",\"Iprobe1_c\",\"PhaseAngle_a\",\"PhaseAngle_b\",\"PhaseAngle_c\"]\n",
    "                                  ,1000)\n",
    "normalizedTimeSyncAttackData = normalizeDataSet(timeSyncAttackData.copy())\n",
    "saveData(normalizedTimeSyncAttackData, \"normalized_time_sync_attack_data_set\")"
   ]
  },
  {
   "cell_type": "code",
   "execution_count": 34,
   "metadata": {},
   "outputs": [
    {
     "data": {
      "text/plain": [
       "[<matplotlib.lines.Line2D at 0x2c6108eb2b0>]"
      ]
     },
     "execution_count": 34,
     "metadata": {},
     "output_type": "execute_result"
    },
    {
     "data": {
      "image/png": "[encoded data removed]",
      "text/plain": [
       "<Figure size 432x288 with 1 Axes>"
      ]
     },
     "metadata": {
      "needs_background": "light"
     },
     "output_type": "display_data"
    }
   ],
   "source": [
    "plt.plot(angleShiftAttackData[1,:,7])"
   ]
  },
  {
   "cell_type": "code",
   "execution_count": 13,
   "metadata": {},
   "outputs": [
    {
     "ename": "SyntaxError",
     "evalue": "invalid syntax (<ipython-input-13-ff2acae9a541>, line 1)",
     "output_type": "error",
     "traceback": [
      "\u001b[1;36m  File \u001b[1;32m\"<ipython-input-13-ff2acae9a541>\"\u001b[1;36m, line \u001b[1;32m1\u001b[0m\n\u001b[1;33m    FDIAttackData(1,:,0).shape\u001b[0m\n\u001b[1;37m                    ^\u001b[0m\n\u001b[1;31mSyntaxError\u001b[0m\u001b[1;31m:\u001b[0m invalid syntax\n"
     ]
    }
   ],
   "source": [
    "FDIAttackData(1,:,0).shape"
   ]
  }
 ],
 "metadata": {
  "kernelspec": {
   "display_name": "Python 3",
   "language": "python",
   "name": "python3"
  },
  "language_info": {
   "codemirror_mode": {
    "name": "ipython",
    "version": 3
   },
   "file_extension": ".py",
   "mimetype": "text/x-python",
   "name": "python",
   "nbconvert_exporter": "python",
   "pygments_lexer": "ipython3",
   "version": "3.6.10"
  }
 },
 "nbformat": 4,
 "nbformat_minor": 4
}
