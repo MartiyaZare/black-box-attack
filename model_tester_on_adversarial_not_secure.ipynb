{
 "cells": [
  {
   "cell_type": "code",
   "execution_count": 1,
   "metadata": {},
   "outputs": [],
   "source": [
    "from MZPackage.ModelBuilder import ModelBuilder\n",
    "from MZPackage.Utilities import *"
   ]
  },
  {
   "cell_type": "code",
   "execution_count": 2,
   "metadata": {},
   "outputs": [],
   "source": [
    "mb = ModelBuilder()"
   ]
  },
  {
   "cell_type": "code",
   "execution_count": 3,
   "metadata": {},
   "outputs": [],
   "source": [
    "thresholds = loadData(\"thresholds\")"
   ]
  },
  {
   "cell_type": "markdown",
   "metadata": {},
   "source": [
    "### PCA"
   ]
  },
  {
   "cell_type": "code",
   "execution_count": 4,
   "metadata": {},
   "outputs": [
    {
     "name": "stdout",
     "output_type": "stream",
     "text": [
      "Precision without threshold is:  1.0\n",
      "Recall without threshold is:  1.0\n",
      "Min reconstruction error for anomalies:  0.0035779232778897167\n",
      "max reconstruction error for benign:  nan\n",
      "Selected threshold:  0.0036222598678164472\n",
      "Precision by threshold is:  nan\n",
      "Recall by threshold is:  0.0\n"
     ]
    },
    {
     "name": "stderr",
     "output_type": "stream",
     "text": [
      "D:\\archive\\uni\\PhD\\Trustworthy Machine Learning\\project\\Angle_Difference\\MZPackage\\Utilities.py:102: RuntimeWarning: invalid value encountered in long_scalars\n",
      "  precision = TP/(TP+FP)\n"
     ]
    }
   ],
   "source": [
    "#aggressive\n",
    "modelType = \"pca\"\n",
    "testSet = loadData(\"adversarial_data_set_\" + modelType)\n",
    "testSetLabels = np.ones(len(testSet)) \n",
    "precision, recall, precisionThre, recallThre, thre, minPositiveMSE, maxNegativeMSE = mb.testModel(testSet, testSetLabels, modelType)\n",
    "thresholds[modelType] = thre  "
   ]
  },
  {
   "cell_type": "markdown",
   "metadata": {},
   "source": [
    "### Fully Connected"
   ]
  },
  {
   "cell_type": "code",
   "execution_count": 5,
   "metadata": {},
   "outputs": [
    {
     "name": "stdout",
     "output_type": "stream",
     "text": [
      "Precision without threshold is:  1.0\n",
      "Recall without threshold is:  1.0\n",
      "Min reconstruction error for anomalies:  0.001349663181208897\n",
      "max reconstruction error for benign:  nan\n",
      "Selected threshold:  0.007424768818683248\n",
      "Precision by threshold is:  nan\n",
      "Recall by threshold is:  0.0\n"
     ]
    }
   ],
   "source": [
    "modelType = \"fullyConnected\"\n",
    "testSet = loadData(\"adversarial_data_set_\" + modelType)\n",
    "testSetLabels = np.ones(len(testSet)) \n",
    "precision, recall, precisionThre, recallThre, thre, minPositiveMSE, maxNegativeMSE = mb.testModel(testSet, testSetLabels, modelType)\n",
    "thresholds[modelType] = thre    "
   ]
  },
  {
   "cell_type": "markdown",
   "metadata": {},
   "source": [
    "### 1D Conv"
   ]
  },
  {
   "cell_type": "code",
   "execution_count": 6,
   "metadata": {},
   "outputs": [
    {
     "name": "stdout",
     "output_type": "stream",
     "text": [
      "Precision without threshold is:  1.0\n",
      "Recall without threshold is:  1.0\n",
      "Min reconstruction error for anomalies:  3.60813332074621e-05\n",
      "max reconstruction error for benign:  nan\n",
      "Selected threshold:  0.0014309018214142405\n",
      "Precision by threshold is:  nan\n",
      "Recall by threshold is:  0.0\n"
     ]
    },
    {
     "name": "stderr",
     "output_type": "stream",
     "text": [
      "D:\\archive\\uni\\PhD\\Trustworthy Machine Learning\\project\\Angle_Difference\\MZPackage\\Utilities.py:102: RuntimeWarning: invalid value encountered in long_scalars\n",
      "  precision = TP/(TP+FP)\n"
     ]
    }
   ],
   "source": [
    "modelType = \"conv\"\n",
    "testSet = loadData(\"adversarial_data_set_\" + modelType)\n",
    "testSetLabels = np.ones(len(testSet)) \n",
    "precision, recall, precisionThre, recallThre, thre, minPositiveMSE, maxNegativeMSE = mb.testModel(testSet, testSetLabels, modelType)\n",
    "thresholds[modelType] = thre    "
   ]
  },
  {
   "cell_type": "markdown",
   "metadata": {},
   "source": [
    "### LSTM"
   ]
  },
  {
   "cell_type": "code",
   "execution_count": 7,
   "metadata": {},
   "outputs": [
    {
     "name": "stdout",
     "output_type": "stream",
     "text": [
      "Precision without threshold is:  1.0\n",
      "Recall without threshold is:  1.0\n",
      "Min reconstruction error for anomalies:  1.0538012298846228e-05\n",
      "max reconstruction error for benign:  nan\n",
      "Selected threshold:  4.223148101830592e-05\n",
      "Precision by threshold is:  nan\n",
      "Recall by threshold is:  0.0\n"
     ]
    },
    {
     "name": "stderr",
     "output_type": "stream",
     "text": [
      "D:\\archive\\uni\\PhD\\Trustworthy Machine Learning\\project\\Angle_Difference\\MZPackage\\Utilities.py:102: RuntimeWarning: invalid value encountered in long_scalars\n",
      "  precision = TP/(TP+FP)\n"
     ]
    }
   ],
   "source": [
    "modelType = \"lstm\"\n",
    "testSet = loadData(\"adversarial_data_set_\" + modelType)\n",
    "testSetLabels = np.ones(len(testSet)) \n",
    "precision, recall, precisionThre, recallThre, thre, minPositiveMSE, maxNegativeMSE = mb.testModel(testSet, testSetLabels, modelType)\n",
    "thresholds[modelType] = thre    "
   ]
  },
  {
   "cell_type": "code",
   "execution_count": null,
   "metadata": {},
   "outputs": [],
   "source": []
  }
 ],
 "metadata": {
  "kernelspec": {
   "display_name": "Python 3",
   "language": "python",
   "name": "python3"
  },
  "language_info": {
   "codemirror_mode": {
    "name": "ipython",
    "version": 3
   },
   "file_extension": ".py",
   "mimetype": "text/x-python",
   "name": "python",
   "nbconvert_exporter": "python",
   "pygments_lexer": "ipython3",
   "version": "3.6.10"
  }
 },
 "nbformat": 4,
 "nbformat_minor": 4
}
