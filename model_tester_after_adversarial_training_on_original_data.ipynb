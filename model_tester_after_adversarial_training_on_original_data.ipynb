{
 "cells": [
  {
   "cell_type": "code",
   "execution_count": 1,
   "metadata": {},
   "outputs": [],
   "source": [
    "from MZPackage.DataPreprocessor import DataPreprocessor\n",
    "from MZPackage.ModelBuilder import ModelBuilder\n",
    "from MZPackage.Utilities import *"
   ]
  },
  {
   "cell_type": "code",
   "execution_count": 2,
   "metadata": {},
   "outputs": [],
   "source": [
    "dp = DataPreprocessor()\n",
    "mb = ModelBuilder()"
   ]
  },
  {
   "cell_type": "markdown",
   "metadata": {},
   "source": [
    "### Prepare attack data"
   ]
  },
  {
   "cell_type": "code",
   "execution_count": 3,
   "metadata": {},
   "outputs": [],
   "source": [
    "testSet, testSetLabels = dp.getOldAttackData()"
   ]
  },
  {
   "cell_type": "code",
   "execution_count": 4,
   "metadata": {},
   "outputs": [],
   "source": [
    "setThreParam = 1\n",
    "advParam = 1\n",
    "# To store thresholds\n",
    "thresholds = {}"
   ]
  },
  {
   "cell_type": "markdown",
   "metadata": {},
   "source": [
    "### PCA"
   ]
  },
  {
   "cell_type": "code",
   "execution_count": 5,
   "metadata": {},
   "outputs": [
    {
     "name": "stdout",
     "output_type": "stream",
     "text": [
      "Precision without threshold is:  0.768\n",
      "Recall without threshold is:  0.768\n",
      "Min reconstruction error for anomalies:  0.0006232109391545062\n",
      "max reconstruction error for benign:  0.028389949780716014\n",
      "Selected threshold:  0.0006232109391545062\n",
      "Precision by threshold is:  0.41981528127623846\n",
      "Recall by threshold is:  1.0\n"
     ]
    }
   ],
   "source": [
    "modelType = \"pca\"\n",
    "precision, recall, precisionThre, recallThre, thre, minPositiveMSE, maxNegativeMSE = mb.testModel(testSet, testSetLabels, modelType, setThre = setThreParam, adv = advParam)\n",
    "thresholds[modelType] = thre   "
   ]
  },
  {
   "cell_type": "markdown",
   "metadata": {},
   "source": [
    "### Fully connected"
   ]
  },
  {
   "cell_type": "code",
   "execution_count": 10,
   "metadata": {},
   "outputs": [
    {
     "name": "stdout",
     "output_type": "stream",
     "text": [
      "Precision without threshold is:  0.991\n",
      "Recall without threshold is:  0.991\n",
      "Min reconstruction error for anomalies:  0.00045443618349108003\n",
      "max reconstruction error for benign:  0.0010811324296685183\n",
      "Selected threshold:  0.00045443618349108003\n",
      "Precision by threshold is:  0.9328358208955224\n",
      "Recall by threshold is:  1.0\n"
     ]
    }
   ],
   "source": [
    "modelType = \"fullyConnected\"\n",
    "precision, recall, precisionThre, recallThre, thre, minPositiveMSE, maxNegativeMSE = mb.testModel(testSet, testSetLabels, modelType, setThre = setThreParam, adv = advParam)\n",
    "thresholds[modelType] = thre    "
   ]
  },
  {
   "cell_type": "markdown",
   "metadata": {},
   "source": [
    "### 1D Conv"
   ]
  },
  {
   "cell_type": "code",
   "execution_count": 16,
   "metadata": {},
   "outputs": [
    {
     "name": "stdout",
     "output_type": "stream",
     "text": [
      "Precision without threshold is:  1.0\n",
      "Recall without threshold is:  1.0\n",
      "Min reconstruction error for anomalies:  9.445641848794225e-05\n",
      "max reconstruction error for benign:  8.91216968976937e-05\n",
      "Selected threshold:  8.965516905671856e-05\n",
      "Precision by threshold is:  1.0\n",
      "Recall by threshold is:  1.0\n"
     ]
    }
   ],
   "source": [
    "modelType = \"conv\"\n",
    "precision, recall, precisionThre, recallThre, thre, minPositiveMSE, maxNegativeMSE = mb.testModel(testSet, testSetLabels, modelType, setThre = setThreParam, adv = advParam)\n",
    "thresholds[modelType] = thre "
   ]
  },
  {
   "cell_type": "markdown",
   "metadata": {},
   "source": [
    "### LSTM"
   ]
  },
  {
   "cell_type": "code",
   "execution_count": 17,
   "metadata": {},
   "outputs": [
    {
     "name": "stdout",
     "output_type": "stream",
     "text": [
      "Precision without threshold is:  0.923\n",
      "Recall without threshold is:  0.923\n",
      "Min reconstruction error for anomalies:  7.203692165549812e-05\n",
      "max reconstruction error for benign:  0.003002605852733423\n",
      "Selected threshold:  7.203692165549812e-05\n",
      "Precision by threshold is:  0.41981528127623846\n",
      "Recall by threshold is:  1.0\n"
     ]
    }
   ],
   "source": [
    "modelType = \"lstm\"\n",
    "precision, recall, precisionThre, recallThre, thre, minPositiveMSE, maxNegativeMSE = mb.testModel(testSet, testSetLabels, modelType, setThre = setThreParam, adv = advParam)\n",
    "thresholds[modelType] = thre "
   ]
  },
  {
   "cell_type": "markdown",
   "metadata": {},
   "source": [
    "### Store thresholds to file"
   ]
  },
  {
   "cell_type": "code",
   "execution_count": 9,
   "metadata": {},
   "outputs": [
    {
     "name": "stdout",
     "output_type": "stream",
     "text": [
      "Thresholds saved to file.\n"
     ]
    }
   ],
   "source": [
    "if(len(thresholds) == 4):\n",
    "    saveData(thresholds,\"thresholds\")\n",
    "    print(\"Thresholds saved to file.\")\n",
    "else:\n",
    "    print(\"Threshold dictionary is not completed!\")"
   ]
  },
  {
   "cell_type": "markdown",
   "metadata": {},
   "source": [
    "### Extras"
   ]
  }
 ],
 "metadata": {
  "kernelspec": {
   "display_name": "Python 3",
   "language": "python",
   "name": "python3"
  },
  "language_info": {
   "codemirror_mode": {
    "name": "ipython",
    "version": 3
   },
   "file_extension": ".py",
   "mimetype": "text/x-python",
   "name": "python",
   "nbconvert_exporter": "python",
   "pygments_lexer": "ipython3",
   "version": "3.6.10"
  }
 },
 "nbformat": 4,
 "nbformat_minor": 4
}
