{
 "cells": [
  {
   "cell_type": "code",
   "execution_count": 1,
   "metadata": {},
   "outputs": [],
   "source": [
    "from tensorflow.keras.models import Sequential, load_model\n",
    "from tensorflow.keras.layers import Dense, Activation, LSTM, Flatten, Reshape\n",
    "from tensorflow.keras.callbacks import EarlyStopping, ModelCheckpoint\n",
    "from tensorflow.keras.optimizers import Adam\n",
    "import numpy as np\n",
    "import matplotlib.pyplot as plt\n",
    "from tensorflow.python.keras import backend as K\n",
    "import gc\n",
    "import tensorflow as tf\n",
    "import random\n",
    "from sklearn import preprocessing\n",
    "import pickle"
   ]
  },
  {
   "cell_type": "code",
   "execution_count": 2,
   "metadata": {},
   "outputs": [],
   "source": [
    "#Load config\n",
    "with open('Data_Set/config.pickle', 'rb') as data:\n",
    "    config = pickle.load(data)\n",
    "dataSetSize = config[\"dataSetSize\"]\n",
    "testSetBenignSize = config[\"testSetBenignSize\"]\n",
    "validationSetSize = config[\"validationSetSize\"]\n",
    "trainingSetSize = config[\"trainingSetSize\"]\n",
    "sequenceLen = config[\"sequenceLen\"]\n",
    "dimensionsCount = config[\"dimensionsCount\"]\n",
    "numberOfAttackSamplesToChoose = 100\n",
    "testSetSize = testSetBenignSize + numberOfAttackSamplesToChoose"
   ]
  },
  {
   "cell_type": "code",
   "execution_count": 3,
   "metadata": {},
   "outputs": [],
   "source": [
    "with open('Data_set/normalized_data_set.pickle', 'rb') as data:\n",
    "    normalizedDataSet = pickle.load(data)\n",
    "with open('Data_set/normalized_angle_shift_attack_data_set.pickle', 'rb') as data:\n",
    "    normalizedAngleShiftAttackDataSet = pickle.load(data)\n",
    "\n",
    "testSetBenign = np.reshape(normalizedDataSet[trainingSetSize:trainingSetSize+testSetBenignSize,:,:,:], (testSetBenignSize,sequenceLen,dimensionsCount), order = 'C')\n",
    "testSetAttack = np.reshape(normalizedAngleShiftAttackDataSet[0:numberOfAttackSamplesToChoose,:,:,:], (numberOfAttackSamplesToChoose,sequenceLen,dimensionsCount), order = 'C')\n",
    "testSet = np.concatenate((testSetBenign,testSetAttack))\n",
    "test_labels = np.zeros(testSetSize)\n",
    "test_labels[testSetBenignSize:] = np.ones(numberOfAttackSamplesToChoose) "
   ]
  },
  {
   "cell_type": "code",
   "execution_count": 4,
   "metadata": {},
   "outputs": [
    {
     "data": {
      "text/plain": [
       "445"
      ]
     },
     "execution_count": 4,
     "metadata": {},
     "output_type": "execute_result"
    }
   ],
   "source": [
    "testSetSize"
   ]
  },
  {
   "cell_type": "code",
   "execution_count": 5,
   "metadata": {},
   "outputs": [],
   "source": [
    "def rankedPrecision(mse_labels):\n",
    "    sorted_mse_label = mse_label[mse_label[:,0].argsort()[::-1]]\n",
    "    totalNumberOfAnomalies = sum(sorted_mse_label[:,1] == 1)\n",
    "    TP = sum(sorted_mse_label[0:totalNumberOfAnomalies,1] == 1)\n",
    "    FP = sum(sorted_mse_label[0:totalNumberOfAnomalies,1] == 0)\n",
    "    TN = sum(sorted_mse_label[totalNumberOfAnomalies:,1] == 0)\n",
    "    FN = sum(sorted_mse_label[totalNumberOfAnomalies:,1] == 1)\n",
    "    precision = TP/(TP+FP)\n",
    "    return precision\n",
    "    \n",
    "    \n",
    "def rankedRecall(mse_labels):\n",
    "    sorted_mse_label = mse_label[mse_label[:,0].argsort()[::-1]]\n",
    "    totalNumberOfAnomalies = sum(sorted_mse_label[:,1] == 1)\n",
    "    TP = sum(sorted_mse_label[0:totalNumberOfAnomalies,1] == 1)\n",
    "    FP = sum(sorted_mse_label[0:totalNumberOfAnomalies,1] == 0)\n",
    "    TN = sum(sorted_mse_label[totalNumberOfAnomalies:,1] == 0)\n",
    "    FN = sum(sorted_mse_label[totalNumberOfAnomalies:,1] == 1)\n",
    "    recall = TP/(TP+FN)\n",
    "    return recall\n",
    "\n",
    "# show_curve() is for plotting training and validation losses\n",
    "def show_curve(history):\n",
    "    plt.plot(history.history['loss'])\n",
    "    plt.plot(history.history['val_loss'])\n",
    "    plt.title('model loss')\n",
    "    plt.ylabel('loss')\n",
    "    plt.xlabel('epoch')\n",
    "    plt.legend(['train', 'validation'], loc='upper left')\n",
    "    plt.show()\n",
    "    \n",
    "    \n",
    "def rankedPrecisionThre(mse_labels,threshold):\n",
    "    sorted_mse_label = mse_label[mse_label[:,0].argsort()[::-1]]\n",
    "    TP = sum((sorted_mse_label[:,1] == 1) & (sorted_mse_label[:,0] >= threshold))\n",
    "    FP = sum((sorted_mse_label[:,1] == 0) & (sorted_mse_label[:,0] >= threshold))\n",
    "    TN = sum((sorted_mse_label[:,1] == 0) & (sorted_mse_label[:,0] < threshold))\n",
    "    FN = sum((sorted_mse_label[:,1] == 1) & (sorted_mse_label[:,0] < threshold))\n",
    "    precision = TP/(TP+FP)\n",
    "    return precision\n",
    "    \n",
    "    \n",
    "def rankedRecallThre(mse_labels,threshold):\n",
    "    sorted_mse_label = mse_label[mse_label[:,0].argsort()[::-1]]\n",
    "    TP = sum((sorted_mse_label[:,1] == 1) & (sorted_mse_label[:,0] >= threshold))\n",
    "    FP = sum((sorted_mse_label[:,1] == 0) & (sorted_mse_label[:,0] >= threshold))\n",
    "    TN = sum((sorted_mse_label[:,1] == 0) & (sorted_mse_label[:,0] < threshold))\n",
    "    FN = sum((sorted_mse_label[:,1] == 1) & (sorted_mse_label[:,0] < threshold))\n",
    "    recall = TP/(TP+FN)\n",
    "    return recall"
   ]
  },
  {
   "cell_type": "code",
   "execution_count": 6,
   "metadata": {},
   "outputs": [
    {
     "name": "stdout",
     "output_type": "stream",
     "text": [
      "Precision is:  1.0\n",
      "Recall is:  1.0\n",
      "0.13461270835611572\n",
      "7.710547100442337e-05\n"
     ]
    }
   ],
   "source": [
    "precisions = []\n",
    "recalls = []\n",
    "model = load_model('Trained_Model/lstm_adv.h5')\n",
    "predicted = model.predict(testSet)\n",
    "mse = (np.square(testSet - predicted)).mean(axis=2).mean(axis=1)\n",
    "mse_label = np.vstack((mse, test_labels)).T\n",
    "precision = rankedPrecision(mse_label)\n",
    "recall = rankedRecall(mse_label)\n",
    "precisions.append(precision)\n",
    "recalls.append(recall)\n",
    "print(\"Precision is: \", precision)\n",
    "print(\"Recall is: \", precision)\n",
    "\n",
    "LSTMPrecisions_domain = precisions\n",
    "\n",
    "sorted_mse_label = mse_label[mse_label[:,0].argsort()[::-1]]\n",
    "\n",
    "totalNumberOfAnomalies = sum(sorted_mse_label[:,1] == 1)\n",
    "print(min(sorted_mse_label[sorted_mse_label[:,1] == 1,0])) # 0.010118610983828593\n",
    "print(max(sorted_mse_label[sorted_mse_label[:,1] == 0,0])) "
   ]
  },
  {
   "cell_type": "code",
   "execution_count": 7,
   "metadata": {},
   "outputs": [
    {
     "name": "stdout",
     "output_type": "stream",
     "text": [
      "Selected threshold:  8.286412884426776e-05\n",
      "Precision by threshold is:  1.0\n",
      "Recall by threshold is:  1.0\n"
     ]
    }
   ],
   "source": [
    "sorted_mse_label = mse_label[mse_label[:,0].argsort()[::-1]]\n",
    "minMSE = min(sorted_mse_label[sorted_mse_label[:,1] == 0,0])\n",
    "maxMSE = max(sorted_mse_label[sorted_mse_label[:,1] == 0,0])\n",
    "thre = maxMSE + (maxMSE - minMSE)/10\n",
    "threshold = 1\n",
    "#print((sorted_mse_label[:,1] == 1) & (sorted_mse_label[:,0] >= threshold))\n",
    "print(\"Selected threshold: \",thre)\n",
    "precision = rankedPrecisionThre(mse_label,thre)\n",
    "recall = rankedRecallThre(mse_label,thre)\n",
    "print(\"Precision by threshold is: \", precision)\n",
    "print(\"Recall by threshold is: \", recall)"
   ]
  },
  {
   "cell_type": "code",
   "execution_count": 45,
   "metadata": {},
   "outputs": [
    {
     "data": {
      "text/plain": [
       "(445,)"
      ]
     },
     "execution_count": 45,
     "metadata": {},
     "output_type": "execute_result"
    }
   ],
   "source": [
    "mse.shape"
   ]
  },
  {
   "cell_type": "code",
   "execution_count": 10,
   "metadata": {},
   "outputs": [
    {
     "name": "stdout",
     "output_type": "stream",
     "text": [
      "[7.82487482e-05]\n"
     ]
    }
   ],
   "source": [
    "# Testing adversarial samples\n",
    "with open('Data_Set/adversarial_data_set.pickle', 'rb') as data:\n",
    "    advDataSet = pickle.load(data)\n",
    "sample = np.reshape(advDataSet[0,:,:],(1,200,9))\n",
    "predicted = model.predict(sample)\n",
    "mse = (np.square(sample - predicted)).mean(axis=2).mean(axis=1)\n",
    "print(mse)"
   ]
  },
  {
   "cell_type": "code",
   "execution_count": null,
   "metadata": {},
   "outputs": [],
   "source": []
  }
 ],
 "metadata": {
  "kernelspec": {
   "display_name": "Python 3",
   "language": "python",
   "name": "python3"
  },
  "language_info": {
   "codemirror_mode": {
    "name": "ipython",
    "version": 3
   },
   "file_extension": ".py",
   "mimetype": "text/x-python",
   "name": "python",
   "nbconvert_exporter": "python",
   "pygments_lexer": "ipython3",
   "version": "3.6.10"
  }
 },
 "nbformat": 4,
 "nbformat_minor": 4
}
