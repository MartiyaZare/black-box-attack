{
 "cells": [
  {
   "cell_type": "code",
   "execution_count": 1,
   "metadata": {},
   "outputs": [],
   "source": [
    "from MZPackage.ModelBuilder import ModelBuilder\n",
    "from MZPackage.Utilities import *"
   ]
  },
  {
   "cell_type": "code",
   "execution_count": 2,
   "metadata": {},
   "outputs": [],
   "source": [
    "# Create ModelBuilder object\n",
    "dataSet = loadData(\"normalized_data_set\")\n",
    "mb = ModelBuilder()"
   ]
  },
  {
   "cell_type": "markdown",
   "metadata": {},
   "source": [
    "### PCA"
   ]
  },
  {
   "cell_type": "code",
   "execution_count": null,
   "metadata": {},
   "outputs": [],
   "source": [
    "modelType = \"pca\"\n",
    "trainingSet, _, validationSet = getReshapedDataSetThreeSplits(dataSet, modelType)\n",
    "codeLayerSize = 50\n",
    "[model, validatoinLoss, numOfEpochs,_] = mb.trainPca(codeLayerSize, trainingSet, trainingSet, validationSet, validationSet)\n",
    "model.save('Trained_Model/pca.h5')"
   ]
  },
  {
   "cell_type": "markdown",
   "metadata": {},
   "source": [
    "### Fully Connected"
   ]
  },
  {
   "cell_type": "code",
   "execution_count": null,
   "metadata": {},
   "outputs": [],
   "source": [
    "modelType = \"fullyConnected\"\n",
    "trainingSet, _, validationSet = getReshapedDataSetThreeSplits(dataSet, modelType)\n",
    "numOfHiddenLayers = 1\n",
    "codeLayerSize = 40 # 64\n",
    "[model, validatoinLoss, numOfEpochs, history] = mb.trainFullyConnected(numOfHiddenLayers, codeLayerSize, trainingSet, trainingSet, validationSet, validationSet, return_best = 1)\n",
    "model.save('Trained_Model/autoencoder.h5')"
   ]
  },
  {
   "cell_type": "markdown",
   "metadata": {},
   "source": [
    "### 1D Conv"
   ]
  },
  {
   "cell_type": "code",
   "execution_count": null,
   "metadata": {},
   "outputs": [],
   "source": [
    "modelType = \"conv\"\n",
    "trainingSet, _, validationSet = getReshapedDataSetThreeSplits(dataSet, modelType)\n",
    "numOfLayers = 2\n",
    "filtersCountParam = 48\n",
    "[model, validatoinLoss, numOfEpochs, history] = mb.trainConv(numOfLayers, trainingSet, trainingSet, validationSet, validationSet, filtersCountInFirstLayer = filtersCountParam, filterSize = 4)\n",
    "#model.save('Trained_Model/conv.h5')"
   ]
  },
  {
   "cell_type": "markdown",
   "metadata": {},
   "source": [
    "### LSTM "
   ]
  },
  {
   "cell_type": "code",
   "execution_count": null,
   "metadata": {},
   "outputs": [],
   "source": [
    "modelType = \"lstm\"\n",
    "trainingSet, _, validationSet = getReshapedDataSetThreeSplits(dataSet, modelType)\n",
    "numOfLayers = 1\n",
    "numOfNeurons = 20 \n",
    "[model, validatoinLoss, numOfEpochs, history] = mb.trainLstm(numOfLayers, numOfNeurons, trainingSet, trainingSet, validationSet, validationSet)\n",
    "#model.save('Trained_Model/lstm.h5')"
   ]
  },
  {
   "cell_type": "code",
   "execution_count": null,
   "metadata": {},
   "outputs": [],
   "source": []
  }
 ],
 "metadata": {
  "kernelspec": {
   "display_name": "Python 3",
   "language": "python",
   "name": "python3"
  },
  "language_info": {
   "codemirror_mode": {
    "name": "ipython",
    "version": 3
   },
   "file_extension": ".py",
   "mimetype": "text/x-python",
   "name": "python",
   "nbconvert_exporter": "python",
   "pygments_lexer": "ipython3",
   "version": "3.6.10"
  }
 },
 "nbformat": 4,
 "nbformat_minor": 4
}
