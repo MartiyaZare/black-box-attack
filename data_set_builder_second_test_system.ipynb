{
 "cells": [
  {
   "cell_type": "code",
   "execution_count": 1,
   "metadata": {},
   "outputs": [],
   "source": [
    "import numpy as np\n",
    "import scipy.io\n",
    "\n",
    "from MZPackage.Utilities import *\n",
    "from MZPackage.DataPreprocessor import DataPreprocessor"
   ]
  },
  {
   "cell_type": "code",
   "execution_count": 2,
   "metadata": {},
   "outputs": [],
   "source": [
    "dp = DataPreprocessor()"
   ]
  },
  {
   "cell_type": "code",
   "execution_count": 3,
   "outputs": [],
   "source": [
    "featureList = [\"Iprobe1_a\",\"Iprobe1_b\",\"Iprobe1_c\",\"Iprobe2_a\",\"Iprobe2_b\",\"Iprobe2_c\"]"
   ],
   "metadata": {
    "collapsed": false,
    "pycharm": {
     "name": "#%%\n"
    }
   }
  },
  {
   "cell_type": "code",
   "execution_count": 4,
   "metadata": {
    "scrolled": false
   },
   "outputs": [],
   "source": [
    "# Finding mix max of data\n",
    "#maxDict, minDict = dp.rawDataMinMaxFinder(featureList, datasetFolderName=\"original_mat\")"
   ]
  },
  {
   "cell_type": "code",
   "execution_count": 5,
   "outputs": [],
   "source": [
    "# values from max min finder on Raw_Data/original_mat\n",
    "maxDict, minDict = {'Iprobe1_a': 98995.8729428285, 'Iprobe1_b': 98966.80498503726, 'Iprobe1_c': 98936.28808180726, 'Iprobe2_a': 553951.2013615498, 'Iprobe2_b': 554304.513879752, 'Iprobe2_c': 554270.4230460499}, {'Iprobe1_a': -99010.13001090992, 'Iprobe1_b': -98998.52042127517, 'Iprobe1_c': -98992.91643662634, 'Iprobe2_a': -555608.756696088, 'Iprobe2_b': -555681.2132719966, 'Iprobe2_c': -554838.3306383519}"
   ],
   "metadata": {
    "collapsed": false,
    "pycharm": {
     "name": "#%%\n"
    }
   }
  },
  {
   "cell_type": "code",
   "execution_count": 6,
   "outputs": [
    {
     "name": "stdout",
     "output_type": "stream",
     "text": [
      "maxDict {'Iprobe1_a': 98995.8729428285, 'Iprobe1_b': 98966.80498503726, 'Iprobe1_c': 98936.28808180726, 'Iprobe2_a': 553951.2013615498, 'Iprobe2_b': 554304.513879752, 'Iprobe2_c': 554270.4230460499}\n",
      "minDict {'Iprobe1_a': -99010.13001090992, 'Iprobe1_b': -98998.52042127517, 'Iprobe1_c': -98992.91643662634, 'Iprobe2_a': -555608.756696088, 'Iprobe2_b': -555681.2132719966, 'Iprobe2_c': -554838.3306383519}\n"
     ]
    }
   ],
   "source": [
    "print(\"maxDict\",maxDict)\n",
    "print(\"minDict\",minDict)"
   ],
   "metadata": {
    "collapsed": false,
    "pycharm": {
     "name": "#%%\n"
    }
   }
  },
  {
   "cell_type": "code",
   "execution_count": 7,
   "outputs": [],
   "source": [
    "#dp.secondSystemAddFaultTriggerData(\"Flt1_STATEa\", datasetFolderName=\"Second_Test_System\")"
   ],
   "metadata": {
    "collapsed": false,
    "pycharm": {
     "name": "#%%\n"
    }
   }
  },
  {
   "cell_type": "code",
   "execution_count": 8,
   "metadata": {},
   "outputs": [
    {
     "name": "stderr",
     "output_type": "stream",
     "text": [
      "100%|██████████| 32/32 [00:00<00:00, 49.08it/s]\n",
      "100%|██████████| 51/51 [00:01<00:00, 44.44it/s]\n",
      "100%|██████████| 3/3 [00:00<00:00, 40.27it/s]\n"
     ]
    }
   ],
   "source": [
    "# Extract data windows from raw data\n",
    "dataArrayNormal, dataArrayFault = dp.secondSystemExtractDataArrayNormalAndFault(featureList, datasetFolderName=\"Second_Test_System\")"
   ]
  },
  {
   "cell_type": "code",
   "execution_count": 9,
   "outputs": [
    {
     "data": {
      "text/plain": "(1362, 6, 200, 1)"
     },
     "execution_count": 9,
     "metadata": {},
     "output_type": "execute_result"
    }
   ],
   "source": [
    "dataArrayFault.shape"
   ],
   "metadata": {
    "collapsed": false,
    "pycharm": {
     "name": "#%%\n"
    }
   }
  },
  {
   "cell_type": "code",
   "execution_count": 10,
   "metadata": {},
   "outputs": [],
   "source": [
    "# save data set\n",
    "dataArrayNormal = np.swapaxes(dataArrayNormal, 1, 2)\n",
    "saveData(dataArrayNormal,\"Second_Test_System_Fault_Generator/not_normalized_normal\")\n",
    "dataArrayFault = np.swapaxes(dataArrayFault, 1, 2)\n",
    "saveData(dataArrayFault,\"Second_Test_System_Fault_Generator/not_normalized_fault\")\n",
    "\n",
    "normalizedDataFault = dp.secondSystemNormalizeDataSetUsingSavedParams(dataArrayFault.copy())\n",
    "saveData(normalizedDataFault, \"Second_Test_System_Fault_Generator/normalized_fault\")\n",
    "normalizedDataNormal = dp.secondSystemNormalizeDataSetUsingSavedParams(dataArrayNormal.copy())\n",
    "saveData(normalizedDataNormal, \"Second_Test_System_Fault_Generator/normalized_normal\")"
   ]
  },
  {
   "cell_type": "code",
   "execution_count": 4,
   "metadata": {},
   "outputs": [
    {
     "data": {
      "text/plain": "array([7.62951095e-06, 7.62951095e-06, 7.62951095e-06])"
     },
     "execution_count": 4,
     "metadata": {},
     "output_type": "execute_result"
    }
   ],
   "source": [
    "#mFile = scipy.io.loadmat(\"Raw_Data/original_mat/3_phase_to_ground/350/1/0001.mat\")\n",
    "#mFile[\"Flt1_STATEa\"][0][0:3]"
   ]
  },
  {
   "cell_type": "markdown",
   "source": [
    "### Fault data set"
   ],
   "metadata": {
    "collapsed": false,
    "pycharm": {
     "name": "#%% md\n"
    }
   }
  },
  {
   "cell_type": "code",
   "execution_count": 10,
   "outputs": [
    {
     "name": "stderr",
     "output_type": "stream",
     "text": [
      "100%|██████████| 216/216 [00:26<00:00,  8.15it/s]\n",
      "100%|██████████| 216/216 [00:05<00:00, 39.29it/s] \n",
      "100%|██████████| 216/216 [00:02<00:00, 105.83it/s]\n",
      "100%|██████████| 216/216 [00:02<00:00, 103.45it/s]\n",
      "100%|██████████| 216/216 [00:02<00:00, 106.79it/s]\n",
      "100%|██████████| 216/216 [00:02<00:00, 106.98it/s]\n"
     ]
    }
   ],
   "source": [
    "dataArray = dp.extractDataArrayFromRawDataMovingWindow(featureList, datasetFolderName=\"original_mat\", windowLen = 48)"
   ],
   "metadata": {
    "collapsed": false,
    "pycharm": {
     "name": "#%%\n"
    }
   }
  },
  {
   "cell_type": "code",
   "execution_count": 11,
   "outputs": [],
   "source": [
    "dataArray = np.swapaxes(dataArray, 1, 2)\n",
    "saveData(dataArray,\"Anomaly_Detection_Model_Data/not_normalized_data_set\")\n",
    "normalizedData = dp.normalizeDataSetUsingSavedParams(dataArray.copy())\n",
    "saveData(normalizedData, \"Anomaly_Detection_Model_Data/normalized_data_set\")\n"
   ],
   "metadata": {
    "collapsed": false,
    "pycharm": {
     "name": "#%%\n"
    }
   }
  },
  {
   "cell_type": "code",
   "execution_count": 6,
   "outputs": [
    {
     "data": {
      "text/plain": "(20736, 48, 6)"
     },
     "execution_count": 6,
     "metadata": {},
     "output_type": "execute_result"
    }
   ],
   "source": [
    "dataArray.shape\n"
   ],
   "metadata": {
    "collapsed": false,
    "pycharm": {
     "name": "#%%\n"
    }
   }
  },
  {
   "cell_type": "code",
   "execution_count": null,
   "outputs": [],
   "source": [],
   "metadata": {
    "collapsed": false,
    "pycharm": {
     "name": "#%%\n"
    }
   }
  }
 ],
 "metadata": {
  "kernelspec": {
   "display_name": "Python 3",
   "language": "python",
   "name": "python3"
  },
  "language_info": {
   "codemirror_mode": {
    "name": "ipython",
    "version": 3
   },
   "file_extension": ".py",
   "mimetype": "text/x-python",
   "name": "python",
   "nbconvert_exporter": "python",
   "pygments_lexer": "ipython3",
   "version": "3.6.10"
  }
 },
 "nbformat": 4,
 "nbformat_minor": 4
}