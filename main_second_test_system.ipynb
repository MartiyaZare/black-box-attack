{
 "cells": [
  {
   "cell_type": "code",
   "execution_count": 4,
   "metadata": {},
   "outputs": [],
   "source": [
    "# https://machinelearningmastery.com/lstm-autoencoders/"
   ]
  },
  {
   "cell_type": "code",
   "execution_count": 1,
   "metadata": {},
   "outputs": [],
   "source": [
    "# lstm autoencoder recreate sequence\n",
    "from numpy import array\n",
    "from tensorflow.keras.models import Sequential, load_model\n",
    "from tensorflow.keras.layers import LSTM\n",
    "from tensorflow.keras.layers import Dense\n",
    "from tensorflow.keras.layers import RepeatVector\n",
    "from tensorflow.keras.layers import TimeDistributed\n",
    "from tensorflow.keras.utils import plot_model\n",
    "\n",
    "from MZPackage.ModelBuilder import ModelBuilder\n",
    "from MZPackage.Utilities import *\n",
    "import numpy as np"
   ]
  },
  {
   "cell_type": "code",
   "execution_count": 2,
   "outputs": [],
   "source": [
    "mb = ModelBuilder()\n",
    "trainingSet = loadData(\"Second_Test_System_Fault_Generator/normalized_normal\")\n",
    "targetSet = loadData(\"Second_Test_System_Fault_Generator/normalized_fault\")"
   ],
   "metadata": {
    "collapsed": false,
    "pycharm": {
     "name": "#%%\n"
    }
   }
  },
  {
   "cell_type": "code",
   "execution_count": 3,
   "outputs": [],
   "source": [
    "randIndexes = np.random.choice(trainingSet.shape[0], 1000)\n",
    "trainingSet = trainingSet[randIndexes,:,:]\n",
    "targetSet = targetSet[randIndexes,:,:]\n",
    "randIndexes = np.random.choice(trainingSet.shape[0], 1000)\n",
    "testSet = trainingSet[randIndexes,:,:]\n",
    "testTargetSet = targetSet[randIndexes,:,:]"
   ],
   "metadata": {
    "collapsed": false,
    "pycharm": {
     "name": "#%%\n"
    }
   }
  },
  {
   "cell_type": "code",
   "execution_count": 4,
   "outputs": [],
   "source": [
    "#seq = np.concatenate((trainingSet[0,:,:],targetSet[0,:,:]))\n",
    "#plt.plot(seq)"
   ],
   "metadata": {
    "collapsed": false,
    "pycharm": {
     "name": "#%%\n"
    }
   }
  },
  {
   "cell_type": "code",
   "execution_count": 5,
   "outputs": [],
   "source": [
    "#mb.trainLstm(3,200,trainingSet,targetSet,testSet,testTargetSet,batchSize=32)"
   ],
   "metadata": {
    "collapsed": false,
    "pycharm": {
     "name": "#%%\n"
    }
   }
  },
  {
   "cell_type": "code",
   "execution_count": 6,
   "outputs": [
    {
     "data": {
      "text/plain": "(1000, 200, 6, 1)"
     },
     "execution_count": 6,
     "metadata": {},
     "output_type": "execute_result"
    }
   ],
   "source": [
    "trainingSet.shape"
   ],
   "metadata": {
    "collapsed": false,
    "pycharm": {
     "name": "#%%\n"
    }
   }
  },
  {
   "cell_type": "code",
   "execution_count": 7,
   "outputs": [
    {
     "data": {
      "text/plain": "(1000, 200, 6, 1)"
     },
     "execution_count": 7,
     "metadata": {},
     "output_type": "execute_result"
    }
   ],
   "source": [
    "testSet.shape"
   ],
   "metadata": {
    "collapsed": false,
    "pycharm": {
     "name": "#%%\n"
    }
   }
  },
  {
   "cell_type": "code",
   "execution_count": 8,
   "outputs": [
    {
     "data": {
      "text/plain": "(1000, 200, 6, 1)"
     },
     "execution_count": 8,
     "metadata": {},
     "output_type": "execute_result"
    }
   ],
   "source": [
    "targetSet.shape"
   ],
   "metadata": {
    "collapsed": false,
    "pycharm": {
     "name": "#%%\n"
    }
   }
  },
  {
   "cell_type": "code",
   "execution_count": 9,
   "outputs": [
    {
     "name": "stdout",
     "output_type": "stream",
     "text": [
      "Model: \"sequential\"\n",
      "_________________________________________________________________\n",
      "Layer (type)                 Output Shape              Param #   \n",
      "=================================================================\n",
      "zero_padding1d (ZeroPadding1 (None, 1204, 1)           0         \n",
      "_________________________________________________________________\n",
      "conv1d (Conv1D)              (None, 1204, 48)          240       \n",
      "_________________________________________________________________\n",
      "max_pooling1d (MaxPooling1D) (None, 602, 48)           0         \n",
      "_________________________________________________________________\n",
      "conv1d_1 (Conv1D)            (None, 602, 96)           18528     \n",
      "_________________________________________________________________\n",
      "max_pooling1d_1 (MaxPooling1 (None, 301, 96)           0         \n",
      "_________________________________________________________________\n",
      "conv1d_2 (Conv1D)            (None, 301, 192)          73920     \n",
      "_________________________________________________________________\n",
      "max_pooling1d_2 (MaxPooling1 (None, 151, 192)          0         \n",
      "_________________________________________________________________\n",
      "conv1d_3 (Conv1D)            (None, 151, 384)          295296    \n",
      "_________________________________________________________________\n",
      "max_pooling1d_3 (MaxPooling1 (None, 76, 384)           0         \n",
      "_________________________________________________________________\n",
      "conv1d_4 (Conv1D)            (None, 76, 768)           1180416   \n",
      "_________________________________________________________________\n",
      "max_pooling1d_4 (MaxPooling1 (None, 38, 768)           0         \n",
      "_________________________________________________________________\n",
      "conv1d_5 (Conv1D)            (None, 38, 1536)          4720128   \n",
      "_________________________________________________________________\n",
      "max_pooling1d_5 (MaxPooling1 (None, 19, 1536)          0         \n",
      "_________________________________________________________________\n",
      "conv1d_6 (Conv1D)            (None, 19, 3072)          18877440  \n",
      "_________________________________________________________________\n",
      "flatten (Flatten)            (None, 58368)             0         \n",
      "_________________________________________________________________\n",
      "reshape (Reshape)            (None, 19, 3072)          0         \n",
      "_________________________________________________________________\n",
      "conv1d_7 (Conv1D)            (None, 19, 3072)          37751808  \n",
      "_________________________________________________________________\n",
      "up_sampling1d (UpSampling1D) (None, 38, 3072)          0         \n",
      "_________________________________________________________________\n",
      "conv1d_8 (Conv1D)            (None, 38, 1536)          18875904  \n",
      "_________________________________________________________________\n",
      "up_sampling1d_1 (UpSampling1 (None, 76, 1536)          0         \n",
      "_________________________________________________________________\n",
      "conv1d_9 (Conv1D)            (None, 76, 768)           4719360   \n",
      "_________________________________________________________________\n",
      "up_sampling1d_2 (UpSampling1 (None, 152, 768)          0         \n",
      "_________________________________________________________________\n",
      "conv1d_10 (Conv1D)           (None, 152, 384)          1180032   \n",
      "_________________________________________________________________\n",
      "up_sampling1d_3 (UpSampling1 (None, 304, 384)          0         \n",
      "_________________________________________________________________\n",
      "conv1d_11 (Conv1D)           (None, 304, 192)          295104    \n",
      "_________________________________________________________________\n",
      "up_sampling1d_4 (UpSampling1 (None, 608, 192)          0         \n",
      "_________________________________________________________________\n",
      "conv1d_12 (Conv1D)           (None, 608, 96)           73824     \n",
      "_________________________________________________________________\n",
      "up_sampling1d_5 (UpSampling1 (None, 1216, 96)          0         \n",
      "_________________________________________________________________\n",
      "conv1d_13 (Conv1D)           (None, 1216, 48)          18480     \n",
      "_________________________________________________________________\n",
      "conv1d_14 (Conv1D)           (None, 1216, 1)           193       \n",
      "_________________________________________________________________\n",
      "cropping1d (Cropping1D)      (None, 1200, 1)           0         \n",
      "=================================================================\n",
      "Total params: 88,080,673\n",
      "Trainable params: 88,080,673\n",
      "Non-trainable params: 0\n",
      "_________________________________________________________________\n",
      "Train on 1000 samples, validate on 1000 samples\n",
      "Epoch 1/10000\n",
      "1000/1000 [==============================] - 22s 22ms/sample - loss: 0.1490 - val_loss: 0.1488\n",
      "Epoch 2/10000\n",
      "1000/1000 [==============================] - 12s 12ms/sample - loss: 0.1490 - val_loss: 0.1487\n",
      "Epoch 3/10000\n",
      "1000/1000 [==============================] - 13s 13ms/sample - loss: 0.1490 - val_loss: 0.1482\n",
      "Epoch 4/10000\n",
      "1000/1000 [==============================] - 12s 12ms/sample - loss: 0.1488 - val_loss: 0.1476\n",
      "Epoch 5/10000\n",
      "1000/1000 [==============================] - 13s 13ms/sample - loss: 0.1513 - val_loss: 0.1491\n",
      "Epoch 6/10000\n",
      "1000/1000 [==============================] - 12s 12ms/sample - loss: 0.1490 - val_loss: 0.1484\n",
      "Epoch 7/10000\n",
      "1000/1000 [==============================] - 13s 13ms/sample - loss: 0.1487 - val_loss: 0.1477\n",
      "Epoch 8/10000\n",
      "1000/1000 [==============================] - 12s 12ms/sample - loss: 0.1483 - val_loss: 0.1469\n",
      "Epoch 9/10000\n",
      "1000/1000 [==============================] - 13s 13ms/sample - loss: 0.1478 - val_loss: 0.1463\n",
      "Epoch 10/10000\n",
      "1000/1000 [==============================] - 13s 13ms/sample - loss: 0.1169 - val_loss: 0.0645\n",
      "Epoch 11/10000\n",
      "1000/1000 [==============================] - 13s 13ms/sample - loss: 0.0491 - val_loss: 0.0436\n",
      "Epoch 12/10000\n",
      "1000/1000 [==============================] - 12s 12ms/sample - loss: 0.0421 - val_loss: 0.0392\n",
      "Epoch 13/10000\n",
      "1000/1000 [==============================] - 12s 12ms/sample - loss: 0.0382 - val_loss: 0.0366\n",
      "Epoch 14/10000\n",
      "1000/1000 [==============================] - 12s 12ms/sample - loss: 0.0358 - val_loss: 0.0339\n",
      "Epoch 15/10000\n",
      "1000/1000 [==============================] - 13s 13ms/sample - loss: 0.0337 - val_loss: 0.0339\n",
      "Epoch 16/10000\n",
      "1000/1000 [==============================] - 12s 12ms/sample - loss: 0.0320 - val_loss: 0.0308\n",
      "Epoch 17/10000\n",
      "1000/1000 [==============================] - 13s 13ms/sample - loss: 0.0310 - val_loss: 0.0309\n",
      "Epoch 18/10000\n",
      "1000/1000 [==============================] - 12s 12ms/sample - loss: 0.0304 - val_loss: 0.0297\n",
      "Epoch 19/10000\n",
      "1000/1000 [==============================] - 13s 13ms/sample - loss: 0.0299 - val_loss: 0.0290\n",
      "Epoch 20/10000\n",
      "1000/1000 [==============================] - 12s 12ms/sample - loss: 0.0297 - val_loss: 0.0283\n",
      "Epoch 21/10000\n",
      "1000/1000 [==============================] - 13s 13ms/sample - loss: 0.0290 - val_loss: 0.0279\n",
      "Epoch 22/10000\n",
      "1000/1000 [==============================] - 12s 12ms/sample - loss: 0.0289 - val_loss: 0.0277\n",
      "Epoch 23/10000\n",
      "1000/1000 [==============================] - 12s 12ms/sample - loss: 0.0286 - val_loss: 0.0281\n",
      "Epoch 24/10000\n",
      "1000/1000 [==============================] - 12s 12ms/sample - loss: 0.0284 - val_loss: 0.0276\n",
      "Epoch 25/10000\n",
      "1000/1000 [==============================] - 12s 12ms/sample - loss: 0.0287 - val_loss: 0.0285\n",
      "Epoch 26/10000\n",
      "1000/1000 [==============================] - 13s 13ms/sample - loss: 0.0285 - val_loss: 0.0275\n",
      "Epoch 27/10000\n",
      "1000/1000 [==============================] - 13s 13ms/sample - loss: 0.0285 - val_loss: 0.0279\n",
      "Epoch 28/10000\n",
      "1000/1000 [==============================] - 12s 12ms/sample - loss: 0.0281 - val_loss: 0.0274\n",
      "Epoch 29/10000\n",
      "1000/1000 [==============================] - 13s 13ms/sample - loss: 0.0282 - val_loss: 0.0275\n",
      "Epoch 30/10000\n",
      "1000/1000 [==============================] - 12s 12ms/sample - loss: 0.0282 - val_loss: 0.0272\n",
      "Epoch 31/10000\n",
      "1000/1000 [==============================] - 13s 13ms/sample - loss: 0.0280 - val_loss: 0.0272\n",
      "Epoch 32/10000\n",
      "1000/1000 [==============================] - 12s 12ms/sample - loss: 0.0280 - val_loss: 0.0273\n",
      "Epoch 33/10000\n",
      "1000/1000 [==============================] - 13s 13ms/sample - loss: 0.0279 - val_loss: 0.0275\n",
      "Epoch 34/10000\n",
      "1000/1000 [==============================] - 13s 13ms/sample - loss: 0.0280 - val_loss: 0.0272\n",
      "Epoch 35/10000\n",
      "1000/1000 [==============================] - 13s 13ms/sample - loss: 0.0282 - val_loss: 0.0272\n",
      "Epoch 36/10000\n",
      "1000/1000 [==============================] - 12s 12ms/sample - loss: 0.0283 - val_loss: 0.0272\n",
      "Epoch 37/10000\n",
      "1000/1000 [==============================] - 13s 13ms/sample - loss: 0.0280 - val_loss: 0.0272\n",
      "Epoch 38/10000\n",
      "1000/1000 [==============================] - 12s 12ms/sample - loss: 0.0279 - val_loss: 0.0270\n",
      "Epoch 39/10000\n",
      "1000/1000 [==============================] - 13s 13ms/sample - loss: 0.0280 - val_loss: 0.0276\n",
      "Epoch 40/10000\n",
      "1000/1000 [==============================] - 12s 12ms/sample - loss: 0.0279 - val_loss: 0.0269\n",
      "Epoch 41/10000\n",
      "1000/1000 [==============================] - 13s 13ms/sample - loss: 0.0278 - val_loss: 0.0270\n",
      "Epoch 42/10000\n",
      "1000/1000 [==============================] - 12s 12ms/sample - loss: 0.0278 - val_loss: 0.0273\n",
      "Epoch 43/10000\n",
      "1000/1000 [==============================] - 13s 13ms/sample - loss: 0.0281 - val_loss: 0.0270\n",
      "Epoch 44/10000\n",
      "1000/1000 [==============================] - 12s 12ms/sample - loss: 0.0278 - val_loss: 0.0271\n",
      "Epoch 45/10000\n",
      "1000/1000 [==============================] - 13s 13ms/sample - loss: 0.0281 - val_loss: 0.0270\n",
      "Epoch 46/10000\n",
      "1000/1000 [==============================] - 12s 12ms/sample - loss: 0.0276 - val_loss: 0.0268\n",
      "Epoch 47/10000\n",
      "1000/1000 [==============================] - 13s 13ms/sample - loss: 0.0277 - val_loss: 0.0270\n",
      "Epoch 48/10000\n",
      "1000/1000 [==============================] - 12s 12ms/sample - loss: 0.0276 - val_loss: 0.0269\n",
      "Epoch 49/10000\n",
      "1000/1000 [==============================] - 13s 13ms/sample - loss: 0.0277 - val_loss: 0.0270\n",
      "Epoch 50/10000\n",
      "1000/1000 [==============================] - 13s 13ms/sample - loss: 0.0278 - val_loss: 0.0268\n",
      "Epoch 51/10000\n",
      "1000/1000 [==============================] - 13s 13ms/sample - loss: 0.0276 - val_loss: 0.0268\n",
      "Epoch 52/10000\n",
      "1000/1000 [==============================] - 12s 12ms/sample - loss: 0.0276 - val_loss: 0.0268\n",
      "Epoch 53/10000\n",
      "1000/1000 [==============================] - 13s 13ms/sample - loss: 0.0275 - val_loss: 0.0267\n",
      "Epoch 54/10000\n",
      "1000/1000 [==============================] - 13s 13ms/sample - loss: 0.0276 - val_loss: 0.0267\n",
      "Epoch 55/10000\n",
      "1000/1000 [==============================] - 13s 13ms/sample - loss: 0.0275 - val_loss: 0.0268\n",
      "Epoch 56/10000\n",
      "1000/1000 [==============================] - 13s 13ms/sample - loss: 0.0276 - val_loss: 0.0276\n",
      "Epoch 57/10000\n",
      "1000/1000 [==============================] - 13s 13ms/sample - loss: 0.0278 - val_loss: 0.0268\n",
      "Epoch 58/10000\n",
      "1000/1000 [==============================] - 13s 13ms/sample - loss: 0.0278 - val_loss: 0.0267\n",
      "Epoch 59/10000\n",
      "1000/1000 [==============================] - 13s 13ms/sample - loss: 0.0275 - val_loss: 0.0270\n",
      "Epoch 60/10000\n",
      "1000/1000 [==============================] - 12s 12ms/sample - loss: 0.0277 - val_loss: 0.0267\n",
      "Epoch 61/10000\n",
      "1000/1000 [==============================] - 13s 13ms/sample - loss: 0.0277 - val_loss: 0.0267\n",
      "Epoch 62/10000\n",
      "1000/1000 [==============================] - 12s 12ms/sample - loss: 0.0275 - val_loss: 0.0267\n",
      "Epoch 63/10000\n",
      "1000/1000 [==============================] - 13s 13ms/sample - loss: 0.0277 - val_loss: 0.0269\n",
      "Epoch 00063: early stopping\n"
     ]
    }
   ],
   "source": [
    "mb = ModelBuilder()\n",
    "modelType = \"conv\"\n",
    "\n",
    "trainingSet = np.reshape(trainingSet, (1000,200*6,1), order = 'C')\n",
    "testSet = np.reshape(testSet, (1000,200*6,1), order = 'C')\n",
    "targetSet = np.reshape(targetSet, (1000,200*6,1), order = 'C')\n",
    "testTargetSet = np.reshape(testTargetSet, (1000,200*6,1), order = 'C')\n",
    "\n",
    "\n",
    "[model, validatoinLoss, numOfEpochs, history] = mb.trainConv(6, trainingSet,targetSet, testSet, testTargetSet, batchSize = 32, filterSize = 4, filtersCountInFirstLayer = 48)"
   ],
   "metadata": {
    "collapsed": false,
    "pycharm": {
     "name": "#%%\n"
    }
   }
  },
  {
   "cell_type": "markdown",
   "source": [
    "### Generated fault by CNN model"
   ],
   "metadata": {
    "collapsed": false,
    "pycharm": {
     "name": "#%% md\n"
    }
   }
  },
  {
   "cell_type": "code",
   "execution_count": 10,
   "outputs": [
    {
     "data": {
      "text/plain": "[<matplotlib.lines.Line2D at 0x20f05a68e10>,\n <matplotlib.lines.Line2D at 0x20f05a760f0>,\n <matplotlib.lines.Line2D at 0x20f05a76240>,\n <matplotlib.lines.Line2D at 0x20f05a76390>,\n <matplotlib.lines.Line2D at 0x20f05a764e0>,\n <matplotlib.lines.Line2D at 0x20f05a76630>]"
     },
     "execution_count": 10,
     "metadata": {},
     "output_type": "execute_result"
    },
    {
     "data": {
      "text/plain": "<Figure size 432x288 with 1 Axes>",
      "image/png": "[encoded data removed]"
     },
     "metadata": {
      "needs_background": "light"
     },
     "output_type": "display_data"
    }
   ],
   "source": [
    "yhat = model.predict(testSet[0:1,:], verbose=0)\n",
    "seq = np.concatenate((testSet[0,:].reshape([1,200,6])[0,:,:],yhat.reshape([1,200,6])[0,:,:]))\n",
    "plt.plot(seq)\n"
   ],
   "metadata": {
    "collapsed": false,
    "pycharm": {
     "name": "#%%\n"
    }
   }
  },
  {
   "cell_type": "markdown",
   "source": [
    "### Actual fault data sequence"
   ],
   "metadata": {
    "collapsed": false,
    "pycharm": {
     "name": "#%% md\n"
    }
   }
  },
  {
   "cell_type": "code",
   "execution_count": 11,
   "outputs": [
    {
     "data": {
      "text/plain": "[<matplotlib.lines.Line2D at 0x20f0a2b5c50>,\n <matplotlib.lines.Line2D at 0x20f0a2b5da0>,\n <matplotlib.lines.Line2D at 0x20f0a2b5ef0>,\n <matplotlib.lines.Line2D at 0x20f0a2c1080>,\n <matplotlib.lines.Line2D at 0x20f0a2c11d0>,\n <matplotlib.lines.Line2D at 0x20f0a2c1320>]"
     },
     "execution_count": 11,
     "metadata": {},
     "output_type": "execute_result"
    },
    {
     "data": {
      "text/plain": "<Figure size 432x288 with 1 Axes>",
      "image/png": "[encoded data removed]"
     },
     "metadata": {
      "needs_background": "light"
     },
     "output_type": "display_data"
    }
   ],
   "source": [
    "yhat = model.predict(testSet[0:1,:], verbose=0)\n",
    "seq = np.concatenate((testSet[0,:].reshape([1,200,6])[0,:,:],testTargetSet[0,:].reshape([1,200,6])[0,:,:]))\n",
    "plt.plot(seq)"
   ],
   "metadata": {
    "collapsed": false,
    "pycharm": {
     "name": "#%%\n"
    }
   }
  },
  {
   "cell_type": "markdown",
   "source": [
    "### Save model"
   ],
   "metadata": {
    "collapsed": false,
    "pycharm": {
     "name": "#%% md\n"
    }
   }
  },
  {
   "cell_type": "code",
   "execution_count": 12,
   "outputs": [],
   "source": [
    "model.save(\"Second_System_Fault_Generator_Model/fault_generator_conv.h5\")"
   ],
   "metadata": {
    "collapsed": false,
    "pycharm": {
     "name": "#%%\n"
    }
   }
  },
  {
   "cell_type": "markdown",
   "source": [
    "### Attack samples generation"
   ],
   "metadata": {
    "collapsed": false,
    "pycharm": {
     "name": "#%% md\n"
    }
   }
  },
  {
   "cell_type": "code",
   "execution_count": 13,
   "outputs": [
    {
     "ename": "NameError",
     "evalue": "name 'i' is not defined",
     "output_type": "error",
     "traceback": [
      "\u001B[1;31m---------------------------------------------------------------------------\u001B[0m",
      "\u001B[1;31mNameError\u001B[0m                                 Traceback (most recent call last)",
      "\u001B[1;32m<ipython-input-13-3a6335d974f3>\u001B[0m in \u001B[0;36m<module>\u001B[1;34m\u001B[0m\n\u001B[1;32m----> 1\u001B[1;33m \u001B[0mtestSample\u001B[0m \u001B[1;33m=\u001B[0m \u001B[0mtestSet\u001B[0m\u001B[1;33m[\u001B[0m\u001B[0mi\u001B[0m\u001B[1;33m:\u001B[0m\u001B[0mi\u001B[0m\u001B[1;33m+\u001B[0m\u001B[1;36m1\u001B[0m\u001B[1;33m,\u001B[0m\u001B[1;33m:\u001B[0m\u001B[1;33m]\u001B[0m\u001B[1;33m\u001B[0m\u001B[1;33m\u001B[0m\u001B[0m\n\u001B[0m\u001B[0;32m      2\u001B[0m \u001B[0mprediction\u001B[0m \u001B[1;33m=\u001B[0m \u001B[0mmodel\u001B[0m\u001B[1;33m.\u001B[0m\u001B[0mpredict\u001B[0m\u001B[1;33m(\u001B[0m\u001B[0mtestSample\u001B[0m\u001B[1;33m,\u001B[0m \u001B[0mverbose\u001B[0m\u001B[1;33m=\u001B[0m\u001B[1;36m0\u001B[0m\u001B[1;33m)\u001B[0m\u001B[1;33m\u001B[0m\u001B[1;33m\u001B[0m\u001B[0m\n\u001B[0;32m      3\u001B[0m \u001B[0mattack\u001B[0m \u001B[1;33m=\u001B[0m \u001B[0mnp\u001B[0m\u001B[1;33m.\u001B[0m\u001B[0mconcatenate\u001B[0m\u001B[1;33m(\u001B[0m\u001B[1;33m(\u001B[0m\u001B[0mtestSample\u001B[0m\u001B[1;33m.\u001B[0m\u001B[0mreshape\u001B[0m\u001B[1;33m(\u001B[0m\u001B[1;33m(\u001B[0m\u001B[1;36m1200\u001B[0m\u001B[1;33m,\u001B[0m\u001B[1;36m1\u001B[0m\u001B[1;33m)\u001B[0m\u001B[1;33m)\u001B[0m\u001B[1;33m,\u001B[0m\u001B[0mprediction\u001B[0m\u001B[1;33m.\u001B[0m\u001B[0mreshape\u001B[0m\u001B[1;33m(\u001B[0m\u001B[1;33m(\u001B[0m\u001B[1;36m1200\u001B[0m\u001B[1;33m,\u001B[0m\u001B[1;36m1\u001B[0m\u001B[1;33m)\u001B[0m\u001B[1;33m)\u001B[0m\u001B[1;33m)\u001B[0m\u001B[1;33m)\u001B[0m\u001B[1;33m\u001B[0m\u001B[1;33m\u001B[0m\u001B[0m\n\u001B[0;32m      4\u001B[0m \u001B[0mattack\u001B[0m \u001B[1;33m=\u001B[0m \u001B[0mattack\u001B[0m\u001B[1;33m.\u001B[0m\u001B[0mreshape\u001B[0m\u001B[1;33m(\u001B[0m\u001B[1;33m(\u001B[0m\u001B[1;36m400\u001B[0m\u001B[1;33m,\u001B[0m\u001B[1;36m6\u001B[0m\u001B[1;33m)\u001B[0m\u001B[1;33m)\u001B[0m\u001B[1;33m[\u001B[0m\u001B[1;36m200\u001B[0m\u001B[1;33m-\u001B[0m\u001B[1;36m47\u001B[0m\u001B[1;33m:\u001B[0m\u001B[1;36m200\u001B[0m\u001B[1;33m+\u001B[0m\u001B[1;36m47\u001B[0m\u001B[1;33m+\u001B[0m\u001B[1;36m1\u001B[0m\u001B[1;33m]\u001B[0m\u001B[1;33m\u001B[0m\u001B[1;33m\u001B[0m\u001B[0m\n\u001B[0;32m      5\u001B[0m \u001B[0mattack\u001B[0m\u001B[1;33m.\u001B[0m\u001B[0mshape\u001B[0m\u001B[1;33m\u001B[0m\u001B[1;33m\u001B[0m\u001B[0m\n",
      "\u001B[1;31mNameError\u001B[0m: name 'i' is not defined"
     ]
    }
   ],
   "source": [
    "# testSample = testSet[i:i+1,:]\n",
    "# prediction = model.predict(testSample, verbose=0)\n",
    "# attack = np.concatenate((testSample.reshape((1200,1)),prediction.reshape((1200,1))))\n",
    "# attack = attack.reshape((400,6))[200-47:200+47+1]\n",
    "# attack.shape"
   ],
   "metadata": {
    "collapsed": false,
    "pycharm": {
     "name": "#%%\n"
    }
   }
  },
  {
   "cell_type": "code",
   "execution_count": null,
   "outputs": [],
   "source": [
    "# modelType = \"conv\"\n",
    "# trainingSet = getReshapedDataSetNoSplit(trainingSet, modelType)\n",
    "# testSet = getReshapedDataSetNoSplit(testSet, modelType)\n",
    "# targetSet = getReshapedDataSetNoSplit(targetSet, modelType)\n",
    "# testTargetSet = getReshapedDataSetNoSplit(testTargetSet, modelType)"
   ],
   "metadata": {
    "collapsed": false,
    "pycharm": {
     "name": "#%%\n"
    }
   }
  },
  {
   "cell_type": "code",
   "execution_count": 14,
   "outputs": [],
   "source": [
    "testSetSize = 1000\n",
    "sequenceLen = 200\n",
    "dimensionsCount = 6\n",
    "attackDataSetList = list()\n",
    "windowLen = 48\n",
    "halfWindowLen = windowLen // 2\n",
    "for i in range(testSetSize):\n",
    "    testSample = testSet[i:i+1,:]\n",
    "    prediction = model.predict(testSample.reshape((1,1200,1)), verbose=0)\n",
    "    attackSample = np.concatenate((testSample.reshape((1200,1)),prediction.reshape((1200,1))))\n",
    "    attackSample = attackSample.reshape((400,6))[200-halfWindowLen:200+halfWindowLen]\n",
    "    attackDataSetList.append(attackSample)"
   ],
   "metadata": {
    "collapsed": false,
    "pycharm": {
     "name": "#%%\n"
    }
   }
  },
  {
   "cell_type": "code",
   "execution_count": 15,
   "outputs": [
    {
     "data": {
      "text/plain": "1000"
     },
     "execution_count": 15,
     "metadata": {},
     "output_type": "execute_result"
    }
   ],
   "source": [
    "len(attackDataSetList)"
   ],
   "metadata": {
    "collapsed": false,
    "pycharm": {
     "name": "#%%\n"
    }
   }
  },
  {
   "cell_type": "code",
   "execution_count": 16,
   "outputs": [],
   "source": [
    "saveData(np.asarray(attackDataSetList),\"Second_Test_System_Fault_Generator/attacks_generated_cnn\")"
   ],
   "metadata": {
    "collapsed": false,
    "pycharm": {
     "name": "#%%\n"
    }
   }
  },
  {
   "cell_type": "markdown",
   "source": [
    "### Train a model on dataset generated by GAN"
   ],
   "metadata": {
    "collapsed": false,
    "pycharm": {
     "name": "#%% md\n"
    }
   }
  },
  {
   "cell_type": "code",
   "execution_count": 2,
   "outputs": [
    {
     "name": "stdout",
     "output_type": "stream",
     "text": [
      "(950, 200, 6)\n",
      "(950, 200, 6)\n"
     ]
    }
   ],
   "source": [
    "\n",
    "# ganDataSet = loadData(\"dataset_generated_gan_complete\")\n",
    "# dataSetSize = ganDataSet.shape[0]\n",
    "# trainingSetSize = 950\n",
    "# randIndexes = np.random.choice(ganDataSet.shape[0], dataSetSize)\n",
    "# trainingSet = ganDataSet[randIndexes[:trainingSetSize],0:200,:]\n",
    "# targetSet = ganDataSet[randIndexes[:trainingSetSize],200:,:]\n",
    "# testSet = ganDataSet[randIndexes[trainingSetSize:],0:200,:]\n",
    "# testTargetSet = ganDataSet[randIndexes[trainingSetSize:],200:,:]\n",
    "# print(trainingSet.shape)\n",
    "# print(targetSet.shape)"
   ],
   "metadata": {
    "collapsed": false,
    "pycharm": {
     "name": "#%%\n"
    }
   }
  },
  {
   "cell_type": "code",
   "execution_count": 4,
   "outputs": [
    {
     "name": "stdout",
     "output_type": "stream",
     "text": [
      "Model: \"sequential_1\"\n",
      "_________________________________________________________________\n",
      "Layer (type)                 Output Shape              Param #   \n",
      "=================================================================\n",
      "zero_padding1d_1 (ZeroPaddin (None, 1204, 1)           0         \n",
      "_________________________________________________________________\n",
      "conv1d_15 (Conv1D)           (None, 1204, 48)          240       \n",
      "_________________________________________________________________\n",
      "max_pooling1d_6 (MaxPooling1 (None, 602, 48)           0         \n",
      "_________________________________________________________________\n",
      "conv1d_16 (Conv1D)           (None, 602, 96)           18528     \n",
      "_________________________________________________________________\n",
      "max_pooling1d_7 (MaxPooling1 (None, 301, 96)           0         \n",
      "_________________________________________________________________\n",
      "conv1d_17 (Conv1D)           (None, 301, 192)          73920     \n",
      "_________________________________________________________________\n",
      "max_pooling1d_8 (MaxPooling1 (None, 151, 192)          0         \n",
      "_________________________________________________________________\n",
      "conv1d_18 (Conv1D)           (None, 151, 384)          295296    \n",
      "_________________________________________________________________\n",
      "max_pooling1d_9 (MaxPooling1 (None, 76, 384)           0         \n",
      "_________________________________________________________________\n",
      "conv1d_19 (Conv1D)           (None, 76, 768)           1180416   \n",
      "_________________________________________________________________\n",
      "max_pooling1d_10 (MaxPooling (None, 38, 768)           0         \n",
      "_________________________________________________________________\n",
      "conv1d_20 (Conv1D)           (None, 38, 1536)          4720128   \n",
      "_________________________________________________________________\n",
      "max_pooling1d_11 (MaxPooling (None, 19, 1536)          0         \n",
      "_________________________________________________________________\n",
      "conv1d_21 (Conv1D)           (None, 19, 3072)          18877440  \n",
      "_________________________________________________________________\n",
      "flatten_1 (Flatten)          (None, 58368)             0         \n",
      "_________________________________________________________________\n",
      "reshape_1 (Reshape)          (None, 19, 3072)          0         \n",
      "_________________________________________________________________\n",
      "conv1d_22 (Conv1D)           (None, 19, 3072)          37751808  \n",
      "_________________________________________________________________\n",
      "up_sampling1d_6 (UpSampling1 (None, 38, 3072)          0         \n",
      "_________________________________________________________________\n",
      "conv1d_23 (Conv1D)           (None, 38, 1536)          18875904  \n",
      "_________________________________________________________________\n",
      "up_sampling1d_7 (UpSampling1 (None, 76, 1536)          0         \n",
      "_________________________________________________________________\n",
      "conv1d_24 (Conv1D)           (None, 76, 768)           4719360   \n",
      "_________________________________________________________________\n",
      "up_sampling1d_8 (UpSampling1 (None, 152, 768)          0         \n",
      "_________________________________________________________________\n",
      "conv1d_25 (Conv1D)           (None, 152, 384)          1180032   \n",
      "_________________________________________________________________\n",
      "up_sampling1d_9 (UpSampling1 (None, 304, 384)          0         \n",
      "_________________________________________________________________\n",
      "conv1d_26 (Conv1D)           (None, 304, 192)          295104    \n",
      "_________________________________________________________________\n",
      "up_sampling1d_10 (UpSampling (None, 608, 192)          0         \n",
      "_________________________________________________________________\n",
      "conv1d_27 (Conv1D)           (None, 608, 96)           73824     \n",
      "_________________________________________________________________\n",
      "up_sampling1d_11 (UpSampling (None, 1216, 96)          0         \n",
      "_________________________________________________________________\n",
      "conv1d_28 (Conv1D)           (None, 1216, 48)          18480     \n",
      "_________________________________________________________________\n",
      "conv1d_29 (Conv1D)           (None, 1216, 1)           193       \n",
      "_________________________________________________________________\n",
      "cropping1d_1 (Cropping1D)    (None, 1200, 1)           0         \n",
      "=================================================================\n",
      "Total params: 88,080,673\n",
      "Trainable params: 88,080,673\n",
      "Non-trainable params: 0\n",
      "_________________________________________________________________\n",
      "Train on 950 samples, validate on 150 samples\n",
      "Epoch 1/10000\n",
      "950/950 [==============================] - 17s 18ms/sample - loss: 0.1039 - val_loss: 0.1043\n",
      "Epoch 2/10000\n",
      "950/950 [==============================] - 11s 11ms/sample - loss: 0.1034 - val_loss: 0.1042\n",
      "Epoch 3/10000\n",
      "950/950 [==============================] - 11s 11ms/sample - loss: 0.1042 - val_loss: 0.1043\n",
      "Epoch 4/10000\n",
      "950/950 [==============================] - 10s 11ms/sample - loss: 0.1029 - val_loss: 0.0967\n",
      "Epoch 5/10000\n",
      "950/950 [==============================] - 10s 11ms/sample - loss: 0.0909 - val_loss: 0.0999\n",
      "Epoch 6/10000\n",
      "950/950 [==============================] - 11s 11ms/sample - loss: 0.0683 - val_loss: 0.0430\n",
      "Epoch 7/10000\n",
      "950/950 [==============================] - 10s 11ms/sample - loss: 0.0377 - val_loss: 0.0286\n",
      "Epoch 8/10000\n",
      "950/950 [==============================] - 11s 11ms/sample - loss: 0.0310 - val_loss: 0.0273\n",
      "Epoch 9/10000\n",
      "950/950 [==============================] - 10s 11ms/sample - loss: 0.0293 - val_loss: 0.0250\n",
      "Epoch 10/10000\n",
      "950/950 [==============================] - 10s 11ms/sample - loss: 0.0276 - val_loss: 0.0251\n",
      "Epoch 11/10000\n",
      "950/950 [==============================] - 10s 11ms/sample - loss: 0.0269 - val_loss: 0.0236\n",
      "Epoch 12/10000\n",
      "950/950 [==============================] - 11s 11ms/sample - loss: 0.0258 - val_loss: 0.0228\n",
      "Epoch 13/10000\n",
      "950/950 [==============================] - 10s 11ms/sample - loss: 0.0255 - val_loss: 0.0232\n",
      "Epoch 14/10000\n",
      "950/950 [==============================] - 10s 11ms/sample - loss: 0.0246 - val_loss: 0.0238\n",
      "Epoch 15/10000\n",
      "950/950 [==============================] - 10s 11ms/sample - loss: 0.0246 - val_loss: 0.0250\n",
      "Epoch 16/10000\n",
      "950/950 [==============================] - 10s 11ms/sample - loss: 0.0246 - val_loss: 0.0215\n",
      "Epoch 17/10000\n",
      "950/950 [==============================] - 11s 11ms/sample - loss: 0.0239 - val_loss: 0.0219\n",
      "Epoch 18/10000\n",
      "950/950 [==============================] - 11s 11ms/sample - loss: 0.0238 - val_loss: 0.0216\n",
      "Epoch 19/10000\n",
      "950/950 [==============================] - 11s 11ms/sample - loss: 0.0237 - val_loss: 0.0209\n",
      "Epoch 20/10000\n",
      "950/950 [==============================] - 10s 11ms/sample - loss: 0.0228 - val_loss: 0.0223\n",
      "Epoch 21/10000\n",
      "950/950 [==============================] - 10s 11ms/sample - loss: 0.0244 - val_loss: 0.0215\n",
      "Epoch 22/10000\n",
      "950/950 [==============================] - 10s 11ms/sample - loss: 0.0229 - val_loss: 0.0201\n",
      "Epoch 23/10000\n",
      "950/950 [==============================] - 10s 11ms/sample - loss: 0.0222 - val_loss: 0.0209\n",
      "Epoch 24/10000\n",
      "950/950 [==============================] - 11s 11ms/sample - loss: 0.0219 - val_loss: 0.0218\n",
      "Epoch 25/10000\n",
      "950/950 [==============================] - 10s 10ms/sample - loss: 0.0214 - val_loss: 0.0193\n",
      "Epoch 26/10000\n",
      "950/950 [==============================] - 10s 11ms/sample - loss: 0.0215 - val_loss: 0.0222\n",
      "Epoch 27/10000\n",
      "950/950 [==============================] - 11s 11ms/sample - loss: 0.0212 - val_loss: 0.0190\n",
      "Epoch 28/10000\n",
      "950/950 [==============================] - 10s 11ms/sample - loss: 0.0200 - val_loss: 0.0185\n",
      "Epoch 29/10000\n",
      "950/950 [==============================] - 10s 11ms/sample - loss: 0.0204 - val_loss: 0.0197\n",
      "Epoch 30/10000\n",
      "950/950 [==============================] - 10s 11ms/sample - loss: 0.0189 - val_loss: 0.0192\n",
      "Epoch 31/10000\n",
      "950/950 [==============================] - 10s 11ms/sample - loss: 0.0179 - val_loss: 0.0163\n",
      "Epoch 32/10000\n",
      "950/950 [==============================] - 10s 11ms/sample - loss: 0.0186 - val_loss: 0.0178\n",
      "Epoch 33/10000\n",
      "950/950 [==============================] - 11s 11ms/sample - loss: 0.0173 - val_loss: 0.0177\n",
      "Epoch 34/10000\n",
      "950/950 [==============================] - 11s 11ms/sample - loss: 0.0160 - val_loss: 0.0156\n",
      "Epoch 35/10000\n",
      "950/950 [==============================] - 10s 11ms/sample - loss: 0.0156 - val_loss: 0.0132\n",
      "Epoch 36/10000\n",
      "950/950 [==============================] - 11s 11ms/sample - loss: 0.0157 - val_loss: 0.0165\n",
      "Epoch 37/10000\n",
      "950/950 [==============================] - 10s 11ms/sample - loss: 0.0146 - val_loss: 0.0170\n",
      "Epoch 38/10000\n",
      "950/950 [==============================] - 11s 12ms/sample - loss: 0.0143 - val_loss: 0.0164\n",
      "Epoch 39/10000\n",
      "950/950 [==============================] - 11s 11ms/sample - loss: 0.0153 - val_loss: 0.0139\n",
      "Epoch 40/10000\n",
      "950/950 [==============================] - 11s 12ms/sample - loss: 0.0148 - val_loss: 0.0145\n",
      "Epoch 41/10000\n",
      "950/950 [==============================] - 11s 11ms/sample - loss: 0.0136 - val_loss: 0.0149\n",
      "Epoch 42/10000\n",
      "950/950 [==============================] - 11s 12ms/sample - loss: 0.0132 - val_loss: 0.0143\n",
      "Epoch 43/10000\n",
      "950/950 [==============================] - 11s 11ms/sample - loss: 0.0140 - val_loss: 0.0141\n",
      "Epoch 44/10000\n",
      "950/950 [==============================] - 11s 11ms/sample - loss: 0.0136 - val_loss: 0.0142\n",
      "Epoch 45/10000\n",
      "950/950 [==============================] - 11s 11ms/sample - loss: 0.0127 - val_loss: 0.0118\n",
      "Epoch 46/10000\n",
      "950/950 [==============================] - 10s 11ms/sample - loss: 0.0130 - val_loss: 0.0139\n",
      "Epoch 47/10000\n",
      "950/950 [==============================] - 10s 11ms/sample - loss: 0.0125 - val_loss: 0.0125\n",
      "Epoch 48/10000\n",
      "950/950 [==============================] - 11s 11ms/sample - loss: 0.0120 - val_loss: 0.0134\n",
      "Epoch 49/10000\n",
      "950/950 [==============================] - 10s 11ms/sample - loss: 0.0127 - val_loss: 0.0135\n",
      "Epoch 50/10000\n",
      "950/950 [==============================] - 10s 11ms/sample - loss: 0.0132 - val_loss: 0.0115\n",
      "Epoch 51/10000\n",
      "950/950 [==============================] - 11s 11ms/sample - loss: 0.0118 - val_loss: 0.0125\n",
      "Epoch 52/10000\n",
      "950/950 [==============================] - 11s 11ms/sample - loss: 0.0121 - val_loss: 0.0114\n",
      "Epoch 53/10000\n",
      "950/950 [==============================] - 11s 11ms/sample - loss: 0.0121 - val_loss: 0.0135\n",
      "Epoch 54/10000\n",
      "950/950 [==============================] - 11s 11ms/sample - loss: 0.0124 - val_loss: 0.0131\n",
      "Epoch 55/10000\n",
      "950/950 [==============================] - 11s 12ms/sample - loss: 0.0127 - val_loss: 0.0118\n",
      "Epoch 56/10000\n",
      "950/950 [==============================] - 11s 11ms/sample - loss: 0.0121 - val_loss: 0.0139\n",
      "Epoch 57/10000\n",
      "950/950 [==============================] - 11s 12ms/sample - loss: 0.0123 - val_loss: 0.0113\n",
      "Epoch 58/10000\n",
      "950/950 [==============================] - 10s 11ms/sample - loss: 0.0120 - val_loss: 0.0111\n",
      "Epoch 59/10000\n",
      "950/950 [==============================] - 11s 11ms/sample - loss: 0.0118 - val_loss: 0.0122\n",
      "Epoch 60/10000\n",
      "950/950 [==============================] - 11s 11ms/sample - loss: 0.0117 - val_loss: 0.0123\n",
      "Epoch 61/10000\n",
      "950/950 [==============================] - 11s 12ms/sample - loss: 0.0123 - val_loss: 0.0109\n",
      "Epoch 62/10000\n",
      "950/950 [==============================] - 11s 11ms/sample - loss: 0.0107 - val_loss: 0.0126\n",
      "Epoch 63/10000\n",
      "950/950 [==============================] - 10s 11ms/sample - loss: 0.0103 - val_loss: 0.0106\n",
      "Epoch 64/10000\n",
      "950/950 [==============================] - 10s 11ms/sample - loss: 0.0113 - val_loss: 0.0109\n",
      "Epoch 65/10000\n",
      "950/950 [==============================] - 10s 11ms/sample - loss: 0.0116 - val_loss: 0.0132\n",
      "Epoch 66/10000\n",
      "950/950 [==============================] - 11s 11ms/sample - loss: 0.0106 - val_loss: 0.0113\n",
      "Epoch 67/10000\n",
      "950/950 [==============================] - 11s 11ms/sample - loss: 0.0106 - val_loss: 0.0105\n",
      "Epoch 68/10000\n",
      "950/950 [==============================] - 11s 11ms/sample - loss: 0.0102 - val_loss: 0.0106\n",
      "Epoch 69/10000\n",
      "950/950 [==============================] - 11s 11ms/sample - loss: 0.0101 - val_loss: 0.0119\n",
      "Epoch 70/10000\n",
      "950/950 [==============================] - 11s 11ms/sample - loss: 0.0104 - val_loss: 0.0113\n",
      "Epoch 71/10000\n",
      "950/950 [==============================] - 11s 11ms/sample - loss: 0.0089 - val_loss: 0.0104\n",
      "Epoch 72/10000\n",
      "950/950 [==============================] - 11s 11ms/sample - loss: 0.0109 - val_loss: 0.0112\n",
      "Epoch 73/10000\n",
      "950/950 [==============================] - 11s 12ms/sample - loss: 0.0105 - val_loss: 0.0130\n",
      "Epoch 74/10000\n",
      "950/950 [==============================] - 11s 11ms/sample - loss: 0.0100 - val_loss: 0.0093\n",
      "Epoch 75/10000\n",
      "950/950 [==============================] - 11s 11ms/sample - loss: 0.0097 - val_loss: 0.0105\n",
      "Epoch 76/10000\n",
      "950/950 [==============================] - 11s 11ms/sample - loss: 0.0105 - val_loss: 0.0118\n",
      "Epoch 77/10000\n",
      "950/950 [==============================] - 11s 11ms/sample - loss: 0.0103 - val_loss: 0.0124\n",
      "Epoch 78/10000\n",
      "950/950 [==============================] - 11s 11ms/sample - loss: 0.0102 - val_loss: 0.0108\n",
      "Epoch 79/10000\n",
      "950/950 [==============================] - 11s 11ms/sample - loss: 0.0107 - val_loss: 0.0125\n",
      "Epoch 80/10000\n",
      "950/950 [==============================] - 10s 11ms/sample - loss: 0.0100 - val_loss: 0.0095\n",
      "Epoch 81/10000\n",
      "950/950 [==============================] - 11s 12ms/sample - loss: 0.0096 - val_loss: 0.0095\n",
      "Epoch 82/10000\n",
      "950/950 [==============================] - 11s 12ms/sample - loss: 0.0096 - val_loss: 0.0103\n",
      "Epoch 83/10000\n",
      "950/950 [==============================] - 11s 11ms/sample - loss: 0.0098 - val_loss: 0.0099\n",
      "Epoch 84/10000\n",
      "950/950 [==============================] - 11s 11ms/sample - loss: 0.0090 - val_loss: 0.0113\n",
      "Epoch 00084: early stopping\n"
     ]
    }
   ],
   "source": [
    "# mb = ModelBuilder()\n",
    "# modelType = \"conv\"\n",
    "# trainingSet = getReshapedDataSetNoSplit(trainingSet, modelType)\n",
    "#\n",
    "# testSet = getReshapedDataSetNoSplit(testSet, modelType)\n",
    "# targetSet = getReshapedDataSetNoSplit(targetSet, modelType)\n",
    "# testTargetSet = getReshapedDataSetNoSplit(testTargetSet, modelType)\n",
    "# [model, validatoinLoss, numOfEpochs, history] = mb.trainConv(6, trainingSet,targetSet, testSet, testTargetSet, batchSize = 32, filterSize = 4, filtersCountInFirstLayer = 48)"
   ],
   "metadata": {
    "collapsed": false,
    "pycharm": {
     "name": "#%%\n"
    }
   }
  },
  {
   "cell_type": "code",
   "execution_count": 5,
   "outputs": [],
   "source": [
    "# model.save('Fault_Generator_Model/fault_generator_conv_using_GAN.h5')"
   ],
   "metadata": {
    "collapsed": false,
    "pycharm": {
     "name": "#%%\n"
    }
   }
  },
  {
   "cell_type": "markdown",
   "source": [
    "### Attack sample generation using the model trained on GAN samples"
   ],
   "metadata": {
    "collapsed": false,
    "pycharm": {
     "name": "#%% md\n"
    }
   }
  },
  {
   "cell_type": "code",
   "execution_count": 16,
   "outputs": [],
   "source": [
    "# model = load_model(\"Fault_Generator_Model/fault_generator_conv_using_GAN.h5\")\n",
    "# trainingSet = loadData(\"normalized_normal\")\n",
    "# targetSet = loadData(\"normalized_fault\")\n",
    "# randIndexes = np.random.choice(trainingSet.shape[0], 1000)\n",
    "# trainingSet = trainingSet[randIndexes,:,:]\n",
    "# targetSet = targetSet[randIndexes,:,:]\n",
    "# randIndexes = np.random.choice(trainingSet.shape[0], 1000)\n",
    "# testSet = trainingSet[randIndexes,:,:]\n",
    "# testTargetSet = targetSet[randIndexes,:,:]\n",
    "#\n",
    "# modelType = \"conv\"\n",
    "# trainingSet = getReshapedDataSetNoSplit(trainingSet, modelType)\n",
    "# testSet = getReshapedDataSetNoSplit(testSet, modelType)\n",
    "# targetSet = getReshapedDataSetNoSplit(targetSet, modelType)\n",
    "# testTargetSet = getReshapedDataSetNoSplit(testTargetSet, modelType)\n",
    "# testSetSize = 1000\n",
    "# sequenceLen = 200\n",
    "# dimensionsCount = 6\n",
    "# attackDataSetList = list()\n",
    "# windowLen = 48\n",
    "# halfWindowLen = windowLen // 2\n",
    "# for i in range(testSetSize):\n",
    "#     testSample = testSet[i]\n",
    "#     prediction = model.predict(testSample.reshape((1,1200,1)), verbose=0)\n",
    "#     attackSample = np.concatenate((testSample.reshape((1200,1)),prediction.reshape((1200,1))))\n",
    "#     attackSample = attackSample.reshape((400,6))[200-halfWindowLen:200+halfWindowLen]\n",
    "#     attackDataSetList.append(attackSample)"
   ],
   "metadata": {
    "collapsed": false,
    "pycharm": {
     "name": "#%%\n"
    }
   }
  },
  {
   "cell_type": "code",
   "execution_count": 18,
   "outputs": [],
   "source": [
    "# saveData(np.asarray(attackDataSetList),\"attacks_generated_cnn_using_GAN_data\")"
   ],
   "metadata": {
    "collapsed": false,
    "pycharm": {
     "name": "#%%\n"
    }
   }
  },
  {
   "cell_type": "code",
   "execution_count": 2,
   "outputs": [
    {
     "name": "stdout",
     "output_type": "stream",
     "text": [
      "Model: \"sequential_7\"\n",
      "_________________________________________________________________\n",
      "Layer (type)                 Output Shape              Param #   \n",
      "=================================================================\n",
      "zero_padding1d_7 (ZeroPaddin (None, 1204, 1)           0         \n",
      "_________________________________________________________________\n",
      "conv1d_83 (Conv1D)           (None, 1204, 48)          240       \n",
      "_________________________________________________________________\n",
      "max_pooling1d_31 (MaxPooling (None, 602, 48)           0         \n",
      "_________________________________________________________________\n",
      "conv1d_84 (Conv1D)           (None, 602, 96)           18528     \n",
      "_________________________________________________________________\n",
      "max_pooling1d_32 (MaxPooling (None, 301, 96)           0         \n",
      "_________________________________________________________________\n",
      "conv1d_85 (Conv1D)           (None, 301, 192)          73920     \n",
      "_________________________________________________________________\n",
      "max_pooling1d_33 (MaxPooling (None, 151, 192)          0         \n",
      "_________________________________________________________________\n",
      "conv1d_86 (Conv1D)           (None, 151, 384)          295296    \n",
      "_________________________________________________________________\n",
      "max_pooling1d_34 (MaxPooling (None, 76, 384)           0         \n",
      "_________________________________________________________________\n",
      "conv1d_87 (Conv1D)           (None, 76, 768)           1180416   \n",
      "_________________________________________________________________\n",
      "max_pooling1d_35 (MaxPooling (None, 38, 768)           0         \n",
      "_________________________________________________________________\n",
      "conv1d_88 (Conv1D)           (None, 38, 1536)          4720128   \n",
      "_________________________________________________________________\n",
      "max_pooling1d_36 (MaxPooling (None, 19, 1536)          0         \n",
      "_________________________________________________________________\n",
      "conv1d_89 (Conv1D)           (None, 19, 3072)          18877440  \n",
      "_________________________________________________________________\n",
      "flatten_7 (Flatten)          (None, 58368)             0         \n",
      "_________________________________________________________________\n",
      "reshape_7 (Reshape)          (None, 19, 3072)          0         \n",
      "_________________________________________________________________\n",
      "conv1d_90 (Conv1D)           (None, 19, 3072)          37751808  \n",
      "_________________________________________________________________\n",
      "up_sampling1d_31 (UpSampling (None, 38, 3072)          0         \n",
      "_________________________________________________________________\n",
      "conv1d_91 (Conv1D)           (None, 38, 1536)          18875904  \n",
      "_________________________________________________________________\n",
      "up_sampling1d_32 (UpSampling (None, 76, 1536)          0         \n",
      "_________________________________________________________________\n",
      "conv1d_92 (Conv1D)           (None, 76, 768)           4719360   \n",
      "_________________________________________________________________\n",
      "up_sampling1d_33 (UpSampling (None, 152, 768)          0         \n",
      "_________________________________________________________________\n",
      "conv1d_93 (Conv1D)           (None, 152, 384)          1180032   \n",
      "_________________________________________________________________\n",
      "up_sampling1d_34 (UpSampling (None, 304, 384)          0         \n",
      "_________________________________________________________________\n",
      "conv1d_94 (Conv1D)           (None, 304, 192)          295104    \n",
      "_________________________________________________________________\n",
      "up_sampling1d_35 (UpSampling (None, 608, 192)          0         \n",
      "_________________________________________________________________\n",
      "conv1d_95 (Conv1D)           (None, 608, 96)           73824     \n",
      "_________________________________________________________________\n",
      "up_sampling1d_36 (UpSampling (None, 1216, 96)          0         \n",
      "_________________________________________________________________\n",
      "conv1d_96 (Conv1D)           (None, 1216, 48)          18480     \n",
      "_________________________________________________________________\n",
      "conv1d_97 (Conv1D)           (None, 1216, 1)           193       \n",
      "_________________________________________________________________\n",
      "cropping1d_7 (Cropping1D)    (None, 1200, 1)           0         \n",
      "=================================================================\n",
      "Total params: 88,080,673\n",
      "Trainable params: 88,080,673\n",
      "Non-trainable params: 0\n",
      "_________________________________________________________________\n"
     ]
    }
   ],
   "source": [
    "# fg = load_model(\"Fault_Generator_Model/fault_generator_conv.h5\")\n",
    "# fg.summary()"
   ],
   "metadata": {
    "collapsed": false,
    "pycharm": {
     "name": "#%%\n"
    }
   }
  }
 ],
 "metadata": {
  "kernelspec": {
   "display_name": "Python 3",
   "language": "python",
   "name": "python3"
  },
  "language_info": {
   "codemirror_mode": {
    "name": "ipython",
    "version": 3
   },
   "file_extension": ".py",
   "mimetype": "text/x-python",
   "name": "python",
   "nbconvert_exporter": "python",
   "pygments_lexer": "ipython3",
   "version": "3.6.10"
  }
 },
 "nbformat": 4,
 "nbformat_minor": 4
}