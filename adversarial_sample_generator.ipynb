{
 "cells": [
  {
   "cell_type": "code",
   "execution_count": null,
   "metadata": {},
   "outputs": [],
   "source": [
    "from MZPackage.AdversarialGenerator import AdversarialGenerator\n",
    "from MZPackage.Utilities import *"
   ]
  },
  {
   "cell_type": "code",
   "execution_count": null,
   "metadata": {},
   "outputs": [],
   "source": [
    "ag = AdversarialGenerator()"
   ]
  },
  {
   "cell_type": "markdown",
   "metadata": {},
   "source": [
    "### PCA"
   ]
  },
  {
   "cell_type": "code",
   "execution_count": null,
   "metadata": {},
   "outputs": [],
   "source": [
    "modelType = \"pca\"\n",
    "count = 500\n",
    "attackSamples = ag.generateAttackSamples(modelType, count)\n",
    "saveData(attackSamples, \"adversarial_data_set_\" + modelType)"
   ]
  },
  {
   "cell_type": "markdown",
   "metadata": {},
   "source": [
    "### Fully Connected"
   ]
  },
  {
   "cell_type": "code",
   "execution_count": null,
   "metadata": {},
   "outputs": [],
   "source": [
    "modelType = \"fullyConnected\"\n",
    "count = 500\n",
    "attackSamples = ag.generateAttackSamples(modelType, count)\n",
    "saveData(attackSamples, \"adversarial_data_set_\" + modelType)"
   ]
  },
  {
   "cell_type": "markdown",
   "metadata": {},
   "source": [
    "### 1D Conv"
   ]
  },
  {
   "cell_type": "code",
   "execution_count": null,
   "metadata": {},
   "outputs": [],
   "source": [
    "modelType = \"conv\"\n",
    "count = 500\n",
    "attackSamples = ag.generateAttackSamplesLstm(modelType, count)\n",
    "saveData(attackSamples, \"adversarial_data_set_\" + modelType)"
   ]
  },
  {
   "cell_type": "markdown",
   "metadata": {},
   "source": [
    "### LSTM"
   ]
  },
  {
   "cell_type": "code",
   "execution_count": null,
   "metadata": {},
   "outputs": [],
   "source": [
    "## NOT WORKING FOR LSTM : USE THE CELL BELOW\n",
    "modelType = \"lstm\"\n",
    "count = 500\n",
    "attackSamples = ag.generateAttackSamples(modelType, count)\n",
    "saveData(attackSamples, \"adversarial_data_set_\" + modelType)"
   ]
  },
  {
   "cell_type": "markdown",
   "metadata": {},
   "source": [
    "### For LSTM, the above code won't work but this works"
   ]
  },
  {
   "cell_type": "code",
   "execution_count": null,
   "metadata": {},
   "outputs": [],
   "source": [
    "from tensorflow.keras.models import load_model\n",
    "# Convert sequential to functional model\n",
    "from tensorflow.keras import layers, models\n",
    "import tensorflow as tf\n",
    "import tqdm\n",
    "\n",
    "config = loadConfig()        \n",
    "sequenceLen = config[\"sequenceLen\"]\n",
    "dimensionsCount = config[\"dimensionsCount\"]\n",
    "thresholds = loadData(\"thresholds\")\n",
    "\n",
    "model = load_model('Trained_Model/lstm.h5')\n",
    "\n",
    "\n",
    "\n",
    "input_layer = layers.Input(batch_shape=model.layers[0].input_shape)\n",
    "prev_layer = input_layer\n",
    "for layer in model.layers:\n",
    "    prev_layer = layer(prev_layer)\n",
    "\n",
    "funcmodel = models.Model([input_layer], [prev_layer])\n",
    "\n",
    "@tf.function # To fix: 'Tensor' object has no attribute 'numpy' \n",
    "def create_adversarial_pattern_lstm(input_image, input_label):\n",
    "    loss_object = tf.keras.losses.MeanSquaredError()\n",
    "    with tf.GradientTape() as tape:\n",
    "        tape.watch(input_image)\n",
    "        prediction = funcmodel(input_image)\n",
    "        #loss = loss_object(input_label, prediction)\n",
    "        loss = loss_object(input_image, prediction)\n",
    "\n",
    "    # Get the gradients of the loss w.r.t to the input image.\n",
    "    gradient = tape.gradient(loss, input_image)\n",
    "    # Get the sign of the gradients to create the perturbation\n",
    "    signed_grad = tf.sign(gradient)\n",
    "    return signed_grad\n",
    "\n",
    "@tf.function \n",
    "def mzAttackSampleGeneratorFromZero(iterations,seed,epsilon):\n",
    "    tfInput = tfoutput = seed\n",
    "    for step in range(0,iterations):\n",
    "        tfInput = seed\n",
    "        tfOutput = tfInput\n",
    "        sgrad = create_adversarial_pattern_lstm(tfInput, tfOutput)                        \n",
    "        perturbations = epsilon*sgrad\n",
    "        seed = seed - perturbations    \n",
    "        #print(perturbations.shape)\n",
    "        #print(adv_x.shape)    \n",
    "        #plt.plot(adv_x[0,:,6])\n",
    "        #plt.figure()    \n",
    "    attackSample = seed\n",
    "    return attackSample\n",
    "\n",
    "\n",
    "\n",
    "attackSamples = list()\n",
    "# Generating attack samples from random seeds\n",
    "for i in tqdm.tqdm(range(500)):\n",
    "    randSample = np.random.rand(1,sequenceLen,dimensionsCount)\n",
    "    mse = 1000\n",
    "    attackSample = randSample\n",
    "    while mse > thresholds[\"lstm\"]:\n",
    "        attackSample = mzAttackSampleGeneratorFromZero(1,attackSample,0.001)\n",
    "        predicted = model.predict(attackSample)\n",
    "        mse = (np.square(attackSample - predicted)).mean(axis=2).mean(axis=1)        \n",
    "    attackSamples.append(attackSample)"
   ]
  },
  {
   "cell_type": "code",
   "execution_count": null,
   "metadata": {},
   "outputs": [],
   "source": [
    "dataArray = np.array(attackSamples)\n",
    "saveData(dataArray, \"adversarial_data_set_lstm\")"
   ]
  },
  {
   "cell_type": "code",
   "execution_count": null,
   "metadata": {},
   "outputs": [],
   "source": []
  },
  {
   "cell_type": "code",
   "execution_count": null,
   "metadata": {},
   "outputs": [],
   "source": []
  }
 ],
 "metadata": {
  "kernelspec": {
   "display_name": "Python 3",
   "language": "python",
   "name": "python3"
  },
  "language_info": {
   "codemirror_mode": {
    "name": "ipython",
    "version": 3
   },
   "file_extension": ".py",
   "mimetype": "text/x-python",
   "name": "python",
   "nbconvert_exporter": "python",
   "pygments_lexer": "ipython3",
   "version": "3.6.10"
  }
 },
 "nbformat": 4,
 "nbformat_minor": 4
}
