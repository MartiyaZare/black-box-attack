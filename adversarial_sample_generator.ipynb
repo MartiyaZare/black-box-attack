{
 "cells": [
  {
   "cell_type": "code",
   "execution_count": 1,
   "metadata": {},
   "outputs": [],
   "source": [
    "from tensorflow.keras.models import Sequential, load_model\n",
    "from tensorflow.keras.layers import Dense, Activation, LSTM, Flatten, Reshape\n",
    "from tensorflow.keras.callbacks import EarlyStopping, ModelCheckpoint\n",
    "from tensorflow.keras.optimizers import Adam\n",
    "import numpy as np\n",
    "import matplotlib.pyplot as plt\n",
    "from tensorflow.keras import backend as K\n",
    "from tensorflow.keras import layers, models\n",
    "import gc\n",
    "import tensorflow as tf\n",
    "import random\n",
    "from sklearn import preprocessing\n",
    "import pickle\n",
    "import tqdm\n",
    "from utilities import *"
   ]
  },
  {
   "cell_type": "code",
   "execution_count": 2,
   "metadata": {},
   "outputs": [],
   "source": [
    "# Load config\n",
    "config = loadData(\"config\")\n",
    "dataSetSize = config[\"dataSetSize\"]\n",
    "testSetBenignSize = config[\"testSetBenignSize\"]\n",
    "validationSetSize = config[\"validationSetSize\"]\n",
    "trainingSetSize = config[\"trainingSetSize\"]\n",
    "sequenceLen = config[\"sequenceLen\"]\n",
    "dimensionsCount = config[\"dimensionsCount\"]\n",
    "numberOfAttackSamplesToChoose = 100\n",
    "testSetSize = testSetBenignSize + numberOfAttackSamplesToChoose"
   ]
  },
  {
   "cell_type": "code",
   "execution_count": 12,
   "metadata": {},
   "outputs": [],
   "source": [
    "# Load thresholds\n",
    "thresholds = loadData(\"thresholds\")"
   ]
  },
  {
   "cell_type": "code",
   "execution_count": 4,
   "metadata": {},
   "outputs": [],
   "source": [
    "def seqToFuncModel(model):\n",
    "    input_layer = layers.Input(batch_shape=model.layers[0].input_shape)\n",
    "    prev_layer = input_layer\n",
    "    for layer in model.layers:\n",
    "        prev_layer = layer(prev_layer)\n",
    "\n",
    "    funcModel = models.Model([input_layer], [prev_layer])\n",
    "    return funcModel"
   ]
  },
  {
   "cell_type": "code",
   "execution_count": 5,
   "metadata": {},
   "outputs": [],
   "source": [
    "@tf.function # To fix: 'Tensor' object has no attribute 'numpy' \n",
    "def create_adversarial_pattern(model, input_image, input_label):\n",
    "    funcModel = seqToFuncModel(model)\n",
    "    loss_object = tf.keras.losses.MeanSquaredError()\n",
    "    with tf.GradientTape() as tape:\n",
    "        tape.watch(input_image)\n",
    "        prediction = funcModel(input_image)\n",
    "        #loss = loss_object(input_label, prediction)\n",
    "        loss = loss_object(input_image, prediction)\n",
    "\n",
    "    # Get the gradients of the loss w.r.t to the input image.\n",
    "    gradient = tape.gradient(loss, input_image)\n",
    "    # Get the sign of the gradients to create the perturbation\n",
    "    signed_grad = tf.sign(gradient)\n",
    "    return signed_grad"
   ]
  },
  {
   "cell_type": "code",
   "execution_count": 6,
   "metadata": {},
   "outputs": [],
   "source": [
    "@tf.function \n",
    "def mzAttackSampleGeneratorFromBenign(model, iterations,seed,epsilon):\n",
    "    tfInput = tfoutput = seed\n",
    "    for step in range(0,iterations):\n",
    "        tfInput = seed\n",
    "        tfOutput = tfInput\n",
    "        sgrad = create_adversarial_pattern(model, tfInput, tfOutput)                \n",
    "        epsilon = 0.001\n",
    "        perturbations = epsilon*sgrad\n",
    "        seed = seed + perturbations    \n",
    "    attackSample = seed\n",
    "    return attackSample"
   ]
  },
  {
   "cell_type": "code",
   "execution_count": 7,
   "metadata": {},
   "outputs": [],
   "source": [
    "@tf.function \n",
    "def mzAttackSampleGeneratorFromAnomaly(model, iterations,seed,epsilon):\n",
    "    tfInput = tfoutput = seed\n",
    "    for step in range(0,iterations):\n",
    "        tfInput = seed\n",
    "        tfOutput = tfInput\n",
    "        sgrad = create_adversarial_pattern(model, tfInput, tfOutput)                        \n",
    "        perturbations = epsilon*sgrad\n",
    "        seed = seed - perturbations \n",
    "        \n",
    "    attackSample = seed    \n",
    "    return attackSample"
   ]
  },
  {
   "cell_type": "code",
   "execution_count": 8,
   "metadata": {},
   "outputs": [],
   "source": [
    "def generateAttackSamples(model, modelType, count):\n",
    "    attackSamples = list()    \n",
    "    for i in tqdm.tqdm(range(count)):        \n",
    "        randSample = getReshapedTestSet(np.random.rand(1,sequenceLen,dimensionsCount),modelType)        \n",
    "        mse = 1000\n",
    "        attackSample = randSample\n",
    "        while mse > thresholds[modelType]:            \n",
    "            attackSample = mzAttackSampleGeneratorFromAnomaly(model, 1, attackSample, 0.001)            \n",
    "            predicted = model.predict(attackSample)\n",
    "            if(modelType == \"LSTM\"):\n",
    "                mse = (np.square(attackSample - predicted)).mean(axis=2).mean(axis=1)  \n",
    "            else:\n",
    "                mse = (np.square(attackSample - predicted)).mean(axis=1) \n",
    "        attackSamples.append(attackSample)\n",
    "    return attackSamples"
   ]
  },
  {
   "cell_type": "markdown",
   "metadata": {},
   "source": [
    "### TMP PCA SECOND TIME GENERATION"
   ]
  },
  {
   "cell_type": "code",
   "execution_count": 10,
   "metadata": {},
   "outputs": [],
   "source": [
    "def generateAttackSamplesAdv(model, modelType, count):\n",
    "    attackSamples = list()    \n",
    "    for i in tqdm.tqdm(range(count)):        \n",
    "        randSample = getReshapedTestSet(np.random.rand(1,sequenceLen,dimensionsCount),modelType)        \n",
    "        mse = 1000\n",
    "        attackSample = randSample\n",
    "        while mse > thresholds[modelType + \"_adv\"]:            \n",
    "            attackSample = mzAttackSampleGeneratorFromAnomaly(model, 1, attackSample, 0.001)            \n",
    "            predicted = model.predict(attackSample)\n",
    "            if(modelType == \"LSTM\"):\n",
    "                mse = (np.square(attackSample - predicted)).mean(axis=2).mean(axis=1)  \n",
    "            else:\n",
    "                mse = (np.square(attackSample - predicted)).mean(axis=1) \n",
    "        attackSamples.append(attackSample)\n",
    "    return attackSamples"
   ]
  },
  {
   "cell_type": "code",
   "execution_count": 13,
   "metadata": {},
   "outputs": [
    {
     "name": "stderr",
     "output_type": "stream",
     "text": [
      "100%|████████████████████████████████████████████████████████████████████████████████| 100/100 [19:56<00:00, 11.97s/it]\n"
     ]
    }
   ],
   "source": [
    "model = load_model('Trained_Model/pca_adv.h5')\n",
    "attackSamples = generateAttackSamplesAdv(model, \"PCA\",100)\n",
    "dataArray = np.array(attackSamples)\n",
    "saveData(dataArray, \"adversarial_data_set_pca_after_adv\")"
   ]
  },
  {
   "cell_type": "markdown",
   "metadata": {},
   "source": [
    "### PCA"
   ]
  },
  {
   "cell_type": "code",
   "execution_count": 20,
   "metadata": {},
   "outputs": [
    {
     "name": "stderr",
     "output_type": "stream",
     "text": [
      "100%|██████████████████████████████████████████████████████████████████████████████| 500/500 [1:52:08<00:00, 13.46s/it]\n"
     ]
    }
   ],
   "source": [
    "model = load_model('Trained_Model/pca.h5')\n",
    "attackSamples = generateAttackSamples(model, \"PCA\",500)\n",
    "dataArray = np.array(attackSamples)\n",
    "saveData(dataArray, \"adversarial_data_set_pca\")"
   ]
  },
  {
   "cell_type": "markdown",
   "metadata": {},
   "source": [
    "### Fully Connected"
   ]
  },
  {
   "cell_type": "code",
   "execution_count": 22,
   "metadata": {},
   "outputs": [
    {
     "name": "stderr",
     "output_type": "stream",
     "text": [
      "100%|██████████████████████████████████████████████████████████████████████████████| 500/500 [1:50:41<00:00, 13.28s/it]\n"
     ]
    }
   ],
   "source": [
    "model = load_model('Trained_Model/autoencoder.h5')\n",
    "attackSamples = generateAttackSamples(model, \"fullyConnected\",500)\n",
    "dataArray = np.array(attackSamples)\n",
    "saveData(dataArray, \"adversarial_data_set_fullyConnected\")"
   ]
  },
  {
   "cell_type": "markdown",
   "metadata": {},
   "source": [
    "### 1D Conv"
   ]
  },
  {
   "cell_type": "code",
   "execution_count": 23,
   "metadata": {},
   "outputs": [
    {
     "name": "stderr",
     "output_type": "stream",
     "text": [
      "100%|██████████████████████████████████████████████████████████████████████████████| 500/500 [3:34:40<00:00, 25.76s/it]\n"
     ]
    }
   ],
   "source": [
    "model = load_model('Trained_Model/conv.h5')\n",
    "attackSamples = generateAttackSamples(model, \"1DConv\",500)\n",
    "dataArray = np.array(attackSamples)\n",
    "saveData(dataArray, \"adversarial_data_set_conv\")"
   ]
  },
  {
   "cell_type": "markdown",
   "metadata": {},
   "source": [
    "### LSTM"
   ]
  },
  {
   "cell_type": "code",
   "execution_count": 9,
   "metadata": {},
   "outputs": [],
   "source": [
    "## THIS CELL IS NOT WORKING -> GO TO THE NEXT ONE\n",
    "#model = load_model('Trained_Model/lstm.h5')\n",
    "#attackSamples = generateAttackSamples(model, \"LSTM\",500)\n",
    "#dataArray = np.array(attackSamples)\n",
    "#saveData(dataArray, \"adversarial_data_set_lstm\")"
   ]
  },
  {
   "cell_type": "markdown",
   "metadata": {},
   "source": [
    "### For LSTM, the above code won't work but this works"
   ]
  },
  {
   "cell_type": "code",
   "execution_count": 11,
   "metadata": {},
   "outputs": [
    {
     "name": "stderr",
     "output_type": "stream",
     "text": [
      "100%|████████████████████████████████████████████████████████████████████████████| 500/500 [16:07:20<00:00, 116.08s/it]\n"
     ]
    }
   ],
   "source": [
    "model = load_model('Trained_Model/lstm.h5')\n",
    "\n",
    "# Convert sequential to functional model\n",
    "from tensorflow.keras import layers, models\n",
    "\n",
    "input_layer = layers.Input(batch_shape=model.layers[0].input_shape)\n",
    "prev_layer = input_layer\n",
    "for layer in model.layers:\n",
    "    prev_layer = layer(prev_layer)\n",
    "\n",
    "funcmodel = models.Model([input_layer], [prev_layer])\n",
    "\n",
    "@tf.function # To fix: 'Tensor' object has no attribute 'numpy' \n",
    "def create_adversarial_pattern_lstm(input_image, input_label):\n",
    "    loss_object = tf.keras.losses.MeanSquaredError()\n",
    "    with tf.GradientTape() as tape:\n",
    "        tape.watch(input_image)\n",
    "        prediction = funcmodel(input_image)\n",
    "        #loss = loss_object(input_label, prediction)\n",
    "        loss = loss_object(input_image, prediction)\n",
    "\n",
    "    # Get the gradients of the loss w.r.t to the input image.\n",
    "    gradient = tape.gradient(loss, input_image)\n",
    "    # Get the sign of the gradients to create the perturbation\n",
    "    signed_grad = tf.sign(gradient)\n",
    "    return signed_grad\n",
    "\n",
    "@tf.function \n",
    "def mzAttackSampleGeneratorFromZero(iterations,seed,epsilon):\n",
    "    tfInput = tfoutput = seed\n",
    "    for step in range(0,iterations):\n",
    "        tfInput = seed\n",
    "        tfOutput = tfInput\n",
    "        sgrad = create_adversarial_pattern_lstm(tfInput, tfOutput)                        \n",
    "        perturbations = epsilon*sgrad\n",
    "        seed = seed - perturbations    \n",
    "        #print(perturbations.shape)\n",
    "        #print(adv_x.shape)    \n",
    "        #plt.plot(adv_x[0,:,6])\n",
    "        #plt.figure()    \n",
    "    attackSample = seed\n",
    "    return attackSample\n",
    "\n",
    "\n",
    "\n",
    "attackSamples = list()\n",
    "# Generating attack samples from random seeds\n",
    "for i in tqdm.tqdm(range(500)):\n",
    "    randSample = np.random.rand(1,sequenceLen,dimensionsCount)\n",
    "    mse = 1000\n",
    "    attackSample = randSample\n",
    "    while mse > thresholds[\"LSTM\"]:\n",
    "        attackSample = mzAttackSampleGeneratorFromZero(1,attackSample,0.001)\n",
    "        predicted = model.predict(attackSample)\n",
    "        mse = (np.square(attackSample - predicted)).mean(axis=2).mean(axis=1)        \n",
    "    attackSamples.append(attackSample)"
   ]
  },
  {
   "cell_type": "code",
   "execution_count": 12,
   "metadata": {},
   "outputs": [],
   "source": [
    "dataArray = np.array(attackSamples)\n",
    "saveData(dataArray, \"adversarial_data_set_lstm\")"
   ]
  },
  {
   "cell_type": "code",
   "execution_count": null,
   "metadata": {},
   "outputs": [],
   "source": []
  },
  {
   "cell_type": "code",
   "execution_count": null,
   "metadata": {},
   "outputs": [],
   "source": []
  }
 ],
 "metadata": {
  "kernelspec": {
   "display_name": "Python 3",
   "language": "python",
   "name": "python3"
  },
  "language_info": {
   "codemirror_mode": {
    "name": "ipython",
    "version": 3
   },
   "file_extension": ".py",
   "mimetype": "text/x-python",
   "name": "python",
   "nbconvert_exporter": "python",
   "pygments_lexer": "ipython3",
   "version": "3.6.10"
  }
 },
 "nbformat": 4,
 "nbformat_minor": 4
}
